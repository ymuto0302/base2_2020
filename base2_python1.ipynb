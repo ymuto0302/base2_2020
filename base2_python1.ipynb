{
  "nbformat": 4,
  "nbformat_minor": 0,
  "metadata": {
    "celltoolbar": "Slideshow",
    "kernelspec": {
      "display_name": "Python 3",
      "language": "python",
      "name": "python3"
    },
    "language_info": {
      "codemirror_mode": {
        "name": "ipython",
        "version": 3
      },
      "file_extension": ".py",
      "mimetype": "text/x-python",
      "name": "python",
      "nbconvert_exporter": "python",
      "pygments_lexer": "ipython3",
      "version": "3.6.5"
    },
    "colab": {
      "name": "base2_python1.ipynb",
      "provenance": [],
      "collapsed_sections": [
        "YQoTOON9IRt3",
        "DiCNXQbGIRt7",
        "I1oO-mXaIRuO"
      ],
      "include_colab_link": true
    }
  },
  "cells": [
    {
      "cell_type": "markdown",
      "metadata": {
        "id": "view-in-github",
        "colab_type": "text"
      },
      "source": [
        "<a href=\"https://colab.research.google.com/github/ymuto0302/base2_2020/blob/master/base2_python1.ipynb\" target=\"_parent\"><img src=\"https://colab.research.google.com/assets/colab-badge.svg\" alt=\"Open In Colab\"/></a>"
      ]
    },
    {
      "cell_type": "markdown",
      "metadata": {
        "id": "4DiQrsigIRtN",
        "colab_type": "text"
      },
      "source": [
        "# Python入門\n",
        "プログラミング言語，すなわちプログラムを記述するための言語として Python, Java, C++, Swift, VisualBasic など多様な言語が存在する。\n",
        "\n",
        "プログラミング言語にはコンパイル方式とインタプリタ方式がある。前者はソースファイルからコンパイル（機械語への翻訳）という過程を経てオブジェクトプログラムを生成するタイプであり，後者はソースプログラムの内容を逐一解釈しながら実行する方式である。\n",
        "\n",
        "Pyton はインタプリタ方式言語であり，その実行速度は Java 等に劣るが，コードの可読性やライブラリの豊富さは多言語の群を抜く。\n",
        "\n",
        "また，Python はオブジェクト指向言語の一種である。・・・が，オブジェクト指向は奥が深いため，演習を進めていく段階で必要に応じて説明する。"
      ]
    },
    {
      "cell_type": "markdown",
      "metadata": {
        "id": "BHJRHUaXIRtP",
        "colab_type": "text"
      },
      "source": [
        "## Python プログラミングにおけるインデント\n",
        "後に述べる for 文や if 文のブロック，さらに関数の範囲を示すため，インデントが利用される。他の言語ではインデントは可読性向上の目的から用いられるが，Python ではブロックを表現するために用いられており，必須の要件である。"
      ]
    },
    {
      "cell_type": "markdown",
      "metadata": {
        "id": "mlzuYSDqIRtQ",
        "colab_type": "text"
      },
      "source": [
        "# 1. Python の基礎\n",
        "\n",
        "## 1.1. Pythonプログラムの作成\n",
        "最も単純なプログラムは「単一のprint()関数」であり，値を表示する機能をもつ。以下のように print()関数の引数として文字列や数値を与える。"
      ]
    },
    {
      "cell_type": "code",
      "metadata": {
        "id": "FIo4l2cBIRtR",
        "colab_type": "code",
        "outputId": "a5c50f85-b4ac-4833-d699-efa3655f4224",
        "colab": {
          "base_uri": "https://localhost:8080/",
          "height": 53
        }
      },
      "source": [
        "print(\"Pythonの世界へようこそ\")\n",
        "print(123)"
      ],
      "execution_count": 0,
      "outputs": [
        {
          "output_type": "stream",
          "text": [
            "Pythonの世界へようこそ\n",
            "123\n"
          ],
          "name": "stdout"
        }
      ]
    },
    {
      "cell_type": "markdown",
      "metadata": {
        "id": "LEgP1dujIRtY",
        "colab_type": "text"
      },
      "source": [
        "文字列はダブルクォーテーションで囲む，というルールがある（注：シングルクォーテーションで囲んでもよい）。\n",
        "\n",
        "以下のように print() 関数を複数，並べると順番に実行される。"
      ]
    },
    {
      "cell_type": "code",
      "metadata": {
        "id": "ppKxJUtoIRtZ",
        "colab_type": "code",
        "outputId": "c66b34ed-ead4-44be-f8dc-34b37c99a234",
        "colab": {}
      },
      "source": [
        "print(\"Pythonの世界へようこそ\")\n",
        "print(\"Pythonはオブジェクト指向言語である\")\n",
        "print(\"プログラミングは試行錯誤の連続である\")"
      ],
      "execution_count": 0,
      "outputs": [
        {
          "output_type": "stream",
          "text": [
            "Pythonの世界へようこそ\n",
            "Pythonはオブジェクト指向言語である\n",
            "プログラミングは試行錯誤の連続である\n"
          ],
          "name": "stdout"
        }
      ]
    },
    {
      "cell_type": "markdown",
      "metadata": {
        "id": "1g4Rn3NzIRtj",
        "colab_type": "text"
      },
      "source": [
        "ただし，文字列と数値を組み合わせて出力したい場合，str()関数を用いて「数値を文字列に変換して連結」するか，format()メソッドを使う必要がある。\n",
        "\n",
        "後々のことを考えると format()メソッドによる記述を推奨する。"
      ]
    },
    {
      "cell_type": "code",
      "metadata": {
        "id": "Rc-T19VyIRtk",
        "colab_type": "code",
        "outputId": "c3a53de1-6a4e-4578-ebd4-725f2c622126",
        "colab": {}
      },
      "source": [
        "print(\"今年は西暦\" + str(2019) + \"年です\")\n",
        "print(\"今年は西暦{}年です\".format(2019))"
      ],
      "execution_count": 0,
      "outputs": [
        {
          "output_type": "stream",
          "text": [
            "今年は西暦2019年です\n",
            "今年は西暦2019年です\n"
          ],
          "name": "stdout"
        }
      ]
    },
    {
      "cell_type": "markdown",
      "metadata": {
        "id": "zk3AGUWqIRto",
        "colab_type": "text"
      },
      "source": [
        "プログラムを記述する際，命令（ステートメント）に加え，説明文を付与したい場合がある。この時に用いるのがコメントである。\n",
        "\n",
        "Python言語におけるコメントは２種類の記述方法がある。すなわち，\n",
        "- １行のみのコメントならば # の後ろに文字列を記述する。\n",
        "- 複数行の場合，''' と '''（シングルクォーテション x 3）で囲む。\n",
        "である。コメントはプログラムの可読性を高めるために用いるものであり，\n",
        "当然のようにプログラム実行時には無視される存在である。"
      ]
    },
    {
      "cell_type": "code",
      "metadata": {
        "id": "KZWFJU5pIRtp",
        "colab_type": "code",
        "outputId": "400cb14e-0082-4f49-d2c1-52aa9f058723",
        "colab": {}
      },
      "source": [
        "# 文字列と数値を組み合わせて出力したい場合，str()関数を用いて「数値を文字列に変換して連結」する\n",
        "print(\"今年は西暦\" + str(2019) + \"年です\")\n",
        "\n",
        "'''\n",
        "format()メソッドを使う方法もある。\n",
        "個人的には，上記の「文字列へ変換してからの連結」より format()メソッドの方が\n",
        "自由度が高く，エレガントな記述と思う。\n",
        "'''\n",
        "print(\"今年は西暦{}年です\".format(2019))"
      ],
      "execution_count": 0,
      "outputs": [
        {
          "output_type": "stream",
          "text": [
            "今年は西暦2019年です\n",
            "今年は西暦2019年です\n"
          ],
          "name": "stdout"
        }
      ]
    },
    {
      "cell_type": "markdown",
      "metadata": {
        "id": "1ij1ZCqQIRtu",
        "colab_type": "text"
      },
      "source": [
        "## 1.2. 変数\n",
        "上記の「2019」のように固定された値のみでは何かと不便である。\n",
        "そこで，何らかの値を格納する領域として変数を用いる。\n",
        "\n",
        "**Python においては変数の使用前に宣言は不要である。**\n",
        "他の言語では一般に「変数の宣言」が必要である。例えば Java の場合，\n",
        "\n",
        "    String name; //変数の宣言\n",
        "    name = \"山田太郎\"; //変数への値の格納\n",
        "\n",
        "と記述する。しかし，Python の場合，**値を代入した時点で変数が生まれ，その型も確定する。**"
      ]
    },
    {
      "cell_type": "code",
      "metadata": {
        "id": "A1lwKPmzIRtv",
        "colab_type": "code",
        "outputId": "8501bf79-c12c-45d9-829c-5af940466a04",
        "colab": {
          "base_uri": "https://localhost:8080/",
          "height": 89
        }
      },
      "source": [
        "# 変数に値を代入するには「変数名=値」という形式で記述する\n",
        "name = \"山田太郎\" # 変数 name に値 \"山田太郎\" を格納する\n",
        "print(name) # 変数の中身を表示する\n",
        "\n",
        "# 変数には数値を入れることができる\n",
        "age = 40\n",
        "print(age)\n",
        "\n",
        "# 変数の組み合わせ(1)：変数を用いた計算\n",
        "birth_year = 1995\n",
        "current_year = birth_year + age\n",
        "print(current_year)\n",
        "\n",
        "# 変数の組み合わせ(2)：文字列と整数\n",
        "print(name + str(age))"
      ],
      "execution_count": 0,
      "outputs": [
        {
          "output_type": "stream",
          "text": [
            "山田太郎\n",
            "40\n",
            "2035\n",
            "山田太郎40\n"
          ],
          "name": "stdout"
        }
      ]
    },
    {
      "cell_type": "markdown",
      "metadata": {
        "id": "a0o3LRAbQmE-",
        "colab_type": "text"
      },
      "source": [
        "#### 算術演算子\n",
        "Java でもお馴染みの算術演算子を以下に示す。\n",
        "\n",
        "演算子 | 例 | 説明\n",
        "---- | --- | ---\n",
        "+ | a+b | aとbの和を求める\n",
        "- | a-b | aとbの差を求める\n",
        "* | a*b | aとbを掛けた値を求める\n",
        "/ | a/b | aをbで割った値を求める\n",
        "% | a%b | aをbで割った余り(剰余)を求める\n",
        "** | a**b | aのb乗を求める\n",
        "\n",
        "演算子の優先順位に関して，「乗算・除算は加算・減算より優先される」「優先順位を変更したい場合は () で囲む」という点は Java 言語と同様である。\n"
      ]
    },
    {
      "cell_type": "code",
      "metadata": {
        "id": "IKpX9mIrRccP",
        "colab_type": "code",
        "outputId": "09713da1-2235-41e8-948e-1ea0c4ce6ecf",
        "colab": {
          "base_uri": "https://localhost:8080/",
          "height": 71
        }
      },
      "source": [
        "print(5/2) # 割り算\n",
        "print(2**4) # べき乗\n",
        "print((3+4)*5)"
      ],
      "execution_count": 0,
      "outputs": [
        {
          "output_type": "stream",
          "text": [
            "2.5\n",
            "16\n",
            "35\n"
          ],
          "name": "stdout"
        }
      ]
    },
    {
      "cell_type": "markdown",
      "metadata": {
        "id": "7CTVv0fuIRtz",
        "colab_type": "text"
      },
      "source": [
        "#### 便利な代入演算子\n",
        "以下のように，単一の変数の値を更新する場合を考える。\n",
        "\n",
        "    num = 5\n",
        "    num = num + 10\n",
        "\n",
        "これを次のように書くことが可能である。\n",
        "\n",
        "    num = 5\n",
        "    num += 10\n",
        "\n",
        "このような記述方法を**代入演算子**と呼び，以下の種類がある。\n",
        "\n",
        "代入演算子 | 例 | 説明\n",
        "--- | --- | ---\n",
        "+= | num+=3 | num=num+3 と同じ\n",
        "-= | num-=3 | num=num-3 と同じ\n",
        "*= | num*=3 | num=num*3 と同じ\n",
        "/= | num/=3 | num=num/3 と同じ\n"
      ]
    },
    {
      "cell_type": "code",
      "metadata": {
        "id": "WXVBIDCuIRt0",
        "colab_type": "code",
        "outputId": "37e4a2d5-3fe1-4e35-a0ed-18092e16ff25",
        "colab": {}
      },
      "source": [
        "num = 10\n",
        "print(num)\n",
        "num += 5\n",
        "print(num)"
      ],
      "execution_count": 0,
      "outputs": [
        {
          "output_type": "stream",
          "text": [
            "10\n",
            "15\n"
          ],
          "name": "stdout"
        }
      ]
    },
    {
      "cell_type": "markdown",
      "metadata": {
        "id": "YQoTOON9IRt3",
        "colab_type": "text"
      },
      "source": [
        "#### (例)円の円周の長さ，面積を計算するプログラム"
      ]
    },
    {
      "cell_type": "code",
      "metadata": {
        "id": "hagoqSGPIRt4",
        "colab_type": "code",
        "outputId": "b3270a37-5a65-4684-b03b-5f3f93cdf6df",
        "colab": {
          "base_uri": "https://localhost:8080/",
          "height": 53
        }
      },
      "source": [
        "radius = 3 # 半径\n",
        "pi = 3.14 # 円周率\n",
        "circ = 2 * pi * radius # 円周の長さ\n",
        "area = pi * (radius ** 2) # 円の面積\n",
        "print(\"円周の長さ：{}\".format(circ))\n",
        "print(\"円の面積：{}\".format(area))"
      ],
      "execution_count": 0,
      "outputs": [
        {
          "output_type": "stream",
          "text": [
            "円周の長さ：18.84\n",
            "円の面積：28.26\n"
          ],
          "name": "stdout"
        }
      ]
    },
    {
      "cell_type": "markdown",
      "metadata": {
        "id": "DiCNXQbGIRt7",
        "colab_type": "text"
      },
      "source": [
        "### キーボードからの値の入力\n",
        "キーボードから値を入力するには input() 関数を用いる。ただし，**受け取る（＝input関数の戻り値の）データ型は文字列**である点に注が必要である。\n",
        "\n",
        "以下のプログラムでは，入力の結果を type() 関数を用いて型チェックを行っている。"
      ]
    },
    {
      "cell_type": "code",
      "metadata": {
        "id": "c-KwckUcIRt8",
        "colab_type": "code",
        "outputId": "e8258b00-2464-4cd5-e5eb-09f07da3b9aa",
        "colab": {}
      },
      "source": [
        "x = input(\"何か入力してください\")\n",
        "print(x)\n",
        "print(\"変数 x の型は{}\".format(type(x)))"
      ],
      "execution_count": 0,
      "outputs": [
        {
          "output_type": "stream",
          "text": [
            "何か入力してください000\n",
            "000\n",
            "変数 x の型は<class 'str'>\n"
          ],
          "name": "stdout"
        }
      ]
    },
    {
      "cell_type": "markdown",
      "metadata": {
        "id": "xbWIeOeTIRuB",
        "colab_type": "text"
      },
      "source": [
        "入力を数値として受け取りたい場合，int() や float() などの関数を利用して変換する。"
      ]
    },
    {
      "cell_type": "code",
      "metadata": {
        "id": "rydVrhReIRuC",
        "colab_type": "code",
        "outputId": "d691af80-cf29-4e51-a402-f3bdf19a3990",
        "colab": {}
      },
      "source": [
        "x = input(\"整数を入力してください\")\n",
        "# value = x + 3 # 文字列と整数の演算のためエラーとなる\n",
        "value = int(x)\n",
        "print(value * 2)\n",
        "\n",
        "y = input(\"実数を入力してください\")\n",
        "value = float(y)\n",
        "print(value * 2)"
      ],
      "execution_count": 0,
      "outputs": [
        {
          "output_type": "stream",
          "text": [
            "整数を入力してください000\n",
            "0\n",
            "実数を入力してください000\n",
            "0.0\n"
          ],
          "name": "stdout"
        }
      ]
    },
    {
      "cell_type": "code",
      "metadata": {
        "id": "OKJnHkZnIRuF",
        "colab_type": "code",
        "colab": {}
      },
      "source": [
        "# BMIも基づき，適正体重を算出するプログラム\n",
        "height = float(input(\"身長(cm)を入力してください\")) # 身長の入力\n",
        "bmi = 22\n",
        "std_weight = bmi * (height / 100)**2\n",
        "print(\"身長：{}cm\".format(height))\n",
        "print(\"標準体重：{}kg\".format(std_weight))"
      ],
      "execution_count": 0,
      "outputs": []
    },
    {
      "cell_type": "markdown",
      "metadata": {
        "id": "gK_1DIoyIRuI",
        "colab_type": "text"
      },
      "source": [
        "## 1.3. 組み込み型\n",
        "データには**型**が紐づいており，変数に対して type() 関数を食わせるとその型を知ることができる。\n",
        "\n",
        "- 数値型：整数型(int)と浮動小数点型(float)\n",
        "- 文字列型 (str)\n",
        "- 真偽値型 (bool)\n",
        "\n",
        "なお，「変数=リテラル」として使われるリテラル(定数)について，特に数値の場合に２進数，８進数，16進数の表現方法が異なるが，当面，気にしなくてよい。"
      ]
    },
    {
      "cell_type": "code",
      "metadata": {
        "id": "6N0GDs_hIRuJ",
        "colab_type": "code",
        "outputId": "9cc3526f-e10f-4e7e-8b0e-5abce7a11371",
        "colab": {}
      },
      "source": [
        "a = 123\n",
        "b = 56.78\n",
        "c = \"Programming\"\n",
        "d = True\n",
        "print(\"a の型：{}\".format(type(a)))\n",
        "print(\"b の型：{}\".format(type(b)))\n",
        "print(\"c の型：{}\".format(type(c)))\n",
        "print(\"d の型：{}\".format(type(d)))"
      ],
      "execution_count": 0,
      "outputs": [
        {
          "output_type": "stream",
          "text": [
            "a の型：<class 'int'>\n",
            "b の型：<class 'float'>\n",
            "c の型：<class 'str'>\n",
            "d の型：<class 'bool'>\n"
          ],
          "name": "stdout"
        }
      ]
    },
    {
      "cell_type": "markdown",
      "metadata": {
        "id": "I1oO-mXaIRuO",
        "colab_type": "text"
      },
      "source": [
        "#### 数値と文字列の相互変換\n",
        "数値(int型，float型)と文字列(str型)を相互変換可能である。ここでは float()関数，int()関数，str()関数を用いる。"
      ]
    },
    {
      "cell_type": "code",
      "metadata": {
        "id": "oqSvDXydIRuP",
        "colab_type": "code",
        "outputId": "b8920943-18fe-41b4-8416-5b148b870a53",
        "colab": {}
      },
      "source": [
        "# 文字列から数値への変換\n",
        "s = \"123.45\"\n",
        "num = float(s)\n",
        "print(type(num))\n",
        "\n",
        "# 数値から文字列への変換\n",
        "num = 123.45\n",
        "s = str(num)\n",
        "print(type(s))"
      ],
      "execution_count": 0,
      "outputs": [
        {
          "output_type": "stream",
          "text": [
            "<class 'float'>\n",
            "<class 'str'>\n"
          ],
          "name": "stdout"
        }
      ]
    },
    {
      "cell_type": "markdown",
      "metadata": {
        "id": "NEtd48N1IRuS",
        "colab_type": "text"
      },
      "source": [
        "#### リスト型\n",
        "Python ではリストが多用されるため，このセクションは重要である。\n",
        "\n",
        "他の言語における「配列」の代わりに準備されているのが**リスト**である。\n",
        "その定義は「ひとまとまりのデータをまとめて扱う方法」とされる。\n",
        "\n",
        "リスト中の個々の要素にアクセス（＝値を取り出したり，設定したり）するにはインデックスを用いるのが基本である。\n",
        "下記の例にあるように，先頭の要素をゼロ番目としてカウントする点に注意が必要である。故に，要素数が５個の場合，最後の要素は４番目として参照することになる。"
      ]
    },
    {
      "cell_type": "code",
      "metadata": {
        "id": "MIs7HzrcIRuT",
        "colab_type": "code",
        "outputId": "7aea82ef-5c78-42d5-ec89-3f9fdee25e84",
        "colab": {}
      },
      "source": [
        "# リストの生成：ここでは５人の身長を取り扱う，と仮定する。\n",
        "height = [180, 165, 159, 171, 155]\n",
        "\n",
        "# リスト中の要素の参照（インデックスの利用）\n",
        "print(\"１人目の身長は{}cm\".format(height[0]))\n",
        "print(\"３人目の身長は{}cm\".format(height[2]))\n",
        "print(\"５人目の身長は{}cm\".format(height[4]))"
      ],
      "execution_count": 0,
      "outputs": [
        {
          "output_type": "stream",
          "text": [
            "１人目の身長は180cm\n",
            "３人目の身長は159cm\n",
            "５人目の身長は155cm\n"
          ],
          "name": "stdout"
        }
      ]
    },
    {
      "cell_type": "markdown",
      "metadata": {
        "id": "FZPN_XkbIRuW",
        "colab_type": "text"
      },
      "source": [
        "##### リストの操作\n",
        "- リストに含まれる要素数（＝長さ）を知る：len() 関数\n",
        "- 範囲を指定して要素を参照する：スライスによる指定"
      ]
    },
    {
      "cell_type": "code",
      "metadata": {
        "id": "oJj-FxWXIRuX",
        "colab_type": "code",
        "outputId": "1408bb99-c1f4-477e-b23c-df9de75b498f",
        "colab": {}
      },
      "source": [
        "height = [180, 165, 159, 171, 155]\n",
        "print(\"要素数は{}\".format(len(height))) # len() 関数\n",
        "\n",
        "print(height[1:3]) # スライスの利用（１～２番目の要素をサブリストとして取り出す）\n",
        "\n",
        "# リストの要素は書き換え可能\n",
        "height[1] = 190\n",
        "print(height)"
      ],
      "execution_count": 0,
      "outputs": [
        {
          "output_type": "stream",
          "text": [
            "要素数は5\n",
            "[165, 159]\n",
            "[180, 190, 159, 171, 155]\n"
          ],
          "name": "stdout"
        }
      ]
    },
    {
      "cell_type": "code",
      "metadata": {
        "id": "Xq1b1fhVIRua",
        "colab_type": "code",
        "outputId": "a4018f94-551c-4bc0-c27a-89f7a6329c66",
        "colab": {}
      },
      "source": [
        "# 文字列をリストへ格納することも可能\n",
        "names = [\"sato\", \"tanaka\", \"izumi\", \"yamada\"]\n",
        "print(\"要素数は{}\".format(len(names)))\n",
        "print(names[0])"
      ],
      "execution_count": 0,
      "outputs": [
        {
          "output_type": "stream",
          "text": [
            "要素数は4\n",
            "sato\n"
          ],
          "name": "stdout"
        }
      ]
    },
    {
      "cell_type": "code",
      "metadata": {
        "id": "Q0KJ8GdJIRue",
        "colab_type": "code",
        "outputId": "571c49be-0196-47ff-b391-2fb54d9a10b3",
        "colab": {}
      },
      "source": [
        "# 実はリストには異なる型を混在できる・・・しかし，こんな使い方をすることは滅多にない\n",
        "any = [5, 3.14, \"sato\"]\n",
        "print(any)\n",
        "print(any[1])\n",
        "print(any[2])"
      ],
      "execution_count": 0,
      "outputs": [
        {
          "output_type": "stream",
          "text": [
            "[5, 3.14, 'sato']\n",
            "3.14\n",
            "sato\n"
          ],
          "name": "stdout"
        }
      ]
    }
  ]
}