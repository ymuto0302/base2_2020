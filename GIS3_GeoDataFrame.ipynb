{
  "nbformat": 4,
  "nbformat_minor": 0,
  "metadata": {
    "kernelspec": {
      "display_name": "Python 3",
      "language": "python",
      "name": "python3"
    },
    "language_info": {
      "codemirror_mode": {
        "name": "ipython",
        "version": 3
      },
      "file_extension": ".py",
      "mimetype": "text/x-python",
      "name": "python",
      "nbconvert_exporter": "python",
      "pygments_lexer": "ipython3",
      "version": "3.8.5"
    },
    "colab": {
      "name": "GIS3_GeoDataFrame.ipynb",
      "provenance": [],
      "collapsed_sections": [],
      "include_colab_link": true
    }
  },
  "cells": [
    {
      "cell_type": "markdown",
      "metadata": {
        "id": "view-in-github",
        "colab_type": "text"
      },
      "source": [
        "<a href=\"https://colab.research.google.com/github/ymuto0302/base2_2020/blob/master/GIS3_GeoDataFrame.ipynb\" target=\"_parent\"><img src=\"https://colab.research.google.com/assets/colab-badge.svg\" alt=\"Open In Colab\"/></a>"
      ]
    },
    {
      "cell_type": "markdown",
      "metadata": {
        "id": "cfYDi0X3W0qJ"
      },
      "source": [
        "# GeoDataFrame の作り方\n",
        "geopandas で用いられる地理情報データは GeoDataFrame という形式に格納される。\n",
        "これは pandas のデータフレームの拡張と位置付けられる。\n",
        "\n",
        "以下では，自分で GeoDataFrame を作成することで，その仕組みを理解しよう。\n",
        "- GeoDataframe を構成する基本的な部品が Point, LineString, Polygon である。\n",
        "- 他にも MultiPoint や MultiPolygon が存在するが，ここでは取り上げない。"
      ]
    },
    {
      "cell_type": "markdown",
      "metadata": {
        "id": "Y-U6kdkhXNCt"
      },
      "source": [
        "### (準備) 必要なライブラリのインストール"
      ]
    },
    {
      "cell_type": "code",
      "metadata": {
        "id": "KJXfP8xZW_C5",
        "outputId": "87a595ea-7f6f-4ea7-e085-df1656274a06",
        "colab": {
          "base_uri": "https://localhost:8080/",
          "height": 462
        }
      },
      "source": [
        "!pip install geopandas"
      ],
      "execution_count": 4,
      "outputs": [
        {
          "output_type": "stream",
          "text": [
            "Collecting geopandas\n",
            "\u001b[?25l  Downloading https://files.pythonhosted.org/packages/f7/a4/e66aafbefcbb717813bf3a355c8c4fc3ed04ea1dd7feb2920f2f4f868921/geopandas-0.8.1-py2.py3-none-any.whl (962kB)\n",
            "\u001b[K     |████████████████████████████████| 972kB 2.9MB/s \n",
            "\u001b[?25hCollecting fiona\n",
            "\u001b[?25l  Downloading https://files.pythonhosted.org/packages/36/8b/e8b2c11bed5373c8e98edb85ce891b09aa1f4210fd451d0fb3696b7695a2/Fiona-1.8.17-cp36-cp36m-manylinux1_x86_64.whl (14.8MB)\n",
            "\u001b[K     |████████████████████████████████| 14.8MB 308kB/s \n",
            "\u001b[?25hCollecting pyproj>=2.2.0\n",
            "\u001b[?25l  Downloading https://files.pythonhosted.org/packages/e5/c3/071e080230ac4b6c64f1a2e2f9161c9737a2bc7b683d2c90b024825000c0/pyproj-2.6.1.post1-cp36-cp36m-manylinux2010_x86_64.whl (10.9MB)\n",
            "\u001b[K     |████████████████████████████████| 10.9MB 37.1MB/s \n",
            "\u001b[?25hRequirement already satisfied: shapely in /usr/local/lib/python3.6/dist-packages (from geopandas) (1.7.1)\n",
            "Requirement already satisfied: pandas>=0.23.0 in /usr/local/lib/python3.6/dist-packages (from geopandas) (1.1.2)\n",
            "Requirement already satisfied: attrs>=17 in /usr/local/lib/python3.6/dist-packages (from fiona->geopandas) (20.2.0)\n",
            "Collecting munch\n",
            "  Downloading https://files.pythonhosted.org/packages/cc/ab/85d8da5c9a45e072301beb37ad7f833cd344e04c817d97e0cc75681d248f/munch-2.5.0-py2.py3-none-any.whl\n",
            "Collecting click-plugins>=1.0\n",
            "  Downloading https://files.pythonhosted.org/packages/e9/da/824b92d9942f4e472702488857914bdd50f73021efea15b4cad9aca8ecef/click_plugins-1.1.1-py2.py3-none-any.whl\n",
            "Requirement already satisfied: click<8,>=4.0 in /usr/local/lib/python3.6/dist-packages (from fiona->geopandas) (7.1.2)\n",
            "Collecting cligj>=0.5\n",
            "  Downloading https://files.pythonhosted.org/packages/2d/0a/004ba68cd29bde809847c5f7e5990699d7a1ff3fe71a5703adc60b464e5f/cligj-0.6.0-py3-none-any.whl\n",
            "Requirement already satisfied: six>=1.7 in /usr/local/lib/python3.6/dist-packages (from fiona->geopandas) (1.15.0)\n",
            "Requirement already satisfied: numpy>=1.15.4 in /usr/local/lib/python3.6/dist-packages (from pandas>=0.23.0->geopandas) (1.18.5)\n",
            "Requirement already satisfied: pytz>=2017.2 in /usr/local/lib/python3.6/dist-packages (from pandas>=0.23.0->geopandas) (2018.9)\n",
            "Requirement already satisfied: python-dateutil>=2.7.3 in /usr/local/lib/python3.6/dist-packages (from pandas>=0.23.0->geopandas) (2.8.1)\n",
            "Installing collected packages: munch, click-plugins, cligj, fiona, pyproj, geopandas\n",
            "Successfully installed click-plugins-1.1.1 cligj-0.6.0 fiona-1.8.17 geopandas-0.8.1 munch-2.5.0 pyproj-2.6.1.post1\n"
          ],
          "name": "stdout"
        }
      ]
    },
    {
      "cell_type": "markdown",
      "metadata": {
        "id": "ONYzrxPGW0qK"
      },
      "source": [
        "## Point (点) を作る\n",
        "基本的な部品である Point (点) を含む GeoDataFrame を作ってみる。\n",
        "\n",
        "部品を生成するには shapely.geometry を用いる。"
      ]
    },
    {
      "cell_type": "code",
      "metadata": {
        "id": "y4zw4rTFW0qL"
      },
      "source": [
        "# 必要なライブラリのインポート\n",
        "import geopandas as gpd\n",
        "from shapely.geometry import Point"
      ],
      "execution_count": 5,
      "outputs": []
    },
    {
      "cell_type": "markdown",
      "metadata": {
        "id": "2EcjSPmfW0qP"
      },
      "source": [
        "最初に Point を定義し，これらを GeoDataFrame のコンストラクタへ渡す。\n",
        "ここで列名として \"geometry\" を指定する必要がある。"
      ]
    },
    {
      "cell_type": "code",
      "metadata": {
        "id": "IMPoV_AFW0qQ"
      },
      "source": [
        "# Point(点)の定義\n",
        "point1 = Point(10, 10)\n",
        "point2 = Point(20, 20)\n",
        "\n",
        "# 点を GeoDataFrame の grometry 列へ格納\n",
        "points = gpd.GeoDataFrame([[point1], [point2]], columns=['geometry'])"
      ],
      "execution_count": 6,
      "outputs": []
    },
    {
      "cell_type": "code",
      "metadata": {
        "id": "M4pLgQ-2W0qT",
        "outputId": "d143c0b6-202b-44b5-a861-d5e2295ad9a6",
        "colab": {
          "base_uri": "https://localhost:8080/",
          "height": 111
        }
      },
      "source": [
        "# データの中身を覗き見る\n",
        "points"
      ],
      "execution_count": 7,
      "outputs": [
        {
          "output_type": "execute_result",
          "data": {
            "text/html": [
              "<div>\n",
              "<style scoped>\n",
              "    .dataframe tbody tr th:only-of-type {\n",
              "        vertical-align: middle;\n",
              "    }\n",
              "\n",
              "    .dataframe tbody tr th {\n",
              "        vertical-align: top;\n",
              "    }\n",
              "\n",
              "    .dataframe thead th {\n",
              "        text-align: right;\n",
              "    }\n",
              "</style>\n",
              "<table border=\"1\" class=\"dataframe\">\n",
              "  <thead>\n",
              "    <tr style=\"text-align: right;\">\n",
              "      <th></th>\n",
              "      <th>geometry</th>\n",
              "    </tr>\n",
              "  </thead>\n",
              "  <tbody>\n",
              "    <tr>\n",
              "      <th>0</th>\n",
              "      <td>POINT (10.00000 10.00000)</td>\n",
              "    </tr>\n",
              "    <tr>\n",
              "      <th>1</th>\n",
              "      <td>POINT (20.00000 20.00000)</td>\n",
              "    </tr>\n",
              "  </tbody>\n",
              "</table>\n",
              "</div>"
            ],
            "text/plain": [
              "                    geometry\n",
              "0  POINT (10.00000 10.00000)\n",
              "1  POINT (20.00000 20.00000)"
            ]
          },
          "metadata": {
            "tags": []
          },
          "execution_count": 7
        }
      ]
    },
    {
      "cell_type": "code",
      "metadata": {
        "id": "JorW1MOvW0qX",
        "outputId": "b088156e-d240-4f67-9683-ec165f6a6c57",
        "colab": {
          "base_uri": "https://localhost:8080/",
          "height": 34
        }
      },
      "source": [
        "# 定義された Point の型を確認\n",
        "type(point1)"
      ],
      "execution_count": 8,
      "outputs": [
        {
          "output_type": "execute_result",
          "data": {
            "text/plain": [
              "shapely.geometry.point.Point"
            ]
          },
          "metadata": {
            "tags": []
          },
          "execution_count": 8
        }
      ]
    },
    {
      "cell_type": "code",
      "metadata": {
        "id": "jA3R80IYW0qa",
        "outputId": "653e0e1f-62ce-4b20-80ae-248fb36e486c",
        "colab": {
          "base_uri": "https://localhost:8080/",
          "height": 282
        }
      },
      "source": [
        "# 可視化：座標 (10, 10) と (20, 20) に点が位置することが分かる\n",
        "points.plot()"
      ],
      "execution_count": 9,
      "outputs": [
        {
          "output_type": "execute_result",
          "data": {
            "text/plain": [
              "<matplotlib.axes._subplots.AxesSubplot at 0x7f1b4bca7320>"
            ]
          },
          "metadata": {
            "tags": []
          },
          "execution_count": 9
        },
        {
          "output_type": "display_data",
          "data": {
            "image/png": "[encoded data removed]",
            "text/plain": [
              "<Figure size 432x288 with 1 Axes>"
            ]
          },
          "metadata": {
            "tags": [],
            "needs_background": "light"
          }
        }
      ]
    },
    {
      "cell_type": "markdown",
      "metadata": {
        "id": "JJoWlCs6W0qd"
      },
      "source": [
        "## Polygon (多角形) を作る\n",
        "Polygon (多角形) はその頂点の並びとして定義される。"
      ]
    },
    {
      "cell_type": "code",
      "metadata": {
        "id": "QQLqBAQBW0qe"
      },
      "source": [
        "# 必要なライブラリのインポート\n",
        "import geopandas as gpd\n",
        "from shapely.geometry import Polygon"
      ],
      "execution_count": 10,
      "outputs": []
    },
    {
      "cell_type": "code",
      "metadata": {
        "id": "qxtJI1msW0qh"
      },
      "source": [
        "# polygon を作る場合，境界線を結ぶ順番に座標を並べる\n",
        "cordinates = [(12, 12), (18, 12), (18, 18), (12, 18)]\n",
        "\n",
        "# ポリゴンを GeoDataFrame の grometry 列へ格納\n",
        "polygon = gpd.GeoDataFrame([Polygon(cordinates)], columns=['geometry'])"
      ],
      "execution_count": 11,
      "outputs": []
    },
    {
      "cell_type": "code",
      "metadata": {
        "id": "CSI7YCGJW0qk",
        "outputId": "c8b6f108-a315-47ae-ee72-6b09d9235d43",
        "colab": {
          "base_uri": "https://localhost:8080/",
          "height": 80
        }
      },
      "source": [
        "# データの中身を覗き見る\n",
        "polygon"
      ],
      "execution_count": 12,
      "outputs": [
        {
          "output_type": "execute_result",
          "data": {
            "text/html": [
              "<div>\n",
              "<style scoped>\n",
              "    .dataframe tbody tr th:only-of-type {\n",
              "        vertical-align: middle;\n",
              "    }\n",
              "\n",
              "    .dataframe tbody tr th {\n",
              "        vertical-align: top;\n",
              "    }\n",
              "\n",
              "    .dataframe thead th {\n",
              "        text-align: right;\n",
              "    }\n",
              "</style>\n",
              "<table border=\"1\" class=\"dataframe\">\n",
              "  <thead>\n",
              "    <tr style=\"text-align: right;\">\n",
              "      <th></th>\n",
              "      <th>geometry</th>\n",
              "    </tr>\n",
              "  </thead>\n",
              "  <tbody>\n",
              "    <tr>\n",
              "      <th>0</th>\n",
              "      <td>POLYGON ((12.00000 12.00000, 18.00000 12.00000...</td>\n",
              "    </tr>\n",
              "  </tbody>\n",
              "</table>\n",
              "</div>"
            ],
            "text/plain": [
              "                                            geometry\n",
              "0  POLYGON ((12.00000 12.00000, 18.00000 12.00000..."
            ]
          },
          "metadata": {
            "tags": []
          },
          "execution_count": 12
        }
      ]
    },
    {
      "cell_type": "code",
      "metadata": {
        "scrolled": true,
        "id": "99ciFtp1W0qn",
        "outputId": "20bd61fa-e7c2-470e-a500-82bed93a01a0",
        "colab": {
          "base_uri": "https://localhost:8080/",
          "height": 282
        }
      },
      "source": [
        "# 可視化\n",
        "polygon.plot()"
      ],
      "execution_count": 13,
      "outputs": [
        {
          "output_type": "execute_result",
          "data": {
            "text/plain": [
              "<matplotlib.axes._subplots.AxesSubplot at 0x7f1b4bbf87b8>"
            ]
          },
          "metadata": {
            "tags": []
          },
          "execution_count": 13
        },
        {
          "output_type": "display_data",
          "data": {
            "image/png": "[encoded data removed]",
            "text/plain": [
              "<Figure size 432x288 with 1 Axes>"
            ]
          },
          "metadata": {
            "tags": [],
            "needs_background": "light"
          }
        }
      ]
    },
    {
      "cell_type": "markdown",
      "metadata": {
        "id": "6vynV-IrW0qq"
      },
      "source": [
        "ちなみに，ポリゴンの頂点の並びを変えてみると，思いがけない形状となる。\n",
        "一般にポリゴンは領域を表現するため，座標の並び順に注意が必要である。"
      ]
    },
    {
      "cell_type": "code",
      "metadata": {
        "id": "kml3nUxnW0qq",
        "outputId": "663988da-171e-4ee5-ce79-73fc2619e951",
        "colab": {
          "base_uri": "https://localhost:8080/",
          "height": 282
        }
      },
      "source": [
        "# 適当に座標を並べた例\n",
        "cordinates = [(12, 12), (12, 18), (18, 12), (18, 18)]\n",
        "\n",
        "# ポリゴンを GeoDataFrame の grometry 列へ格納\n",
        "funny_polygon = gpd.GeoDataFrame([Polygon(cordinates)], columns=['geometry'])\n",
        "\n",
        "funny_polygon.plot()"
      ],
      "execution_count": 14,
      "outputs": [
        {
          "output_type": "execute_result",
          "data": {
            "text/plain": [
              "<matplotlib.axes._subplots.AxesSubplot at 0x7f1b48f2e358>"
            ]
          },
          "metadata": {
            "tags": []
          },
          "execution_count": 14
        },
        {
          "output_type": "display_data",
          "data": {
            "image/png": "[encoded data removed]",
            "text/plain": [
              "<Figure size 432x288 with 1 Axes>"
            ]
          },
          "metadata": {
            "tags": [],
            "needs_background": "light"
          }
        }
      ]
    },
    {
      "cell_type": "markdown",
      "metadata": {
        "id": "ElrjCWMeW0qt"
      },
      "source": [
        "## 生成した GeoDataFrame を shapefile として保存 & 読み込み"
      ]
    },
    {
      "cell_type": "markdown",
      "metadata": {
        "id": "6aF24rjfXeCl"
      },
      "source": [
        "### (準備) Google Drive のマウント"
      ]
    },
    {
      "cell_type": "code",
      "metadata": {
        "id": "xpqDLZq_Xip6",
        "outputId": "1e777d07-8167-4c44-bf96-d3c044f95d9a",
        "colab": {
          "base_uri": "https://localhost:8080/",
          "height": 34
        }
      },
      "source": [
        "from google.colab import drive\n",
        "drive.mount('/content/drive')"
      ],
      "execution_count": 16,
      "outputs": [
        {
          "output_type": "stream",
          "text": [
            "Mounted at /content/drive\n"
          ],
          "name": "stdout"
        }
      ]
    },
    {
      "cell_type": "code",
      "metadata": {
        "id": "BY5j7a-JW0qt"
      },
      "source": [
        "# shape file の作成\n",
        "path = r'/content/drive/My Drive/BASE2/GeoData/output.shp'\n",
        "polygon.to_file(path)"
      ],
      "execution_count": 19,
      "outputs": []
    },
    {
      "cell_type": "code",
      "metadata": {
        "scrolled": false,
        "id": "JBDQeshFW0qw",
        "outputId": "983d4382-764e-495c-89d8-515fa178f1da",
        "colab": {
          "base_uri": "https://localhost:8080/",
          "height": 282
        }
      },
      "source": [
        "# shape file を試しに読み込んで表示する\n",
        "path = r'/content/drive/My Drive/BASE2/GeoData/output.shp'\n",
        "data = gpd.read_file(path)\n",
        "data.plot()"
      ],
      "execution_count": 20,
      "outputs": [
        {
          "output_type": "execute_result",
          "data": {
            "text/plain": [
              "<matplotlib.axes._subplots.AxesSubplot at 0x7f1b48e9cf98>"
            ]
          },
          "metadata": {
            "tags": []
          },
          "execution_count": 20
        },
        {
          "output_type": "display_data",
          "data": {
            "image/png": "[encoded data removed]",
            "text/plain": [
              "<Figure size 432x288 with 1 Axes>"
            ]
          },
          "metadata": {
            "tags": [],
            "needs_background": "light"
          }
        }
      ]
    },
    {
      "cell_type": "markdown",
      "metadata": {
        "id": "G0dfWrbkW0qz"
      },
      "source": [
        "# GeoDataFrame に対する操作（このセクションは重要）"
      ]
    },
    {
      "cell_type": "markdown",
      "metadata": {
        "id": "GMRyFPO0W0q0"
      },
      "source": [
        "## Point と Polygon を重ねて表示\n",
        "上記で定義した Point と Polygon を重ねて表示してみよう。"
      ]
    },
    {
      "cell_type": "code",
      "metadata": {
        "scrolled": false,
        "id": "8jQQKZ6FW0q0",
        "outputId": "76532735-a968-41e1-e4a4-1bf3b0b1e28a",
        "colab": {
          "base_uri": "https://localhost:8080/",
          "height": 282
        }
      },
      "source": [
        "import matplotlib.pyplot as plt\n",
        "\n",
        "fig, ax = plt.subplots(1)\n",
        "points.plot(ax=ax)\n",
        "polygon.plot(ax=ax, color='red')"
      ],
      "execution_count": 21,
      "outputs": [
        {
          "output_type": "execute_result",
          "data": {
            "text/plain": [
              "<matplotlib.axes._subplots.AxesSubplot at 0x7f1b4b77d908>"
            ]
          },
          "metadata": {
            "tags": []
          },
          "execution_count": 21
        },
        {
          "output_type": "display_data",
          "data": {
            "image/png": "[encoded data removed]",
            "text/plain": [
              "<Figure size 432x288 with 1 Axes>"
            ]
          },
          "metadata": {
            "tags": [],
            "needs_background": "light"
          }
        }
      ]
    },
    {
      "cell_type": "markdown",
      "metadata": {
        "id": "o4hI-jG4W0q3"
      },
      "source": [
        "## ポリゴンの面積と中心を求める\n",
        "ポリゴンの面積を求めるには area 属性を，中心点を求めるには centroid 属性を指定する。"
      ]
    },
    {
      "cell_type": "code",
      "metadata": {
        "id": "52urIzo5W0q4",
        "outputId": "7afe4c58-cf98-4907-c55f-7a2ef40b9013",
        "colab": {
          "base_uri": "https://localhost:8080/",
          "height": 316
        }
      },
      "source": [
        "print(polygon.area)\n",
        "\n",
        "ax = polygon.plot()\n",
        "polygon.centroid.plot(ax=ax, color='red')"
      ],
      "execution_count": 22,
      "outputs": [
        {
          "output_type": "stream",
          "text": [
            "0    36.0\n",
            "dtype: float64\n"
          ],
          "name": "stdout"
        },
        {
          "output_type": "execute_result",
          "data": {
            "text/plain": [
              "<matplotlib.axes._subplots.AxesSubplot at 0x7f1b4856dd68>"
            ]
          },
          "metadata": {
            "tags": []
          },
          "execution_count": 22
        },
        {
          "output_type": "display_data",
          "data": {
            "image/png": "[encoded data removed]",
            "text/plain": [
              "<Figure size 432x288 with 1 Axes>"
            ]
          },
          "metadata": {
            "tags": [],
            "needs_background": "light"
          }
        }
      ]
    },
    {
      "cell_type": "markdown",
      "metadata": {
        "id": "LKZwNeXaW0q7"
      },
      "source": [
        "## Point 間の距離を測る"
      ]
    },
    {
      "cell_type": "code",
      "metadata": {
        "id": "oBm1XuocW0q7",
        "outputId": "25d29b6b-095a-43f9-e350-05358d95705e",
        "colab": {
          "base_uri": "https://localhost:8080/",
          "height": 34
        }
      },
      "source": [
        "point1.distance(point2)"
      ],
      "execution_count": 23,
      "outputs": [
        {
          "output_type": "execute_result",
          "data": {
            "text/plain": [
              "14.142135623730951"
            ]
          },
          "metadata": {
            "tags": []
          },
          "execution_count": 23
        }
      ]
    }
  ]
}