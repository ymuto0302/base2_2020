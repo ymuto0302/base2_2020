{
 "cells": [
  {
   "cell_type": "markdown",
   "metadata": {},
   "source": [
    "# SIRDモデル (ベースとなるコード)\n",
    "SIRD (Susceptible, Infectious, Recovered, or Decreased)モデル: 感染症の拡大を予測する（伝統的な）SIR モデルに死亡 (Decreased or Death)を追加したモデル"
   ]
  },
  {
   "cell_type": "markdown",
   "metadata": {},
   "source": [
    "### MAS の仕様\n",
    "- 最初に，一定数のエージェントを「感染」状態とする\n",
    "- エージェントは空間内をランダムに移動し，接触した（＝同じセルに属した）場合に感染するものとする\n",
    "- 感染後，多くのエージェントは一定時間経過すると回復する。しかし，1% の確率で死亡する。"
   ]
  },
  {
   "cell_type": "markdown",
   "metadata": {},
   "source": [
    "### コード"
   ]
  },
  {
   "cell_type": "code",
   "execution_count": 6,
   "metadata": {},
   "outputs": [],
   "source": [
    "# 必要なクラスのインポート\n",
    "from mesa import Agent, Model\n",
    "from mesa.time import RandomActivation\n",
    "from mesa.space import MultiGrid\n",
    "from mesa.datacollection import DataCollector\n",
    "from enum import IntEnum\n",
    "\n",
    "# 状態の定義\n",
    "class State(IntEnum):\n",
    "    SUSCEPTIBLE = 0 # 健康(影響を受けやすい)\n",
    "    INFECTED = 1 # 感染した\n",
    "    RECOVERED = 2 # 回復(耐性を有する)\n",
    "    DECREASED = 3 # 死亡\n",
    "\n",
    "class HumanAgent(Agent):\n",
    "    # エージェントの初期化\n",
    "    # unique_id : 個々のエージェントを区別するための ID（名前みたいなもの）\n",
    "    # initial_state : 初期状態\n",
    "    def __init__(self, unique_id, model, initial_state):\n",
    "        super().__init__(unique_id, model)\n",
    "        self.state = initial_state\n",
    "        self.infection_time = -1 # 感染したタイミング\n",
    "\n",
    "    def move(self):\n",
    "        # Moore 近傍にて，移動可能な場所 (possible_steps)を探す\n",
    "        possible_steps = self.model.grid.get_neighborhood(\n",
    "            self.pos,\n",
    "            moore = True, # Moore 近傍\n",
    "            include_center = False) # 中心を含まない\n",
    "        \n",
    "        # 移動先をランダムに決める\n",
    "        new_position = self.random.choice(possible_steps)\n",
    "        \n",
    "        # 自分自身を new_position へ動かす\n",
    "        self.model.grid.move_agent(self, new_position)\n",
    "        \n",
    "    def try_infection(self):\n",
    "        # 自分の位置 (self.pos) と同じセルにいる他のエージェントを探す\n",
    "        cellmates = self.model.grid.get_cell_list_contents([self.pos])\n",
    "        if len(cellmates) > 1: # 自分を含めてカウントするため，２以上のケースを考える\n",
    "            for other in cellmates:\n",
    "                # 自分自身が選ばれた場合，何もしない\n",
    "                if other.unique_id == self.unique_id: continue\n",
    "            \n",
    "                # 相手が健常の場合，情け容赦なく感染させる\n",
    "                if other.state == State.SUSCEPTIBLE or other.state == State.RECOVERED:\n",
    "                    other.state = State.INFECTED\n",
    "                    other.infection_time = self.model.schedule.time # 感染したタイミングを記録\n",
    "\n",
    "    def step(self):\n",
    "        if self.state == State.DECREASED:\n",
    "            pass # 何もしない\n",
    "        elif self.state == State.INFECTED:\n",
    "            # 1% の確率で死亡する\n",
    "            r_death = self.random.random()\n",
    "            if r_death < 0.01:\n",
    "                self.state = State.DECREASED\n",
    "            else:\n",
    "                self.move() # 移動\n",
    "                \n",
    "                # 生きている場合，一定時間経過後に RECOVERD へ or 他者へ感染させる\n",
    "                # 感染後の経過時間\n",
    "                t = self.model.schedule.time - self.infection_time\n",
    "\n",
    "                # 感染後，一定時間(以下では 20ステップ)が経過すれば回復（免疫あり）の状態になる\n",
    "                if t >= 20:\n",
    "                    self.state = State.RECOVERED\n",
    "                else:\n",
    "                    self.try_infection()\n",
    "            \n",
    "class SRI_Model(Model):\n",
    "    def __init__(self, N=100, width=30, height=30):\n",
    "        self.num_human = N\n",
    "        # ひとつのセルに複数のエージェントが存在してよいように MultiGrid とする\n",
    "        self.grid = MultiGrid(width, height, torus=True)\n",
    "\n",
    "        # スケジューラの設定\n",
    "        self.schedule = RandomActivation(self)\n",
    "        \n",
    "        # エージェントの生成\n",
    "        for i in range(self.num_human):\n",
    "            a = HumanAgent(i, self, State.SUSCEPTIBLE) # 第２引数はモデル自身\n",
    "            self.schedule.add(a) # エージェントのスケジュールへの追加\n",
    "            \n",
    "            # エージェントをランダムな位置に配置する\n",
    "            x = self.random.randrange(self.grid.width)\n",
    "            y = self.random.randrange(self.grid.height)\n",
    "            self.grid.place_agent(a, (x, y))\n",
    "        \n",
    "            # 空間の初期状態として，10% を「感染」状態とする\n",
    "            r = self.random.random()\n",
    "            if r < 0.1:\n",
    "                a.state = State.INFECTED\n",
    "                a.infection_time = 0\n",
    "                \n",
    "        # DataCollector の定義\n",
    "        self.data_collector = DataCollector(\n",
    "            agent_reporters={\"State\": \"state\"}\n",
    "        )\n",
    "        \n",
    "    def step(self):\n",
    "        self.data_collector.collect(self) # データ収集\n",
    "        self.schedule.step()\n",
    "        \n",
    "model = SRI_Model(N=200, width=30, height=30)\n",
    "for i in range(150): # 150ステップ\n",
    "    model.step()"
   ]
  },
  {
   "cell_type": "markdown",
   "metadata": {},
   "source": [
    "### 各ステップにおける健常者数・感染者数・回復者数をチェック"
   ]
  },
  {
   "cell_type": "code",
   "execution_count": 7,
   "metadata": {},
   "outputs": [],
   "source": [
    "import pandas as pd\n",
    "import numpy as np\n",
    "import matplotlib.pyplot as plt\n",
    "result = model.data_collector.get_agent_vars_dataframe()\n",
    "X = pd.pivot_table(result.reset_index(),index='Step',columns='State',aggfunc=np.size,fill_value=0)\n",
    "labels = ['Susceptible','Infected','Recovered', 'Decreased']\n",
    "X.columns = labels[:len(X.columns)]"
   ]
  },
  {
   "cell_type": "code",
   "execution_count": 8,
   "metadata": {
    "scrolled": true
   },
   "outputs": [
    {
     "data": {
      "text/html": [
       "<div>\n",
       "<style scoped>\n",
       "    .dataframe tbody tr th:only-of-type {\n",
       "        vertical-align: middle;\n",
       "    }\n",
       "\n",
       "    .dataframe tbody tr th {\n",
       "        vertical-align: top;\n",
       "    }\n",
       "\n",
       "    .dataframe thead th {\n",
       "        text-align: right;\n",
       "    }\n",
       "</style>\n",
       "<table border=\"1\" class=\"dataframe\">\n",
       "  <thead>\n",
       "    <tr style=\"text-align: right;\">\n",
       "      <th></th>\n",
       "      <th>Susceptible</th>\n",
       "      <th>Infected</th>\n",
       "      <th>Recovered</th>\n",
       "      <th>Decreased</th>\n",
       "    </tr>\n",
       "    <tr>\n",
       "      <th>Step</th>\n",
       "      <th></th>\n",
       "      <th></th>\n",
       "      <th></th>\n",
       "      <th></th>\n",
       "    </tr>\n",
       "  </thead>\n",
       "  <tbody>\n",
       "    <tr>\n",
       "      <th>0</th>\n",
       "      <td>178</td>\n",
       "      <td>22</td>\n",
       "      <td>0</td>\n",
       "      <td>0</td>\n",
       "    </tr>\n",
       "    <tr>\n",
       "      <th>1</th>\n",
       "      <td>177</td>\n",
       "      <td>23</td>\n",
       "      <td>0</td>\n",
       "      <td>0</td>\n",
       "    </tr>\n",
       "    <tr>\n",
       "      <th>2</th>\n",
       "      <td>173</td>\n",
       "      <td>27</td>\n",
       "      <td>0</td>\n",
       "      <td>0</td>\n",
       "    </tr>\n",
       "    <tr>\n",
       "      <th>3</th>\n",
       "      <td>169</td>\n",
       "      <td>31</td>\n",
       "      <td>0</td>\n",
       "      <td>0</td>\n",
       "    </tr>\n",
       "    <tr>\n",
       "      <th>4</th>\n",
       "      <td>167</td>\n",
       "      <td>33</td>\n",
       "      <td>0</td>\n",
       "      <td>0</td>\n",
       "    </tr>\n",
       "    <tr>\n",
       "      <th>...</th>\n",
       "      <td>...</td>\n",
       "      <td>...</td>\n",
       "      <td>...</td>\n",
       "      <td>...</td>\n",
       "    </tr>\n",
       "    <tr>\n",
       "      <th>145</th>\n",
       "      <td>0</td>\n",
       "      <td>31</td>\n",
       "      <td>76</td>\n",
       "      <td>93</td>\n",
       "    </tr>\n",
       "    <tr>\n",
       "      <th>146</th>\n",
       "      <td>0</td>\n",
       "      <td>33</td>\n",
       "      <td>74</td>\n",
       "      <td>93</td>\n",
       "    </tr>\n",
       "    <tr>\n",
       "      <th>147</th>\n",
       "      <td>0</td>\n",
       "      <td>34</td>\n",
       "      <td>73</td>\n",
       "      <td>93</td>\n",
       "    </tr>\n",
       "    <tr>\n",
       "      <th>148</th>\n",
       "      <td>0</td>\n",
       "      <td>33</td>\n",
       "      <td>74</td>\n",
       "      <td>93</td>\n",
       "    </tr>\n",
       "    <tr>\n",
       "      <th>149</th>\n",
       "      <td>0</td>\n",
       "      <td>36</td>\n",
       "      <td>71</td>\n",
       "      <td>93</td>\n",
       "    </tr>\n",
       "  </tbody>\n",
       "</table>\n",
       "<p>150 rows × 4 columns</p>\n",
       "</div>"
      ],
      "text/plain": [
       "      Susceptible  Infected  Recovered  Decreased\n",
       "Step                                             \n",
       "0             178        22          0          0\n",
       "1             177        23          0          0\n",
       "2             173        27          0          0\n",
       "3             169        31          0          0\n",
       "4             167        33          0          0\n",
       "...           ...       ...        ...        ...\n",
       "145             0        31         76         93\n",
       "146             0        33         74         93\n",
       "147             0        34         73         93\n",
       "148             0        33         74         93\n",
       "149             0        36         71         93\n",
       "\n",
       "[150 rows x 4 columns]"
      ]
     },
     "execution_count": 8,
     "metadata": {},
     "output_type": "execute_result"
    }
   ],
   "source": [
    "X"
   ]
  },
  {
   "cell_type": "markdown",
   "metadata": {},
   "source": [
    "### 感染状況の推移を可視化"
   ]
  },
  {
   "cell_type": "code",
   "execution_count": 9,
   "metadata": {},
   "outputs": [
    {
     "data": {
      "text/plain": [
       "<AxesSubplot:xlabel='Step'>"
      ]
     },
     "execution_count": 9,
     "metadata": {},
     "output_type": "execute_result"
    },
    {
     "data": {
      "image/png": "[encoded data removed]",
      "text/plain": [
       "<Figure size 432x288 with 1 Axes>"
      ]
     },
     "metadata": {
      "needs_background": "light"
     },
     "output_type": "display_data"
    }
   ],
   "source": [
    "X.plot()"
   ]
  },
  {
   "cell_type": "code",
   "execution_count": null,
   "metadata": {},
   "outputs": [],
   "source": []
  }
 ],
 "metadata": {
  "kernelspec": {
   "display_name": "Python 3",
   "language": "python",
   "name": "python3"
  },
  "language_info": {
   "codemirror_mode": {
    "name": "ipython",
    "version": 3
   },
   "file_extension": ".py",
   "mimetype": "text/x-python",
   "name": "python",
   "nbconvert_exporter": "python",
   "pygments_lexer": "ipython3",
   "version": "3.7.8"
  }
 },
 "nbformat": 4,
 "nbformat_minor": 4
}
