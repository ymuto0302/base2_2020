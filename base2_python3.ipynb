{
  "nbformat": 4,
  "nbformat_minor": 0,
  "metadata": {
    "celltoolbar": "Slideshow",
    "kernelspec": {
      "display_name": "Python 3",
      "language": "python",
      "name": "python3"
    },
    "language_info": {
      "codemirror_mode": {
        "name": "ipython",
        "version": 3
      },
      "file_extension": ".py",
      "mimetype": "text/x-python",
      "name": "python",
      "nbconvert_exporter": "python",
      "pygments_lexer": "ipython3",
      "version": "3.6.5"
    },
    "colab": {
      "name": "base2_python3.ipynb",
      "provenance": [],
      "collapsed_sections": [],
      "include_colab_link": true
    }
  },
  "cells": [
    {
      "cell_type": "markdown",
      "metadata": {
        "id": "view-in-github",
        "colab_type": "text"
      },
      "source": [
        "<a href=\"https://colab.research.google.com/github/ymuto0302/base2_2020/blob/master/base2_python3.ipynb\" target=\"_parent\"><img src=\"https://colab.research.google.com/assets/colab-badge.svg\" alt=\"Open In Colab\"/></a>"
      ]
    },
    {
      "cell_type": "markdown",
      "metadata": {
        "id": "UZuVAIlFIRvx",
        "colab_type": "text"
      },
      "source": [
        "#3 例外\n",
        "文字列を数値に変換する int()関数や float()関数を考える。\n",
        "次のコードは確実に動作する。\n",
        "\n",
        "    s = \"12.34\"\n",
        "    print(float(s))\n",
        "\n",
        "では，次のように数字以外の文字列を float() へ与えた場合，何が起こるだろうか？\n",
        "\n",
        "    s = \"abc\"\n",
        "    print(float(s))\n"
      ]
    },
    {
      "cell_type": "code",
      "metadata": {
        "id": "IaZGaAWrIRvx",
        "colab_type": "code",
        "outputId": "b0457cd2-75ec-4a6c-9a10-f870906b4d3b",
        "colab": {}
      },
      "source": [
        "s = \"abc\"\n",
        "float(s)"
      ],
      "execution_count": 0,
      "outputs": [
        {
          "output_type": "error",
          "ename": "ValueError",
          "evalue": "could not convert string to float: 'abc'",
          "traceback": [
            "\u001b[1;31m---------------------------------------------------------------------------\u001b[0m",
            "\u001b[1;31mValueError\u001b[0m                                Traceback (most recent call last)",
            "\u001b[1;32m<ipython-input-41-1f6903a97138>\u001b[0m in \u001b[0;36m<module>\u001b[1;34m()\u001b[0m\n\u001b[0;32m      1\u001b[0m \u001b[0ms\u001b[0m \u001b[1;33m=\u001b[0m \u001b[1;34m\"abc\"\u001b[0m\u001b[1;33m\u001b[0m\u001b[0m\n\u001b[1;32m----> 2\u001b[1;33m \u001b[0mfloat\u001b[0m\u001b[1;33m(\u001b[0m\u001b[0ms\u001b[0m\u001b[1;33m)\u001b[0m\u001b[1;33m\u001b[0m\u001b[0m\n\u001b[0m",
            "\u001b[1;31mValueError\u001b[0m: could not convert string to float: 'abc'"
          ]
        }
      ]
    },
    {
      "cell_type": "markdown",
      "metadata": {
        "id": "LXQ7p7pzIRv0",
        "colab_type": "text"
      },
      "source": [
        "文字列 \"abc\" を float() に与えた場合，これを数値へ変換できないため，（上記のとおり）ValueError が発生する。これが**例外**である。\n",
        "\n",
        "以下に例外が発生するコードをいくつか示す。"
      ]
    },
    {
      "cell_type": "code",
      "metadata": {
        "id": "HE_i6G_8IRv1",
        "colab_type": "code",
        "outputId": "9a193558-9734-4d3c-f7db-b9b928fe1d8f",
        "colab": {
          "base_uri": "https://localhost:8080/",
          "height": 173
        }
      },
      "source": [
        "# ZeroDivisionError の生じる例\n",
        "x = 3/0"
      ],
      "execution_count": 0,
      "outputs": [
        {
          "output_type": "error",
          "ename": "ZeroDivisionError",
          "evalue": "ignored",
          "traceback": [
            "\u001b[0;31m---------------------------------------------------------------------------\u001b[0m",
            "\u001b[0;31mZeroDivisionError\u001b[0m                         Traceback (most recent call last)",
            "\u001b[0;32m<ipython-input-1-71853d54cca7>\u001b[0m in \u001b[0;36m<module>\u001b[0;34m()\u001b[0m\n\u001b[0;32m----> 1\u001b[0;31m \u001b[0mx\u001b[0m \u001b[0;34m=\u001b[0m \u001b[0;36m3\u001b[0m\u001b[0;34m/\u001b[0m\u001b[0;36m0\u001b[0m\u001b[0;34m\u001b[0m\u001b[0;34m\u001b[0m\u001b[0m\n\u001b[0m",
            "\u001b[0;31mZeroDivisionError\u001b[0m: division by zero"
          ]
        }
      ]
    },
    {
      "cell_type": "code",
      "metadata": {
        "id": "iIMz--G5IRv4",
        "colab_type": "code",
        "colab": {}
      },
      "source": [
        "# IndexError の生じる例\n",
        "seasons = [\"春\", \"夏\", \"秋\", \"冬\"]\n",
        "print(seasons[4])"
      ],
      "execution_count": 0,
      "outputs": []
    },
    {
      "cell_type": "markdown",
      "metadata": {
        "id": "-twlLCx5IRv7",
        "colab_type": "text"
      },
      "source": [
        "以上のような**例外を処理**する（例外発生に備える）には try ~ except を用いる。\n",
        "\n",
        "書式は以下のとおり：\n",
        "```\n",
        "try:\n",
        "    例外が発生する可能性がある処理\n",
        "except 例外名:\n",
        "    例外が発生した場合の処理\n",
        "```"
      ]
    },
    {
      "cell_type": "code",
      "metadata": {
        "id": "j2JCpXENIRv8",
        "colab_type": "code",
        "colab": {}
      },
      "source": [
        "import sys\n",
        "\n",
        "try:\n",
        "    score = int(input(\"点数を入力：\"))\n",
        "except ValueError:\n",
        "    print(\"整数を入力してください\")\n",
        "    sys.exit() # プログラムを終了する\n",
        "\n",
        "if score >= 80:\n",
        "    print(\"合格です\")\n",
        "else:\n",
        "    print(\"不合格です\")"
      ],
      "execution_count": 0,
      "outputs": []
    }
  ]
}