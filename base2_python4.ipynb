{
  "nbformat": 4,
  "nbformat_minor": 0,
  "metadata": {
    "celltoolbar": "Slideshow",
    "kernelspec": {
      "display_name": "Python 3",
      "language": "python",
      "name": "python3"
    },
    "language_info": {
      "codemirror_mode": {
        "name": "ipython",
        "version": 3
      },
      "file_extension": ".py",
      "mimetype": "text/x-python",
      "name": "python",
      "nbconvert_exporter": "python",
      "pygments_lexer": "ipython3",
      "version": "3.6.5"
    },
    "colab": {
      "name": "base2_python4.ipynb",
      "provenance": [],
      "collapsed_sections": [],
      "include_colab_link": true
    }
  },
  "cells": [
    {
      "cell_type": "markdown",
      "metadata": {
        "id": "view-in-github",
        "colab_type": "text"
      },
      "source": [
        "<a href=\"https://colab.research.google.com/github/ymuto0302/base2_2020/blob/master/base2_python4.ipynb\" target=\"_parent\"><img src=\"https://colab.research.google.com/assets/colab-badge.svg\" alt=\"Open In Colab\"/></a>"
      ]
    },
    {
      "cell_type": "markdown",
      "metadata": {
        "id": "jWWhLdUlIRv_",
        "colab_type": "text"
      },
      "source": [
        "# 4.組込型の活用\n",
        "\n",
        "### 4.1. 文字列の活用\n",
        "文字列はダブルクォーテーションまたはシングルクォーテーションで囲んで表現する。\n",
        "- \"Programming\"\n",
        "- 'Programming'\n",
        "\n",
        "Python において文字列は str クラスのインスタンスである。\n",
        "故に，メソッドを有する。\n",
        "\n",
        "以下では文字列に適用できるメソッドを見ていこう。"
      ]
    },
    {
      "cell_type": "code",
      "metadata": {
        "id": "GLWyNwwwIRv_",
        "colab_type": "code",
        "colab": {
          "base_uri": "https://localhost:8080/",
          "height": 107
        },
        "outputId": "39fdbcf6-5da4-44bf-fb6b-0a56fdcc905b"
      },
      "source": [
        "s = \"python programming python\"\n",
        "\n",
        "print(s.upper()) # 文字列を大文字化する\n",
        "print(s.count(\"th\")) # 部分文字列 \"th\" の出現回数を数える\n",
        "print(s.find(\"python\")) # 部分文字列 \"python\" が含まれるか，調べる\n",
        "print(s.replace(\"python\", \"Java\")) # 部分文字列 \"python\" を \"Java\" に置換する\n",
        "print(s.split(' ')) # スペースを区切り文字としてリストへ変換する"
      ],
      "execution_count": 1,
      "outputs": [
        {
          "output_type": "stream",
          "text": [
            "PYTHON PROGRAMMING PYTHON\n",
            "2\n",
            "0\n",
            "Java programming Java\n",
            "['python', 'programming', 'python']\n"
          ],
          "name": "stdout"
        }
      ]
    },
    {
      "cell_type": "markdown",
      "metadata": {
        "id": "P9NZam9bIRwD",
        "colab_type": "text"
      },
      "source": [
        "文字列は「文字のリスト」でもある。\n",
        "故にインデックスやスライスを適用できる。また，len()関数を用いて文字列長が得られる。"
      ]
    },
    {
      "cell_type": "code",
      "metadata": {
        "id": "sSYLAajWIRwE",
        "colab_type": "code",
        "colab": {
          "base_uri": "https://localhost:8080/",
          "height": 89
        },
        "outputId": "54e9f19e-b643-4387-fa81-67d7abf3530e"
      },
      "source": [
        "day_of_week=\"日月火水木金土\"\n",
        "print(\"２文字目を取り出す：{}\".format(day_of_week[1])) # インデックスの利用\n",
        "print(\"２文字目から４文字目を取り出す：{}\".format(day_of_week[1:4])) # スライスの利用\n",
        "print(\"３文字目以降を取り出す：{}\".format(day_of_week[2:])) # スライスの利用\n",
        "print(\"文字列の長さ：{}\".format(len(day_of_week))) # 文字列長を求める"
      ],
      "execution_count": 2,
      "outputs": [
        {
          "output_type": "stream",
          "text": [
            "２文字目を取り出す：月\n",
            "２文字目から４文字目を取り出す：月火水\n",
            "３文字目以降を取り出す：火水木金土\n",
            "文字列の長さ：7\n"
          ],
          "name": "stdout"
        }
      ]
    },
    {
      "cell_type": "markdown",
      "metadata": {
        "id": "nVekZFzJIRwH",
        "colab_type": "text"
      },
      "source": [
        "#### 文字列のフォーマット（文字列への埋め込み)\n",
        "文字列へ数値等を埋め込む場合，一般に format() メソッドを用いて\n",
        "\n",
        "    print(\"値は{0}です\".format(value)\n",
        "    \n",
        "またはインデックス番号を省略して\n",
        "\n",
        "    print(\"値は{}です\".format(value)\n",
        "    \n",
        "とすべきである。"
      ]
    },
    {
      "cell_type": "code",
      "metadata": {
        "id": "kfIRGx43IRwI",
        "colab_type": "code",
        "colab": {
          "base_uri": "https://localhost:8080/",
          "height": 53
        },
        "outputId": "86d585c9-6ec3-4753-f0eb-f2c90bc4a547"
      },
      "source": [
        "print(\"{0}さん，こんにちは。{1}の世界へようこそ！\".format(\"Muto\", \"Python\"))\n",
        "print(\"{}さんの年齢は{}歳です\".format(\"Muto\", 52))"
      ],
      "execution_count": 3,
      "outputs": [
        {
          "output_type": "stream",
          "text": [
            "Mutoさん，こんにちは。Pythonの世界へようこそ！\n",
            "Mutoさんの年齢は52歳です\n"
          ],
          "name": "stdout"
        }
      ]
    },
    {
      "cell_type": "markdown",
      "metadata": {
        "id": "2lAvnW1-IRwM",
        "colab_type": "text"
      },
      "source": [
        "#### 文字列の検索\n",
        "ある文字列に所望の部分文字列が含まれているを調べる方法は２種類ある。\n",
        "- in 演算子の利用\n",
        "- find()メソッドの利用\n",
        "\n",
        "in 演算子は，部分文字列が含まれる場合に True，含まれない場合に False を返す。\n",
        "\n",
        "find() メソッドは部分文字列が位置する（最初の）インデックスを返す。"
      ]
    },
    {
      "cell_type": "code",
      "metadata": {
        "id": "rbtE8B-yIRwN",
        "colab_type": "code",
        "colab": {
          "base_uri": "https://localhost:8080/",
          "height": 53
        },
        "outputId": "c188462d-1174-4613-bfa8-882b541f0d67"
      },
      "source": [
        "str=\"日月火水木金土\"\n",
        "\n",
        "result = \"月火\" in str\n",
        "print(\"in 演算子：{}\".format(result))\n",
        "\n",
        "result = str.find(\"月火\")\n",
        "print(\"find()メソッド：{}\".format(result))"
      ],
      "execution_count": 4,
      "outputs": [
        {
          "output_type": "stream",
          "text": [
            "in 演算子：True\n",
            "find()メソッド：1\n"
          ],
          "name": "stdout"
        }
      ]
    },
    {
      "cell_type": "markdown",
      "metadata": {
        "id": "rau5J2OOIRwS",
        "colab_type": "text"
      },
      "source": [
        "### 4.2. リストの活用\n",
        "- リストの結合／繰り返し\n",
        "- スライスを利用した要素の取り出し\n",
        "- 区切り文字を指定して，リスト化\n",
        "- リストからの要素の検索／ソート"
      ]
    },
    {
      "cell_type": "code",
      "metadata": {
        "scrolled": true,
        "id": "MSqjvlYFIRwS",
        "colab_type": "code",
        "colab": {
          "base_uri": "https://localhost:8080/",
          "height": 53
        },
        "outputId": "b60f31ba-2d21-408c-dd00-b1855a8d014c"
      },
      "source": [
        "# リストの結合 (+演算子)\n",
        "season1 = [\"春\", \"夏\"]\n",
        "season2 = [\"秋\", \"冬\"]\n",
        "print(season1 + season2)\n",
        "\n",
        "# リストの繰り返し\n",
        "season = [\"春\", \"夏\"]\n",
        "print(season * 3)\n"
      ],
      "execution_count": 5,
      "outputs": [
        {
          "output_type": "stream",
          "text": [
            "['春', '夏', '秋', '冬']\n",
            "['春', '夏', '春', '夏', '春', '夏']\n"
          ],
          "name": "stdout"
        }
      ]
    },
    {
      "cell_type": "code",
      "metadata": {
        "id": "XPHzSG8fIRwU",
        "colab_type": "code",
        "colab": {
          "base_uri": "https://localhost:8080/",
          "height": 71
        },
        "outputId": "02353bba-a996-40f4-b4c6-6e6be872087c"
      },
      "source": [
        "# スライスを用いた要素の取り出し\n",
        "# [スライスの書式] リスト[開始位置:終了位置:ステップ数]\n",
        "# [注意] 要素番号(インデックス)はゼロから始まる\n",
        "nums = [\"zero\", \"one\", \"two\", \"three\", \"four\", \"five\", \"six\", \"seven\"]\n",
        "\n",
        "print(nums[1:4]) # 1番目から3番目まで\n",
        "print(nums[2:]) # 2番目以降の全て\n",
        "print(nums[1::2]) # 1番目から最後まで，ステップ数を 2 とする"
      ],
      "execution_count": 6,
      "outputs": [
        {
          "output_type": "stream",
          "text": [
            "['one', 'two', 'three']\n",
            "['two', 'three', 'four', 'five', 'six', 'seven']\n",
            "['one', 'three', 'five', 'seven']\n"
          ],
          "name": "stdout"
        }
      ]
    },
    {
      "cell_type": "code",
      "metadata": {
        "id": "eGYLdQ8wIRwW",
        "colab_type": "code",
        "colab": {
          "base_uri": "https://localhost:8080/",
          "height": 35
        },
        "outputId": "90d56df2-043c-4149-b084-0578b27f159d"
      },
      "source": [
        "# CSV 形式からリストへ変換\n",
        "cities = \"東京,大阪,名古屋,京都,青森\"\n",
        "result = cities.split(',')\n",
        "print(result)"
      ],
      "execution_count": 7,
      "outputs": [
        {
          "output_type": "stream",
          "text": [
            "['東京', '大阪', '名古屋', '京都', '青森']\n"
          ],
          "name": "stdout"
        }
      ]
    },
    {
      "cell_type": "code",
      "metadata": {
        "id": "FmaGiXqtIRwZ",
        "colab_type": "code",
        "colab": {
          "base_uri": "https://localhost:8080/",
          "height": 55
        },
        "outputId": "759ded41-6ab1-429c-db3b-85ad1fc25c81"
      },
      "source": [
        "# 英文から単語の切り出し\n",
        "sentence = \"Either the well was very deep, or she fell very slowly, for she had plenty of time as she went down to look about her and to wonder what was going to happen next\"\n",
        "words = sentence.split(' ')\n",
        "print(words)"
      ],
      "execution_count": 8,
      "outputs": [
        {
          "output_type": "stream",
          "text": [
            "['Either', 'the', 'well', 'was', 'very', 'deep,', 'or', 'she', 'fell', 'very', 'slowly,', 'for', 'she', 'had', 'plenty', 'of', 'time', 'as', 'she', 'went', 'down', 'to', 'look', 'about', 'her', 'and', 'to', 'wonder', 'what', 'was', 'going', 'to', 'happen', 'next']\n"
          ],
          "name": "stdout"
        }
      ]
    },
    {
      "cell_type": "code",
      "metadata": {
        "id": "A-SI4CCUIRwg",
        "colab_type": "code",
        "colab": {
          "base_uri": "https://localhost:8080/",
          "height": 245
        },
        "outputId": "6c1192c8-3985-434a-93b3-f1c104d47e26"
      },
      "source": [
        "# リストからの要素の検索\n",
        "x = [24, 26, 26, 25, 28]\n",
        "\n",
        "# 特定の要素が存在するか否かを True / False で返す\n",
        "print(26 in x)\n",
        "\n",
        "# リスト内の位置(インデックス)を取り出す (注：存在しない要素の場合，ValueError-例外を生成)\n",
        "print(x.index(26))\n",
        "print(x.index(7))"
      ],
      "execution_count": 9,
      "outputs": [
        {
          "output_type": "stream",
          "text": [
            "True\n",
            "1\n"
          ],
          "name": "stdout"
        },
        {
          "output_type": "error",
          "ename": "ValueError",
          "evalue": "ignored",
          "traceback": [
            "\u001b[0;31m---------------------------------------------------------------------------\u001b[0m",
            "\u001b[0;31mValueError\u001b[0m                                Traceback (most recent call last)",
            "\u001b[0;32m<ipython-input-9-55e621de7128>\u001b[0m in \u001b[0;36m<module>\u001b[0;34m()\u001b[0m\n\u001b[1;32m      6\u001b[0m \u001b[0;31m# リスト内の位置(インデックス)を取り出す (注：存在しない要素の場合，ValueError-例外を生成)\u001b[0m\u001b[0;34m\u001b[0m\u001b[0;34m\u001b[0m\u001b[0;34m\u001b[0m\u001b[0m\n\u001b[1;32m      7\u001b[0m \u001b[0mprint\u001b[0m\u001b[0;34m(\u001b[0m\u001b[0mx\u001b[0m\u001b[0;34m.\u001b[0m\u001b[0mindex\u001b[0m\u001b[0;34m(\u001b[0m\u001b[0;36m26\u001b[0m\u001b[0;34m)\u001b[0m\u001b[0;34m)\u001b[0m\u001b[0;34m\u001b[0m\u001b[0;34m\u001b[0m\u001b[0m\n\u001b[0;32m----> 8\u001b[0;31m \u001b[0mprint\u001b[0m\u001b[0;34m(\u001b[0m\u001b[0mx\u001b[0m\u001b[0;34m.\u001b[0m\u001b[0mindex\u001b[0m\u001b[0;34m(\u001b[0m\u001b[0;36m7\u001b[0m\u001b[0;34m)\u001b[0m\u001b[0;34m)\u001b[0m\u001b[0;34m\u001b[0m\u001b[0;34m\u001b[0m\u001b[0m\n\u001b[0m",
            "\u001b[0;31mValueError\u001b[0m: 7 is not in list"
          ]
        }
      ]
    },
    {
      "cell_type": "code",
      "metadata": {
        "id": "8g15VicIIRwi",
        "colab_type": "code",
        "colab": {
          "base_uri": "https://localhost:8080/",
          "height": 53
        },
        "outputId": "40685aa0-9ad0-4eaf-deeb-0e25140839a9"
      },
      "source": [
        "# リストの要素の変更\n",
        "\n",
        "# インデック指定による変更\n",
        "num = [\"zero\", \"one\", \"two\", \"three\", \"four\"]\n",
        "num[1]=\"eleven\"\n",
        "print(num)\n",
        "       \n",
        "# リストの末尾への要素の追加 (append()メソッド)\n",
        "num = [\"zero\", \"one\", \"two\", \"three\", \"four\"]\n",
        "num.append(\"five\")\n",
        "print(num)"
      ],
      "execution_count": 10,
      "outputs": [
        {
          "output_type": "stream",
          "text": [
            "['zero', 'eleven', 'two', 'three', 'four']\n",
            "['zero', 'one', 'two', 'three', 'four', 'five']\n"
          ],
          "name": "stdout"
        }
      ]
    },
    {
      "cell_type": "code",
      "metadata": {
        "id": "vT31CJa-IRwm",
        "colab_type": "code",
        "colab": {
          "base_uri": "https://localhost:8080/",
          "height": 71
        },
        "outputId": "44c1fbe0-303e-42b6-eb65-4752569c3d26"
      },
      "source": [
        "# リスト内要素の順序の反転（元のリストを破壊する）\n",
        "num = [\"zero\", \"one\", \"two\", \"three\", \"four\"]\n",
        "num.reverse()\n",
        "print(num)\n",
        "\n",
        "# リスト内要素の順序の反転（元のリストを破壊しない）\n",
        "num = [\"zero\", \"one\", \"two\", \"three\", \"four\"]\n",
        "reversed_num = list(reversed(num))\n",
        "print(num)\n",
        "print(reversed_num)"
      ],
      "execution_count": 11,
      "outputs": [
        {
          "output_type": "stream",
          "text": [
            "['four', 'three', 'two', 'one', 'zero']\n",
            "['zero', 'one', 'two', 'three', 'four']\n",
            "['four', 'three', 'two', 'one', 'zero']\n"
          ],
          "name": "stdout"
        }
      ]
    },
    {
      "cell_type": "code",
      "metadata": {
        "id": "0yLARxkZIRwo",
        "colab_type": "code",
        "colab": {
          "base_uri": "https://localhost:8080/",
          "height": 71
        },
        "outputId": "d6dcaa85-9fa6-4bc3-a722-1bd45a3dde1a"
      },
      "source": [
        "# リスト内要素のソート（元のリストを破壊する）\n",
        "x = [24, 26, 26, 25, 28]\n",
        "x.sort()  # 昇順ソート\n",
        "print(x)\n",
        "\n",
        "x = [24, 26, 26, 25, 28]\n",
        "x.sort(reverse=True)  # 降順ソート\n",
        "print(x)\n",
        "\n",
        "# リスト内要素のソート（元のリストを破壊しない）\n",
        "x = [24, 26, 26, 25, 28]\n",
        "sorted_x = sorted(x) # 昇順ソート\n",
        "print(sorted_x)"
      ],
      "execution_count": 12,
      "outputs": [
        {
          "output_type": "stream",
          "text": [
            "[24, 25, 26, 26, 28]\n",
            "[28, 26, 26, 25, 24]\n",
            "[24, 25, 26, 26, 28]\n"
          ],
          "name": "stdout"
        }
      ]
    },
    {
      "cell_type": "markdown",
      "metadata": {
        "id": "jGCrpkVVIRwr",
        "colab_type": "text"
      },
      "source": [
        "### 4.3. 辞書の操作\n",
        "Python では「キー：値 (key:value)」のペアを並べたものを「辞書」と呼ぶ。\n",
        "形式は以下の通り：\n",
        "\n",
        "    辞書={キー1:値1, キー2:値2, キー3:値3, ・・・}\n",
        "\n",
        "例えば\n",
        "\n",
        "    # 英語の色名と日本語の色名を紐付ける。\n",
        "    colors = {\"red\":\"赤\", \"blue\":\"青\", \"yellow\":\"黄\"}\n",
        "\n",
        "    # 科目名と成績を紐付ける。\n",
        "    scores = {\"数学\":85, \"国語\":70, \"理科\":85, \"社会\":90, \"英語\":70} \n",
        "    \n",
        "といった使い方ができる。\n",
        "注意すべきは**キーはユニーク，つまり重複があってはならない**ことである。"
      ]
    },
    {
      "cell_type": "code",
      "metadata": {
        "id": "lA2KUB_sIRwr",
        "colab_type": "code",
        "colab": {
          "base_uri": "https://localhost:8080/",
          "height": 89
        },
        "outputId": "1d2590da-9c52-4e1d-e9f8-81a8973e06e6"
      },
      "source": [
        "# 辞書の定義\n",
        "colors = {\"red\":\"赤\", \"blue\":\"青\", \"yellow\":\"黄\"}\n",
        "print(colors)\n",
        "\n",
        "# キーの指定による値の取り出し\n",
        "print(colors[\"blue\"])\n",
        "\n",
        "# 辞書に含まれる要素数を知る (len() 関数)\n",
        "print(len(colors))\n",
        "\n",
        "# キーと値のペアの追加\n",
        "colors[\"green\"]=\"緑\"\n",
        "print(colors)"
      ],
      "execution_count": 13,
      "outputs": [
        {
          "output_type": "stream",
          "text": [
            "{'red': '赤', 'blue': '青', 'yellow': '黄'}\n",
            "青\n",
            "3\n",
            "{'red': '赤', 'blue': '青', 'yellow': '黄', 'green': '緑'}\n"
          ],
          "name": "stdout"
        }
      ]
    },
    {
      "cell_type": "code",
      "metadata": {
        "id": "FV8WZtGcIRwt",
        "colab_type": "code",
        "colab": {
          "base_uri": "https://localhost:8080/",
          "height": 53
        },
        "outputId": "97d33b73-2368-478f-f7de-1a0eb10e8e8e"
      },
      "source": [
        "# 最初に空っぽの辞書と作ってから，キーと値のペアを追加\n",
        "fruits = dict()      # fruits = {} でもOK\n",
        "print(fruits)\n",
        "\n",
        "fruits[\"apple\"]=\"りんご\"\n",
        "fruits[\"orange\"]=\"オレンジ\"\n",
        "print(fruits)"
      ],
      "execution_count": 14,
      "outputs": [
        {
          "output_type": "stream",
          "text": [
            "{}\n",
            "{'apple': 'りんご', 'orange': 'オレンジ'}\n"
          ],
          "name": "stdout"
        }
      ]
    },
    {
      "cell_type": "code",
      "metadata": {
        "id": "Cke_cPprIRwv",
        "colab_type": "code",
        "colab": {
          "base_uri": "https://localhost:8080/",
          "height": 287
        },
        "outputId": "0f847ce1-5e35-4ec1-c4f7-062f17ce8801"
      },
      "source": [
        "# 辞書からキーの一覧／値の一覧／キーと値のペアの一覧を取り出す\n",
        "colors = {\"red\": \"赤\", \"blue\": \"青\", \"yellow\": \"黄\", \"green\": \"緑\", \"purple\": \"紫\"}\n",
        "\n",
        "print(colors.keys()) # キーの一覧\n",
        "print(colors.values()) # 値の一覧\n",
        "print(colors.items()) # キーと値のペア一覧\n",
        "\n",
        "# keys() メソッドの利用\n",
        "print(\"=== keys() メソッドの利用 ===\")\n",
        "for key in colors.keys():\n",
        "    print(\"{} の日本語訳は {}\".format(key, colors[key]))\n",
        "    \n",
        "# items() メソッドの利用\n",
        "print(\"=== items() メソッドの利用 ===\")\n",
        "for en, jp in colors.items():\n",
        "    print(\"{} の日本語訳は {}\".format(en, jp))"
      ],
      "execution_count": 15,
      "outputs": [
        {
          "output_type": "stream",
          "text": [
            "dict_keys(['red', 'blue', 'yellow', 'green', 'purple'])\n",
            "dict_values(['赤', '青', '黄', '緑', '紫'])\n",
            "dict_items([('red', '赤'), ('blue', '青'), ('yellow', '黄'), ('green', '緑'), ('purple', '紫')])\n",
            "=== keys() メソッドの利用 ===\n",
            "red の日本語訳は 赤\n",
            "blue の日本語訳は 青\n",
            "yellow の日本語訳は 黄\n",
            "green の日本語訳は 緑\n",
            "purple の日本語訳は 紫\n",
            "=== items() メソッドの利用 ===\n",
            "red の日本語訳は 赤\n",
            "blue の日本語訳は 青\n",
            "yellow の日本語訳は 黄\n",
            "green の日本語訳は 緑\n",
            "purple の日本語訳は 紫\n"
          ],
          "name": "stdout"
        }
      ]
    },
    {
      "cell_type": "markdown",
      "metadata": {
        "id": "S1VMHnIpIRwz",
        "colab_type": "text"
      },
      "source": [
        "### 4.4. リスト内包表記\n",
        "内包表記 (comprehension) は，初学者は無理して使わないでよいが，他者の書いたコードを読む際に必要な知識となる。\n",
        "\n",
        "形式は以下のとおり：\n",
        "```\n",
        "[式 for 変数 in イテレート可能なオブジェクト (if 条件式)]\n",
        "```  \n",
        "ここで条件式とは「イテレート可能なオブジェクト」からどれを取り出すかを指定するものである。"
      ]
    },
    {
      "cell_type": "code",
      "metadata": {
        "id": "zLHBgcvTIRw0",
        "colab_type": "code",
        "colab": {
          "base_uri": "https://localhost:8080/",
          "height": 53
        },
        "outputId": "5cd4ac37-d0be-4a47-9330-20cb210fb278"
      },
      "source": [
        "# ドルから円に換算 (ベタな表記)\n",
        "yen = []\n",
        "dollar = [100, 1000, 10000]\n",
        "rate = 108.42\n",
        "for d in dollar:\n",
        "    yen.append(d*rate)\n",
        "print(yen)\n",
        "\n",
        "# ドルから円に換算 (リスト内包表記の利用)\n",
        "dollar = [100, 1000, 10000]\n",
        "rate = 108.42\n",
        "yen = [d * rate for d in dollar]\n",
        "print(yen)"
      ],
      "execution_count": 16,
      "outputs": [
        {
          "output_type": "stream",
          "text": [
            "[10842.0, 108420.0, 1084200.0]\n",
            "[10842.0, 108420.0, 1084200.0]\n"
          ],
          "name": "stdout"
        }
      ]
    },
    {
      "cell_type": "code",
      "metadata": {
        "id": "S1Zl4Z9vIRw1",
        "colab_type": "code",
        "colab": {
          "base_uri": "https://localhost:8080/",
          "height": 53
        },
        "outputId": "8f788a5f-5584-4e89-e9a6-85c9087ad033"
      },
      "source": [
        "# １～９の数値を３倍する (ベタな表記)\n",
        "nums = []\n",
        "for x in range(0,10):\n",
        "    nums.append(x*3)\n",
        "print(nums)\n",
        "\n",
        "# １～９の数値を３倍する (リスト内包表記の利用)\n",
        "nums = [x*3 for x in range(0,10)]\n",
        "print(nums)"
      ],
      "execution_count": 17,
      "outputs": [
        {
          "output_type": "stream",
          "text": [
            "[0, 3, 6, 9, 12, 15, 18, 21, 24, 27]\n",
            "[0, 3, 6, 9, 12, 15, 18, 21, 24, 27]\n"
          ],
          "name": "stdout"
        }
      ]
    },
    {
      "cell_type": "code",
      "metadata": {
        "id": "IEM4NAkuIRw3",
        "colab_type": "code",
        "colab": {
          "base_uri": "https://localhost:8080/",
          "height": 53
        },
        "outputId": "78d8bb46-20d0-4eb6-9fef-c27864f22856"
      },
      "source": [
        "# 数値列から３の倍数のみを取り出す (ベタな表記)\n",
        "nums = [84, 90, 27, 13, 97, 47, 2, 16, 10, 10, 45, 52, 32, 21, 37, 93, 89, 43, 10, 65]\n",
        "output = []\n",
        "for x in nums:\n",
        "    if x % 3 == 0:\n",
        "         output.append(x)\n",
        "print(output)\n",
        "\n",
        "# 数値列から３の倍数のみを取り出す (リスト内包表記の利用)\n",
        "nums = [84, 90, 27, 13, 97, 47, 2, 16, 10, 10, 45, 52, 32, 21, 37, 93, 89, 43, 10, 65]\n",
        "output = [x for x in nums if x % 3 == 0]\n",
        "print(output)"
      ],
      "execution_count": 18,
      "outputs": [
        {
          "output_type": "stream",
          "text": [
            "[84, 90, 27, 45, 21, 93]\n",
            "[84, 90, 27, 45, 21, 93]\n"
          ],
          "name": "stdout"
        }
      ]
    },
    {
      "cell_type": "code",
      "metadata": {
        "id": "6KsdpZXLIRw7",
        "colab_type": "code",
        "colab": {
          "base_uri": "https://localhost:8080/",
          "height": 53
        },
        "outputId": "b1614f44-7346-4ce7-aadb-7670d323eee9"
      },
      "source": [
        "# 山口県の市名のみを得る (ベタな表記)\n",
        "addresses = [\"山口県 宇部市\", \"山口県 山陽小野田市\", \"山口県 下関市\",\n",
        "             \"福岡県 福岡市\", \"福岡県 北九州市\", \"福岡県 太宰府市\"]\n",
        "output = []\n",
        "for address in addresses:\n",
        "    if address.startswith(\"山口県\"):\n",
        "        output.append(address.split(' ')[1])\n",
        "print(output)\n",
        "\n",
        "# 山口県の市名のみを得る (リスト内包表記の利用)\n",
        "addresses = [\"山口県 宇部市\", \"山口県 山陽小野田市\", \"山口県 下関市\",\n",
        "             \"福岡県 福岡市\", \"福岡県 北九州市\", \"福岡県 太宰府市\"]\n",
        "output = [address.split(' ')[1] for address in addresses if address.startswith(\"山口県\")]\n",
        "print(output)"
      ],
      "execution_count": 19,
      "outputs": [
        {
          "output_type": "stream",
          "text": [
            "['宇部市', '山陽小野田市', '下関市']\n",
            "['宇部市', '山陽小野田市', '下関市']\n"
          ],
          "name": "stdout"
        }
      ]
    }
  ]
}