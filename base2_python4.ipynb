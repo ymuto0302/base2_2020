{
  "nbformat": 4,
  "nbformat_minor": 0,
  "metadata": {
    "celltoolbar": "Slideshow",
    "kernelspec": {
      "display_name": "Python 3",
      "language": "python",
      "name": "python3"
    },
    "language_info": {
      "codemirror_mode": {
        "name": "ipython",
        "version": 3
      },
      "file_extension": ".py",
      "mimetype": "text/x-python",
      "name": "python",
      "nbconvert_exporter": "python",
      "pygments_lexer": "ipython3",
      "version": "3.6.5"
    },
    "colab": {
      "name": "base2_python4.ipynb",
      "provenance": [],
      "collapsed_sections": [],
      "include_colab_link": true
    }
  },
  "cells": [
    {
      "cell_type": "markdown",
      "metadata": {
        "id": "view-in-github",
        "colab_type": "text"
      },
      "source": [
        "<a href=\"https://colab.research.google.com/github/ymuto0302/base2_2020/blob/master/base2_python4.ipynb\" target=\"_parent\"><img src=\"https://colab.research.google.com/assets/colab-badge.svg\" alt=\"Open In Colab\"/></a>"
      ]
    },
    {
      "cell_type": "markdown",
      "metadata": {
        "id": "jWWhLdUlIRv_",
        "colab_type": "text"
      },
      "source": [
        "# 4.組込型の活用\n",
        "\n",
        "### 4.1. 文字列の活用\n",
        "文字列はダブルクォーテーションまたはシングルクォーテーションで囲んで表現する。\n",
        "- \"Programming\"\n",
        "- 'Programming'\n",
        "\n",
        "Python において文字列は str クラスのインスタンスである。\n",
        "故に，メソッドを有する。\n",
        "\n",
        "以下では文字列に適用できるメソッドを見ていこう。"
      ]
    },
    {
      "cell_type": "code",
      "metadata": {
        "id": "GLWyNwwwIRv_",
        "colab_type": "code",
        "colab": {}
      },
      "source": [
        "s = \"python programming python\"\n",
        "\n",
        "print(s.upper()) # 文字列を大文字化する\n",
        "print(s.count(\"th\")) # 部分文字列 \"th\" の出現回数を数える\n",
        "print(s.find(\"python\")) # 部分文字列 \"python\" が含まれるか，調べる\n",
        "print(s.replace(\"python\", \"Java\")) # 部分文字列 \"python\" を \"Java\" に置換する\n",
        "print(s.split(' ')) # スペースを区切り文字としてリストへ変換する"
      ],
      "execution_count": 0,
      "outputs": []
    },
    {
      "cell_type": "markdown",
      "metadata": {
        "id": "P9NZam9bIRwD",
        "colab_type": "text"
      },
      "source": [
        "文字列は「文字のリスト」でもある。\n",
        "故にインデックスやスライスを適用できる。また，len()関数を用いて文字列長が得られる。"
      ]
    },
    {
      "cell_type": "code",
      "metadata": {
        "id": "sSYLAajWIRwE",
        "colab_type": "code",
        "colab": {}
      },
      "source": [
        "day_of_week=\"日月火水木金土\"\n",
        "print(\"２文字目を取り出す：{}\".format(day_of_week[1])) # インデックスの利用\n",
        "print(\"２文字目から４文字目を取り出す：{}\".format(day_of_week[1:4])) # スライスの利用\n",
        "print(\"３文字目以降を取り出す：{}\".format(day_of_week[2:])) # スライスの利用\n",
        "print(\"文字列の長さ：{}\".format(len(day_of_week))) # 文字列長を求める"
      ],
      "execution_count": 0,
      "outputs": []
    },
    {
      "cell_type": "markdown",
      "metadata": {
        "id": "nVekZFzJIRwH",
        "colab_type": "text"
      },
      "source": [
        "#### 文字列のフォーマット（文字列への埋め込み)\n",
        "テキストの序盤にて数値を表示する際，\n",
        "\n",
        "    print(\"値は\" + str(value) + \"です\")\n",
        "    \n",
        "という形が示されているが，この記法は褒められたものでない。\n",
        "\n",
        "一般に format() メソッドを用いて\n",
        "\n",
        "    print(\"値は{0}です\".format(value)\n",
        "    \n",
        "とすべきである。"
      ]
    },
    {
      "cell_type": "code",
      "metadata": {
        "id": "kfIRGx43IRwI",
        "colab_type": "code",
        "colab": {}
      },
      "source": [
        "print(\"{0}さん，こんにちは。{1}の世界へようこそ！\".format(\"Muto\", \"Python\"))\n",
        "print(\"{}さんの年齢は{}歳です\".format(\"Muto\", 52))"
      ],
      "execution_count": 0,
      "outputs": []
    },
    {
      "cell_type": "markdown",
      "metadata": {
        "id": "2lAvnW1-IRwM",
        "colab_type": "text"
      },
      "source": [
        "#### 文字列の検索\n",
        "ある文字列に所望の部分文字列が含まれているを調べる方法は２種類ある。\n",
        "- in 演算子の利用\n",
        "- find()メソッドの利用\n",
        "\n",
        "in 演算子は，部分文字列が含まれる場合に True，含まれない場合に False を返す。\n",
        "\n",
        "find() メソッドは部分文字列が位置する（最初の）インデックスを返す。"
      ]
    },
    {
      "cell_type": "code",
      "metadata": {
        "id": "rbtE8B-yIRwN",
        "colab_type": "code",
        "colab": {}
      },
      "source": [
        "str=\"日月火水木金土\"\n",
        "\n",
        "result = \"月火\" in str\n",
        "print(\"in 演算子：{}\".format(result))\n",
        "\n",
        "result = str.find(\"月火\")\n",
        "print(\"find()メソッド：{}\".format(result))"
      ],
      "execution_count": 0,
      "outputs": []
    },
    {
      "cell_type": "markdown",
      "metadata": {
        "id": "rau5J2OOIRwS",
        "colab_type": "text"
      },
      "source": [
        "### 4.2. リストの活用\n",
        "- リストの結合／繰り返し\n",
        "- スライスを利用した要素の取り出し\n",
        "- 区切り文字を指定して，リスト化\n",
        "- リストからの要素の検索／ソート"
      ]
    },
    {
      "cell_type": "code",
      "metadata": {
        "scrolled": true,
        "id": "MSqjvlYFIRwS",
        "colab_type": "code",
        "colab": {}
      },
      "source": [
        "# リストの結合 (+演算子)\n",
        "season1 = [\"春\", \"夏\"]\n",
        "season2 = [\"秋\", \"冬\"]\n",
        "print(season1 + season2)\n",
        "\n",
        "# リストの繰り返し\n",
        "season = [\"春\", \"夏\"]\n",
        "print(season * 3)\n"
      ],
      "execution_count": 0,
      "outputs": []
    },
    {
      "cell_type": "code",
      "metadata": {
        "id": "XPHzSG8fIRwU",
        "colab_type": "code",
        "colab": {}
      },
      "source": [
        "# スライスを用いた要素の取り出し\n",
        "# [スライスの書式] リスト[開始位置:終了位置:ステップ数]\n",
        "# [注意] 要素番号(インデックス)はゼロから始まる\n",
        "nums = [\"zero\", \"one\", \"two\", \"three\", \"four\", \"five\", \"six\", \"seven\"]\n",
        "\n",
        "print(nums[1:4]) # 1番目から3番目まで\n",
        "print(nums[2:]) # 2番目以降の全て\n",
        "print(nums[1::2]) # 1番目から最後まで，ステップ数を 2 とする"
      ],
      "execution_count": 0,
      "outputs": []
    },
    {
      "cell_type": "code",
      "metadata": {
        "id": "eGYLdQ8wIRwW",
        "colab_type": "code",
        "colab": {}
      },
      "source": [
        "# CSV 形式からリストへ変換\n",
        "cities = \"東京,大阪,名古屋,京都,青森\"\n",
        "result = cities.split(',')\n",
        "print(result)"
      ],
      "execution_count": 0,
      "outputs": []
    },
    {
      "cell_type": "code",
      "metadata": {
        "id": "FmaGiXqtIRwZ",
        "colab_type": "code",
        "colab": {}
      },
      "source": [
        "# 英文から単語の切り出し\n",
        "sentence = \"Either the well was very deep, or she fell very slowly, for she had plenty of time as she went down to look about her and to wonder what was going to happen next\"\n",
        "words = sentence.split(' ')\n",
        "print(words)"
      ],
      "execution_count": 0,
      "outputs": []
    },
    {
      "cell_type": "code",
      "metadata": {
        "id": "A-SI4CCUIRwg",
        "colab_type": "code",
        "colab": {}
      },
      "source": [
        "# リストからの要素の検索\n",
        "x = [24, 26, 26, 25, 28]\n",
        "\n",
        "# 特定の要素が存在するか否かを True / False で返す\n",
        "print(26 in x)\n",
        "\n",
        "# リスト内の位置(インデックス)を取り出す (注：存在しない要素の場合，ValueError-例外を生成)\n",
        "print(x.index(26))\n",
        "print(x.index(7))"
      ],
      "execution_count": 0,
      "outputs": []
    },
    {
      "cell_type": "code",
      "metadata": {
        "id": "8g15VicIIRwi",
        "colab_type": "code",
        "colab": {}
      },
      "source": [
        "# リストの要素の変更\n",
        "\n",
        "# インデック指定による変更\n",
        "num = [\"zero\", \"one\", \"two\", \"three\", \"four\"]\n",
        "num[1]=\"eleven\"\n",
        "print(num)\n",
        "       \n",
        "# リストの末尾への要素の追加 (append()メソッド)\n",
        "num = [\"zero\", \"one\", \"two\", \"three\", \"four\"]\n",
        "num.append(\"five\")\n",
        "print(num)"
      ],
      "execution_count": 0,
      "outputs": []
    },
    {
      "cell_type": "code",
      "metadata": {
        "id": "vT31CJa-IRwm",
        "colab_type": "code",
        "colab": {}
      },
      "source": [
        "# リスト内要素の順序の反転（元のリストを破壊する）\n",
        "num = [\"zero\", \"one\", \"two\", \"three\", \"four\"]\n",
        "num.reverse()\n",
        "print(num)\n",
        "\n",
        "# リスト内要素の順序の反転（元のリストを破壊しない）\n",
        "num = [\"zero\", \"one\", \"two\", \"three\", \"four\"]\n",
        "reversed_num = list(reversed(num))\n",
        "print(num)\n",
        "print(reversed_num)"
      ],
      "execution_count": 0,
      "outputs": []
    },
    {
      "cell_type": "code",
      "metadata": {
        "id": "0yLARxkZIRwo",
        "colab_type": "code",
        "colab": {}
      },
      "source": [
        "# リスト内要素のソート（元のリストを破壊する）\n",
        "x = [24, 26, 26, 25, 28]\n",
        "x.sort()  # 昇順ソート\n",
        "print(x)\n",
        "\n",
        "x = [24, 26, 26, 25, 28]\n",
        "x.sort(reverse=True)  # 降順ソート\n",
        "print(x)\n",
        "\n",
        "# リスト内要素のソート（元のリストを破壊しない）\n",
        "x = [24, 26, 26, 25, 28]\n",
        "sorted_x = sorted(x) # 昇順ソート\n",
        "print(sorted_x)"
      ],
      "execution_count": 0,
      "outputs": []
    },
    {
      "cell_type": "markdown",
      "metadata": {
        "id": "jGCrpkVVIRwr",
        "colab_type": "text"
      },
      "source": [
        "### 4.3. 辞書の操作\n",
        "Python では「キー：値 (key:value)」のペアを並べたものを「辞書」と呼ぶ。\n",
        "形式は以下の通り：\n",
        "\n",
        "    辞書={キー1:値1, キー2:値2, キー3:値3, ・・・}\n",
        "\n",
        "例えば\n",
        "\n",
        "    # 英語の色名と日本語の色名を紐付ける。\n",
        "    colors = {\"red\":\"赤\", \"blue\":\"青\", \"yellow\":\"黄\"}\n",
        "\n",
        "    # 科目名と成績を紐付ける。\n",
        "    scores = {\"数学\":85, \"国語\":70, \"理科\":85, \"社会\":90, \"英語\":70} \n",
        "    \n",
        "といった使い方ができる。\n",
        "注意すべきは**キーはユニーク，つまり重複があってはならない**ことである。"
      ]
    },
    {
      "cell_type": "code",
      "metadata": {
        "id": "lA2KUB_sIRwr",
        "colab_type": "code",
        "colab": {}
      },
      "source": [
        "# 辞書の定義\n",
        "colors = {\"red\":\"赤\", \"blue\":\"青\", \"yellow\":\"黄\"}\n",
        "print(colors)\n",
        "\n",
        "# キーの指定による値の取り出し\n",
        "print(colors[\"blue\"])\n",
        "\n",
        "# 辞書に含まれる要素数を知る (len() 関数)\n",
        "print(len(colors))\n",
        "\n",
        "# キーと値のペアの追加\n",
        "colors[\"green\"]=\"緑\"\n",
        "print(colors)"
      ],
      "execution_count": 0,
      "outputs": []
    },
    {
      "cell_type": "code",
      "metadata": {
        "id": "FV8WZtGcIRwt",
        "colab_type": "code",
        "colab": {}
      },
      "source": [
        "# 最初に空っぽの辞書と作ってから，キーと値のペアを追加\n",
        "fruits = dict()      # fruits = {} でもOK\n",
        "print(fruits)\n",
        "\n",
        "fruits[\"apple\"]=\"りんご\"\n",
        "fruits[\"orange\"]=\"オレンジ\"\n",
        "print(fruits)"
      ],
      "execution_count": 0,
      "outputs": []
    },
    {
      "cell_type": "code",
      "metadata": {
        "id": "Cke_cPprIRwv",
        "colab_type": "code",
        "colab": {}
      },
      "source": [
        "# 辞書からキーの一覧／値の一覧／キーと値のペアの一覧を取り出す\n",
        "colors = {\"red\": \"赤\", \"blue\": \"青\", \"yellow\": \"黄\", \"green\": \"緑\", \"purple\": \"紫\"}\n",
        "\n",
        "print(colors.keys()) # キーの一覧\n",
        "print(colors.values()) # 値の一覧\n",
        "print(colors.items()) # キーと値のペア一覧\n",
        "\n",
        "# keys() メソッドの利用\n",
        "print(\"=== keys() メソッドの利用 ===\")\n",
        "for key in colors.keys():\n",
        "    print(\"{} の日本語訳は {}\".format(key, colors[key]))\n",
        "    \n",
        "# items() メソッドの利用\n",
        "print(\"=== items() メソッドの利用 ===\")\n",
        "for en, jp in colors.items():\n",
        "    print(\"{} の日本語訳は {}\".format(en, jp))"
      ],
      "execution_count": 0,
      "outputs": []
    },
    {
      "cell_type": "markdown",
      "metadata": {
        "id": "S1VMHnIpIRwz",
        "colab_type": "text"
      },
      "source": [
        "### 4.4. リスト内包表記\n",
        "内包表記 (comprehension) は，初学者は無理して使わないでよいが，他者の書いたコードを読む際に必要な知識となる。\n",
        "\n",
        "形式は以下のとおり：\n",
        "```\n",
        "[式 for 変数 in イテレート可能なオブジェクト (if 条件式)]\n",
        "```  \n",
        "ここで条件式とは「イテレート可能なオブジェクト」からどれを取り出すかを指定するものである。"
      ]
    },
    {
      "cell_type": "code",
      "metadata": {
        "id": "zLHBgcvTIRw0",
        "colab_type": "code",
        "colab": {}
      },
      "source": [
        "# ドルから円に換算 (ベタな表記)\n",
        "yen = []\n",
        "dollar = [100, 1000, 10000]\n",
        "rate = 108.42\n",
        "for d in dollar:\n",
        "    yen.append(d*rate)\n",
        "print(yen)\n",
        "\n",
        "# ドルから円に換算 (リスト内包表記の利用)\n",
        "dollar = [100, 1000, 10000]\n",
        "rate = 108.42\n",
        "yen = [d * rate for d in dollar]\n",
        "print(yen)"
      ],
      "execution_count": 0,
      "outputs": []
    },
    {
      "cell_type": "code",
      "metadata": {
        "id": "S1Zl4Z9vIRw1",
        "colab_type": "code",
        "colab": {}
      },
      "source": [
        "# １～９の数値を３倍する (ベタな表記)\n",
        "nums = []\n",
        "for x in range(0,10):\n",
        "    nums.append(x*3)\n",
        "print(nums)\n",
        "\n",
        "# １～９の数値を３倍する (リスト内包表記の利用)\n",
        "nums = [x*3 for x in range(0,10)]\n",
        "print(nums)"
      ],
      "execution_count": 0,
      "outputs": []
    },
    {
      "cell_type": "code",
      "metadata": {
        "id": "IEM4NAkuIRw3",
        "colab_type": "code",
        "colab": {}
      },
      "source": [
        "# 数値列から３の倍数のみを取り出す (ベタな表記)\n",
        "nums = [84, 90, 27, 13, 97, 47, 2, 16, 10, 10, 45, 52, 32, 21, 37, 93, 89, 43, 10, 65]\n",
        "output = []\n",
        "for x in nums:\n",
        "    if x % 3 == 0:\n",
        "         output.append(x)\n",
        "print(output)\n",
        "\n",
        "# 数値列から３の倍数のみを取り出す (リスト内包表記の利用)\n",
        "nums = [84, 90, 27, 13, 97, 47, 2, 16, 10, 10, 45, 52, 32, 21, 37, 93, 89, 43, 10, 65]\n",
        "output = [x for x in nums if x % 3 == 0]\n",
        "print(output)"
      ],
      "execution_count": 0,
      "outputs": []
    },
    {
      "cell_type": "code",
      "metadata": {
        "id": "6KsdpZXLIRw7",
        "colab_type": "code",
        "colab": {}
      },
      "source": [
        "# 山口県の市名のみを得る (ベタな表記)\n",
        "addresses = [\"山口県 宇部市\", \"山口県 山陽小野田市\", \"山口県 下関市\",\n",
        "             \"福岡県 福岡市\", \"福岡県 北九州市\", \"福岡県 太宰府市\"]\n",
        "output = []\n",
        "for address in addresses:\n",
        "    if address.startswith(\"山口県\"):\n",
        "        output.append(address.split(' ')[1])\n",
        "print(output)\n",
        "\n",
        "# 山口県の市名のみを得る (リスト内包表記の利用)\n",
        "addresses = [\"山口県 宇部市\", \"山口県 山陽小野田市\", \"山口県 下関市\",\n",
        "             \"福岡県 福岡市\", \"福岡県 北九州市\", \"福岡県 太宰府市\"]\n",
        "output = [address.split(' ')[1] for address in addresses if address.startswith(\"山口県\")]\n",
        "print(output)"
      ],
      "execution_count": 0,
      "outputs": []
    }
  ]
}