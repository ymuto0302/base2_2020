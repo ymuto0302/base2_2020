{
  "nbformat": 4,
  "nbformat_minor": 0,
  "metadata": {
    "celltoolbar": "Slideshow",
    "kernelspec": {
      "display_name": "Python 3",
      "language": "python",
      "name": "python3"
    },
    "language_info": {
      "codemirror_mode": {
        "name": "ipython",
        "version": 3
      },
      "file_extension": ".py",
      "mimetype": "text/x-python",
      "name": "python",
      "nbconvert_exporter": "python",
      "pygments_lexer": "ipython3",
      "version": "3.6.5"
    },
    "colab": {
      "name": "base2_python6.ipynb",
      "provenance": [],
      "collapsed_sections": [
        "2RAcWfdSIRxr",
        "VqwTq6YPIRxv",
        "yp-crTagIRx2",
        "jWWwlO9qIRx5",
        "Iy04MpMXIRx6",
        "XoUMgpLfIRx9"
      ],
      "include_colab_link": true
    }
  },
  "cells": [
    {
      "cell_type": "markdown",
      "metadata": {
        "id": "view-in-github",
        "colab_type": "text"
      },
      "source": [
        "<a href=\"https://colab.research.google.com/github/ymuto0302/base2_2020/blob/master/base2_python6.ipynb\" target=\"_parent\"><img src=\"https://colab.research.google.com/assets/colab-badge.svg\" alt=\"Open In Colab\"/></a>"
      ]
    },
    {
      "cell_type": "markdown",
      "metadata": {
        "id": "Mo2Fs2pZIRxZ",
        "colab_type": "text"
      },
      "source": [
        "# 6. テキストファイルの読み書き\n",
        "ファイルのタイプは「テキストファイル」と「バイナリファイル」に大別される。\n",
        "- テキストファイル：人間が読める状態のファイル（例：メモ帳やエディタで作成したファイル）\n",
        "- バイナリファイル：アプリケーション独自のフォーマットで記述されたファイル（例：Word や Excel のファイル）\n",
        "\n",
        "## 6.1. テキストファイルからの読み込み\n",
        "Python でのテキストファイルからの読み込みは２つのパターンに分かれる。\n",
        "- ファイルから全てのデータを一気に読み込む (read() / readlines())\n",
        "- ファイルからデータを１行ずつ読み込む (readline())\n"
      ]
    },
    {
      "cell_type": "markdown",
      "metadata": {
        "id": "QptlXib0IRxZ",
        "colab_type": "text"
      },
      "source": [
        "#### readlines()メソッドを用いた読み込み\n",
        "多用されるのが readlines() メソッドであり，ファイル中の各行をリストの要素とする。\n",
        "\n",
        "また，読み込んだ後の処理の円滑化のため，rstrip('\\n')がよく用いられる。"
      ]
    },
    {
      "cell_type": "code",
      "metadata": {
        "id": "d_lFiH9BIRxZ",
        "colab_type": "code",
        "colab": {}
      },
      "source": [
        "f = open(\"sample.txt\", \"r\", encoding=\"utf-8\")\n",
        "for line in f.readlines():\n",
        "    line = line.rstrip('\\n')   # 改行文字の除去\n",
        "    print(line) # 変数 line には改行文字が含まれない\n",
        "f.close()"
      ],
      "execution_count": 0,
      "outputs": []
    },
    {
      "cell_type": "markdown",
      "metadata": {
        "id": "348yTGy9IRxb",
        "colab_type": "text"
      },
      "source": [
        "#### readline()メソッドを用いた読み込み\n",
        "readlines() メソッドは全てのデータを一気読みするためメモリを圧迫する。\n",
        "\n",
        "そこで１行ずつデータを読み込むメソッドが readline() である。\n",
        "\n",
        "readline() メソッドは，ファイルの終端(EOF = End Of File) に至った場合，空文字列 “” を返す。故に，以下のように if 文により while ループを脱出するのが常套手段である。"
      ]
    },
    {
      "cell_type": "code",
      "metadata": {
        "id": "soHEMgGmIRxc",
        "colab_type": "code",
        "colab": {}
      },
      "source": [
        "f = open(\"sample.txt\", \"r\", encoding=\"utf-8\")\n",
        "while True:\n",
        "    line = f.readline()\n",
        "    if line == \"\": break\n",
        "    line = line.rstrip('\\n')\n",
        "    print(line)\n",
        "f.close()"
      ],
      "execution_count": 0,
      "outputs": []
    },
    {
      "cell_type": "markdown",
      "metadata": {
        "id": "zNGwUqulIRxd",
        "colab_type": "text"
      },
      "source": [
        "#### with 構文を用いたファイル処理のスマート化\n",
        "- ファイルを開き，処理した後，close() し忘れるケースが多々ある。 \n",
        "- こんな場合に便利なのが with 構文であり，close() 処理を省略できる。with 構文を抜けると，自動的に close() を呼び出してくれる。"
      ]
    },
    {
      "cell_type": "code",
      "metadata": {
        "id": "5XZqJHwKIRxe",
        "colab_type": "code",
        "colab": {}
      },
      "source": [
        "with open(\"sample.txt\", \"r\", encoding=\"utf-8\") as f:\n",
        "    for line in f.readlines():\n",
        "        line = line.rstrip('\\n')\n",
        "        print(line)"
      ],
      "execution_count": 0,
      "outputs": []
    },
    {
      "cell_type": "markdown",
      "metadata": {
        "id": "NrBPheGHIRxf",
        "colab_type": "text"
      },
      "source": [
        "## 6.2. テキストファイルへの書き込み\n",
        "Python でのテキストファイルへの書き込みは２つのパターンに分かれる。\n",
        "- データを１行ずつファイルへ書き込む (write())\n",
        "- リストに格納されたデータを一気にファイルへ書き込む (writelines())"
      ]
    },
    {
      "cell_type": "markdown",
      "metadata": {
        "id": "F5v3I1caIRxg",
        "colab_type": "text"
      },
      "source": [
        "#### write()メソッドを用いた書き込み\n",
        "write()メソッドで書き込めるのは文字列のみである。\n",
        "故に整数や実数を書き込む場合，予め str() 関数を用いて文字列に変換する必要がある。\n",
        "\n",
        "また，改行文字を明示的に書き込まねばならない点にも注意が必要である。\n",
        "\n",
        "モードは \"w\"(write)と \"a\"(append) の２種類である。\n",
        "\n",
        "書き込む先のファイルが存在しない場合，いずれのモードも同じ動きをする。\n",
        "\n",
        "一方，既に(書き込む先の)ファイルが存在する場合，\n",
        "- write モードでの書き込み → 上書き（以前の内容は消える）\n",
        "- append モードでの書き込み → 以前の状態に追加\n",
        "\n"
      ]
    },
    {
      "cell_type": "code",
      "metadata": {
        "id": "R4Eo5P7oIRxg",
        "colab_type": "code",
        "colab": {}
      },
      "source": [
        "f = open(\"out.txt\", \"w\", encoding=\"utf-8\")\n",
        "f.write(\"ようこそ\\n\")\n",
        "f.write(\"Python の世界へ\\n\")\n",
        "f.write(str(2020)+\"\\n\")\n",
        "f.close()"
      ],
      "execution_count": 0,
      "outputs": []
    },
    {
      "cell_type": "code",
      "metadata": {
        "id": "d5DBPO10IRxi",
        "colab_type": "code",
        "colab": {}
      },
      "source": [
        "# with 文を用いたスマート可も可能である。\n",
        "with open(\"out.txt\", \"w\", encoding=\"utf-8\") as f:\n",
        "    f.write(\"ようこそ\\n\")\n",
        "    f.write(\"Python の世界へ\\n\")\n",
        "    f.write(str(2020)+\"\\n\")"
      ],
      "execution_count": 0,
      "outputs": []
    },
    {
      "cell_type": "code",
      "metadata": {
        "id": "MyXplyNjIRxk",
        "colab_type": "code",
        "colab": {}
      },
      "source": [
        "# append モードを用いた追加\n",
        "with open(\"out.txt\", \"a\", encoding=\"utf-8\") as f:\n",
        "    f.write(\"どっこい\\n\")"
      ],
      "execution_count": 0,
      "outputs": []
    },
    {
      "cell_type": "markdown",
      "metadata": {
        "id": "FGjZmhKIIRxp",
        "colab_type": "text"
      },
      "source": [
        "#### writelines()メソッドを用いた書き込み\n",
        "リストに格納されたデータを一気にファイルへ書き込む際，witelines() メソッドを用いる。\n",
        "\n",
        "この場合も改行文字を適宜，ケアする必要がある。\n",
        "(以下の例では「改行文字列付き文字列のリスト」を予め作成し，対処している）"
      ]
    },
    {
      "cell_type": "code",
      "metadata": {
        "id": "LU5LhytGIRxp",
        "colab_type": "code",
        "colab": {}
      },
      "source": [
        "weekdays = [\"月曜日\", \"火曜日\", \"水曜日\", \"木曜日\", \"金曜日\", \"土曜日\", \"日曜日\"]\n",
        "weekdays_with_newline = list()\n",
        "for weekday in weekdays:\n",
        "    weekdays_with_newline.append(weekday + '\\n')\n",
        "\n",
        "with open(\"days.txt\", \"w\", encoding=\"utf-8\") as f:\n",
        "    f.writelines(weekdays_with_newline)"
      ],
      "execution_count": 0,
      "outputs": []
    }
  ]
}