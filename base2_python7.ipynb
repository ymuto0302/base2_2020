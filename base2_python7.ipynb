{
  "nbformat": 4,
  "nbformat_minor": 0,
  "metadata": {
    "celltoolbar": "Slideshow",
    "kernelspec": {
      "display_name": "Python 3",
      "language": "python",
      "name": "python3"
    },
    "language_info": {
      "codemirror_mode": {
        "name": "ipython",
        "version": 3
      },
      "file_extension": ".py",
      "mimetype": "text/x-python",
      "name": "python",
      "nbconvert_exporter": "python",
      "pygments_lexer": "ipython3",
      "version": "3.6.5"
    },
    "colab": {
      "name": "base2_python7.ipynb",
      "provenance": [],
      "collapsed_sections": [
        "2RAcWfdSIRxr",
        "VqwTq6YPIRxv",
        "yp-crTagIRx2",
        "jWWwlO9qIRx5",
        "Iy04MpMXIRx6",
        "XoUMgpLfIRx9"
      ],
      "include_colab_link": true
    }
  },
  "cells": [
    {
      "cell_type": "markdown",
      "metadata": {
        "id": "view-in-github",
        "colab_type": "text"
      },
      "source": [
        "<a href=\"https://colab.research.google.com/github/ymuto0302/base2_2020/blob/master/base2_python7.ipynb\" target=\"_parent\"><img src=\"https://colab.research.google.com/assets/colab-badge.svg\" alt=\"Open In Colab\"/></a>"
      ]
    },
    {
      "cell_type": "markdown",
      "metadata": {
        "id": "pCae7sSPIRx4",
        "colab_type": "text"
      },
      "source": [
        "#7. 自前のクラスを作る\n",
        "クラスはインスタンス変数，コンストラクタ，各種メソッドから構成される。\n",
        "（加えてクラス変数もあるが，後に触れることにしよう）\n",
        "\n",
        "- インスタンス変数 : オブジェクトが有する属性（あるいは状態）。\n",
        "- コンストラクタ : クラスからオブジェクトが生成される時に実行される初期化処理。\n",
        "- メソッド : オブジェクトが有する振る舞い\n",
        "\n",
        "    class TestClass:\n",
        "        //コンストラクタ\n",
        "        def __init__(self, namae):\n",
        "            self.name = namae\n",
        "\n",
        "        //メソッド\n",
        "        def testMethod():\n",
        "        .......\n",
        "\n",
        "    def main(Sring[] args){\n",
        "        TestClass testObject = TestClass(“kosen “)\n",
        "        x = testObject.testMethod();\n",
        "\n",
        "    if __name__ == '__main__':\n",
        "        main()\n",
        "        \n",
        "既に存在するクラスに新たな機能を付与し，新たなクラスを作ることを**継承**と呼ぶ。\n",
        "- スーパークラス=上位のクラス（＝継承されるクラス） ・・・ 共通の属性や手続きを集める。\n",
        "- サブクラス=下位のクラス（＝継承する側のクラス） ・・・ そのクラスに独自の特殊な属性や手続きを記述する。\n",
        "\n",
        "継承に関する注意点：\n",
        "- スーパクラスで定義されたメンバ変数やメソッドは，サブクラスで利用可能。（override により再定義することも可能）。\n",
        "- スーパークラスで宣言されたコンストラクタは，サブクラスに継承されない。故に，サブクラス側でコンストラクタを定義するか，スーパークラスのコンストラクタを明示的に呼び出さなければならない。"
      ]
    },
    {
      "cell_type": "markdown",
      "metadata": {
        "id": "jWWwlO9qIRx5",
        "colab_type": "text"
      },
      "source": [
        "### クラスの定義\n",
        "- クラスを定義する際の基本はインスタンス変数とメソッドである\n",
        "- 初期化メソッド（コンストラクタ）の名称は __init__() と決められている\n",
        "\n",
        "クラス定義の形式は以下のとおり：\n",
        "\n",
        "    class クラス名:\n",
        "        def __init__(self, ・・・):\n",
        "            インスタンス変数の定義\n",
        "     \n",
        "        def メソッド名(self, ・・・):\n",
        "            ・・・・・・・\n",
        "            ・・・・・・・"
      ]
    },
    {
      "cell_type": "code",
      "metadata": {
        "id": "IetcR5kjIRx5",
        "colab_type": "code",
        "colab": {}
      },
      "source": [
        "# メンバーの身長を管理するクラス\n",
        "class Customer:\n",
        "    def __init__(self, number, name, height=0):\n",
        "        # インスタンス変数は self.変数名で与えられる\n",
        "        self.number = number\n",
        "        self.name = name\n",
        "        self.height = height\n",
        "\n",
        "# インスタンスの生成\n",
        "# (メモ) インスタンスが生成されると，自動的にコンストラクタ __init__ が呼び出される\n",
        "taro = Customer(101, \"斎藤太郎\", 180)\n",
        "\n",
        "# インスタンス変数へのアクセスは「インスタンス名.インスタンス変数名」\n",
        "# お薦めしない記述だが，インスタンス変数へ直接，アクセス可能\n",
        "# (注意) 本来はテキスト pp.283-285 にあるようにカプセル化し，アクセサを定義すべき！\n",
        "print(taro.number)\n",
        "print(taro.name)\n",
        "print(taro.height)\n",
        "\n",
        "taro.height = 175\n",
        "print(taro.height)"
      ],
      "execution_count": 0,
      "outputs": []
    },
    {
      "cell_type": "markdown",
      "metadata": {
        "id": "Iy04MpMXIRx6",
        "colab_type": "text"
      },
      "source": [
        "### クラス変数／メソッドの定義\n",
        "- インスタンス変数 ＝ インスタンス毎に固有の変数\n",
        "- クラス変数 ＝ （クラスに属し）インスタンスで共有される変数\n",
        "\n",
        "(注意) クラス変数はメソッドの外側で定義される"
      ]
    },
    {
      "cell_type": "code",
      "metadata": {
        "id": "fBYZ879-IRx7",
        "colab_type": "code",
        "colab": {}
      },
      "source": [
        "# メンバーの身長を管理するクラス\n",
        "class Customer:\n",
        "    bmi = 22 # Body Mass Index ← クラス変数\n",
        "\n",
        "    def __init__(self, number, name, height=0):\n",
        "        self.number = number # この辺りはインスタンス変数\n",
        "        self.name = name\n",
        "        self.height = height\n",
        "        \n",
        "    # BMIに基づき，標準体重を求める\n",
        "    # (メモ) クラス変数へのアクセスは「クラス名・クラス変数名」\n",
        "    def std_weight(self):\n",
        "        return Customer.bmi * ((self.height / 100)** 2)\n",
        "\n",
        "taro = Customer(101, \"斎藤太郎\", 180)\n",
        "print(\"{}の標準体重: {}kg\".format(taro.name, taro.std_weight()))"
      ],
      "execution_count": 0,
      "outputs": []
    },
    {
      "cell_type": "markdown",
      "metadata": {
        "id": "XoUMgpLfIRx9",
        "colab_type": "text"
      },
      "source": [
        "### カプセル化(隠蔽)とアクセサ\n",
        "オブジェクト指向らしいカプセル化(隠蔽）をうまく使う。\n",
        "\n",
        "- 変数名を\"__変数名\" のように「アンダースコア x 2　を前置」とすると，外部からアクセスできなくなる。\n",
        "- データにアクセスするため，アクセサ(accessor)を定義する\n",
        "\n",
        "#### アクセサ（ゲッターとセッター）\n",
        "ゲッターとセッターをまとめた概念をアクセサ (accessor) と呼ぶ。\n",
        "- 隠蔽されたインスタンス変数の値を取得するメソッド = ゲッター (getter)\n",
        "- 隠蔽されたインスタンス変数に値をセットするメソッド = セッター (setter)\n",
        "\n",
        "（注）厳密には getter method, setter method という\n",
        "\n",
        "アクセサの命名規則は，慣習として\n",
        "- get_変数名 (get_name() など)\n",
        "- set_変数名 (set_height() など）\n",
        "\n",
        "が用いられる。"
      ]
    },
    {
      "cell_type": "code",
      "metadata": {
        "id": "JbwLo126IRx9",
        "colab_type": "code",
        "colab": {}
      },
      "source": [
        "# メンバーの身長を管理するクラス\n",
        "class Customer:\n",
        "    bmi = 22 # Body Mass Index の適正値\n",
        "    def __init__(self, number, name, height=0):\n",
        "        self.__number = number\n",
        "        self.__name = name\n",
        "        self.__height = height\n",
        "    \n",
        "    # 氏名の取得 (getter)\n",
        "    def get_name(self):\n",
        "        return self.__name\n",
        "    \n",
        "    # BMIに基づき，標準体重を求める\n",
        "    def std_weight(self):\n",
        "        return Customer.bmi * ((self.__height / 100)** 2)\n",
        "\n",
        "taro = Customer(101, \"斎藤太郎\", 180)\n",
        "print(\"{}の標準体重: {}kg\".format(taro.get_name(), taro.std_weight()))"
      ],
      "execution_count": 0,
      "outputs": []
    },
    {
      "cell_type": "code",
      "metadata": {
        "id": "3umgcdmPIRx-",
        "colab_type": "code",
        "colab": {}
      },
      "source": [
        "# アクセサの設定例\n",
        "\n",
        "# メンバーの身長を管理するクラス\n",
        "class Customer:\n",
        "    def __init__(self, number=-1, name=\"\", height=0):\n",
        "        # インスタンス変数を全て隠蔽\n",
        "        self.__number = number\n",
        "        self.__name = name\n",
        "        self.__height = height\n",
        "    \n",
        "    def get_number(self): # 番号の取得\n",
        "        return self.__number\n",
        "\n",
        "    def get_name(self): # 氏名の取得\n",
        "        return self.__name\n",
        "    \n",
        "    def get_height(self): # 身長の取得\n",
        "        return self.__height\n",
        "    \n",
        "    def set_number(self, number): # 番号の設定\n",
        "        self.__number = number\n",
        "\n",
        "    def set_name(self, name): # 氏名の設定\n",
        "        self.__name = name\n",
        "    \n",
        "    def set_height(self, height): # 身長の設定\n",
        "        self.__height = height\n",
        "\n",
        "taro = Customer(101, \"斎藤太郎\", 180)\n",
        "print(\"{},身長:{}cm\".format(taro.get_name(), taro.get_height()))\n",
        "\n",
        "hanako = Customer()\n",
        "hanako.set_number(102)\n",
        "hanako.set_name(\"宇部花子\")\n",
        "hanako.set_height(170)\n",
        "print(\"{},身長:{}cm\".format( hanako.get_name(), hanako.get_height()))"
      ],
      "execution_count": 0,
      "outputs": []
    }
  ]
}