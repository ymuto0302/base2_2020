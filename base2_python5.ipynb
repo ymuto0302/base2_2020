{
  "nbformat": 4,
  "nbformat_minor": 0,
  "metadata": {
    "celltoolbar": "Slideshow",
    "kernelspec": {
      "display_name": "Python 3",
      "language": "python",
      "name": "python3"
    },
    "language_info": {
      "codemirror_mode": {
        "name": "ipython",
        "version": 3
      },
      "file_extension": ".py",
      "mimetype": "text/x-python",
      "name": "python",
      "nbconvert_exporter": "python",
      "pygments_lexer": "ipython3",
      "version": "3.6.5"
    },
    "colab": {
      "name": "base2_python5.ipynb",
      "provenance": [],
      "collapsed_sections": [
        "QptlXib0IRxZ",
        "348yTGy9IRxb",
        "zNGwUqulIRxd",
        "NrBPheGHIRxf",
        "F5v3I1caIRxg",
        "FGjZmhKIIRxp",
        "2RAcWfdSIRxr",
        "VqwTq6YPIRxv",
        "yp-crTagIRx2",
        "jWWwlO9qIRx5",
        "Iy04MpMXIRx6",
        "XoUMgpLfIRx9"
      ],
      "include_colab_link": true
    }
  },
  "cells": [
    {
      "cell_type": "markdown",
      "metadata": {
        "id": "view-in-github",
        "colab_type": "text"
      },
      "source": [
        "<a href=\"https://colab.research.google.com/github/ymuto0302/base2_2020/blob/master/base2_python5.ipynb\" target=\"_parent\"><img src=\"https://colab.research.google.com/assets/colab-badge.svg\" alt=\"Open In Colab\"/></a>"
      ]
    },
    {
      "cell_type": "markdown",
      "metadata": {
        "id": "hEb-yr4hIRw9",
        "colab_type": "text"
      },
      "source": [
        "# 5. 自前の関数を作る\n",
        "## 5.1. 関数の作成\n",
        "関数とは，入力（**引数**)を受け取り，何らかの処理を行ったのち，適切な出力(**戻り値**)を返す機能を実現するものである。\n",
        "\n",
        "関数定義の形式は以下のとおり：\n",
        "\n",
        "    def 関数名(引数1, 引数2, ・・・):\n",
        "        処理内容\n",
        "        return 戻り値"
      ]
    },
    {
      "cell_type": "code",
      "metadata": {
        "id": "ixDmHLLIIRw9",
        "colab_type": "code",
        "colab": {
          "base_uri": "https://localhost:8080/",
          "height": 53
        },
        "outputId": "6bcc116e-30e6-44a0-b78b-0010bf36a309"
      },
      "source": [
        "# ドルから円への換算を行う関数\n",
        "def doll_to_yen(doll, rate):\n",
        "    yen = doll * rate\n",
        "    return yen\n",
        "\n",
        "dollar = 100\n",
        "exchange_rate = 108\n",
        "yen = doll_to_yen(dollar, exchange_rate)\n",
        "print(\"為替レート: {}\".format(exchange_rate))\n",
        "print(\"{}ドルは{}円\".format(dollar, yen))"
      ],
      "execution_count": 1,
      "outputs": [
        {
          "output_type": "stream",
          "text": [
            "為替レート: 108\n",
            "100ドルは10800円\n"
          ],
          "name": "stdout"
        }
      ]
    },
    {
      "cell_type": "code",
      "metadata": {
        "id": "6CqEpO4VIRxA",
        "colab_type": "code",
        "colab": {
          "base_uri": "https://localhost:8080/",
          "height": 35
        },
        "outputId": "8140d7d9-d52d-44d8-cefc-bdcbe4e70e1a"
      },
      "source": [
        "# 半径を与えて円の面積を求める\n",
        "import math\n",
        "\n",
        "def area_of_circle(radius):\n",
        "    area = math.pi * radius * radius\n",
        "    return area\n",
        "\n",
        "r = 3.0\n",
        "area = area_of_circle(r)\n",
        "print(\"半径 {} の円の面積は {}\".format(r, area))"
      ],
      "execution_count": 2,
      "outputs": [
        {
          "output_type": "stream",
          "text": [
            "半径 3.0 の円の面積は 28.274333882308138\n"
          ],
          "name": "stdout"
        }
      ]
    },
    {
      "cell_type": "markdown",
      "metadata": {
        "id": "20S11pBGAYSw",
        "colab_type": "text"
      },
      "source": [
        "### Python は複数の戻り値を返すことができる！"
      ]
    },
    {
      "cell_type": "code",
      "metadata": {
        "id": "Qq9OfCnOIRxC",
        "colab_type": "code",
        "colab": {
          "base_uri": "https://localhost:8080/",
          "height": 35
        },
        "outputId": "5a4037e3-0195-491b-8f3d-76d11f9571c3"
      },
      "source": [
        "# 半径を与えて円の面積，円周の長さを求める\n",
        "# (メモ) この例のように戻り値を複数，指定可能。ただし，それらの順序はキープされる。\n",
        "import math\n",
        "\n",
        "def circle(radius):\n",
        "    area = math.pi * radius * radius\n",
        "    circum = 2 * math.pi * radius\n",
        "    return area, circum\n",
        "\n",
        "r = 3.0\n",
        "area, circum = circle(r)\n",
        "print(\"半径{}の円の面積は{:.2f}, 円周は{:.2f}\".format(r, area, circum))"
      ],
      "execution_count": 3,
      "outputs": [
        {
          "output_type": "stream",
          "text": [
            "半径3.0の円の面積は28.27, 円周は18.85\n"
          ],
          "name": "stdout"
        }
      ]
    },
    {
      "cell_type": "markdown",
      "metadata": {
        "id": "AEpfrahnAoeP",
        "colab_type": "text"
      },
      "source": [
        "### ここがmain関数ですよ！と主張する書き方"
      ]
    },
    {
      "cell_type": "code",
      "metadata": {
        "id": "4qvr80vPIRxG",
        "colab_type": "code",
        "colab": {
          "base_uri": "https://localhost:8080/",
          "height": 35
        },
        "outputId": "8eecadd5-53c5-43f8-8877-94669cce9f33"
      },
      "source": [
        "# 最初に実行する関数を明示する書き方\n",
        "# (メモ) if __name__ == '__main__:' の中でメイン関数の名前を指定する\n",
        "import math\n",
        "\n",
        "def area_of_circle(radius):\n",
        "    area = math.pi * radius * radius\n",
        "    return area\n",
        "\n",
        "def main():\n",
        "    r = 3.0\n",
        "    area = area_of_circle(r)\n",
        "    print(\"半径 {:.2f} の円の面積は {:.2f}\".format(r, area))\n",
        "    \n",
        "if __name__ == '__main__':\n",
        "    main()"
      ],
      "execution_count": 5,
      "outputs": [
        {
          "output_type": "stream",
          "text": [
            "半径 3.00 の円の面積は 28.27\n"
          ],
          "name": "stdout"
        }
      ]
    },
    {
      "cell_type": "markdown",
      "metadata": {
        "id": "ENMDMR30IRxH",
        "colab_type": "text"
      },
      "source": [
        "## 5.2. キーワード引数の利用による可読性向上"
      ]
    },
    {
      "cell_type": "code",
      "metadata": {
        "id": "vGcDja59IRxI",
        "colab_type": "code",
        "colab": {
          "base_uri": "https://localhost:8080/",
          "height": 53
        },
        "outputId": "5db6f388-e12e-4176-b916-1446cf8300d3"
      },
      "source": [
        "# ドルから円への換算を行う関数\n",
        "def doll_to_yen(doll, rate):\n",
        "    yen = doll * rate\n",
        "    return yen\n",
        "\n",
        "dollar = 100\n",
        "exchange_rate = 108\n",
        "\n",
        "yen = doll_to_yen(doll=dollar, rate=exchange_rate)\n",
        "print(\"呼び出し方１ : 換算後は{}円\".format(yen))\n",
        "\n",
        "# (メモ) 全ての引数をキーワード指定する場合，引数の順序を問わない\n",
        "yen = doll_to_yen(rate=exchange_rate, doll=dollar)\n",
        "print(\"呼び出し方２ : 換算後は{}円\".format(yen))"
      ],
      "execution_count": 6,
      "outputs": [
        {
          "output_type": "stream",
          "text": [
            "呼び出し方１ : 換算後は10800円\n",
            "呼び出し方２ : 換算後は10800円\n"
          ],
          "name": "stdout"
        }
      ]
    },
    {
      "cell_type": "markdown",
      "metadata": {
        "id": "kfYu6k5JIRxL",
        "colab_type": "text"
      },
      "source": [
        "## 5.3. 引数のデフォルト値\n",
        "デフォルト(default) = 「初期設定」から転じて「既定 (標準，基本)」の意味がある。\n",
        "\n",
        "関数定義の形式は以下のとおり：\n",
        "\n",
        "    def 関数名(引数1, 引数2, ・・・, 引数n=デフォルト値):\n",
        "    \n",
        "注意点：\n",
        "- 「デフォルト値をもつ引数」は「デフォルト値を持たない引数」の後に置くこと。\n",
        "- デフォルト値は関数定義時に評価される。故にリストなどのミュータブルオブジェクトを指定する場合は注意が必要である。"
      ]
    },
    {
      "cell_type": "code",
      "metadata": {
        "id": "mJxqjiWbIRxM",
        "colab_type": "code",
        "colab": {
          "base_uri": "https://localhost:8080/",
          "height": 53
        },
        "outputId": "776507b9-c367-4a50-d8b2-0a456b65cea0"
      },
      "source": [
        "def message(word=\"hello\"):\n",
        "    return word\n",
        "\n",
        "word1 = message()\n",
        "print(\"デフォルト値を使用する場合: {}\".format(word1))\n",
        "\n",
        "word2 = message(\"こんにちは\")\n",
        "print(\"デフォルト値を使用しない場合: {}\".format(word2))"
      ],
      "execution_count": 7,
      "outputs": [
        {
          "output_type": "stream",
          "text": [
            "デフォルト値を使用する場合: hello\n",
            "デフォルト値を使用しない場合: こんにちは\n"
          ],
          "name": "stdout"
        }
      ]
    },
    {
      "cell_type": "code",
      "metadata": {
        "id": "98M0aHTYIRxN",
        "colab_type": "code",
        "colab": {
          "base_uri": "https://localhost:8080/",
          "height": 53
        },
        "outputId": "dd9ad03d-7e19-418b-e7ab-1cae23af4fb0"
      },
      "source": [
        "# 為替レートに従い，ドルを円に換算\n",
        "def doll_to_yen(doll, rate=100):\n",
        "    yen = doll * rate\n",
        "    return yen\n",
        "\n",
        "yen = doll_to_yen(doll=100, rate=105)\n",
        "print(\"デフォルト値を使用しない場合 : 換算後は{}円\".format(yen))\n",
        "\n",
        "yen = doll_to_yen(doll=100)\n",
        "print(\"デフォルト値を使用する場合 : 換算後は{}円\".format(yen))"
      ],
      "execution_count": 8,
      "outputs": [
        {
          "output_type": "stream",
          "text": [
            "デフォルト値を使用しない場合 : 換算後は10500円\n",
            "デフォルト値を使用する場合 : 換算後は10000円\n"
          ],
          "name": "stdout"
        }
      ]
    },
    {
      "cell_type": "markdown",
      "metadata": {
        "id": "S-YJSBtaIRxP",
        "colab_type": "text"
      },
      "source": [
        "## 5.4. 変数のスコープ（ローカル変数とグローバル変数)\n",
        "関数内で定義される変数は（引数も含めて）ローカル変数である。\n",
        "ローカル変数は定義された関数内のみ有効である。\n",
        "\n",
        "異なる関数内で同じ変数名が存在する場合，それらは異なるものとして取り扱われる。"
      ]
    },
    {
      "cell_type": "code",
      "metadata": {
        "id": "BpAdAKnEIRxR",
        "colab_type": "code",
        "colab": {
          "base_uri": "https://localhost:8080/",
          "height": 35
        },
        "outputId": "517e64bd-a423-4dcd-e83d-8cb3ec108f6c"
      },
      "source": [
        "def Celsius_to_Fahrenheit(c):\n",
        "    f = c * 1.8 + 32\n",
        "    return f\n",
        "\n",
        "def main():\n",
        "    c = 35  #摂氏35度\n",
        "    f = Celsius_to_Fahrenheit(c)\n",
        "    print(\"摂氏{}度 = 華氏{}度\".format(c, f))\n",
        "\n",
        "if __name__ == '__main__':\n",
        "    main()"
      ],
      "execution_count": 9,
      "outputs": [
        {
          "output_type": "stream",
          "text": [
            "摂氏35度 = 華氏95.0度\n"
          ],
          "name": "stdout"
        }
      ]
    },
    {
      "cell_type": "code",
      "metadata": {
        "id": "N483jwB3IRxU",
        "colab_type": "code",
        "colab": {
          "base_uri": "https://localhost:8080/",
          "height": 35
        },
        "outputId": "8f58671b-f06a-49cb-963b-4e9ca7e44600"
      },
      "source": [
        "def Celsius_to_Fahrenheit(c):\n",
        "    c = 50 # 意図的に値を変更する\n",
        "    f = c * 1.8 + 32\n",
        "    return f\n",
        "\n",
        "def main():\n",
        "    c = 35  #摂氏35度\n",
        "    f = Celsius_to_Fahrenheit(c)\n",
        "    print(\"摂氏{}度 = 華氏{}度\".format(c, f))\n",
        "\n",
        "if __name__ == '__main__':\n",
        "    main()"
      ],
      "execution_count": 10,
      "outputs": [
        {
          "output_type": "stream",
          "text": [
            "摂氏35度 = 華氏122.0度\n"
          ],
          "name": "stdout"
        }
      ]
    },
    {
      "cell_type": "markdown",
      "metadata": {
        "id": "cWymDlUZIRxX",
        "colab_type": "text"
      },
      "source": [
        "##### グローバル変数を用いるコードの例\n",
        "以下では関数の外側（冒頭）で定義される変数 animal はグローバル変数，\n",
        "関数 ShowAnimal() 内で定義される変数 animal は(ShowAnimal 内で飲み有効な)ローカル変数である。\n",
        "\n",
        "main()関数内で animal は定義されていないため，グローバル変数である animal を参照する形となる。\n",
        "\n",
        "(注意)\n",
        "- グローバル変数はあらゆる場所で変数を使えて便利そうだが，多用するとコードのメンテナンスが大変になる。\n",
        "- 基本的にローカル変数のみでコードを記述すること！"
      ]
    },
    {
      "cell_type": "code",
      "metadata": {
        "id": "gFw9i-jQIRxX",
        "colab_type": "code",
        "colab": {
          "base_uri": "https://localhost:8080/",
          "height": 53
        },
        "outputId": "6e231dc1-60c5-4037-ec9f-543b49c172f3"
      },
      "source": [
        "# グローバル変数を用いたコード\n",
        "animal = \"dog\"\n",
        "\n",
        "def showAnimal():\n",
        "    animal = \"cat\"\n",
        "    print(\"関数 showAnimale:\", animal)\n",
        "\n",
        "def main():\n",
        "    showAnimal()\n",
        "    print(\"関数 main:\", animal)\n",
        "    \n",
        "if __name__ == '__main__':\n",
        "    main()"
      ],
      "execution_count": 11,
      "outputs": [
        {
          "output_type": "stream",
          "text": [
            "関数 showAnimale: cat\n",
            "関数 main: dog\n"
          ],
          "name": "stdout"
        }
      ]
    },
    {
      "cell_type": "code",
      "metadata": {
        "id": "FtRniWfeA8o0",
        "colab_type": "code",
        "colab": {}
      },
      "source": [
        ""
      ],
      "execution_count": 0,
      "outputs": []
    }
  ]
}