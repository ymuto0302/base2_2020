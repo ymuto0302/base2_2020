{
  "nbformat": 4,
  "nbformat_minor": 0,
  "metadata": {
    "colab": {
      "name": "economicdata1.ipynb",
      "provenance": [],
      "authorship_tag": "ABX9TyMPX8GzLORrSiaxIONc7Va6",
      "include_colab_link": true
    },
    "kernelspec": {
      "name": "python3",
      "display_name": "Python 3"
    }
  },
  "cells": [
    {
      "cell_type": "markdown",
      "metadata": {
        "id": "view-in-github",
        "colab_type": "text"
      },
      "source": [
        "<a href=\"https://colab.research.google.com/github/ymuto0302/base2_2020/blob/master/economicdata1.ipynb\" target=\"_parent\"><img src=\"https://colab.research.google.com/assets/colab-badge.svg\" alt=\"Open In Colab\"/></a>"
      ]
    },
    {
      "cell_type": "markdown",
      "metadata": {
        "id": "igJWuc4FgGkz",
        "colab_type": "text"
      },
      "source": [
        "# 経済データの分析(1) : 環境構築および Quandl の利用\n",
        "\n",
        "今回より経済データ・金融データを対象に分析を進める。\n",
        "\n",
        "経済・金融データの入手方法として，従来は Yahoo! ファイナンス等からのスクレイピングが主流だったが，現在では（システムにかかる負荷等を考慮し）スクレイピングは概ね禁止されている。\n",
        "\n",
        "そこで Quandlからデータ収集することとする。\n",
        "\n",
        "Quandlでは金融・経済に関する世界中のデータ・セットを無料で利用できる。また，日本のデータであるGDPや日経平均株価も取得可能である。（注：一部有料のデータも含まれる）\n",
        "\n",
        "https://www.quandl.com/"
      ]
    },
    {
      "cell_type": "markdown",
      "metadata": {
        "id": "DAAu4OKWgGaF",
        "colab_type": "text"
      },
      "source": [
        "## Quandl へのユーザ登録 ＆ API キーの取得\n",
        "一定量のデータを入するため，Quandl へのユーザ登録が必要である。また，プログラムを用いてデータ取得するため API key が要求される。\n",
        "\n",
        "Quandl へのユーザ登録および API キーの取得について，別途資料を提供したので，そちらを参照してほしい。"
      ]
    },
    {
      "cell_type": "markdown",
      "metadata": {
        "id": "6SSnYyP9hrq5",
        "colab_type": "text"
      },
      "source": [
        "## Quandl ライブラリのインストール\n",
        "下記のコマンドを入力することで，Google Colab にて Quandl ライブラリが利用可能となる。\n",
        "\n",
        "Quandl では JSON や CSV 形式のファイルをダウンロードできるが，（別途にファイルを保存するよりも）ライブラリを用いて動的にデータを取得する方が楽である。"
      ]
    },
    {
      "cell_type": "code",
      "metadata": {
        "id": "CMeuNyBT0Wqd",
        "colab_type": "code",
        "colab": {
          "base_uri": "https://localhost:8080/",
          "height": 339
        },
        "outputId": "f2b03328-57d3-4e5e-e0dd-42af26024e76"
      },
      "source": [
        "!pip install quandl"
      ],
      "execution_count": 2,
      "outputs": [
        {
          "output_type": "stream",
          "text": [
            "Collecting quandl\n",
            "  Downloading https://files.pythonhosted.org/packages/07/ab/8cd479fba8a9b197a43a0d55dd534b066fb8e5a0a04b5c0384cbc5d663aa/Quandl-3.5.0-py2.py3-none-any.whl\n",
            "Requirement already satisfied: more-itertools in /usr/local/lib/python3.6/dist-packages (from quandl) (8.4.0)\n",
            "Requirement already satisfied: six in /usr/local/lib/python3.6/dist-packages (from quandl) (1.12.0)\n",
            "Requirement already satisfied: pandas>=0.14 in /usr/local/lib/python3.6/dist-packages (from quandl) (1.0.5)\n",
            "Requirement already satisfied: requests>=2.7.0 in /usr/local/lib/python3.6/dist-packages (from quandl) (2.23.0)\n",
            "Collecting inflection>=0.3.1\n",
            "  Downloading https://files.pythonhosted.org/packages/d2/cd/f04c661d1b5ba6b7d77008e8fedd28a27a683eeeffcd93c6b2dbe54ea983/inflection-0.5.0-py2.py3-none-any.whl\n",
            "Requirement already satisfied: numpy>=1.8 in /usr/local/lib/python3.6/dist-packages (from quandl) (1.18.5)\n",
            "Requirement already satisfied: python-dateutil in /usr/local/lib/python3.6/dist-packages (from quandl) (2.8.1)\n",
            "Requirement already satisfied: pytz>=2017.2 in /usr/local/lib/python3.6/dist-packages (from pandas>=0.14->quandl) (2018.9)\n",
            "Requirement already satisfied: certifi>=2017.4.17 in /usr/local/lib/python3.6/dist-packages (from requests>=2.7.0->quandl) (2020.6.20)\n",
            "Requirement already satisfied: urllib3!=1.25.0,!=1.25.1,<1.26,>=1.21.1 in /usr/local/lib/python3.6/dist-packages (from requests>=2.7.0->quandl) (1.24.3)\n",
            "Requirement already satisfied: chardet<4,>=3.0.2 in /usr/local/lib/python3.6/dist-packages (from requests>=2.7.0->quandl) (3.0.4)\n",
            "Requirement already satisfied: idna<3,>=2.5 in /usr/local/lib/python3.6/dist-packages (from requests>=2.7.0->quandl) (2.9)\n",
            "Installing collected packages: inflection, quandl\n",
            "Successfully installed inflection-0.5.0 quandl-3.5.0\n"
          ],
          "name": "stdout"
        }
      ]
    },
    {
      "cell_type": "markdown",
      "metadata": {
        "id": "JiHzUzFzh3-k",
        "colab_type": "text"
      },
      "source": [
        "## Quandl からのデータ入手\n",
        "東京証券取引所(Tokyo Stock Exchange; TSE)で扱われる銘柄の株価を取得する。\n",
        "データ取得期間は 2017年1月1日～2017年12月31日とする。\n",
        "\n",
        "ここで TSE コード (stock indicator) が必要となるが，Yahoo! ファイナンス等を利用して取得するものとする。\n",
        "\n",
        "https://stocks.finance.yahoo.co.jp/stocks/qi/?ids=3650"
      ]
    },
    {
      "cell_type": "code",
      "metadata": {
        "id": "5b8AykGaif_x",
        "colab_type": "code",
        "colab": {}
      },
      "source": [
        "import quandl # Quandl ライブラリのインポート\n",
        "\n",
        "quandl.ApiConfig.api_key = \"sw0123456789\" # Quandl API key の設定\n",
        "\n",
        "# ソニーと日立製作所の株価データを取得する\n",
        "# 6758 : stock indicator\n",
        "# ソニー(株) の TSEコードは 6758，(株)日立製作所のそれは 6501\n",
        "#\n",
        "sony = quandl.get('TSE/6758', start_date='2017-01-01', end_date='2017-12-31')\n",
        "hitachi = quandl.get('TSE/6501', start_date='2017-01-01', end_date='2017-12-31')"
      ],
      "execution_count": 3,
      "outputs": []
    },
    {
      "cell_type": "markdown",
      "metadata": {
        "id": "4_BFPzebjsoN",
        "colab_type": "text"
      },
      "source": [
        "取得したデータは，以下に示すように pandas のデータフレームとなっている。"
      ]
    },
    {
      "cell_type": "code",
      "metadata": {
        "id": "khHhLhhkiftu",
        "colab_type": "code",
        "colab": {
          "base_uri": "https://localhost:8080/",
          "height": 441
        },
        "outputId": "cb151e93-74eb-4f3c-9fa9-705e3f7e2008"
      },
      "source": [
        "sony"
      ],
      "execution_count": 5,
      "outputs": [
        {
          "output_type": "execute_result",
          "data": {
            "text/html": [
              "<div>\n",
              "<style scoped>\n",
              "    .dataframe tbody tr th:only-of-type {\n",
              "        vertical-align: middle;\n",
              "    }\n",
              "\n",
              "    .dataframe tbody tr th {\n",
              "        vertical-align: top;\n",
              "    }\n",
              "\n",
              "    .dataframe thead th {\n",
              "        text-align: right;\n",
              "    }\n",
              "</style>\n",
              "<table border=\"1\" class=\"dataframe\">\n",
              "  <thead>\n",
              "    <tr style=\"text-align: right;\">\n",
              "      <th></th>\n",
              "      <th>Open</th>\n",
              "      <th>High</th>\n",
              "      <th>Low</th>\n",
              "      <th>Close</th>\n",
              "      <th>Volume</th>\n",
              "    </tr>\n",
              "    <tr>\n",
              "      <th>Date</th>\n",
              "      <th></th>\n",
              "      <th></th>\n",
              "      <th></th>\n",
              "      <th></th>\n",
              "      <th></th>\n",
              "    </tr>\n",
              "  </thead>\n",
              "  <tbody>\n",
              "    <tr>\n",
              "      <th>2017-01-04</th>\n",
              "      <td>3305.0</td>\n",
              "      <td>3333.0</td>\n",
              "      <td>3274.0</td>\n",
              "      <td>3333.0</td>\n",
              "      <td>5914000.0</td>\n",
              "    </tr>\n",
              "    <tr>\n",
              "      <th>2017-01-05</th>\n",
              "      <td>3335.0</td>\n",
              "      <td>3337.0</td>\n",
              "      <td>3269.0</td>\n",
              "      <td>3296.0</td>\n",
              "      <td>7201700.0</td>\n",
              "    </tr>\n",
              "    <tr>\n",
              "      <th>2017-01-06</th>\n",
              "      <td>3328.0</td>\n",
              "      <td>3374.0</td>\n",
              "      <td>3311.0</td>\n",
              "      <td>3316.0</td>\n",
              "      <td>8873600.0</td>\n",
              "    </tr>\n",
              "    <tr>\n",
              "      <th>2017-01-10</th>\n",
              "      <td>3345.0</td>\n",
              "      <td>3439.0</td>\n",
              "      <td>3344.0</td>\n",
              "      <td>3394.0</td>\n",
              "      <td>11461200.0</td>\n",
              "    </tr>\n",
              "    <tr>\n",
              "      <th>2017-01-11</th>\n",
              "      <td>3464.0</td>\n",
              "      <td>3550.0</td>\n",
              "      <td>3462.0</td>\n",
              "      <td>3510.0</td>\n",
              "      <td>13620000.0</td>\n",
              "    </tr>\n",
              "    <tr>\n",
              "      <th>...</th>\n",
              "      <td>...</td>\n",
              "      <td>...</td>\n",
              "      <td>...</td>\n",
              "      <td>...</td>\n",
              "      <td>...</td>\n",
              "    </tr>\n",
              "    <tr>\n",
              "      <th>2017-12-18</th>\n",
              "      <td>5068.0</td>\n",
              "      <td>5163.0</td>\n",
              "      <td>5067.0</td>\n",
              "      <td>5161.0</td>\n",
              "      <td>7103000.0</td>\n",
              "    </tr>\n",
              "    <tr>\n",
              "      <th>2017-12-19</th>\n",
              "      <td>5150.0</td>\n",
              "      <td>5156.0</td>\n",
              "      <td>5110.0</td>\n",
              "      <td>5116.0</td>\n",
              "      <td>4931600.0</td>\n",
              "    </tr>\n",
              "    <tr>\n",
              "      <th>2017-12-20</th>\n",
              "      <td>5135.0</td>\n",
              "      <td>5138.0</td>\n",
              "      <td>5089.0</td>\n",
              "      <td>5125.0</td>\n",
              "      <td>3576900.0</td>\n",
              "    </tr>\n",
              "    <tr>\n",
              "      <th>2017-12-21</th>\n",
              "      <td>5097.0</td>\n",
              "      <td>5166.0</td>\n",
              "      <td>5084.0</td>\n",
              "      <td>5156.0</td>\n",
              "      <td>4437700.0</td>\n",
              "    </tr>\n",
              "    <tr>\n",
              "      <th>2017-12-22</th>\n",
              "      <td>5129.0</td>\n",
              "      <td>5192.0</td>\n",
              "      <td>5129.0</td>\n",
              "      <td>5192.0</td>\n",
              "      <td>4419000.0</td>\n",
              "    </tr>\n",
              "  </tbody>\n",
              "</table>\n",
              "<p>242 rows × 5 columns</p>\n",
              "</div>"
            ],
            "text/plain": [
              "              Open    High     Low   Close      Volume\n",
              "Date                                                  \n",
              "2017-01-04  3305.0  3333.0  3274.0  3333.0   5914000.0\n",
              "2017-01-05  3335.0  3337.0  3269.0  3296.0   7201700.0\n",
              "2017-01-06  3328.0  3374.0  3311.0  3316.0   8873600.0\n",
              "2017-01-10  3345.0  3439.0  3344.0  3394.0  11461200.0\n",
              "2017-01-11  3464.0  3550.0  3462.0  3510.0  13620000.0\n",
              "...            ...     ...     ...     ...         ...\n",
              "2017-12-18  5068.0  5163.0  5067.0  5161.0   7103000.0\n",
              "2017-12-19  5150.0  5156.0  5110.0  5116.0   4931600.0\n",
              "2017-12-20  5135.0  5138.0  5089.0  5125.0   3576900.0\n",
              "2017-12-21  5097.0  5166.0  5084.0  5156.0   4437700.0\n",
              "2017-12-22  5129.0  5192.0  5129.0  5192.0   4419000.0\n",
              "\n",
              "[242 rows x 5 columns]"
            ]
          },
          "metadata": {
            "tags": []
          },
          "execution_count": 5
        }
      ]
    },
    {
      "cell_type": "markdown",
      "metadata": {
        "id": "OtHzvmMnkBiN",
        "colab_type": "text"
      },
      "source": [
        "ソニーと日立の株価の推移を可視化する。"
      ]
    },
    {
      "cell_type": "code",
      "metadata": {
        "id": "T3hkDECAkCIg",
        "colab_type": "code",
        "colab": {
          "base_uri": "https://localhost:8080/",
          "height": 279
        },
        "outputId": "d6bbc24d-e04c-4c8c-fb61-248cf0efd62c"
      },
      "source": [
        "import matplotlib.pyplot as plt\n",
        "plt.plot(sony['Close'], label='sony')\n",
        "plt.plot(hitachi['Close'], label='hitachi')\n",
        "plt.legend()\n",
        "plt.xlabel(\"date\")\n",
        "plt.ylabel(\"stock price\")\n",
        "plt.show()"
      ],
      "execution_count": 6,
      "outputs": [
        {
          "output_type": "display_data",
          "data": {
            "image/png": "[encoded data removed]",
            "text/plain": [
              "<Figure size 432x288 with 1 Axes>"
            ]
          },
          "metadata": {
            "tags": [],
            "needs_background": "light"
          }
        }
      ]
    },
    {
      "cell_type": "markdown",
      "metadata": {
        "id": "x3knQ-DVkK19",
        "colab_type": "text"
      },
      "source": [
        "## 株価の移動平均\n",
        "移動平均とは〇〇〇〇\n",
        "\n",
        "以下ではソニーの株価を用いて，〇〇〇〇"
      ]
    },
    {
      "cell_type": "code",
      "metadata": {
        "id": "PVKg98w3kmn5",
        "colab_type": "code",
        "colab": {
          "base_uri": "https://localhost:8080/",
          "height": 268
        },
        "outputId": "885f6e0e-b33b-40f0-f060-0612735e8b46"
      },
      "source": [
        "# 移動平均 (MA: moving aberage)\n",
        "#\n",
        "# ソニー(株)/ (6758)\n",
        "import quandl\n",
        "import matplotlib.pyplot as plt\n",
        "\n",
        "quandl.ApiConfig.api_key = \"sw0123456789\"\n",
        "sony = quandl.get('TSE/6758', start_date='2017-01-01', end_date='2017-12-31')\n",
        "\n",
        "# 移動平均 (MA: moving aberage) ここでは 30日移動平均を求めている\n",
        "sony['30MA'] = sony['Close'].rolling(window=30, min_periods=0).mean()\n",
        "\n",
        "plt.plot(sony['Close'])\n",
        "plt.plot(sony['30MA'])\n",
        "plt.show()"
      ],
      "execution_count": 8,
      "outputs": [
        {
          "output_type": "display_data",
          "data": {
            "image/png": "[encoded data removed]",
            "text/plain": [
              "<Figure size 432x288 with 1 Axes>"
            ]
          },
          "metadata": {
            "tags": [],
            "needs_background": "light"
          }
        }
      ]
    },
    {
      "cell_type": "markdown",
      "metadata": {
        "id": "iqXni9a0kstj",
        "colab_type": "text"
      },
      "source": [
        "## 複数のデータを同時に取得する\n",
        "以下では日本，韓国，中国の人口 100人あたりのインターネットユーザ数を同時に取得する。"
      ]
    },
    {
      "cell_type": "code",
      "metadata": {
        "id": "Xfk9Y31ek6A0",
        "colab_type": "code",
        "colab": {}
      },
      "source": [
        "import quandl # Quandl ライブラリのインポート\n",
        "\n",
        "quandl.ApiConfig.api_key = \"sw0123456789\" # Quandl API key の設定\n",
        "\n",
        "# Internet users (per 100 people)\n",
        "df = quandl.get([\"WWDI/JPN_IT_NET_USER_P2\", # Japan のインターネットユーザ数\n",
        "                 \"WWDI/KOR_IT_NET_USER_P2\", # Korea のインターネットユーザ数\n",
        "                 \"WWDI/CHN_IT_NET_USER_P2\"]) # China のインターネットユーザ数\n",
        "df.columns = [\"Japan\", \"Korea\", \"China\"] # 列名の付け替え"
      ],
      "execution_count": 13,
      "outputs": []
    },
    {
      "cell_type": "code",
      "metadata": {
        "id": "ep9ZdW2tk5ye",
        "colab_type": "code",
        "colab": {
          "base_uri": "https://localhost:8080/",
          "height": 868
        },
        "outputId": "3855e99a-a04e-4b57-94ac-5d276f58d71f"
      },
      "source": [
        "df"
      ],
      "execution_count": 12,
      "outputs": [
        {
          "output_type": "execute_result",
          "data": {
            "text/html": [
              "<div>\n",
              "<style scoped>\n",
              "    .dataframe tbody tr th:only-of-type {\n",
              "        vertical-align: middle;\n",
              "    }\n",
              "\n",
              "    .dataframe tbody tr th {\n",
              "        vertical-align: top;\n",
              "    }\n",
              "\n",
              "    .dataframe thead th {\n",
              "        text-align: right;\n",
              "    }\n",
              "</style>\n",
              "<table border=\"1\" class=\"dataframe\">\n",
              "  <thead>\n",
              "    <tr style=\"text-align: right;\">\n",
              "      <th></th>\n",
              "      <th>Japan</th>\n",
              "      <th>Korea</th>\n",
              "      <th>China</th>\n",
              "    </tr>\n",
              "    <tr>\n",
              "      <th>Date</th>\n",
              "      <th></th>\n",
              "      <th></th>\n",
              "      <th></th>\n",
              "    </tr>\n",
              "  </thead>\n",
              "  <tbody>\n",
              "    <tr>\n",
              "      <th>1990-12-31</th>\n",
              "      <td>0.020294</td>\n",
              "      <td>0.023265</td>\n",
              "      <td>0.000000</td>\n",
              "    </tr>\n",
              "    <tr>\n",
              "      <th>1991-12-31</th>\n",
              "      <td>0.040438</td>\n",
              "      <td>0.046124</td>\n",
              "      <td>NaN</td>\n",
              "    </tr>\n",
              "    <tr>\n",
              "      <th>1992-12-31</th>\n",
              "      <td>0.096678</td>\n",
              "      <td>0.098404</td>\n",
              "      <td>NaN</td>\n",
              "    </tr>\n",
              "    <tr>\n",
              "      <th>1993-12-31</th>\n",
              "      <td>0.401278</td>\n",
              "      <td>0.249947</td>\n",
              "      <td>0.000169</td>\n",
              "    </tr>\n",
              "    <tr>\n",
              "      <th>1994-12-31</th>\n",
              "      <td>0.799684</td>\n",
              "      <td>0.311359</td>\n",
              "      <td>0.001168</td>\n",
              "    </tr>\n",
              "    <tr>\n",
              "      <th>1995-12-31</th>\n",
              "      <td>1.594363</td>\n",
              "      <td>0.819687</td>\n",
              "      <td>0.004955</td>\n",
              "    </tr>\n",
              "    <tr>\n",
              "      <th>1996-12-31</th>\n",
              "      <td>4.372982</td>\n",
              "      <td>1.624237</td>\n",
              "      <td>0.013082</td>\n",
              "    </tr>\n",
              "    <tr>\n",
              "      <th>1997-12-31</th>\n",
              "      <td>9.163077</td>\n",
              "      <td>3.600802</td>\n",
              "      <td>0.032395</td>\n",
              "    </tr>\n",
              "    <tr>\n",
              "      <th>1998-12-31</th>\n",
              "      <td>13.414041</td>\n",
              "      <td>6.781815</td>\n",
              "      <td>0.168540</td>\n",
              "    </tr>\n",
              "    <tr>\n",
              "      <th>1999-12-31</th>\n",
              "      <td>21.391290</td>\n",
              "      <td>23.552194</td>\n",
              "      <td>0.708188</td>\n",
              "    </tr>\n",
              "    <tr>\n",
              "      <th>2000-12-31</th>\n",
              "      <td>29.990740</td>\n",
              "      <td>44.700000</td>\n",
              "      <td>1.775913</td>\n",
              "    </tr>\n",
              "    <tr>\n",
              "      <th>2001-12-31</th>\n",
              "      <td>38.532061</td>\n",
              "      <td>56.600000</td>\n",
              "      <td>2.639650</td>\n",
              "    </tr>\n",
              "    <tr>\n",
              "      <th>2002-12-31</th>\n",
              "      <td>46.594201</td>\n",
              "      <td>59.400000</td>\n",
              "      <td>4.595704</td>\n",
              "    </tr>\n",
              "    <tr>\n",
              "      <th>2003-12-31</th>\n",
              "      <td>48.435266</td>\n",
              "      <td>65.500000</td>\n",
              "      <td>6.200000</td>\n",
              "    </tr>\n",
              "    <tr>\n",
              "      <th>2004-12-31</th>\n",
              "      <td>62.393930</td>\n",
              "      <td>72.700000</td>\n",
              "      <td>7.300000</td>\n",
              "    </tr>\n",
              "    <tr>\n",
              "      <th>2005-12-31</th>\n",
              "      <td>66.921066</td>\n",
              "      <td>73.500000</td>\n",
              "      <td>8.523257</td>\n",
              "    </tr>\n",
              "    <tr>\n",
              "      <th>2006-12-31</th>\n",
              "      <td>68.685270</td>\n",
              "      <td>78.100000</td>\n",
              "      <td>10.523153</td>\n",
              "    </tr>\n",
              "    <tr>\n",
              "      <th>2007-12-31</th>\n",
              "      <td>74.300000</td>\n",
              "      <td>78.800000</td>\n",
              "      <td>16.000000</td>\n",
              "    </tr>\n",
              "    <tr>\n",
              "      <th>2008-12-31</th>\n",
              "      <td>75.400000</td>\n",
              "      <td>81.000000</td>\n",
              "      <td>22.600000</td>\n",
              "    </tr>\n",
              "    <tr>\n",
              "      <th>2009-12-31</th>\n",
              "      <td>78.000000</td>\n",
              "      <td>81.600000</td>\n",
              "      <td>28.900000</td>\n",
              "    </tr>\n",
              "    <tr>\n",
              "      <th>2010-12-31</th>\n",
              "      <td>78.210000</td>\n",
              "      <td>83.700000</td>\n",
              "      <td>34.300000</td>\n",
              "    </tr>\n",
              "    <tr>\n",
              "      <th>2011-12-31</th>\n",
              "      <td>79.054114</td>\n",
              "      <td>83.759120</td>\n",
              "      <td>38.300000</td>\n",
              "    </tr>\n",
              "    <tr>\n",
              "      <th>2012-12-31</th>\n",
              "      <td>79.496400</td>\n",
              "      <td>84.070000</td>\n",
              "      <td>42.300117</td>\n",
              "    </tr>\n",
              "    <tr>\n",
              "      <th>2013-12-31</th>\n",
              "      <td>88.219429</td>\n",
              "      <td>84.770000</td>\n",
              "      <td>45.800000</td>\n",
              "    </tr>\n",
              "    <tr>\n",
              "      <th>2014-12-31</th>\n",
              "      <td>89.106833</td>\n",
              "      <td>87.870000</td>\n",
              "      <td>47.900000</td>\n",
              "    </tr>\n",
              "    <tr>\n",
              "      <th>2015-12-31</th>\n",
              "      <td>93.329411</td>\n",
              "      <td>89.896256</td>\n",
              "      <td>50.300000</td>\n",
              "    </tr>\n",
              "  </tbody>\n",
              "</table>\n",
              "</div>"
            ],
            "text/plain": [
              "                Japan      Korea      China\n",
              "Date                                       \n",
              "1990-12-31   0.020294   0.023265   0.000000\n",
              "1991-12-31   0.040438   0.046124        NaN\n",
              "1992-12-31   0.096678   0.098404        NaN\n",
              "1993-12-31   0.401278   0.249947   0.000169\n",
              "1994-12-31   0.799684   0.311359   0.001168\n",
              "1995-12-31   1.594363   0.819687   0.004955\n",
              "1996-12-31   4.372982   1.624237   0.013082\n",
              "1997-12-31   9.163077   3.600802   0.032395\n",
              "1998-12-31  13.414041   6.781815   0.168540\n",
              "1999-12-31  21.391290  23.552194   0.708188\n",
              "2000-12-31  29.990740  44.700000   1.775913\n",
              "2001-12-31  38.532061  56.600000   2.639650\n",
              "2002-12-31  46.594201  59.400000   4.595704\n",
              "2003-12-31  48.435266  65.500000   6.200000\n",
              "2004-12-31  62.393930  72.700000   7.300000\n",
              "2005-12-31  66.921066  73.500000   8.523257\n",
              "2006-12-31  68.685270  78.100000  10.523153\n",
              "2007-12-31  74.300000  78.800000  16.000000\n",
              "2008-12-31  75.400000  81.000000  22.600000\n",
              "2009-12-31  78.000000  81.600000  28.900000\n",
              "2010-12-31  78.210000  83.700000  34.300000\n",
              "2011-12-31  79.054114  83.759120  38.300000\n",
              "2012-12-31  79.496400  84.070000  42.300117\n",
              "2013-12-31  88.219429  84.770000  45.800000\n",
              "2014-12-31  89.106833  87.870000  47.900000\n",
              "2015-12-31  93.329411  89.896256  50.300000"
            ]
          },
          "metadata": {
            "tags": []
          },
          "execution_count": 12
        }
      ]
    },
    {
      "cell_type": "markdown",
      "metadata": {
        "id": "E9foVWkElw0G",
        "colab_type": "text"
      },
      "source": [
        "データの中身を可視化する。"
      ]
    },
    {
      "cell_type": "code",
      "metadata": {
        "id": "9M_YC4WYl1QD",
        "colab_type": "code",
        "colab": {
          "base_uri": "https://localhost:8080/",
          "height": 297
        },
        "outputId": "ea45e84d-120c-49fe-f690-de6d1caa2412"
      },
      "source": [
        "df.plot()"
      ],
      "execution_count": 14,
      "outputs": [
        {
          "output_type": "execute_result",
          "data": {
            "text/plain": [
              "<matplotlib.axes._subplots.AxesSubplot at 0x7f42f977b2e8>"
            ]
          },
          "metadata": {
            "tags": []
          },
          "execution_count": 14
        },
        {
          "output_type": "display_data",
          "data": {
            "image/png": "[encoded data removed]",
            "text/plain": [
              "<Figure size 432x288 with 1 Axes>"
            ]
          },
          "metadata": {
            "tags": [],
            "needs_background": "light"
          }
        }
      ]
    }
  ]
}