{
  "nbformat": 4,
  "nbformat_minor": 0,
  "metadata": {
    "kernelspec": {
      "display_name": "Python 3",
      "language": "python",
      "name": "python3"
    },
    "language_info": {
      "codemirror_mode": {
        "name": "ipython",
        "version": 3
      },
      "file_extension": ".py",
      "mimetype": "text/x-python",
      "name": "python",
      "nbconvert_exporter": "python",
      "pygments_lexer": "ipython3",
      "version": "3.7.6"
    },
    "colab": {
      "name": "japan_stock_return.ipynb",
      "provenance": [],
      "include_colab_link": true
    }
  },
  "cells": [
    {
      "cell_type": "markdown",
      "metadata": {
        "id": "view-in-github",
        "colab_type": "text"
      },
      "source": [
        "<a href=\"https://colab.research.google.com/github/ymuto0302/base2_2020/blob/master/japan_stock_return.ipynb\" target=\"_parent\"><img src=\"https://colab.research.google.com/assets/colab-badge.svg\" alt=\"Open In Colab\"/></a>"
      ]
    },
    {
      "cell_type": "markdown",
      "metadata": {
        "id": "a1yYYh9mF1QE",
        "colab_type": "text"
      },
      "source": [
        "# 経済データの分析：日経平均銘柄の騰落率の評価"
      ]
    },
    {
      "cell_type": "markdown",
      "metadata": {
        "id": "4TlnvrxHF1QG",
        "colab_type": "text"
      },
      "source": [
        "### 日経平均銘柄とは？\n",
        "東証第一部上場銘柄のうち，日本経済新聞社が選定した代表的な銘柄であり，225銘柄が選定されている。\n",
        "\n",
        "それらの銘柄は，業種のバランスを考慮しつつ定期的に見直されており，これから得られる日経平均株価は日本の経済状況を知る上で重要な指標となっている。\n",
        "\n",
        "詳細は下記の Wikipedia を参照のこと：\n",
        "\n",
        "https://ja.wikipedia.org/wiki/%E6%97%A5%E7%B5%8C%E5%B9%B3%E5%9D%87%E6%A0%AA%E4%BE%A1#:~:text=%E6%97%A5%E7%B5%8C%E5%B9%B3%E5%9D%87%E6%A0%AA%E4%BE%A1%EF%BC%88%E3%81%AB%E3%81%A3%E3%81%91%E3%81%84%E3%81%B8,%E3%81%AB%E3%83%BC%E3%81%94%EF%BC%89%E3%81%A8%E3%82%82%E5%91%BC%E3%81%B0%E3%82%8C%E3%82%8B%E3%80%82&text=%E7%8F%BE%E5%9C%A8%E3%80%81%E6%9D%B1%E4%BA%AC%E8%A8%BC%E5%88%B8%E5%8F%96%E5%BC%95%E6%89%80,%E3%82%92%E5%AF%BE%E8%B1%A1%E3%81%AB%E3%81%97%E3%81%A6%E3%81%84%E3%82%8B%E3%80%82\n",
        "\n",
        "### 騰落率とは？\n",
        "SMBC日興証券：初めてでもわかりやすい用語集\n",
        "https://www.smbcnikko.co.jp/terms/japan/to/J0056.html\n",
        "\n",
        "(メモ) 騰落率の英語表現は何だろう？ ざっと調べたところ，「騰落率 = percentage change in price」や「日次騰落率 = daily returns」が出てくる。"
      ]
    },
    {
      "cell_type": "markdown",
      "metadata": {
        "id": "8D4UfH7QGG8U",
        "colab_type": "text"
      },
      "source": [
        "### (準備)  Google Drive のマウント"
      ]
    },
    {
      "cell_type": "code",
      "metadata": {
        "id": "MetJsAG7GIJL",
        "colab_type": "code",
        "colab": {
          "base_uri": "https://localhost:8080/",
          "height": 126
        },
        "outputId": "8bc467e2-c21b-4905-bf07-6a47247befcb"
      },
      "source": [
        "from google.colab import drive\n",
        "drive.mount('/content/drive')"
      ],
      "execution_count": 1,
      "outputs": [
        {
          "output_type": "stream",
          "text": [
            "Go to this URL in a browser: https://accounts.google.com/o/oauth2/auth?client_id=947318989803-6bn6qk8qdgf4n4g3pfee6491hc0brc4i.apps.googleusercontent.com&redirect_uri=urn%3aietf%3awg%3aoauth%3a2.0%3aoob&scope=email%20https%3a%2f%2fwww.googleapis.com%2fauth%2fdocs.test%20https%3a%2f%2fwww.googleapis.com%2fauth%2fdrive%20https%3a%2f%2fwww.googleapis.com%2fauth%2fdrive.photos.readonly%20https%3a%2f%2fwww.googleapis.com%2fauth%2fpeopleapi.readonly&response_type=code\n",
            "\n",
            "Enter your authorization code:\n",
            "··········\n",
            "Mounted at /content/drive\n"
          ],
          "name": "stdout"
        }
      ]
    },
    {
      "cell_type": "markdown",
      "metadata": {
        "id": "Caev-cyeF1QI",
        "colab_type": "text"
      },
      "source": [
        "## 日経平均銘柄データの読み込み\n",
        "別途に準備した NIKKEI225_CODE.csv から企業名および株価コードを読み込む。"
      ]
    },
    {
      "cell_type": "code",
      "metadata": {
        "id": "stXFoDWaF1QK",
        "colab_type": "code",
        "colab": {}
      },
      "source": [
        "import pandas as pd\n",
        "nikkei = pd.read_csv(\"/content/drive/My Drive/BASE2/EconomicData/NIKKEI225_CODE.csv\")"
      ],
      "execution_count": 2,
      "outputs": []
    },
    {
      "cell_type": "code",
      "metadata": {
        "scrolled": false,
        "id": "ReSxeE-KF1QT",
        "colab_type": "code",
        "colab": {
          "base_uri": "https://localhost:8080/",
          "height": 200
        },
        "outputId": "5839acae-d549-49b1-d003-ce8d3b5bcfa7"
      },
      "source": [
        "nikkei.head()"
      ],
      "execution_count": 3,
      "outputs": [
        {
          "output_type": "execute_result",
          "data": {
            "text/html": [
              "<div>\n",
              "<style scoped>\n",
              "    .dataframe tbody tr th:only-of-type {\n",
              "        vertical-align: middle;\n",
              "    }\n",
              "\n",
              "    .dataframe tbody tr th {\n",
              "        vertical-align: top;\n",
              "    }\n",
              "\n",
              "    .dataframe thead th {\n",
              "        text-align: right;\n",
              "    }\n",
              "</style>\n",
              "<table border=\"1\" class=\"dataframe\">\n",
              "  <thead>\n",
              "    <tr style=\"text-align: right;\">\n",
              "      <th></th>\n",
              "      <th>CODE</th>\n",
              "      <th>NAME</th>\n",
              "    </tr>\n",
              "  </thead>\n",
              "  <tbody>\n",
              "    <tr>\n",
              "      <th>0</th>\n",
              "      <td>1332</td>\n",
              "      <td>日本水産</td>\n",
              "    </tr>\n",
              "    <tr>\n",
              "      <th>1</th>\n",
              "      <td>1333</td>\n",
              "      <td>マルハニチロ</td>\n",
              "    </tr>\n",
              "    <tr>\n",
              "      <th>2</th>\n",
              "      <td>1605</td>\n",
              "      <td>国際石油開発帝石</td>\n",
              "    </tr>\n",
              "    <tr>\n",
              "      <th>3</th>\n",
              "      <td>1721</td>\n",
              "      <td>コムシスホールディングス</td>\n",
              "    </tr>\n",
              "    <tr>\n",
              "      <th>4</th>\n",
              "      <td>1801</td>\n",
              "      <td>大成建設</td>\n",
              "    </tr>\n",
              "  </tbody>\n",
              "</table>\n",
              "</div>"
            ],
            "text/plain": [
              "   CODE          NAME\n",
              "0  1332          日本水産\n",
              "1  1333        マルハニチロ\n",
              "2  1605      国際石油開発帝石\n",
              "3  1721  コムシスホールディングス\n",
              "4  1801          大成建設"
            ]
          },
          "metadata": {
            "tags": []
          },
          "execution_count": 3
        }
      ]
    },
    {
      "cell_type": "markdown",
      "metadata": {
        "id": "SkBGmu8vF1QZ",
        "colab_type": "text"
      },
      "source": [
        "## 2018年1月〜2020年8月末までの株価の取得\n",
        "stooq から日本企業の株価を取得する。\n",
        "ただし，stooq には１日あたりのアクセス数制限があるため，取得したデータを pickle 形式で保存しておく。"
      ]
    },
    {
      "cell_type": "code",
      "metadata": {
        "id": "xhu70t2XF1Qa",
        "colab_type": "code",
        "colab": {},
        "outputId": "ed5f6e4d-8f6c-4a51-b490-beb4120397be"
      },
      "source": [
        "from pandas_datareader import data\n",
        "from datetime import datetime\n",
        "\n",
        "start=datetime(2018, 1, 1)\n",
        "end=datetime(2020, 8, 31)\n",
        "\n",
        "df = {}\n",
        "for i in range(len(nikkei)):\n",
        "    code = str(nikkei['CODE'][i])\n",
        "    name = nikkei['NAME'][i] \n",
        "    print(i+1, nikkei['NAME'][i], nikkei['CODE'][i]) # 動作チェック用\n",
        "    df_tmp = data.DataReader(code + '.JP', 'stooq', start, end)\n",
        "    # データを古い日付から新しい日付に並べ直す (index の並び替え)\n",
        "    df[(code, name)] = df_tmp.sort_index()\n",
        "\n",
        "# stooq は１日あたりアクセス制限 (daily rate limit) があるため，\n",
        "# 株価データを pickle に形式で保存する\n",
        "import pickle\n",
        "with open(\"/content/drive/My Drive/BASE2/EconomicData/nikkei225_stock.pickle\", \"wb\") as f:\n",
        "    pickle.dump(df, f)"
      ],
      "execution_count": null,
      "outputs": [
        {
          "output_type": "stream",
          "text": [
            "1 日本水産 1332\n",
            "2 マルハニチロ 1333\n",
            "3 国際石油開発帝石 1605\n",
            "4 コムシスホールディングス 1721\n",
            "5 大成建設 1801\n",
            "6 大林組 1802\n",
            "7 清水建設 1803\n",
            "8 長谷工コーポレーション 1808\n",
            "9 鹿島 1812\n",
            "10 大和ハウス工業 1925\n",
            "11 積水ハウス 1928\n",
            "12 日揮ホールディングス 1963\n",
            "13 日清製粉グループ本社 2002\n",
            "14 明治ホールディングス 2269\n",
            "15 日本ハム 2282\n",
            "16 ディー・エヌ・エー 2432\n",
            "17 サッポロホールディングス 2501\n",
            "18 アサヒグループホールディングス 2502\n",
            "19 キリンホールディングス 2503\n",
            "20 宝ホールディングス 2531\n",
            "21 双日 2768\n",
            "22 キッコーマン 2801\n",
            "23 味の素 2802\n",
            "24 ニチレイ 2871\n",
            "25 ＪＴ 2914\n",
            "26 Ｊ．フロント　リテイリング 3086\n",
            "27 三越伊勢丹ホールディングス 3099\n",
            "28 東洋紡 3101\n",
            "29 ユニチカ 3103\n",
            "30 日清紡ホールディングス 3105\n",
            "31 東急不動産ホールディングス 3289\n",
            "32 セブン＆アイ・ホールディングス 3382\n",
            "33 帝人 3401\n",
            "34 東レ 3402\n",
            "35 クラレ 3405\n",
            "36 旭化成 3407\n",
            "37 ＳＵＭＣＯ 3436\n",
            "38 王子ホールディングス 3861\n",
            "39 日本製紙 3863\n",
            "40 昭和電工 4004\n",
            "41 住友化学 4005\n",
            "42 日産化学 4021\n",
            "43 東ソー 4042\n",
            "44 トクヤマ 4043\n",
            "45 デンカ 4061\n",
            "46 信越化学工業 4063\n",
            "47 協和発酵キリン 4151\n",
            "48 三井化学 4183\n",
            "49 三菱ケミカルホールディングス 4188\n",
            "50 宇部興産 4208\n",
            "51 日本化薬 4272\n",
            "52 電通 4324\n",
            "53 花王 4452\n",
            "54 武田薬品工業 4502\n",
            "55 アステラス製薬 4503\n",
            "56 大日本住友製薬 4506\n",
            "57 塩野義製薬 4507\n",
            "58 中外製薬 4519\n",
            "59 エーザイ 4523\n",
            "60 テルモ 4543\n",
            "61 第一三共 4568\n",
            "62 大塚ホールディングス 4578\n",
            "63 ＤＩＣ 4631\n",
            "64 Ｚホールディングス 4689\n",
            "65 トレンドマイクロ 4704\n",
            "66 サイバーエージェント 4751\n",
            "67 楽天 4755\n",
            "68 富士フイルムホールディングス 4901\n",
            "69 コニカミノルタ 4902\n",
            "70 資生堂 4911\n",
            "71 出光興産 5019\n",
            "72 ＪＸＴＧホールディングス 5020\n",
            "73 横浜ゴム 5101\n",
            "74 ブリヂストン 5108\n",
            "75 ＡＧＣ 5201\n",
            "76 日本板硝子 5202\n",
            "77 日本電気硝子 5214\n",
            "78 住友大阪セメント 5232\n",
            "79 太平洋セメント 5233\n",
            "80 東海カーボン 5301\n",
            "81 ＴＯＴＯ 5332\n",
            "82 日本ガイシ 5333\n",
            "83 日本製鉄 5401\n",
            "84 神戸製鋼所 5406\n",
            "85 ジェイ　エフ　イー　ホールディングス 5411\n",
            "86 大平洋金属 5541\n",
            "87 日本製鋼所 5631\n",
            "88 日本軽金属ホールディングス 5703\n",
            "89 三井金属 5706\n",
            "90 東邦亜鉛 5707\n",
            "91 三菱マテリアル 5711\n",
            "92 住友金属鉱山 5713\n",
            "93 ＤＯＷＡホールディングス 5714\n",
            "94 古河電気工業 5801\n",
            "95 住友電気工業 5802\n",
            "96 フジクラ 5803\n",
            "97 東洋製罐グループホールディングス 5901\n",
            "98 リクルートホールディングス 6098\n",
            "99 オークマ 6103\n",
            "100 アマダホールディングス 6113\n",
            "101 日本郵政 6178\n",
            "102 コマツ 6301\n",
            "103 住友重機械工業 6302\n",
            "104 日立建機 6305\n",
            "105 クボタ 6326\n",
            "106 荏原 6361\n",
            "107 千代田化工建設 6366\n",
            "108 ダイキン工業 6367\n",
            "109 日本精工 6471\n",
            "110 ＮＴＮ 6472\n",
            "111 ジェイテクト 6473\n",
            "112 ミネベアミツミ 6479\n",
            "113 日立製作所 6501\n",
            "114 三菱電機 6503\n",
            "115 富士電機 6504\n",
            "116 安川電機 6506\n",
            "117 オムロン 6645\n",
            "118 ジーエス・ユアサ　コーポレーション 6674\n",
            "119 ＮＥＣ 6701\n",
            "120 富士通 6702\n",
            "121 ＯＫＩ 6703\n",
            "122 セイコーエプソン 6724\n",
            "123 パナソニック 6752\n",
            "124 ソニー 6758\n",
            "125 ＴＤＫ 6762\n",
            "126 アルプスアルパイン 6770\n",
            "127 横河電機 6841\n",
            "128 アドバンテスト 6857\n",
            "129 デンソー 6902\n",
            "130 カシオ計算機 6952\n",
            "131 ファナック 6954\n",
            "132 京セラ 6971\n",
            "133 太陽誘電 6976\n",
            "134 日東電工 6988\n",
            "135 三井Ｅ＆Ｓホールディングス 7003\n",
            "136 日立造船 7004\n",
            "137 三菱重工業 7011\n",
            "138 川崎重工業 7012\n",
            "139 ＩＨＩ 7013\n",
            "140 コンコルディア・フィナンシャルグループ 7186\n",
            "141 日産自動車 7201\n",
            "142 いすゞ自動車 7202\n",
            "143 トヨタ自動車 7203\n",
            "144 日野自動車 7205\n",
            "145 三菱自動車 7211\n",
            "146 マツダ 7261\n",
            "147 ホンダ 7267\n",
            "148 スズキ 7269\n",
            "149 ＳＵＢＡＲＵ 7270\n",
            "150 ヤマハ発動機 7272\n",
            "151 ニコン 7731\n",
            "152 オリンパス 7733\n",
            "153 ＳＣＲＥＥＮホールディングス 7735\n",
            "154 キヤノン 7751\n",
            "155 リコー 7752\n",
            "156 シチズン時計 7762\n",
            "157 凸版印刷 7911\n",
            "158 大日本印刷 7912\n",
            "159 ヤマハ 7951\n",
            "160 伊藤忠商事 8001\n",
            "161 丸紅 8002\n",
            "162 豊田通商 8015\n",
            "163 ファミリーマート 8028\n",
            "164 三井物産 8031\n",
            "165 東京エレクトロン 8035\n",
            "166 住友商事 8053\n",
            "167 三菱商事 8058\n",
            "168 高島屋 8233\n",
            "169 丸井グループ 8252\n",
            "170 クレディセゾン 8253\n",
            "171 イオン 8267\n",
            "172 新生銀行 8303\n",
            "173 あおぞら銀行 8304\n",
            "174 三菱ＵＦＪフィナンシャル・グループ 8306\n",
            "175 りそなホールディングス 8308\n",
            "176 三井住友トラスト・ホールディングス 8309\n",
            "177 三井住友フィナンシャルグループ 8316\n",
            "178 千葉銀行 8331\n",
            "179 ふくおかフィナンシャルグループ 8354\n",
            "180 静岡銀行 8355\n",
            "181 みずほフィナンシャルグループ 8411\n",
            "182 大和証券グループ本社 8601\n",
            "183 野村ホールディングス 8604\n",
            "184 松井証券 8628\n",
            "185 ＳＯＭＰＯホールディングス 8630\n",
            "186 ＭＳ＆ＡＤインシュアランスグループホールディングス 8725\n",
            "187 ソニーフィナンシャルホールディングス 8729\n",
            "188 第一生命ホールディングス 8750\n",
            "189 東京海上ホールディングス 8766\n",
            "190 Ｔ＆Ｄホールディングス 8795\n",
            "191 三井不動産 8801\n",
            "192 三菱地所 8802\n",
            "193 東京建物 8804\n",
            "194 住友不動産 8830\n",
            "195 東武鉄道 9001\n",
            "196 東急 9005\n",
            "197 小田急電鉄 9007\n",
            "198 京王電鉄 9008\n",
            "199 京成電鉄 9009\n",
            "200 東日本旅客鉄道 9020\n",
            "201 西日本旅客鉄道 9021\n",
            "202 東海旅客鉄道 9022\n",
            "203 日本通運 9062\n",
            "204 ヤマトホールディングス 9064\n",
            "205 日本郵船 9101\n",
            "206 商船三井 9104\n",
            "207 川崎汽船 9107\n",
            "208 ＡＮＡホールディングス 9202\n",
            "209 三菱倉庫 9301\n",
            "210 スカパーＪＳＡＴホールディングス 9412\n",
            "211 日本電信電話 9432\n",
            "212 ＫＤＤＩ 9433\n",
            "213 ＮＴＴドコモ 9437\n",
            "214 東京電力ホールディングス 9501\n",
            "215 中部電力 9502\n",
            "216 関西電力 9503\n",
            "217 東京ガス 9531\n",
            "218 大阪ガス 9532\n",
            "219 東宝 9602\n",
            "220 ＮＴＴデータ 9613\n",
            "221 東京ドーム 9681\n",
            "222 セコム 9735\n",
            "223 コナミホールディングス 9766\n",
            "224 ファーストリテイリング 9983\n",
            "225 ソフトバンクグループ 9984\n"
          ],
          "name": "stdout"
        }
      ]
    },
    {
      "cell_type": "code",
      "metadata": {
        "id": "xPItij8RF1Qh",
        "colab_type": "code",
        "colab": {}
      },
      "source": [
        "# 変数 df の全体像は以下のとおり：\n",
        "# 辞書とデータフレームが混ざっているため，ちょっと分かりにくい\n",
        "# (メモ) 授業コンテンツとしては実行しない（出力がかなり長いため）\n",
        "df"
      ],
      "execution_count": null,
      "outputs": []
    },
    {
      "cell_type": "markdown",
      "metadata": {
        "id": "5mCIoUFiGn7m",
        "colab_type": "text"
      },
      "source": [
        "### 日経平均銘柄の株価データの読み込み\n",
        "予め pickle へ保存した株価データを読み込む。"
      ]
    },
    {
      "cell_type": "code",
      "metadata": {
        "id": "n2AzFvRTGy-o",
        "colab_type": "code",
        "colab": {}
      },
      "source": [
        "import pickle\n",
        "with open(\"/content/drive/My Drive/BASE2/EconomicData/nikkei225_stock.pickle\", \"rb\") as f:\n",
        "  df = pickle.load(f)"
      ],
      "execution_count": 5,
      "outputs": []
    },
    {
      "cell_type": "code",
      "metadata": {
        "id": "eFBctwJ9F1Qr",
        "colab_type": "code",
        "colab": {},
        "outputId": "f9be4658-313b-4f76-bace-b44d54239529"
      },
      "source": [
        "# 日本水産のみを取り出した結果は（いつもの）データフレーム\n",
        "df[('1332', '日本水産')]"
      ],
      "execution_count": null,
      "outputs": [
        {
          "output_type": "execute_result",
          "data": {
            "text/html": [
              "<div>\n",
              "<style scoped>\n",
              "    .dataframe tbody tr th:only-of-type {\n",
              "        vertical-align: middle;\n",
              "    }\n",
              "\n",
              "    .dataframe tbody tr th {\n",
              "        vertical-align: top;\n",
              "    }\n",
              "\n",
              "    .dataframe thead th {\n",
              "        text-align: right;\n",
              "    }\n",
              "</style>\n",
              "<table border=\"1\" class=\"dataframe\">\n",
              "  <thead>\n",
              "    <tr style=\"text-align: right;\">\n",
              "      <th></th>\n",
              "      <th>Open</th>\n",
              "      <th>High</th>\n",
              "      <th>Low</th>\n",
              "      <th>Close</th>\n",
              "      <th>Volume</th>\n",
              "    </tr>\n",
              "    <tr>\n",
              "      <th>Date</th>\n",
              "      <th></th>\n",
              "      <th></th>\n",
              "      <th></th>\n",
              "      <th></th>\n",
              "      <th></th>\n",
              "    </tr>\n",
              "  </thead>\n",
              "  <tbody>\n",
              "    <tr>\n",
              "      <td>2018-01-04</td>\n",
              "      <td>575.55</td>\n",
              "      <td>576.51</td>\n",
              "      <td>567.80</td>\n",
              "      <td>570.70</td>\n",
              "      <td>5197892</td>\n",
              "    </tr>\n",
              "    <tr>\n",
              "      <td>2018-01-05</td>\n",
              "      <td>573.60</td>\n",
              "      <td>574.58</td>\n",
              "      <td>568.78</td>\n",
              "      <td>570.70</td>\n",
              "      <td>3500585</td>\n",
              "    </tr>\n",
              "    <tr>\n",
              "      <td>2018-01-09</td>\n",
              "      <td>573.60</td>\n",
              "      <td>578.44</td>\n",
              "      <td>571.67</td>\n",
              "      <td>576.51</td>\n",
              "      <td>5147961</td>\n",
              "    </tr>\n",
              "    <tr>\n",
              "      <td>2018-01-10</td>\n",
              "      <td>578.44</td>\n",
              "      <td>589.09</td>\n",
              "      <td>577.48</td>\n",
              "      <td>586.17</td>\n",
              "      <td>5396695</td>\n",
              "    </tr>\n",
              "    <tr>\n",
              "      <td>2018-01-11</td>\n",
              "      <td>585.21</td>\n",
              "      <td>586.17</td>\n",
              "      <td>580.37</td>\n",
              "      <td>584.25</td>\n",
              "      <td>4471228</td>\n",
              "    </tr>\n",
              "    <tr>\n",
              "      <td>...</td>\n",
              "      <td>...</td>\n",
              "      <td>...</td>\n",
              "      <td>...</td>\n",
              "      <td>...</td>\n",
              "      <td>...</td>\n",
              "    </tr>\n",
              "    <tr>\n",
              "      <td>2020-08-25</td>\n",
              "      <td>484.00</td>\n",
              "      <td>489.00</td>\n",
              "      <td>483.00</td>\n",
              "      <td>488.00</td>\n",
              "      <td>1276900</td>\n",
              "    </tr>\n",
              "    <tr>\n",
              "      <td>2020-08-26</td>\n",
              "      <td>486.00</td>\n",
              "      <td>486.00</td>\n",
              "      <td>482.00</td>\n",
              "      <td>484.00</td>\n",
              "      <td>602900</td>\n",
              "    </tr>\n",
              "    <tr>\n",
              "      <td>2020-08-27</td>\n",
              "      <td>481.00</td>\n",
              "      <td>481.00</td>\n",
              "      <td>471.00</td>\n",
              "      <td>471.00</td>\n",
              "      <td>1579600</td>\n",
              "    </tr>\n",
              "    <tr>\n",
              "      <td>2020-08-28</td>\n",
              "      <td>474.00</td>\n",
              "      <td>484.00</td>\n",
              "      <td>466.00</td>\n",
              "      <td>471.00</td>\n",
              "      <td>2315100</td>\n",
              "    </tr>\n",
              "    <tr>\n",
              "      <td>2020-08-31</td>\n",
              "      <td>475.00</td>\n",
              "      <td>484.00</td>\n",
              "      <td>475.00</td>\n",
              "      <td>476.00</td>\n",
              "      <td>1461200</td>\n",
              "    </tr>\n",
              "  </tbody>\n",
              "</table>\n",
              "<p>646 rows × 5 columns</p>\n",
              "</div>"
            ],
            "text/plain": [
              "              Open    High     Low   Close   Volume\n",
              "Date                                               \n",
              "2018-01-04  575.55  576.51  567.80  570.70  5197892\n",
              "2018-01-05  573.60  574.58  568.78  570.70  3500585\n",
              "2018-01-09  573.60  578.44  571.67  576.51  5147961\n",
              "2018-01-10  578.44  589.09  577.48  586.17  5396695\n",
              "2018-01-11  585.21  586.17  580.37  584.25  4471228\n",
              "...            ...     ...     ...     ...      ...\n",
              "2020-08-25  484.00  489.00  483.00  488.00  1276900\n",
              "2020-08-26  486.00  486.00  482.00  484.00   602900\n",
              "2020-08-27  481.00  481.00  471.00  471.00  1579600\n",
              "2020-08-28  474.00  484.00  466.00  471.00  2315100\n",
              "2020-08-31  475.00  484.00  475.00  476.00  1461200\n",
              "\n",
              "[646 rows x 5 columns]"
            ]
          },
          "metadata": {
            "tags": []
          },
          "execution_count": 6
        }
      ]
    },
    {
      "cell_type": "code",
      "metadata": {
        "id": "g4_lACAZF1Qx",
        "colab_type": "code",
        "colab": {},
        "outputId": "3bf42d84-90dc-41cd-ac66-6be5b71c1cb7"
      },
      "source": [
        "# 終値(Close)および 2020年のデータのみ取り出したい場合，次のように指定する\n",
        "df[('1332', '日本水産')]['Close']['2020']"
      ],
      "execution_count": null,
      "outputs": [
        {
          "output_type": "execute_result",
          "data": {
            "text/plain": [
              "Date\n",
              "2020-01-06    623.50\n",
              "2020-01-07    631.43\n",
              "2020-01-08    614.58\n",
              "2020-01-09    623.50\n",
              "2020-01-10    621.52\n",
              "               ...  \n",
              "2020-08-25    488.00\n",
              "2020-08-26    484.00\n",
              "2020-08-27    471.00\n",
              "2020-08-28    471.00\n",
              "2020-08-31    476.00\n",
              "Name: Close, Length: 160, dtype: float64"
            ]
          },
          "metadata": {
            "tags": []
          },
          "execution_count": 7
        }
      ]
    },
    {
      "cell_type": "code",
      "metadata": {
        "id": "QcjeOfp5F1Q5",
        "colab_type": "code",
        "colab": {},
        "outputId": "587b42a4-b728-4280-f568-34ee3afd54db"
      },
      "source": [
        "# 日本水産の2020年の終値(Close)の騰落率\n",
        "data = df[('1332', '日本水産')]['Close']['2020']\n",
        "(data[-1] - data[0])/data[0] # (476.0 - 623.50) / 623.50 = -0.23656"
      ],
      "execution_count": null,
      "outputs": [
        {
          "output_type": "execute_result",
          "data": {
            "text/plain": [
              "-0.23656776263031276"
            ]
          },
          "metadata": {
            "tags": []
          },
          "execution_count": 9
        }
      ]
    },
    {
      "cell_type": "code",
      "metadata": {
        "id": "K3Nu85tBF1Q_",
        "colab_type": "code",
        "colab": {}
      },
      "source": [
        "# 騰落率を記録するデータフレーム change_rate の生成\n",
        "# 手順は以下のとおり：\n",
        "# 騰落率をリスト diff_ratio へ保存し，その後に pandas データフレームへ変換\n",
        "# → 日経平均企業のコード・社名と紐付ける\n",
        "diff_ratio = list()\n",
        "for (code, name) in df:\n",
        "    # print(code, name)\n",
        "    \n",
        "    # 2019年の各日の終値を取り出す\n",
        "    data = df[(code, name)]['Close']['2019']\n",
        "\n",
        "    # 2019年の騰落率を求め，diff_ratio へ追加\n",
        "    diff_ratio.append((data[-1] - data[0])/data[0])\n",
        "\n",
        "# データフレームへ変換\n",
        "change_rate = pd.DataFrame({'DiffRatio':diff_ratio})\n",
        "\n",
        "# 日経平均企業のコード・社名と騰落率 (DiffRatio)の連結\n",
        "change_rate = pd.concat([nikkei, change_rate], axis=1)"
      ],
      "execution_count": null,
      "outputs": []
    },
    {
      "cell_type": "code",
      "metadata": {
        "scrolled": true,
        "id": "P6TNbJPwF1RC",
        "colab_type": "code",
        "colab": {},
        "outputId": "2c65903c-b877-4cc7-b4ed-dd9aef7260d0"
      },
      "source": [
        "change_rate.head()"
      ],
      "execution_count": null,
      "outputs": [
        {
          "output_type": "execute_result",
          "data": {
            "text/html": [
              "<div>\n",
              "<style scoped>\n",
              "    .dataframe tbody tr th:only-of-type {\n",
              "        vertical-align: middle;\n",
              "    }\n",
              "\n",
              "    .dataframe tbody tr th {\n",
              "        vertical-align: top;\n",
              "    }\n",
              "\n",
              "    .dataframe thead th {\n",
              "        text-align: right;\n",
              "    }\n",
              "</style>\n",
              "<table border=\"1\" class=\"dataframe\">\n",
              "  <thead>\n",
              "    <tr style=\"text-align: right;\">\n",
              "      <th></th>\n",
              "      <th>CODE</th>\n",
              "      <th>NAME</th>\n",
              "      <th>DiffRatio</th>\n",
              "    </tr>\n",
              "  </thead>\n",
              "  <tbody>\n",
              "    <tr>\n",
              "      <td>0</td>\n",
              "      <td>1332</td>\n",
              "      <td>日本水産</td>\n",
              "      <td>0.072074</td>\n",
              "    </tr>\n",
              "    <tr>\n",
              "      <td>1</td>\n",
              "      <td>1333</td>\n",
              "      <td>マルハニチロ</td>\n",
              "      <td>-0.230870</td>\n",
              "    </tr>\n",
              "    <tr>\n",
              "      <td>2</td>\n",
              "      <td>1605</td>\n",
              "      <td>国際石油開発帝石</td>\n",
              "      <td>0.196406</td>\n",
              "    </tr>\n",
              "    <tr>\n",
              "      <td>3</td>\n",
              "      <td>1721</td>\n",
              "      <td>コムシスホールディングス</td>\n",
              "      <td>0.198130</td>\n",
              "    </tr>\n",
              "    <tr>\n",
              "      <td>4</td>\n",
              "      <td>1801</td>\n",
              "      <td>大成建設</td>\n",
              "      <td>-0.000500</td>\n",
              "    </tr>\n",
              "  </tbody>\n",
              "</table>\n",
              "</div>"
            ],
            "text/plain": [
              "   CODE          NAME  DiffRatio\n",
              "0  1332          日本水産   0.072074\n",
              "1  1333        マルハニチロ  -0.230870\n",
              "2  1605      国際石油開発帝石   0.196406\n",
              "3  1721  コムシスホールディングス   0.198130\n",
              "4  1801          大成建設  -0.000500"
            ]
          },
          "metadata": {
            "tags": []
          },
          "execution_count": 11
        }
      ]
    },
    {
      "cell_type": "markdown",
      "metadata": {
        "id": "QgOmTwnxF1RH",
        "colab_type": "text"
      },
      "source": [
        "## ここまでのプログラムをまとめる"
      ]
    },
    {
      "cell_type": "code",
      "metadata": {
        "id": "Ay6qe3arF1RI",
        "colab_type": "code",
        "colab": {}
      },
      "source": [
        "import pandas as pd\n",
        "import pickle\n",
        "\n",
        "# NIKKEI225_CODE.csv から企業名および株価コードを読み込む\n",
        "nikkei = pd.read_csv(\"/content/drive/My Drive/BASE2/EconomicData/NIKKEI225_CODE.csv\")\n",
        "\n",
        "# 予め保存した pickle から日経平均株価データを取得\n",
        "with open(\"/content/drive/My Drive/BASE2/EconomicData/nikkei225_stock.pickle\", \"rb\") as f:\n",
        "    df = pickle.load(f)\n",
        "\n",
        "# 騰落率を記録するデータフレーム change_rate の生成\n",
        "# 手順は以下のとおり：\n",
        "# 騰落率をリスト diff_ratio へ保存し，その後に pandas データフレームへ変換\n",
        "# → 日経平均企業のコード・社名と紐付ける\n",
        "diff_ratio = list()\n",
        "for (code, name) in df:\n",
        "    # print(code, name)\n",
        "    \n",
        "    # 2019年の各日の終値を取り出す\n",
        "    data = df[(code, name)]['Close']['2019']\n",
        "\n",
        "    # 2019年の騰落率を求め，diff_ratio へ追加\n",
        "    diff_ratio.append((data[-1] - data[0])/data[0])\n",
        "\n",
        "# データフレームへ変換\n",
        "change_rate = pd.DataFrame({'DiffRatio':diff_ratio})\n",
        "\n",
        "# 日経平均企業のコード・社名と騰落率 (DiffRatio)の連結\n",
        "change_rate = pd.concat([nikkei, change_rate], axis=1)"
      ],
      "execution_count": 13,
      "outputs": []
    },
    {
      "cell_type": "markdown",
      "metadata": {
        "id": "YLbM4tA3F1RM",
        "colab_type": "text"
      },
      "source": [
        "## 分析結果の評価\n",
        "騰落率の観点から\n",
        "- 全体像を眺める → 騰落率の棒グラフ\n",
        "- 騰落率の高い（プラス）の企業群および騰落率の低い（マイナス）の企業群 → ソートしてリストアップ"
      ]
    },
    {
      "cell_type": "code",
      "metadata": {
        "scrolled": true,
        "id": "utXmtHPAF1RO",
        "colab_type": "code",
        "colab": {
          "base_uri": "https://localhost:8080/",
          "height": 377
        },
        "outputId": "b5feb847-a4b8-4e28-fae3-c75b4d0724c4"
      },
      "source": [
        "# 各社の騰落率の可視化\n",
        "# → 2019年はプラスの企業が多い\n",
        "change_rate['DiffRatio'].plot(kind='bar', figsize=(30, 10))"
      ],
      "execution_count": 8,
      "outputs": [
        {
          "output_type": "execute_result",
          "data": {
            "text/plain": [
              "<matplotlib.axes._subplots.AxesSubplot at 0x7fe4a4e756a0>"
            ]
          },
          "metadata": {
            "tags": []
          },
          "execution_count": 8
        },
        {
          "output_type": "display_data",
          "data": {
            "image/png": "[encoded data removed]",
            "text/plain": [
              "<Figure size 2160x720 with 1 Axes>"
            ]
          },
          "metadata": {
            "tags": [],
            "needs_background": "light"
          }
        }
      ]
    },
    {
      "cell_type": "code",
      "metadata": {
        "id": "2q9xN0qrF1RX",
        "colab_type": "code",
        "colab": {
          "base_uri": "https://localhost:8080/",
          "height": 542
        },
        "outputId": "60127532-8a84-4dac-dcf1-4884b4a0f2b9"
      },
      "source": [
        "# 各社の騰落率の可視化（上図は個々の企業が分かりにくいため，plotly で棒グラフを描く）\n",
        "# → 最も騰落率が高い企業はどこ？\n",
        "import plotly.express as px\n",
        "fig = px.bar(change_rate, x='NAME', y='DiffRatio')\n",
        "fig.show()"
      ],
      "execution_count": 9,
      "outputs": [
        {
          "output_type": "display_data",
          "data": {
            "text/html": [
              "<html>\n",
              "<head><meta charset=\"utf-8\" /></head>\n",
              "<body>\n",
              "    <div>\n",
              "            <script src=\"https://cdnjs.cloudflare.com/ajax/libs/mathjax/2.7.5/MathJax.js?config=TeX-AMS-MML_SVG\"></script><script type=\"text/javascript\">if (window.MathJax) {MathJax.Hub.Config({SVG: {font: \"STIX-Web\"}});}</script>\n",
              "                <script type=\"text/javascript\">window.PlotlyConfig = {MathJaxConfig: 'local'};</script>\n",
              "        <script src=\"https://cdn.plot.ly/plotly-latest.min.js\"></script>    \n",
              "            <div id=\"054181ac-6c3d-4a24-a752-26f5d81f2443\" class=\"plotly-graph-div\" style=\"height:525px; width:100%;\"></div>\n",
              "            <script type=\"text/javascript\">\n",
              "                \n",
              "                    window.PLOTLYENV=window.PLOTLYENV || {};\n",
              "                    \n",
              "                if (document.getElementById(\"054181ac-6c3d-4a24-a752-26f5d81f2443\")) {\n",
              "                    Plotly.newPlot(\n",
              "                        '054181ac-6c3d-4a24-a752-26f5d81f2443',\n",
              "                        [{\"alignmentgroup\": \"True\", \"hoverlabel\": {\"namelength\": 0}, \"hovertemplate\": \"NAME=%{x}<br>DiffRatio=%{y}\", \"legendgroup\": \"\", \"marker\": {\"color\": \"#636efa\"}, \"name\": \"\", \"offsetgroup\": \"\", \"orientation\": \"v\", \"showlegend\": false, \"textposition\": \"auto\", \"type\": \"bar\", \"x\": [\"\\u65e5\\u672c\\u6c34\\u7523\", \"\\u30de\\u30eb\\u30cf\\u30cb\\u30c1\\u30ed\", \"\\u56fd\\u969b\\u77f3\\u6cb9\\u958b\\u767a\\u5e1d\\u77f3\", \"\\u30b3\\u30e0\\u30b7\\u30b9\\u30db\\u30fc\\u30eb\\u30c7\\u30a3\\u30f3\\u30b0\\u30b9\", \"\\u5927\\u6210\\u5efa\\u8a2d\", \"\\u5927\\u6797\\u7d44\", \"\\u6e05\\u6c34\\u5efa\\u8a2d\", \"\\u9577\\u8c37\\u5de5\\u30b3\\u30fc\\u30dd\\u30ec\\u30fc\\u30b7\\u30e7\\u30f3\", \"\\u9e7f\\u5cf6\", \"\\u5927\\u548c\\u30cf\\u30a6\\u30b9\\u5de5\\u696d\", \"\\u7a4d\\u6c34\\u30cf\\u30a6\\u30b9\", \"\\u65e5\\u63ee\\u30db\\u30fc\\u30eb\\u30c7\\u30a3\\u30f3\\u30b0\\u30b9\", \"\\u65e5\\u6e05\\u88fd\\u7c89\\u30b0\\u30eb\\u30fc\\u30d7\\u672c\\u793e\", \"\\u660e\\u6cbb\\u30db\\u30fc\\u30eb\\u30c7\\u30a3\\u30f3\\u30b0\\u30b9\", \"\\u65e5\\u672c\\u30cf\\u30e0\", \"\\u30c7\\u30a3\\u30fc\\u30fb\\u30a8\\u30cc\\u30fb\\u30a8\\u30fc\", \"\\u30b5\\u30c3\\u30dd\\u30ed\\u30db\\u30fc\\u30eb\\u30c7\\u30a3\\u30f3\\u30b0\\u30b9\", \"\\u30a2\\u30b5\\u30d2\\u30b0\\u30eb\\u30fc\\u30d7\\u30db\\u30fc\\u30eb\\u30c7\\u30a3\\u30f3\\u30b0\\u30b9\", \"\\u30ad\\u30ea\\u30f3\\u30db\\u30fc\\u30eb\\u30c7\\u30a3\\u30f3\\u30b0\\u30b9\", \"\\u5b9d\\u30db\\u30fc\\u30eb\\u30c7\\u30a3\\u30f3\\u30b0\\u30b9\", \"\\u53cc\\u65e5\", \"\\u30ad\\u30c3\\u30b3\\u30fc\\u30de\\u30f3\", \"\\u5473\\u306e\\u7d20\", \"\\u30cb\\u30c1\\u30ec\\u30a4\", \"\\uff2a\\uff34\", \"\\uff2a\\uff0e\\u30d5\\u30ed\\u30f3\\u30c8\\u3000\\u30ea\\u30c6\\u30a4\\u30ea\\u30f3\\u30b0\", \"\\u4e09\\u8d8a\\u4f0a\\u52e2\\u4e39\\u30db\\u30fc\\u30eb\\u30c7\\u30a3\\u30f3\\u30b0\\u30b9\", \"\\u6771\\u6d0b\\u7d21\", \"\\u30e6\\u30cb\\u30c1\\u30ab\", \"\\u65e5\\u6e05\\u7d21\\u30db\\u30fc\\u30eb\\u30c7\\u30a3\\u30f3\\u30b0\\u30b9\", \"\\u6771\\u6025\\u4e0d\\u52d5\\u7523\\u30db\\u30fc\\u30eb\\u30c7\\u30a3\\u30f3\\u30b0\\u30b9\", \"\\u30bb\\u30d6\\u30f3\\uff06\\u30a2\\u30a4\\u30fb\\u30db\\u30fc\\u30eb\\u30c7\\u30a3\\u30f3\\u30b0\\u30b9\", \"\\u5e1d\\u4eba\", \"\\u6771\\u30ec\", \"\\u30af\\u30e9\\u30ec\", \"\\u65ed\\u5316\\u6210\", \"\\uff33\\uff35\\uff2d\\uff23\\uff2f\", \"\\u738b\\u5b50\\u30db\\u30fc\\u30eb\\u30c7\\u30a3\\u30f3\\u30b0\\u30b9\", \"\\u65e5\\u672c\\u88fd\\u7d19\", \"\\u662d\\u548c\\u96fb\\u5de5\", \"\\u4f4f\\u53cb\\u5316\\u5b66\", \"\\u65e5\\u7523\\u5316\\u5b66\", \"\\u6771\\u30bd\\u30fc\", \"\\u30c8\\u30af\\u30e4\\u30de\", \"\\u30c7\\u30f3\\u30ab\", \"\\u4fe1\\u8d8a\\u5316\\u5b66\\u5de5\\u696d\", \"\\u5354\\u548c\\u767a\\u9175\\u30ad\\u30ea\\u30f3\", \"\\u4e09\\u4e95\\u5316\\u5b66\", \"\\u4e09\\u83f1\\u30b1\\u30df\\u30ab\\u30eb\\u30db\\u30fc\\u30eb\\u30c7\\u30a3\\u30f3\\u30b0\\u30b9\", \"\\u5b87\\u90e8\\u8208\\u7523\", \"\\u65e5\\u672c\\u5316\\u85ac\", \"\\u96fb\\u901a\", \"\\u82b1\\u738b\", \"\\u6b66\\u7530\\u85ac\\u54c1\\u5de5\\u696d\", \"\\u30a2\\u30b9\\u30c6\\u30e9\\u30b9\\u88fd\\u85ac\", \"\\u5927\\u65e5\\u672c\\u4f4f\\u53cb\\u88fd\\u85ac\", \"\\u5869\\u91ce\\u7fa9\\u88fd\\u85ac\", \"\\u4e2d\\u5916\\u88fd\\u85ac\", \"\\u30a8\\u30fc\\u30b6\\u30a4\", \"\\u30c6\\u30eb\\u30e2\", \"\\u7b2c\\u4e00\\u4e09\\u5171\", \"\\u5927\\u585a\\u30db\\u30fc\\u30eb\\u30c7\\u30a3\\u30f3\\u30b0\\u30b9\", \"\\uff24\\uff29\\uff23\", \"\\uff3a\\u30db\\u30fc\\u30eb\\u30c7\\u30a3\\u30f3\\u30b0\\u30b9\", \"\\u30c8\\u30ec\\u30f3\\u30c9\\u30de\\u30a4\\u30af\\u30ed\", \"\\u30b5\\u30a4\\u30d0\\u30fc\\u30a8\\u30fc\\u30b8\\u30a7\\u30f3\\u30c8\", \"\\u697d\\u5929\", \"\\u5bcc\\u58eb\\u30d5\\u30a4\\u30eb\\u30e0\\u30db\\u30fc\\u30eb\\u30c7\\u30a3\\u30f3\\u30b0\\u30b9\", \"\\u30b3\\u30cb\\u30ab\\u30df\\u30ce\\u30eb\\u30bf\", \"\\u8cc7\\u751f\\u5802\", \"\\u51fa\\u5149\\u8208\\u7523\", \"\\uff2a\\uff38\\uff34\\uff27\\u30db\\u30fc\\u30eb\\u30c7\\u30a3\\u30f3\\u30b0\\u30b9\", \"\\u6a2a\\u6d5c\\u30b4\\u30e0\", \"\\u30d6\\u30ea\\u30c2\\u30b9\\u30c8\\u30f3\", \"\\uff21\\uff27\\uff23\", \"\\u65e5\\u672c\\u677f\\u785d\\u5b50\", \"\\u65e5\\u672c\\u96fb\\u6c17\\u785d\\u5b50\", \"\\u4f4f\\u53cb\\u5927\\u962a\\u30bb\\u30e1\\u30f3\\u30c8\", \"\\u592a\\u5e73\\u6d0b\\u30bb\\u30e1\\u30f3\\u30c8\", \"\\u6771\\u6d77\\u30ab\\u30fc\\u30dc\\u30f3\", \"\\uff34\\uff2f\\uff34\\uff2f\", \"\\u65e5\\u672c\\u30ac\\u30a4\\u30b7\", \"\\u65e5\\u672c\\u88fd\\u9244\", \"\\u795e\\u6238\\u88fd\\u92fc\\u6240\", \"\\u30b8\\u30a7\\u30a4\\u3000\\u30a8\\u30d5\\u3000\\u30a4\\u30fc\\u3000\\u30db\\u30fc\\u30eb\\u30c7\\u30a3\\u30f3\\u30b0\\u30b9\", \"\\u5927\\u5e73\\u6d0b\\u91d1\\u5c5e\", \"\\u65e5\\u672c\\u88fd\\u92fc\\u6240\", \"\\u65e5\\u672c\\u8efd\\u91d1\\u5c5e\\u30db\\u30fc\\u30eb\\u30c7\\u30a3\\u30f3\\u30b0\\u30b9\", \"\\u4e09\\u4e95\\u91d1\\u5c5e\", \"\\u6771\\u90a6\\u4e9c\\u925b\", \"\\u4e09\\u83f1\\u30de\\u30c6\\u30ea\\u30a2\\u30eb\", \"\\u4f4f\\u53cb\\u91d1\\u5c5e\\u9271\\u5c71\", \"\\uff24\\uff2f\\uff37\\uff21\\u30db\\u30fc\\u30eb\\u30c7\\u30a3\\u30f3\\u30b0\\u30b9\", \"\\u53e4\\u6cb3\\u96fb\\u6c17\\u5de5\\u696d\", \"\\u4f4f\\u53cb\\u96fb\\u6c17\\u5de5\\u696d\", \"\\u30d5\\u30b8\\u30af\\u30e9\", \"\\u6771\\u6d0b\\u88fd\\u7f50\\u30b0\\u30eb\\u30fc\\u30d7\\u30db\\u30fc\\u30eb\\u30c7\\u30a3\\u30f3\\u30b0\\u30b9\", \"\\u30ea\\u30af\\u30eb\\u30fc\\u30c8\\u30db\\u30fc\\u30eb\\u30c7\\u30a3\\u30f3\\u30b0\\u30b9\", \"\\u30aa\\u30fc\\u30af\\u30de\", \"\\u30a2\\u30de\\u30c0\\u30db\\u30fc\\u30eb\\u30c7\\u30a3\\u30f3\\u30b0\\u30b9\", \"\\u65e5\\u672c\\u90f5\\u653f\", \"\\u30b3\\u30de\\u30c4\", \"\\u4f4f\\u53cb\\u91cd\\u6a5f\\u68b0\\u5de5\\u696d\", \"\\u65e5\\u7acb\\u5efa\\u6a5f\", \"\\u30af\\u30dc\\u30bf\", \"\\u834f\\u539f\", \"\\u5343\\u4ee3\\u7530\\u5316\\u5de5\\u5efa\\u8a2d\", \"\\u30c0\\u30a4\\u30ad\\u30f3\\u5de5\\u696d\", \"\\u65e5\\u672c\\u7cbe\\u5de5\", \"\\uff2e\\uff34\\uff2e\", \"\\u30b8\\u30a7\\u30a4\\u30c6\\u30af\\u30c8\", \"\\u30df\\u30cd\\u30d9\\u30a2\\u30df\\u30c4\\u30df\", \"\\u65e5\\u7acb\\u88fd\\u4f5c\\u6240\", \"\\u4e09\\u83f1\\u96fb\\u6a5f\", \"\\u5bcc\\u58eb\\u96fb\\u6a5f\", \"\\u5b89\\u5ddd\\u96fb\\u6a5f\", \"\\u30aa\\u30e0\\u30ed\\u30f3\", \"\\u30b8\\u30fc\\u30a8\\u30b9\\u30fb\\u30e6\\u30a2\\u30b5\\u3000\\u30b3\\u30fc\\u30dd\\u30ec\\u30fc\\u30b7\\u30e7\\u30f3\", \"\\uff2e\\uff25\\uff23\", \"\\u5bcc\\u58eb\\u901a\", \"\\uff2f\\uff2b\\uff29\", \"\\u30bb\\u30a4\\u30b3\\u30fc\\u30a8\\u30d7\\u30bd\\u30f3\", \"\\u30d1\\u30ca\\u30bd\\u30cb\\u30c3\\u30af\", \"\\u30bd\\u30cb\\u30fc\", \"\\uff34\\uff24\\uff2b\", \"\\u30a2\\u30eb\\u30d7\\u30b9\\u30a2\\u30eb\\u30d1\\u30a4\\u30f3\", \"\\u6a2a\\u6cb3\\u96fb\\u6a5f\", \"\\u30a2\\u30c9\\u30d0\\u30f3\\u30c6\\u30b9\\u30c8\", \"\\u30c7\\u30f3\\u30bd\\u30fc\", \"\\u30ab\\u30b7\\u30aa\\u8a08\\u7b97\\u6a5f\", \"\\u30d5\\u30a1\\u30ca\\u30c3\\u30af\", \"\\u4eac\\u30bb\\u30e9\", \"\\u592a\\u967d\\u8a98\\u96fb\", \"\\u65e5\\u6771\\u96fb\\u5de5\", \"\\u4e09\\u4e95\\uff25\\uff06\\uff33\\u30db\\u30fc\\u30eb\\u30c7\\u30a3\\u30f3\\u30b0\\u30b9\", \"\\u65e5\\u7acb\\u9020\\u8239\", \"\\u4e09\\u83f1\\u91cd\\u5de5\\u696d\", \"\\u5ddd\\u5d0e\\u91cd\\u5de5\\u696d\", \"\\uff29\\uff28\\uff29\", \"\\u30b3\\u30f3\\u30b3\\u30eb\\u30c7\\u30a3\\u30a2\\u30fb\\u30d5\\u30a3\\u30ca\\u30f3\\u30b7\\u30e3\\u30eb\\u30b0\\u30eb\\u30fc\\u30d7\", \"\\u65e5\\u7523\\u81ea\\u52d5\\u8eca\", \"\\u3044\\u3059\\u309e\\u81ea\\u52d5\\u8eca\", \"\\u30c8\\u30e8\\u30bf\\u81ea\\u52d5\\u8eca\", \"\\u65e5\\u91ce\\u81ea\\u52d5\\u8eca\", \"\\u4e09\\u83f1\\u81ea\\u52d5\\u8eca\", \"\\u30de\\u30c4\\u30c0\", \"\\u30db\\u30f3\\u30c0\", \"\\u30b9\\u30ba\\u30ad\", \"\\uff33\\uff35\\uff22\\uff21\\uff32\\uff35\", \"\\u30e4\\u30de\\u30cf\\u767a\\u52d5\\u6a5f\", \"\\u30cb\\u30b3\\u30f3\", \"\\u30aa\\u30ea\\u30f3\\u30d1\\u30b9\", \"\\uff33\\uff23\\uff32\\uff25\\uff25\\uff2e\\u30db\\u30fc\\u30eb\\u30c7\\u30a3\\u30f3\\u30b0\\u30b9\", \"\\u30ad\\u30e4\\u30ce\\u30f3\", \"\\u30ea\\u30b3\\u30fc\", \"\\u30b7\\u30c1\\u30ba\\u30f3\\u6642\\u8a08\", \"\\u51f8\\u7248\\u5370\\u5237\", \"\\u5927\\u65e5\\u672c\\u5370\\u5237\", \"\\u30e4\\u30de\\u30cf\", \"\\u4f0a\\u85e4\\u5fe0\\u5546\\u4e8b\", \"\\u4e38\\u7d05\", \"\\u8c4a\\u7530\\u901a\\u5546\", \"\\u30d5\\u30a1\\u30df\\u30ea\\u30fc\\u30de\\u30fc\\u30c8\", \"\\u4e09\\u4e95\\u7269\\u7523\", \"\\u6771\\u4eac\\u30a8\\u30ec\\u30af\\u30c8\\u30ed\\u30f3\", \"\\u4f4f\\u53cb\\u5546\\u4e8b\", \"\\u4e09\\u83f1\\u5546\\u4e8b\", \"\\u9ad8\\u5cf6\\u5c4b\", \"\\u4e38\\u4e95\\u30b0\\u30eb\\u30fc\\u30d7\", \"\\u30af\\u30ec\\u30c7\\u30a3\\u30bb\\u30be\\u30f3\", \"\\u30a4\\u30aa\\u30f3\", \"\\u65b0\\u751f\\u9280\\u884c\", \"\\u3042\\u304a\\u305e\\u3089\\u9280\\u884c\", \"\\u4e09\\u83f1\\uff35\\uff26\\uff2a\\u30d5\\u30a3\\u30ca\\u30f3\\u30b7\\u30e3\\u30eb\\u30fb\\u30b0\\u30eb\\u30fc\\u30d7\", \"\\u308a\\u305d\\u306a\\u30db\\u30fc\\u30eb\\u30c7\\u30a3\\u30f3\\u30b0\\u30b9\", \"\\u4e09\\u4e95\\u4f4f\\u53cb\\u30c8\\u30e9\\u30b9\\u30c8\\u30fb\\u30db\\u30fc\\u30eb\\u30c7\\u30a3\\u30f3\\u30b0\\u30b9\", \"\\u4e09\\u4e95\\u4f4f\\u53cb\\u30d5\\u30a3\\u30ca\\u30f3\\u30b7\\u30e3\\u30eb\\u30b0\\u30eb\\u30fc\\u30d7\", \"\\u5343\\u8449\\u9280\\u884c\", \"\\u3075\\u304f\\u304a\\u304b\\u30d5\\u30a3\\u30ca\\u30f3\\u30b7\\u30e3\\u30eb\\u30b0\\u30eb\\u30fc\\u30d7\", \"\\u9759\\u5ca1\\u9280\\u884c\", \"\\u307f\\u305a\\u307b\\u30d5\\u30a3\\u30ca\\u30f3\\u30b7\\u30e3\\u30eb\\u30b0\\u30eb\\u30fc\\u30d7\", \"\\u5927\\u548c\\u8a3c\\u5238\\u30b0\\u30eb\\u30fc\\u30d7\\u672c\\u793e\", \"\\u91ce\\u6751\\u30db\\u30fc\\u30eb\\u30c7\\u30a3\\u30f3\\u30b0\\u30b9\", \"\\u677e\\u4e95\\u8a3c\\u5238\", \"\\uff33\\uff2f\\uff2d\\uff30\\uff2f\\u30db\\u30fc\\u30eb\\u30c7\\u30a3\\u30f3\\u30b0\\u30b9\", \"\\uff2d\\uff33\\uff06\\uff21\\uff24\\u30a4\\u30f3\\u30b7\\u30e5\\u30a2\\u30e9\\u30f3\\u30b9\\u30b0\\u30eb\\u30fc\\u30d7\\u30db\\u30fc\\u30eb\\u30c7\\u30a3\\u30f3\\u30b0\\u30b9\", \"\\u30bd\\u30cb\\u30fc\\u30d5\\u30a3\\u30ca\\u30f3\\u30b7\\u30e3\\u30eb\\u30db\\u30fc\\u30eb\\u30c7\\u30a3\\u30f3\\u30b0\\u30b9\", \"\\u7b2c\\u4e00\\u751f\\u547d\\u30db\\u30fc\\u30eb\\u30c7\\u30a3\\u30f3\\u30b0\\u30b9\", \"\\u6771\\u4eac\\u6d77\\u4e0a\\u30db\\u30fc\\u30eb\\u30c7\\u30a3\\u30f3\\u30b0\\u30b9\", \"\\uff34\\uff06\\uff24\\u30db\\u30fc\\u30eb\\u30c7\\u30a3\\u30f3\\u30b0\\u30b9\", \"\\u4e09\\u4e95\\u4e0d\\u52d5\\u7523\", \"\\u4e09\\u83f1\\u5730\\u6240\", \"\\u6771\\u4eac\\u5efa\\u7269\", \"\\u4f4f\\u53cb\\u4e0d\\u52d5\\u7523\", \"\\u6771\\u6b66\\u9244\\u9053\", \"\\u6771\\u6025\", \"\\u5c0f\\u7530\\u6025\\u96fb\\u9244\", \"\\u4eac\\u738b\\u96fb\\u9244\", \"\\u4eac\\u6210\\u96fb\\u9244\", \"\\u6771\\u65e5\\u672c\\u65c5\\u5ba2\\u9244\\u9053\", \"\\u897f\\u65e5\\u672c\\u65c5\\u5ba2\\u9244\\u9053\", \"\\u6771\\u6d77\\u65c5\\u5ba2\\u9244\\u9053\", \"\\u65e5\\u672c\\u901a\\u904b\", \"\\u30e4\\u30de\\u30c8\\u30db\\u30fc\\u30eb\\u30c7\\u30a3\\u30f3\\u30b0\\u30b9\", \"\\u65e5\\u672c\\u90f5\\u8239\", \"\\u5546\\u8239\\u4e09\\u4e95\", \"\\u5ddd\\u5d0e\\u6c7d\\u8239\", \"\\uff21\\uff2e\\uff21\\u30db\\u30fc\\u30eb\\u30c7\\u30a3\\u30f3\\u30b0\\u30b9\", \"\\u4e09\\u83f1\\u5009\\u5eab\", \"\\u30b9\\u30ab\\u30d1\\u30fc\\uff2a\\uff33\\uff21\\uff34\\u30db\\u30fc\\u30eb\\u30c7\\u30a3\\u30f3\\u30b0\\u30b9\", \"\\u65e5\\u672c\\u96fb\\u4fe1\\u96fb\\u8a71\", \"\\uff2b\\uff24\\uff24\\uff29\", \"\\uff2e\\uff34\\uff34\\u30c9\\u30b3\\u30e2\", \"\\u6771\\u4eac\\u96fb\\u529b\\u30db\\u30fc\\u30eb\\u30c7\\u30a3\\u30f3\\u30b0\\u30b9\", \"\\u4e2d\\u90e8\\u96fb\\u529b\", \"\\u95a2\\u897f\\u96fb\\u529b\", \"\\u6771\\u4eac\\u30ac\\u30b9\", \"\\u5927\\u962a\\u30ac\\u30b9\", \"\\u6771\\u5b9d\", \"\\uff2e\\uff34\\uff34\\u30c7\\u30fc\\u30bf\", \"\\u6771\\u4eac\\u30c9\\u30fc\\u30e0\", \"\\u30bb\\u30b3\\u30e0\", \"\\u30b3\\u30ca\\u30df\\u30db\\u30fc\\u30eb\\u30c7\\u30a3\\u30f3\\u30b0\\u30b9\", \"\\u30d5\\u30a1\\u30fc\\u30b9\\u30c8\\u30ea\\u30c6\\u30a4\\u30ea\\u30f3\\u30b0\", \"\\u30bd\\u30d5\\u30c8\\u30d0\\u30f3\\u30af\\u30b0\\u30eb\\u30fc\\u30d7\"], \"xaxis\": \"x\", \"y\": [0.07207431367670221, -0.2308695457496586, 0.19640636993632232, 0.19812959459040294, -0.0004999764585076651, 0.26709067050457147, 0.2885289171260394, 0.34922320065973445, 0.021253140725999882, 0.013775098437232491, 0.5198526927495101, 0.21672546842275428, -0.15138488352244642, -0.15649353345852687, 0.09279636841713594, -0.019893801289150113, 0.13870172990825033, 0.19464237526711528, 0.06280642091352334, -0.2416507652016718, -0.05259792610714175, -0.07500255204881935, -0.046044438792002436, -0.16290357243226267, 0.00048245239518406166, 0.25070716957968, -0.18771504502928357, 0.1652170764384257, -0.16923076923076924, 0.3362476709187329, 0.45577991703842846, -0.17185166879930633, 0.20459051349781074, -0.00441172453355918, -0.08634310723324524, 0.15998389230857724, 0.6254372924807946, 0.08212471471692558, -0.039207585147518396, -0.07482657229670275, -0.009961732369555892, -0.16356484363202425, 0.27529741293072935, 0.24576346179372607, 0.1015285733084921, 0.48449694340955335, 0.22883501126104436, 0.15065669175047472, 0.04534197491832643, 0.16032460413214464, 0.008894296164193077, -0.1539262377797362, 0.15765692367776504, 0.21709711951017538, 0.38224472397134257, -0.3807711955468654, 0.09485556544677937, 0.61352039586006, -0.014466210311680806, 0.3109002042454604, 1.0839280748910929, 0.1096761009971599, -0.033436794123860476, 0.7444461705763554, -0.04923599320882852, -0.06359916644371412, 0.2878787878787879, 0.25358373502139103, -0.23616856542417872, 0.20316602616358054, -0.1370587612991196, -0.10359976273448514, 0.07432762836185823, 0.0159261700051597, 0.20676391200895342, -0.13231709727144564, -0.0028834433189021593, 0.09932751024194177, -0.038492130956428804, -0.06239702737757197, 0.27993112513290797, 0.33198913259935703, -0.08626356931745993, -0.2095339068350489, -0.14674632786468889, -0.002971144247072432, 0.27531366605885677, 0.12699739416883826, 0.3644928203463101, -0.3172695449241541, 0.07925087995041276, 0.26659648208846165, 0.26122485488750397, 0.08781641750213233, 0.19620103473762013, 0.12328080767592749, -0.25560575403974617, 0.602410537853223, 0.19567066115962775, 0.3662340286978195, -0.15283583103952153, 0.2039171964079092, 0.03502281830441681, 0.3579991732120711, 0.14056129360532352, 0.3628257659959192, -0.04103554606756807, 0.3893295754876547, 0.17246807968791603, 0.15374601760816686, 0.12174252298743557, 0.5673972051177031, 0.6180482686253935, 0.30999323217211644, 0.07676461836766056, 0.6816278285735177, 0.6854390808975213, 0.11520301716446361, 0.38681012893052574, 0.6035215610445448, 0.21315703531263863, 0.13861253498981146, 0.11203702685766424, 0.4386957293741865, 0.7103628801018023, 0.2695843171144479, 0.09593911257615241, 1.9058208352149832, 0.06482983234606225, 0.7157400156617071, 0.2991114571202461, 0.3962918863752338, 1.2944597595264775, 0.20650465457718345, -0.14832535885167464, 0.27040540110187583, 0.1280112724269785, 0.08248094757138937, -0.059208621461151176, 0.09208672220711478, -0.24627343176055172, -0.11903983528904415, 0.254429284481746, 0.17867941191750222, -0.18922170972270327, -0.12781723939335762, 0.11679619326607421, -0.11500325799386085, 0.2714563614191974, 0.09257967087537358, -0.12224455633911699, 1.1146076195037116, 0.7588804156943878, 0.050596798080677644, 0.1589594518435026, 0.16378408816667994, 0.4549566847390994, 0.3180214564779977, 0.3527734757594029, 0.4208050242649158, 0.11145808311313955, 0.2470778630996615, -0.23516656578893247, 0.21206761131793533, 1.0709815296714482, 0.1043850521331648, -0.0013528397239074275, -0.12742822235797185, 0.2947070902044977, 0.5106442507879296, 0.04198988666734972, 0.2679788039364118, -0.06890338980829949, 0.15060950062845402, -0.05470512898700987, 0.11598290778201101, 0.1537200898410097, 0.030176847274295857, -0.02334632203728943, -0.029543948430628464, 0.0308661417322835, -0.0037113104889560508, 0.34117310988383165, -0.215884355639895, 0.20868444617928, 0.21393103305884645, 0.33041599588880916, 0.13629569413122156, 0.21169085378268485, 0.15957329065104683, 0.15083767238186524, 0.24730722633764698, 0.5999180765127267, -0.02534705151008909, 0.33549978957657367, 0.12406587866225983, 0.051919381026541596, 0.028858328148984112, 0.24079996713750018, 0.028062269345982195, 0.21948904346007006, -0.05111247394872394, 0.06891073311879704, -0.3678282716070483, 0.1936064119428554, 0.3298870157819224, 0.42105263157894735, -0.04393527368676122, 0.13994748824166778, 0.044088176352705497, 0.2631868593121847, 0.2757882545577989, 0.2874465818876486, -0.330945558739255, -0.018883431374452402, -0.24402580266823048, -0.033025133192638695, 0.0495688450535323, 0.1550416895437773, 0.23387739866641788, 0.1706035596225837, 0.06606902201199688, -0.041955564006110196, 0.22995422229698204, 0.35032079927131304], \"yaxis\": \"y\"}],\n",
              "                        {\"barmode\": \"relative\", \"legend\": {\"tracegroupgap\": 0}, \"margin\": {\"t\": 60}, \"template\": {\"data\": {\"bar\": [{\"error_x\": {\"color\": \"#2a3f5f\"}, \"error_y\": {\"color\": \"#2a3f5f\"}, \"marker\": {\"line\": {\"color\": \"#E5ECF6\", \"width\": 0.5}}, \"type\": \"bar\"}], \"barpolar\": [{\"marker\": {\"line\": {\"color\": \"#E5ECF6\", \"width\": 0.5}}, \"type\": \"barpolar\"}], \"carpet\": [{\"aaxis\": {\"endlinecolor\": \"#2a3f5f\", \"gridcolor\": \"white\", \"linecolor\": \"white\", \"minorgridcolor\": \"white\", \"startlinecolor\": \"#2a3f5f\"}, \"baxis\": {\"endlinecolor\": \"#2a3f5f\", \"gridcolor\": \"white\", \"linecolor\": \"white\", \"minorgridcolor\": \"white\", \"startlinecolor\": \"#2a3f5f\"}, \"type\": \"carpet\"}], \"choropleth\": [{\"colorbar\": {\"outlinewidth\": 0, \"ticks\": \"\"}, \"type\": \"choropleth\"}], \"contour\": [{\"colorbar\": {\"outlinewidth\": 0, \"ticks\": \"\"}, \"colorscale\": [[0.0, \"#0d0887\"], [0.1111111111111111, \"#46039f\"], [0.2222222222222222, \"#7201a8\"], [0.3333333333333333, \"#9c179e\"], [0.4444444444444444, \"#bd3786\"], [0.5555555555555556, \"#d8576b\"], [0.6666666666666666, \"#ed7953\"], [0.7777777777777778, \"#fb9f3a\"], [0.8888888888888888, \"#fdca26\"], [1.0, \"#f0f921\"]], \"type\": \"contour\"}], \"contourcarpet\": [{\"colorbar\": {\"outlinewidth\": 0, \"ticks\": \"\"}, \"type\": \"contourcarpet\"}], \"heatmap\": [{\"colorbar\": {\"outlinewidth\": 0, \"ticks\": \"\"}, \"colorscale\": [[0.0, \"#0d0887\"], [0.1111111111111111, \"#46039f\"], [0.2222222222222222, \"#7201a8\"], [0.3333333333333333, \"#9c179e\"], [0.4444444444444444, \"#bd3786\"], [0.5555555555555556, \"#d8576b\"], [0.6666666666666666, \"#ed7953\"], [0.7777777777777778, \"#fb9f3a\"], [0.8888888888888888, \"#fdca26\"], [1.0, \"#f0f921\"]], \"type\": \"heatmap\"}], \"heatmapgl\": [{\"colorbar\": {\"outlinewidth\": 0, \"ticks\": \"\"}, \"colorscale\": [[0.0, \"#0d0887\"], [0.1111111111111111, \"#46039f\"], [0.2222222222222222, \"#7201a8\"], [0.3333333333333333, \"#9c179e\"], [0.4444444444444444, \"#bd3786\"], [0.5555555555555556, \"#d8576b\"], [0.6666666666666666, \"#ed7953\"], [0.7777777777777778, \"#fb9f3a\"], [0.8888888888888888, \"#fdca26\"], [1.0, \"#f0f921\"]], \"type\": \"heatmapgl\"}], \"histogram\": [{\"marker\": {\"colorbar\": {\"outlinewidth\": 0, \"ticks\": \"\"}}, \"type\": \"histogram\"}], \"histogram2d\": [{\"colorbar\": {\"outlinewidth\": 0, \"ticks\": \"\"}, \"colorscale\": [[0.0, \"#0d0887\"], [0.1111111111111111, \"#46039f\"], [0.2222222222222222, \"#7201a8\"], [0.3333333333333333, \"#9c179e\"], [0.4444444444444444, \"#bd3786\"], [0.5555555555555556, \"#d8576b\"], [0.6666666666666666, \"#ed7953\"], [0.7777777777777778, \"#fb9f3a\"], [0.8888888888888888, \"#fdca26\"], [1.0, \"#f0f921\"]], \"type\": \"histogram2d\"}], \"histogram2dcontour\": [{\"colorbar\": {\"outlinewidth\": 0, \"ticks\": \"\"}, \"colorscale\": [[0.0, \"#0d0887\"], [0.1111111111111111, \"#46039f\"], [0.2222222222222222, \"#7201a8\"], [0.3333333333333333, \"#9c179e\"], [0.4444444444444444, \"#bd3786\"], [0.5555555555555556, \"#d8576b\"], [0.6666666666666666, \"#ed7953\"], [0.7777777777777778, \"#fb9f3a\"], [0.8888888888888888, \"#fdca26\"], [1.0, \"#f0f921\"]], \"type\": \"histogram2dcontour\"}], \"mesh3d\": [{\"colorbar\": {\"outlinewidth\": 0, \"ticks\": \"\"}, \"type\": \"mesh3d\"}], \"parcoords\": [{\"line\": {\"colorbar\": {\"outlinewidth\": 0, \"ticks\": \"\"}}, \"type\": \"parcoords\"}], \"pie\": [{\"automargin\": true, \"type\": \"pie\"}], \"scatter\": [{\"marker\": {\"colorbar\": {\"outlinewidth\": 0, \"ticks\": \"\"}}, \"type\": \"scatter\"}], \"scatter3d\": [{\"line\": {\"colorbar\": {\"outlinewidth\": 0, \"ticks\": \"\"}}, \"marker\": {\"colorbar\": {\"outlinewidth\": 0, \"ticks\": \"\"}}, \"type\": \"scatter3d\"}], \"scattercarpet\": [{\"marker\": {\"colorbar\": {\"outlinewidth\": 0, \"ticks\": \"\"}}, \"type\": \"scattercarpet\"}], \"scattergeo\": [{\"marker\": {\"colorbar\": {\"outlinewidth\": 0, \"ticks\": \"\"}}, \"type\": \"scattergeo\"}], \"scattergl\": [{\"marker\": {\"colorbar\": {\"outlinewidth\": 0, \"ticks\": \"\"}}, \"type\": \"scattergl\"}], \"scattermapbox\": [{\"marker\": {\"colorbar\": {\"outlinewidth\": 0, \"ticks\": \"\"}}, \"type\": \"scattermapbox\"}], \"scatterpolar\": [{\"marker\": {\"colorbar\": {\"outlinewidth\": 0, \"ticks\": \"\"}}, \"type\": \"scatterpolar\"}], \"scatterpolargl\": [{\"marker\": {\"colorbar\": {\"outlinewidth\": 0, \"ticks\": \"\"}}, \"type\": \"scatterpolargl\"}], \"scatterternary\": [{\"marker\": {\"colorbar\": {\"outlinewidth\": 0, \"ticks\": \"\"}}, \"type\": \"scatterternary\"}], \"surface\": [{\"colorbar\": {\"outlinewidth\": 0, \"ticks\": \"\"}, \"colorscale\": [[0.0, \"#0d0887\"], [0.1111111111111111, \"#46039f\"], [0.2222222222222222, \"#7201a8\"], [0.3333333333333333, \"#9c179e\"], [0.4444444444444444, \"#bd3786\"], [0.5555555555555556, \"#d8576b\"], [0.6666666666666666, \"#ed7953\"], [0.7777777777777778, \"#fb9f3a\"], [0.8888888888888888, \"#fdca26\"], [1.0, \"#f0f921\"]], \"type\": \"surface\"}], \"table\": [{\"cells\": {\"fill\": {\"color\": \"#EBF0F8\"}, \"line\": {\"color\": \"white\"}}, \"header\": {\"fill\": {\"color\": \"#C8D4E3\"}, \"line\": {\"color\": \"white\"}}, \"type\": \"table\"}]}, \"layout\": {\"annotationdefaults\": {\"arrowcolor\": \"#2a3f5f\", \"arrowhead\": 0, \"arrowwidth\": 1}, \"coloraxis\": {\"colorbar\": {\"outlinewidth\": 0, \"ticks\": \"\"}}, \"colorscale\": {\"diverging\": [[0, \"#8e0152\"], [0.1, \"#c51b7d\"], [0.2, \"#de77ae\"], [0.3, \"#f1b6da\"], [0.4, \"#fde0ef\"], [0.5, \"#f7f7f7\"], [0.6, \"#e6f5d0\"], [0.7, \"#b8e186\"], [0.8, \"#7fbc41\"], [0.9, \"#4d9221\"], [1, \"#276419\"]], \"sequential\": [[0.0, \"#0d0887\"], [0.1111111111111111, \"#46039f\"], [0.2222222222222222, \"#7201a8\"], [0.3333333333333333, \"#9c179e\"], [0.4444444444444444, \"#bd3786\"], [0.5555555555555556, \"#d8576b\"], [0.6666666666666666, \"#ed7953\"], [0.7777777777777778, \"#fb9f3a\"], [0.8888888888888888, \"#fdca26\"], [1.0, \"#f0f921\"]], \"sequentialminus\": [[0.0, \"#0d0887\"], [0.1111111111111111, \"#46039f\"], [0.2222222222222222, \"#7201a8\"], [0.3333333333333333, \"#9c179e\"], [0.4444444444444444, \"#bd3786\"], [0.5555555555555556, \"#d8576b\"], [0.6666666666666666, \"#ed7953\"], [0.7777777777777778, \"#fb9f3a\"], [0.8888888888888888, \"#fdca26\"], [1.0, \"#f0f921\"]]}, \"colorway\": [\"#636efa\", \"#EF553B\", \"#00cc96\", \"#ab63fa\", \"#FFA15A\", \"#19d3f3\", \"#FF6692\", \"#B6E880\", \"#FF97FF\", \"#FECB52\"], \"font\": {\"color\": \"#2a3f5f\"}, \"geo\": {\"bgcolor\": \"white\", \"lakecolor\": \"white\", \"landcolor\": \"#E5ECF6\", \"showlakes\": true, \"showland\": true, \"subunitcolor\": \"white\"}, \"hoverlabel\": {\"align\": \"left\"}, \"hovermode\": \"closest\", \"mapbox\": {\"style\": \"light\"}, \"paper_bgcolor\": \"white\", \"plot_bgcolor\": \"#E5ECF6\", \"polar\": {\"angularaxis\": {\"gridcolor\": \"white\", \"linecolor\": \"white\", \"ticks\": \"\"}, \"bgcolor\": \"#E5ECF6\", \"radialaxis\": {\"gridcolor\": \"white\", \"linecolor\": \"white\", \"ticks\": \"\"}}, \"scene\": {\"xaxis\": {\"backgroundcolor\": \"#E5ECF6\", \"gridcolor\": \"white\", \"gridwidth\": 2, \"linecolor\": \"white\", \"showbackground\": true, \"ticks\": \"\", \"zerolinecolor\": \"white\"}, \"yaxis\": {\"backgroundcolor\": \"#E5ECF6\", \"gridcolor\": \"white\", \"gridwidth\": 2, \"linecolor\": \"white\", \"showbackground\": true, \"ticks\": \"\", \"zerolinecolor\": \"white\"}, \"zaxis\": {\"backgroundcolor\": \"#E5ECF6\", \"gridcolor\": \"white\", \"gridwidth\": 2, \"linecolor\": \"white\", \"showbackground\": true, \"ticks\": \"\", \"zerolinecolor\": \"white\"}}, \"shapedefaults\": {\"line\": {\"color\": \"#2a3f5f\"}}, \"ternary\": {\"aaxis\": {\"gridcolor\": \"white\", \"linecolor\": \"white\", \"ticks\": \"\"}, \"baxis\": {\"gridcolor\": \"white\", \"linecolor\": \"white\", \"ticks\": \"\"}, \"bgcolor\": \"#E5ECF6\", \"caxis\": {\"gridcolor\": \"white\", \"linecolor\": \"white\", \"ticks\": \"\"}}, \"title\": {\"x\": 0.05}, \"xaxis\": {\"automargin\": true, \"gridcolor\": \"white\", \"linecolor\": \"white\", \"ticks\": \"\", \"title\": {\"standoff\": 15}, \"zerolinecolor\": \"white\", \"zerolinewidth\": 2}, \"yaxis\": {\"automargin\": true, \"gridcolor\": \"white\", \"linecolor\": \"white\", \"ticks\": \"\", \"title\": {\"standoff\": 15}, \"zerolinecolor\": \"white\", \"zerolinewidth\": 2}}}, \"xaxis\": {\"anchor\": \"y\", \"domain\": [0.0, 1.0], \"title\": {\"text\": \"NAME\"}}, \"yaxis\": {\"anchor\": \"x\", \"domain\": [0.0, 1.0], \"title\": {\"text\": \"DiffRatio\"}}},\n",
              "                        {\"responsive\": true}\n",
              "                    ).then(function(){\n",
              "                            \n",
              "var gd = document.getElementById('054181ac-6c3d-4a24-a752-26f5d81f2443');\n",
              "var x = new MutationObserver(function (mutations, observer) {{\n",
              "        var display = window.getComputedStyle(gd).display;\n",
              "        if (!display || display === 'none') {{\n",
              "            console.log([gd, 'removed!']);\n",
              "            Plotly.purge(gd);\n",
              "            observer.disconnect();\n",
              "        }}\n",
              "}});\n",
              "\n",
              "// Listen for the removal of the full notebook cells\n",
              "var notebookContainer = gd.closest('#notebook-container');\n",
              "if (notebookContainer) {{\n",
              "    x.observe(notebookContainer, {childList: true});\n",
              "}}\n",
              "\n",
              "// Listen for the clearing of the current output cell\n",
              "var outputEl = gd.closest('.output');\n",
              "if (outputEl) {{\n",
              "    x.observe(outputEl, {childList: true});\n",
              "}}\n",
              "\n",
              "                        })\n",
              "                };\n",
              "                \n",
              "            </script>\n",
              "        </div>\n",
              "</body>\n",
              "</html>"
            ]
          },
          "metadata": {
            "tags": []
          }
        }
      ]
    },
    {
      "cell_type": "code",
      "metadata": {
        "id": "zUmvyMPIF1Rd",
        "colab_type": "code",
        "colab": {
          "base_uri": "https://localhost:8080/",
          "height": 200
        },
        "outputId": "71aba125-7e2a-44bb-d588-c619d2855c70"
      },
      "source": [
        "# 騰落率のトップ５\n",
        "# (メモ) 昇順の場合，ascending=True; 降順の場合，ascending=False\n",
        "change_rate.sort_values('DiffRatio', ascending=False).head(5)"
      ],
      "execution_count": 10,
      "outputs": [
        {
          "output_type": "execute_result",
          "data": {
            "text/html": [
              "<div>\n",
              "<style scoped>\n",
              "    .dataframe tbody tr th:only-of-type {\n",
              "        vertical-align: middle;\n",
              "    }\n",
              "\n",
              "    .dataframe tbody tr th {\n",
              "        vertical-align: top;\n",
              "    }\n",
              "\n",
              "    .dataframe thead th {\n",
              "        text-align: right;\n",
              "    }\n",
              "</style>\n",
              "<table border=\"1\" class=\"dataframe\">\n",
              "  <thead>\n",
              "    <tr style=\"text-align: right;\">\n",
              "      <th></th>\n",
              "      <th>CODE</th>\n",
              "      <th>NAME</th>\n",
              "      <th>DiffRatio</th>\n",
              "    </tr>\n",
              "  </thead>\n",
              "  <tbody>\n",
              "    <tr>\n",
              "      <th>127</th>\n",
              "      <td>6857</td>\n",
              "      <td>アドバンテスト</td>\n",
              "      <td>1.905821</td>\n",
              "    </tr>\n",
              "    <tr>\n",
              "      <th>132</th>\n",
              "      <td>6976</td>\n",
              "      <td>太陽誘電</td>\n",
              "      <td>1.294460</td>\n",
              "    </tr>\n",
              "    <tr>\n",
              "      <th>151</th>\n",
              "      <td>7733</td>\n",
              "      <td>オリンパス</td>\n",
              "      <td>1.114608</td>\n",
              "    </tr>\n",
              "    <tr>\n",
              "      <th>60</th>\n",
              "      <td>4568</td>\n",
              "      <td>第一三共</td>\n",
              "      <td>1.083928</td>\n",
              "    </tr>\n",
              "    <tr>\n",
              "      <th>164</th>\n",
              "      <td>8035</td>\n",
              "      <td>東京エレクトロン</td>\n",
              "      <td>1.070982</td>\n",
              "    </tr>\n",
              "  </tbody>\n",
              "</table>\n",
              "</div>"
            ],
            "text/plain": [
              "     CODE      NAME  DiffRatio\n",
              "127  6857   アドバンテスト   1.905821\n",
              "132  6976      太陽誘電   1.294460\n",
              "151  7733     オリンパス   1.114608\n",
              "60   4568      第一三共   1.083928\n",
              "164  8035  東京エレクトロン   1.070982"
            ]
          },
          "metadata": {
            "tags": []
          },
          "execution_count": 10
        }
      ]
    },
    {
      "cell_type": "code",
      "metadata": {
        "id": "JJo-2837F1Ri",
        "colab_type": "code",
        "colab": {
          "base_uri": "https://localhost:8080/",
          "height": 200
        },
        "outputId": "bf90e97d-fd5b-4a14-e8cd-be5a0648cd15"
      },
      "source": [
        "# 騰落率のワースト５\n",
        "# (メモ) 昇順の場合，ascending=True; 降順の場合，ascending=False\n",
        "change_rate.sort_values('DiffRatio', ascending=True).head(5)"
      ],
      "execution_count": 11,
      "outputs": [
        {
          "output_type": "execute_result",
          "data": {
            "text/html": [
              "<div>\n",
              "<style scoped>\n",
              "    .dataframe tbody tr th:only-of-type {\n",
              "        vertical-align: middle;\n",
              "    }\n",
              "\n",
              "    .dataframe tbody tr th {\n",
              "        vertical-align: top;\n",
              "    }\n",
              "\n",
              "    .dataframe thead th {\n",
              "        text-align: right;\n",
              "    }\n",
              "</style>\n",
              "<table border=\"1\" class=\"dataframe\">\n",
              "  <thead>\n",
              "    <tr style=\"text-align: right;\">\n",
              "      <th></th>\n",
              "      <th>CODE</th>\n",
              "      <th>NAME</th>\n",
              "      <th>DiffRatio</th>\n",
              "    </tr>\n",
              "  </thead>\n",
              "  <tbody>\n",
              "    <tr>\n",
              "      <th>55</th>\n",
              "      <td>4506</td>\n",
              "      <td>大日本住友製薬</td>\n",
              "      <td>-0.380771</td>\n",
              "    </tr>\n",
              "    <tr>\n",
              "      <th>203</th>\n",
              "      <td>9064</td>\n",
              "      <td>ヤマトホールディングス</td>\n",
              "      <td>-0.367828</td>\n",
              "    </tr>\n",
              "    <tr>\n",
              "      <th>213</th>\n",
              "      <td>9501</td>\n",
              "      <td>東京電力ホールディングス</td>\n",
              "      <td>-0.330946</td>\n",
              "    </tr>\n",
              "    <tr>\n",
              "      <th>89</th>\n",
              "      <td>5707</td>\n",
              "      <td>東邦亜鉛</td>\n",
              "      <td>-0.317270</td>\n",
              "    </tr>\n",
              "    <tr>\n",
              "      <th>96</th>\n",
              "      <td>5901</td>\n",
              "      <td>東洋製罐グループホールディングス</td>\n",
              "      <td>-0.255606</td>\n",
              "    </tr>\n",
              "  </tbody>\n",
              "</table>\n",
              "</div>"
            ],
            "text/plain": [
              "     CODE              NAME  DiffRatio\n",
              "55   4506           大日本住友製薬  -0.380771\n",
              "203  9064       ヤマトホールディングス  -0.367828\n",
              "213  9501      東京電力ホールディングス  -0.330946\n",
              "89   5707              東邦亜鉛  -0.317270\n",
              "96   5901  東洋製罐グループホールディングス  -0.255606"
            ]
          },
          "metadata": {
            "tags": []
          },
          "execution_count": 11
        }
      ]
    },
    {
      "cell_type": "markdown",
      "metadata": {
        "id": "NlaMmRT1F1Rr",
        "colab_type": "text"
      },
      "source": [
        "# 課題\n",
        "日経平均銘柄の株価データとして，2020年は1月〜8月末日までのデータを取得済みである。\n",
        "\n",
        "ご存知のように，新型コロナウイルスの影響により１〜３月の株価は下落傾向にある。\n",
        "一方，４月以降，業績回復に伴い，株価が上昇した企業もある。\n",
        "\n",
        "**2020年という特別な年において（８月末までの）騰落率を求め，その結果を分析せよ。**\n",
        "\n",
        "例えば\n",
        "\n",
        "- 新型コロナウイルス・ワクチン開発を期待して医薬品業界の株価が上がる\n",
        "- 巣ごもり消費の結果，運送業界（陸運・海運・空運）の株価が上がる\n",
        "- 今後も旅行の手控えが予想されるため，鉄道・バス業界の株価が下がる\n",
        "- GOTOトラベルにより旅行者が増え，鉄道・バス業界の株価が上がる\n",
        "\n",
        "など，社会情勢をふまえた上で仮説を立て，それが株価の変動，特に騰落率にて説明できるか，検討してください。"
      ]
    },
    {
      "cell_type": "code",
      "metadata": {
        "id": "CVxMnct5F1Rs",
        "colab_type": "code",
        "colab": {
          "base_uri": "https://localhost:8080/",
          "height": 452
        },
        "outputId": "f6f7b383-f873-4ae8-c0fc-eaf728239858"
      },
      "source": [
        "# 日経平均株価の推移 (2020.01.01〜2020.08.31)\n",
        "from pandas_datareader import data\n",
        "from datetime import datetime\n",
        "\n",
        "# データ取得\n",
        "# '^N225' : ティッカー・シンボル, 'yahoo' : データソースの指定 (Yahoo! finance)\n",
        "start = datetime(2020, 1, 1)\n",
        "end = datetime(2020, 8, 31)\n",
        "df = data.DataReader('^N225', 'yahoo', start, end)\n",
        "\n",
        "# 日経平均株価：調整済み終値のプロット\n",
        "import matplotlib.pyplot as plt\n",
        "plt.figure(figsize=(30, 10))\n",
        "plt.plot(df.index, df['Adj Close'])\n",
        "plt.xticks(fontsize=24) # x軸ラベルのフォントサイズを大きめに設定\n",
        "plt.yticks(fontsize=24) # y軸ラベルのフォントサイズを大きめに設定\n",
        "plt.xlabel('date', size=30)\n",
        "plt.ylabel('Adj Close', size=30)"
      ],
      "execution_count": 12,
      "outputs": [
        {
          "output_type": "stream",
          "text": [
            "/usr/local/lib/python3.6/dist-packages/pandas_datareader/compat/__init__.py:7: FutureWarning:\n",
            "\n",
            "pandas.util.testing is deprecated. Use the functions in the public API at pandas.testing instead.\n",
            "\n"
          ],
          "name": "stderr"
        },
        {
          "output_type": "execute_result",
          "data": {
            "text/plain": [
              "Text(0, 0.5, 'Adj Close')"
            ]
          },
          "metadata": {
            "tags": []
          },
          "execution_count": 12
        },
        {
          "output_type": "display_data",
          "data": {
            "image/png": "[encoded data removed]",
            "text/plain": [
              "<Figure size 2160x720 with 1 Axes>"
            ]
          },
          "metadata": {
            "tags": [],
            "needs_background": "light"
          }
        }
      ]
    },
    {
      "cell_type": "code",
      "metadata": {
        "id": "8gYHr_1DF1Ry",
        "colab_type": "code",
        "colab": {}
      },
      "source": [
        ""
      ],
      "execution_count": null,
      "outputs": []
    }
  ]
}