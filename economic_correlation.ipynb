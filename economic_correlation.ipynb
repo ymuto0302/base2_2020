{
  "nbformat": 4,
  "nbformat_minor": 0,
  "metadata": {
    "kernelspec": {
      "display_name": "Python 3",
      "language": "python",
      "name": "python3"
    },
    "language_info": {
      "codemirror_mode": {
        "name": "ipython",
        "version": 3
      },
      "file_extension": ".py",
      "mimetype": "text/x-python",
      "name": "python",
      "nbconvert_exporter": "python",
      "pygments_lexer": "ipython3",
      "version": "3.7.6"
    },
    "colab": {
      "name": "economic_correlation.ipynb",
      "provenance": [],
      "include_colab_link": true
    }
  },
  "cells": [
    {
      "cell_type": "markdown",
      "metadata": {
        "id": "view-in-github",
        "colab_type": "text"
      },
      "source": [
        "<a href=\"https://colab.research.google.com/github/ymuto0302/base2_2020/blob/master/economic_correlation.ipynb\" target=\"_parent\"><img src=\"https://colab.research.google.com/assets/colab-badge.svg\" alt=\"Open In Colab\"/></a>"
      ]
    },
    {
      "cell_type": "markdown",
      "metadata": {
        "id": "Dt1G0bKdM9um",
        "colab_type": "text"
      },
      "source": [
        "## 東証における17業種区分での企業数"
      ]
    },
    {
      "cell_type": "code",
      "metadata": {
        "id": "4jSVL-F1M9uo",
        "colab_type": "code",
        "colab": {},
        "outputId": "2f3e5ccd-fe8f-4fb7-f79a-70a131737e00"
      },
      "source": [
        "import pandas as pd\n",
        "companies = pd.read_csv(\"TSE_corp_list.csv\")\n",
        "\n",
        "# TSEコードと 17業種区分のみ取り出して，業種区分でグループ化\n",
        "companies = companies[['コード', '17業種区分']]\n",
        "kubun = companies.groupby('17業種区分').count()\n",
        "\n",
        "# 可視化\n",
        "import plotly_express as px\n",
        "fig = px.bar(kubun, orientation='h') # orientation='h' は horizontal を意味する\n",
        "fig.show()"
      ],
      "execution_count": null,
      "outputs": [
        {
          "output_type": "display_data",
          "data": {
            "application/vnd.plotly.v1+json": {
              "config": {
                "plotlyServerURL": "https://plot.ly"
              },
              "data": [
                {
                  "alignmentgroup": "True",
                  "hovertemplate": "variable=コード<br>value=%{x}<br>17業種区分=%{y}<extra></extra>",
                  "legendgroup": "コード",
                  "marker": {
                    "color": "#636efa"
                  },
                  "name": "コード",
                  "offsetgroup": "コード",
                  "orientation": "h",
                  "showlegend": true,
                  "textposition": "auto",
                  "type": "bar",
                  "x": [
                    15,
                    69,
                    38,
                    174,
                    199,
                    171,
                    477,
                    141,
                    195,
                    73,
                    78,
                    59,
                    55,
                    79,
                    22,
                    190,
                    90
                  ],
                  "xaxis": "x",
                  "y": [
                    "エネルギー資源",
                    "不動産",
                    "医薬品",
                    "商社・卸売",
                    "小売",
                    "建設・資材",
                    "情報通信・サービスその他",
                    "機械",
                    "素材・化学",
                    "自動車・輸送機",
                    "運輸・物流",
                    "金融（除く銀行）",
                    "鉄鋼・非鉄",
                    "銀行",
                    "電力・ガス",
                    "電機・精密",
                    "食品"
                  ],
                  "yaxis": "y"
                }
              ],
              "layout": {
                "barmode": "relative",
                "legend": {
                  "title": {
                    "text": "variable"
                  },
                  "tracegroupgap": 0
                },
                "margin": {
                  "t": 60
                },
                "template": {
                  "data": {
                    "bar": [
                      {
                        "error_x": {
                          "color": "#2a3f5f"
                        },
                        "error_y": {
                          "color": "#2a3f5f"
                        },
                        "marker": {
                          "line": {
                            "color": "#E5ECF6",
                            "width": 0.5
                          }
                        },
                        "type": "bar"
                      }
                    ],
                    "barpolar": [
                      {
                        "marker": {
                          "line": {
                            "color": "#E5ECF6",
                            "width": 0.5
                          }
                        },
                        "type": "barpolar"
                      }
                    ],
                    "carpet": [
                      {
                        "aaxis": {
                          "endlinecolor": "#2a3f5f",
                          "gridcolor": "white",
                          "linecolor": "white",
                          "minorgridcolor": "white",
                          "startlinecolor": "#2a3f5f"
                        },
                        "baxis": {
                          "endlinecolor": "#2a3f5f",
                          "gridcolor": "white",
                          "linecolor": "white",
                          "minorgridcolor": "white",
                          "startlinecolor": "#2a3f5f"
                        },
                        "type": "carpet"
                      }
                    ],
                    "choropleth": [
                      {
                        "colorbar": {
                          "outlinewidth": 0,
                          "ticks": ""
                        },
                        "type": "choropleth"
                      }
                    ],
                    "contour": [
                      {
                        "colorbar": {
                          "outlinewidth": 0,
                          "ticks": ""
                        },
                        "colorscale": [
                          [
                            0,
                            "#0d0887"
                          ],
                          [
                            0.1111111111111111,
                            "#46039f"
                          ],
                          [
                            0.2222222222222222,
                            "#7201a8"
                          ],
                          [
                            0.3333333333333333,
                            "#9c179e"
                          ],
                          [
                            0.4444444444444444,
                            "#bd3786"
                          ],
                          [
                            0.5555555555555556,
                            "#d8576b"
                          ],
                          [
                            0.6666666666666666,
                            "#ed7953"
                          ],
                          [
                            0.7777777777777778,
                            "#fb9f3a"
                          ],
                          [
                            0.8888888888888888,
                            "#fdca26"
                          ],
                          [
                            1,
                            "#f0f921"
                          ]
                        ],
                        "type": "contour"
                      }
                    ],
                    "contourcarpet": [
                      {
                        "colorbar": {
                          "outlinewidth": 0,
                          "ticks": ""
                        },
                        "type": "contourcarpet"
                      }
                    ],
                    "heatmap": [
                      {
                        "colorbar": {
                          "outlinewidth": 0,
                          "ticks": ""
                        },
                        "colorscale": [
                          [
                            0,
                            "#0d0887"
                          ],
                          [
                            0.1111111111111111,
                            "#46039f"
                          ],
                          [
                            0.2222222222222222,
                            "#7201a8"
                          ],
                          [
                            0.3333333333333333,
                            "#9c179e"
                          ],
                          [
                            0.4444444444444444,
                            "#bd3786"
                          ],
                          [
                            0.5555555555555556,
                            "#d8576b"
                          ],
                          [
                            0.6666666666666666,
                            "#ed7953"
                          ],
                          [
                            0.7777777777777778,
                            "#fb9f3a"
                          ],
                          [
                            0.8888888888888888,
                            "#fdca26"
                          ],
                          [
                            1,
                            "#f0f921"
                          ]
                        ],
                        "type": "heatmap"
                      }
                    ],
                    "heatmapgl": [
                      {
                        "colorbar": {
                          "outlinewidth": 0,
                          "ticks": ""
                        },
                        "colorscale": [
                          [
                            0,
                            "#0d0887"
                          ],
                          [
                            0.1111111111111111,
                            "#46039f"
                          ],
                          [
                            0.2222222222222222,
                            "#7201a8"
                          ],
                          [
                            0.3333333333333333,
                            "#9c179e"
                          ],
                          [
                            0.4444444444444444,
                            "#bd3786"
                          ],
                          [
                            0.5555555555555556,
                            "#d8576b"
                          ],
                          [
                            0.6666666666666666,
                            "#ed7953"
                          ],
                          [
                            0.7777777777777778,
                            "#fb9f3a"
                          ],
                          [
                            0.8888888888888888,
                            "#fdca26"
                          ],
                          [
                            1,
                            "#f0f921"
                          ]
                        ],
                        "type": "heatmapgl"
                      }
                    ],
                    "histogram": [
                      {
                        "marker": {
                          "colorbar": {
                            "outlinewidth": 0,
                            "ticks": ""
                          }
                        },
                        "type": "histogram"
                      }
                    ],
                    "histogram2d": [
                      {
                        "colorbar": {
                          "outlinewidth": 0,
                          "ticks": ""
                        },
                        "colorscale": [
                          [
                            0,
                            "#0d0887"
                          ],
                          [
                            0.1111111111111111,
                            "#46039f"
                          ],
                          [
                            0.2222222222222222,
                            "#7201a8"
                          ],
                          [
                            0.3333333333333333,
                            "#9c179e"
                          ],
                          [
                            0.4444444444444444,
                            "#bd3786"
                          ],
                          [
                            0.5555555555555556,
                            "#d8576b"
                          ],
                          [
                            0.6666666666666666,
                            "#ed7953"
                          ],
                          [
                            0.7777777777777778,
                            "#fb9f3a"
                          ],
                          [
                            0.8888888888888888,
                            "#fdca26"
                          ],
                          [
                            1,
                            "#f0f921"
                          ]
                        ],
                        "type": "histogram2d"
                      }
                    ],
                    "histogram2dcontour": [
                      {
                        "colorbar": {
                          "outlinewidth": 0,
                          "ticks": ""
                        },
                        "colorscale": [
                          [
                            0,
                            "#0d0887"
                          ],
                          [
                            0.1111111111111111,
                            "#46039f"
                          ],
                          [
                            0.2222222222222222,
                            "#7201a8"
                          ],
                          [
                            0.3333333333333333,
                            "#9c179e"
                          ],
                          [
                            0.4444444444444444,
                            "#bd3786"
                          ],
                          [
                            0.5555555555555556,
                            "#d8576b"
                          ],
                          [
                            0.6666666666666666,
                            "#ed7953"
                          ],
                          [
                            0.7777777777777778,
                            "#fb9f3a"
                          ],
                          [
                            0.8888888888888888,
                            "#fdca26"
                          ],
                          [
                            1,
                            "#f0f921"
                          ]
                        ],
                        "type": "histogram2dcontour"
                      }
                    ],
                    "mesh3d": [
                      {
                        "colorbar": {
                          "outlinewidth": 0,
                          "ticks": ""
                        },
                        "type": "mesh3d"
                      }
                    ],
                    "parcoords": [
                      {
                        "line": {
                          "colorbar": {
                            "outlinewidth": 0,
                            "ticks": ""
                          }
                        },
                        "type": "parcoords"
                      }
                    ],
                    "pie": [
                      {
                        "automargin": true,
                        "type": "pie"
                      }
                    ],
                    "scatter": [
                      {
                        "marker": {
                          "colorbar": {
                            "outlinewidth": 0,
                            "ticks": ""
                          }
                        },
                        "type": "scatter"
                      }
                    ],
                    "scatter3d": [
                      {
                        "line": {
                          "colorbar": {
                            "outlinewidth": 0,
                            "ticks": ""
                          }
                        },
                        "marker": {
                          "colorbar": {
                            "outlinewidth": 0,
                            "ticks": ""
                          }
                        },
                        "type": "scatter3d"
                      }
                    ],
                    "scattercarpet": [
                      {
                        "marker": {
                          "colorbar": {
                            "outlinewidth": 0,
                            "ticks": ""
                          }
                        },
                        "type": "scattercarpet"
                      }
                    ],
                    "scattergeo": [
                      {
                        "marker": {
                          "colorbar": {
                            "outlinewidth": 0,
                            "ticks": ""
                          }
                        },
                        "type": "scattergeo"
                      }
                    ],
                    "scattergl": [
                      {
                        "marker": {
                          "colorbar": {
                            "outlinewidth": 0,
                            "ticks": ""
                          }
                        },
                        "type": "scattergl"
                      }
                    ],
                    "scattermapbox": [
                      {
                        "marker": {
                          "colorbar": {
                            "outlinewidth": 0,
                            "ticks": ""
                          }
                        },
                        "type": "scattermapbox"
                      }
                    ],
                    "scatterpolar": [
                      {
                        "marker": {
                          "colorbar": {
                            "outlinewidth": 0,
                            "ticks": ""
                          }
                        },
                        "type": "scatterpolar"
                      }
                    ],
                    "scatterpolargl": [
                      {
                        "marker": {
                          "colorbar": {
                            "outlinewidth": 0,
                            "ticks": ""
                          }
                        },
                        "type": "scatterpolargl"
                      }
                    ],
                    "scatterternary": [
                      {
                        "marker": {
                          "colorbar": {
                            "outlinewidth": 0,
                            "ticks": ""
                          }
                        },
                        "type": "scatterternary"
                      }
                    ],
                    "surface": [
                      {
                        "colorbar": {
                          "outlinewidth": 0,
                          "ticks": ""
                        },
                        "colorscale": [
                          [
                            0,
                            "#0d0887"
                          ],
                          [
                            0.1111111111111111,
                            "#46039f"
                          ],
                          [
                            0.2222222222222222,
                            "#7201a8"
                          ],
                          [
                            0.3333333333333333,
                            "#9c179e"
                          ],
                          [
                            0.4444444444444444,
                            "#bd3786"
                          ],
                          [
                            0.5555555555555556,
                            "#d8576b"
                          ],
                          [
                            0.6666666666666666,
                            "#ed7953"
                          ],
                          [
                            0.7777777777777778,
                            "#fb9f3a"
                          ],
                          [
                            0.8888888888888888,
                            "#fdca26"
                          ],
                          [
                            1,
                            "#f0f921"
                          ]
                        ],
                        "type": "surface"
                      }
                    ],
                    "table": [
                      {
                        "cells": {
                          "fill": {
                            "color": "#EBF0F8"
                          },
                          "line": {
                            "color": "white"
                          }
                        },
                        "header": {
                          "fill": {
                            "color": "#C8D4E3"
                          },
                          "line": {
                            "color": "white"
                          }
                        },
                        "type": "table"
                      }
                    ]
                  },
                  "layout": {
                    "annotationdefaults": {
                      "arrowcolor": "#2a3f5f",
                      "arrowhead": 0,
                      "arrowwidth": 1
                    },
                    "coloraxis": {
                      "colorbar": {
                        "outlinewidth": 0,
                        "ticks": ""
                      }
                    },
                    "colorscale": {
                      "diverging": [
                        [
                          0,
                          "#8e0152"
                        ],
                        [
                          0.1,
                          "#c51b7d"
                        ],
                        [
                          0.2,
                          "#de77ae"
                        ],
                        [
                          0.3,
                          "#f1b6da"
                        ],
                        [
                          0.4,
                          "#fde0ef"
                        ],
                        [
                          0.5,
                          "#f7f7f7"
                        ],
                        [
                          0.6,
                          "#e6f5d0"
                        ],
                        [
                          0.7,
                          "#b8e186"
                        ],
                        [
                          0.8,
                          "#7fbc41"
                        ],
                        [
                          0.9,
                          "#4d9221"
                        ],
                        [
                          1,
                          "#276419"
                        ]
                      ],
                      "sequential": [
                        [
                          0,
                          "#0d0887"
                        ],
                        [
                          0.1111111111111111,
                          "#46039f"
                        ],
                        [
                          0.2222222222222222,
                          "#7201a8"
                        ],
                        [
                          0.3333333333333333,
                          "#9c179e"
                        ],
                        [
                          0.4444444444444444,
                          "#bd3786"
                        ],
                        [
                          0.5555555555555556,
                          "#d8576b"
                        ],
                        [
                          0.6666666666666666,
                          "#ed7953"
                        ],
                        [
                          0.7777777777777778,
                          "#fb9f3a"
                        ],
                        [
                          0.8888888888888888,
                          "#fdca26"
                        ],
                        [
                          1,
                          "#f0f921"
                        ]
                      ],
                      "sequentialminus": [
                        [
                          0,
                          "#0d0887"
                        ],
                        [
                          0.1111111111111111,
                          "#46039f"
                        ],
                        [
                          0.2222222222222222,
                          "#7201a8"
                        ],
                        [
                          0.3333333333333333,
                          "#9c179e"
                        ],
                        [
                          0.4444444444444444,
                          "#bd3786"
                        ],
                        [
                          0.5555555555555556,
                          "#d8576b"
                        ],
                        [
                          0.6666666666666666,
                          "#ed7953"
                        ],
                        [
                          0.7777777777777778,
                          "#fb9f3a"
                        ],
                        [
                          0.8888888888888888,
                          "#fdca26"
                        ],
                        [
                          1,
                          "#f0f921"
                        ]
                      ]
                    },
                    "colorway": [
                      "#636efa",
                      "#EF553B",
                      "#00cc96",
                      "#ab63fa",
                      "#FFA15A",
                      "#19d3f3",
                      "#FF6692",
                      "#B6E880",
                      "#FF97FF",
                      "#FECB52"
                    ],
                    "font": {
                      "color": "#2a3f5f"
                    },
                    "geo": {
                      "bgcolor": "white",
                      "lakecolor": "white",
                      "landcolor": "#E5ECF6",
                      "showlakes": true,
                      "showland": true,
                      "subunitcolor": "white"
                    },
                    "hoverlabel": {
                      "align": "left"
                    },
                    "hovermode": "closest",
                    "mapbox": {
                      "style": "light"
                    },
                    "paper_bgcolor": "white",
                    "plot_bgcolor": "#E5ECF6",
                    "polar": {
                      "angularaxis": {
                        "gridcolor": "white",
                        "linecolor": "white",
                        "ticks": ""
                      },
                      "bgcolor": "#E5ECF6",
                      "radialaxis": {
                        "gridcolor": "white",
                        "linecolor": "white",
                        "ticks": ""
                      }
                    },
                    "scene": {
                      "xaxis": {
                        "backgroundcolor": "#E5ECF6",
                        "gridcolor": "white",
                        "gridwidth": 2,
                        "linecolor": "white",
                        "showbackground": true,
                        "ticks": "",
                        "zerolinecolor": "white"
                      },
                      "yaxis": {
                        "backgroundcolor": "#E5ECF6",
                        "gridcolor": "white",
                        "gridwidth": 2,
                        "linecolor": "white",
                        "showbackground": true,
                        "ticks": "",
                        "zerolinecolor": "white"
                      },
                      "zaxis": {
                        "backgroundcolor": "#E5ECF6",
                        "gridcolor": "white",
                        "gridwidth": 2,
                        "linecolor": "white",
                        "showbackground": true,
                        "ticks": "",
                        "zerolinecolor": "white"
                      }
                    },
                    "shapedefaults": {
                      "line": {
                        "color": "#2a3f5f"
                      }
                    },
                    "ternary": {
                      "aaxis": {
                        "gridcolor": "white",
                        "linecolor": "white",
                        "ticks": ""
                      },
                      "baxis": {
                        "gridcolor": "white",
                        "linecolor": "white",
                        "ticks": ""
                      },
                      "bgcolor": "#E5ECF6",
                      "caxis": {
                        "gridcolor": "white",
                        "linecolor": "white",
                        "ticks": ""
                      }
                    },
                    "title": {
                      "x": 0.05
                    },
                    "xaxis": {
                      "automargin": true,
                      "gridcolor": "white",
                      "linecolor": "white",
                      "ticks": "",
                      "title": {
                        "standoff": 15
                      },
                      "zerolinecolor": "white",
                      "zerolinewidth": 2
                    },
                    "yaxis": {
                      "automargin": true,
                      "gridcolor": "white",
                      "linecolor": "white",
                      "ticks": "",
                      "title": {
                        "standoff": 15
                      },
                      "zerolinecolor": "white",
                      "zerolinewidth": 2
                    }
                  }
                },
                "xaxis": {
                  "anchor": "y",
                  "domain": [
                    0,
                    1
                  ],
                  "title": {
                    "text": "value"
                  }
                },
                "yaxis": {
                  "anchor": "x",
                  "domain": [
                    0,
                    1
                  ],
                  "title": {
                    "text": "17業種区分"
                  }
                }
              }
            },
            "text/html": [
              "<div>\n",
              "        \n",
              "        \n",
              "            <div id=\"adbaa2a3-ca36-4750-98bb-0df918d6ca9d\" class=\"plotly-graph-div\" style=\"height:525px; width:100%;\"></div>\n",
              "            <script type=\"text/javascript\">\n",
              "                require([\"plotly\"], function(Plotly) {\n",
              "                    window.PLOTLYENV=window.PLOTLYENV || {};\n",
              "                    \n",
              "                if (document.getElementById(\"adbaa2a3-ca36-4750-98bb-0df918d6ca9d\")) {\n",
              "                    Plotly.newPlot(\n",
              "                        'adbaa2a3-ca36-4750-98bb-0df918d6ca9d',\n",
              "                        [{\"alignmentgroup\": \"True\", \"hovertemplate\": \"variable=\\u30b3\\u30fc\\u30c9<br>value=%{x}<br>17\\u696d\\u7a2e\\u533a\\u5206=%{y}<extra></extra>\", \"legendgroup\": \"\\u30b3\\u30fc\\u30c9\", \"marker\": {\"color\": \"#636efa\"}, \"name\": \"\\u30b3\\u30fc\\u30c9\", \"offsetgroup\": \"\\u30b3\\u30fc\\u30c9\", \"orientation\": \"h\", \"showlegend\": true, \"textposition\": \"auto\", \"type\": \"bar\", \"x\": [15, 69, 38, 174, 199, 171, 477, 141, 195, 73, 78, 59, 55, 79, 22, 190, 90], \"xaxis\": \"x\", \"y\": [\"\\u30a8\\u30cd\\u30eb\\u30ae\\u30fc\\u8cc7\\u6e90\", \"\\u4e0d\\u52d5\\u7523\", \"\\u533b\\u85ac\\u54c1\", \"\\u5546\\u793e\\u30fb\\u5378\\u58f2\", \"\\u5c0f\\u58f2\", \"\\u5efa\\u8a2d\\u30fb\\u8cc7\\u6750\", \"\\u60c5\\u5831\\u901a\\u4fe1\\u30fb\\u30b5\\u30fc\\u30d3\\u30b9\\u305d\\u306e\\u4ed6\", \"\\u6a5f\\u68b0\", \"\\u7d20\\u6750\\u30fb\\u5316\\u5b66\", \"\\u81ea\\u52d5\\u8eca\\u30fb\\u8f38\\u9001\\u6a5f\", \"\\u904b\\u8f38\\u30fb\\u7269\\u6d41\", \"\\u91d1\\u878d\\uff08\\u9664\\u304f\\u9280\\u884c\\uff09\", \"\\u9244\\u92fc\\u30fb\\u975e\\u9244\", \"\\u9280\\u884c\", \"\\u96fb\\u529b\\u30fb\\u30ac\\u30b9\", \"\\u96fb\\u6a5f\\u30fb\\u7cbe\\u5bc6\", \"\\u98df\\u54c1\"], \"yaxis\": \"y\"}],\n",
              "                        {\"barmode\": \"relative\", \"legend\": {\"title\": {\"text\": \"variable\"}, \"tracegroupgap\": 0}, \"margin\": {\"t\": 60}, \"template\": {\"data\": {\"bar\": [{\"error_x\": {\"color\": \"#2a3f5f\"}, \"error_y\": {\"color\": \"#2a3f5f\"}, \"marker\": {\"line\": {\"color\": \"#E5ECF6\", \"width\": 0.5}}, \"type\": \"bar\"}], \"barpolar\": [{\"marker\": {\"line\": {\"color\": \"#E5ECF6\", \"width\": 0.5}}, \"type\": \"barpolar\"}], \"carpet\": [{\"aaxis\": {\"endlinecolor\": \"#2a3f5f\", \"gridcolor\": \"white\", \"linecolor\": \"white\", \"minorgridcolor\": \"white\", \"startlinecolor\": \"#2a3f5f\"}, \"baxis\": {\"endlinecolor\": \"#2a3f5f\", \"gridcolor\": \"white\", \"linecolor\": \"white\", \"minorgridcolor\": \"white\", \"startlinecolor\": \"#2a3f5f\"}, \"type\": \"carpet\"}], \"choropleth\": [{\"colorbar\": {\"outlinewidth\": 0, \"ticks\": \"\"}, \"type\": \"choropleth\"}], \"contour\": [{\"colorbar\": {\"outlinewidth\": 0, \"ticks\": \"\"}, \"colorscale\": [[0.0, \"#0d0887\"], [0.1111111111111111, \"#46039f\"], [0.2222222222222222, \"#7201a8\"], [0.3333333333333333, \"#9c179e\"], [0.4444444444444444, \"#bd3786\"], [0.5555555555555556, \"#d8576b\"], [0.6666666666666666, \"#ed7953\"], [0.7777777777777778, \"#fb9f3a\"], [0.8888888888888888, \"#fdca26\"], [1.0, \"#f0f921\"]], \"type\": \"contour\"}], \"contourcarpet\": [{\"colorbar\": {\"outlinewidth\": 0, \"ticks\": \"\"}, \"type\": \"contourcarpet\"}], \"heatmap\": [{\"colorbar\": {\"outlinewidth\": 0, \"ticks\": \"\"}, \"colorscale\": [[0.0, \"#0d0887\"], [0.1111111111111111, \"#46039f\"], [0.2222222222222222, \"#7201a8\"], [0.3333333333333333, \"#9c179e\"], [0.4444444444444444, \"#bd3786\"], [0.5555555555555556, \"#d8576b\"], [0.6666666666666666, \"#ed7953\"], [0.7777777777777778, \"#fb9f3a\"], [0.8888888888888888, \"#fdca26\"], [1.0, \"#f0f921\"]], \"type\": \"heatmap\"}], \"heatmapgl\": [{\"colorbar\": {\"outlinewidth\": 0, \"ticks\": \"\"}, \"colorscale\": [[0.0, \"#0d0887\"], [0.1111111111111111, \"#46039f\"], [0.2222222222222222, \"#7201a8\"], [0.3333333333333333, \"#9c179e\"], [0.4444444444444444, \"#bd3786\"], [0.5555555555555556, \"#d8576b\"], [0.6666666666666666, \"#ed7953\"], [0.7777777777777778, \"#fb9f3a\"], [0.8888888888888888, \"#fdca26\"], [1.0, \"#f0f921\"]], \"type\": \"heatmapgl\"}], \"histogram\": [{\"marker\": {\"colorbar\": {\"outlinewidth\": 0, \"ticks\": \"\"}}, \"type\": \"histogram\"}], \"histogram2d\": [{\"colorbar\": {\"outlinewidth\": 0, \"ticks\": \"\"}, \"colorscale\": [[0.0, \"#0d0887\"], [0.1111111111111111, \"#46039f\"], [0.2222222222222222, \"#7201a8\"], [0.3333333333333333, \"#9c179e\"], [0.4444444444444444, \"#bd3786\"], [0.5555555555555556, \"#d8576b\"], [0.6666666666666666, \"#ed7953\"], [0.7777777777777778, \"#fb9f3a\"], [0.8888888888888888, \"#fdca26\"], [1.0, \"#f0f921\"]], \"type\": \"histogram2d\"}], \"histogram2dcontour\": [{\"colorbar\": {\"outlinewidth\": 0, \"ticks\": \"\"}, \"colorscale\": [[0.0, \"#0d0887\"], [0.1111111111111111, \"#46039f\"], [0.2222222222222222, \"#7201a8\"], [0.3333333333333333, \"#9c179e\"], [0.4444444444444444, \"#bd3786\"], [0.5555555555555556, \"#d8576b\"], [0.6666666666666666, \"#ed7953\"], [0.7777777777777778, \"#fb9f3a\"], [0.8888888888888888, \"#fdca26\"], [1.0, \"#f0f921\"]], \"type\": \"histogram2dcontour\"}], \"mesh3d\": [{\"colorbar\": {\"outlinewidth\": 0, \"ticks\": \"\"}, \"type\": \"mesh3d\"}], \"parcoords\": [{\"line\": {\"colorbar\": {\"outlinewidth\": 0, \"ticks\": \"\"}}, \"type\": \"parcoords\"}], \"pie\": [{\"automargin\": true, \"type\": \"pie\"}], \"scatter\": [{\"marker\": {\"colorbar\": {\"outlinewidth\": 0, \"ticks\": \"\"}}, \"type\": \"scatter\"}], \"scatter3d\": [{\"line\": {\"colorbar\": {\"outlinewidth\": 0, \"ticks\": \"\"}}, \"marker\": {\"colorbar\": {\"outlinewidth\": 0, \"ticks\": \"\"}}, \"type\": \"scatter3d\"}], \"scattercarpet\": [{\"marker\": {\"colorbar\": {\"outlinewidth\": 0, \"ticks\": \"\"}}, \"type\": \"scattercarpet\"}], \"scattergeo\": [{\"marker\": {\"colorbar\": {\"outlinewidth\": 0, \"ticks\": \"\"}}, \"type\": \"scattergeo\"}], \"scattergl\": [{\"marker\": {\"colorbar\": {\"outlinewidth\": 0, \"ticks\": \"\"}}, \"type\": \"scattergl\"}], \"scattermapbox\": [{\"marker\": {\"colorbar\": {\"outlinewidth\": 0, \"ticks\": \"\"}}, \"type\": \"scattermapbox\"}], \"scatterpolar\": [{\"marker\": {\"colorbar\": {\"outlinewidth\": 0, \"ticks\": \"\"}}, \"type\": \"scatterpolar\"}], \"scatterpolargl\": [{\"marker\": {\"colorbar\": {\"outlinewidth\": 0, \"ticks\": \"\"}}, \"type\": \"scatterpolargl\"}], \"scatterternary\": [{\"marker\": {\"colorbar\": {\"outlinewidth\": 0, \"ticks\": \"\"}}, \"type\": \"scatterternary\"}], \"surface\": [{\"colorbar\": {\"outlinewidth\": 0, \"ticks\": \"\"}, \"colorscale\": [[0.0, \"#0d0887\"], [0.1111111111111111, \"#46039f\"], [0.2222222222222222, \"#7201a8\"], [0.3333333333333333, \"#9c179e\"], [0.4444444444444444, \"#bd3786\"], [0.5555555555555556, \"#d8576b\"], [0.6666666666666666, \"#ed7953\"], [0.7777777777777778, \"#fb9f3a\"], [0.8888888888888888, \"#fdca26\"], [1.0, \"#f0f921\"]], \"type\": \"surface\"}], \"table\": [{\"cells\": {\"fill\": {\"color\": \"#EBF0F8\"}, \"line\": {\"color\": \"white\"}}, \"header\": {\"fill\": {\"color\": \"#C8D4E3\"}, \"line\": {\"color\": \"white\"}}, \"type\": \"table\"}]}, \"layout\": {\"annotationdefaults\": {\"arrowcolor\": \"#2a3f5f\", \"arrowhead\": 0, \"arrowwidth\": 1}, \"coloraxis\": {\"colorbar\": {\"outlinewidth\": 0, \"ticks\": \"\"}}, \"colorscale\": {\"diverging\": [[0, \"#8e0152\"], [0.1, \"#c51b7d\"], [0.2, \"#de77ae\"], [0.3, \"#f1b6da\"], [0.4, \"#fde0ef\"], [0.5, \"#f7f7f7\"], [0.6, \"#e6f5d0\"], [0.7, \"#b8e186\"], [0.8, \"#7fbc41\"], [0.9, \"#4d9221\"], [1, \"#276419\"]], \"sequential\": [[0.0, \"#0d0887\"], [0.1111111111111111, \"#46039f\"], [0.2222222222222222, \"#7201a8\"], [0.3333333333333333, \"#9c179e\"], [0.4444444444444444, \"#bd3786\"], [0.5555555555555556, \"#d8576b\"], [0.6666666666666666, \"#ed7953\"], [0.7777777777777778, \"#fb9f3a\"], [0.8888888888888888, \"#fdca26\"], [1.0, \"#f0f921\"]], \"sequentialminus\": [[0.0, \"#0d0887\"], [0.1111111111111111, \"#46039f\"], [0.2222222222222222, \"#7201a8\"], [0.3333333333333333, \"#9c179e\"], [0.4444444444444444, \"#bd3786\"], [0.5555555555555556, \"#d8576b\"], [0.6666666666666666, \"#ed7953\"], [0.7777777777777778, \"#fb9f3a\"], [0.8888888888888888, \"#fdca26\"], [1.0, \"#f0f921\"]]}, \"colorway\": [\"#636efa\", \"#EF553B\", \"#00cc96\", \"#ab63fa\", \"#FFA15A\", \"#19d3f3\", \"#FF6692\", \"#B6E880\", \"#FF97FF\", \"#FECB52\"], \"font\": {\"color\": \"#2a3f5f\"}, \"geo\": {\"bgcolor\": \"white\", \"lakecolor\": \"white\", \"landcolor\": \"#E5ECF6\", \"showlakes\": true, \"showland\": true, \"subunitcolor\": \"white\"}, \"hoverlabel\": {\"align\": \"left\"}, \"hovermode\": \"closest\", \"mapbox\": {\"style\": \"light\"}, \"paper_bgcolor\": \"white\", \"plot_bgcolor\": \"#E5ECF6\", \"polar\": {\"angularaxis\": {\"gridcolor\": \"white\", \"linecolor\": \"white\", \"ticks\": \"\"}, \"bgcolor\": \"#E5ECF6\", \"radialaxis\": {\"gridcolor\": \"white\", \"linecolor\": \"white\", \"ticks\": \"\"}}, \"scene\": {\"xaxis\": {\"backgroundcolor\": \"#E5ECF6\", \"gridcolor\": \"white\", \"gridwidth\": 2, \"linecolor\": \"white\", \"showbackground\": true, \"ticks\": \"\", \"zerolinecolor\": \"white\"}, \"yaxis\": {\"backgroundcolor\": \"#E5ECF6\", \"gridcolor\": \"white\", \"gridwidth\": 2, \"linecolor\": \"white\", \"showbackground\": true, \"ticks\": \"\", \"zerolinecolor\": \"white\"}, \"zaxis\": {\"backgroundcolor\": \"#E5ECF6\", \"gridcolor\": \"white\", \"gridwidth\": 2, \"linecolor\": \"white\", \"showbackground\": true, \"ticks\": \"\", \"zerolinecolor\": \"white\"}}, \"shapedefaults\": {\"line\": {\"color\": \"#2a3f5f\"}}, \"ternary\": {\"aaxis\": {\"gridcolor\": \"white\", \"linecolor\": \"white\", \"ticks\": \"\"}, \"baxis\": {\"gridcolor\": \"white\", \"linecolor\": \"white\", \"ticks\": \"\"}, \"bgcolor\": \"#E5ECF6\", \"caxis\": {\"gridcolor\": \"white\", \"linecolor\": \"white\", \"ticks\": \"\"}}, \"title\": {\"x\": 0.05}, \"xaxis\": {\"automargin\": true, \"gridcolor\": \"white\", \"linecolor\": \"white\", \"ticks\": \"\", \"title\": {\"standoff\": 15}, \"zerolinecolor\": \"white\", \"zerolinewidth\": 2}, \"yaxis\": {\"automargin\": true, \"gridcolor\": \"white\", \"linecolor\": \"white\", \"ticks\": \"\", \"title\": {\"standoff\": 15}, \"zerolinecolor\": \"white\", \"zerolinewidth\": 2}}}, \"xaxis\": {\"anchor\": \"y\", \"domain\": [0.0, 1.0], \"title\": {\"text\": \"value\"}}, \"yaxis\": {\"anchor\": \"x\", \"domain\": [0.0, 1.0], \"title\": {\"text\": \"17\\u696d\\u7a2e\\u533a\\u5206\"}}},\n",
              "                        {\"responsive\": true}\n",
              "                    ).then(function(){\n",
              "                            \n",
              "var gd = document.getElementById('adbaa2a3-ca36-4750-98bb-0df918d6ca9d');\n",
              "var x = new MutationObserver(function (mutations, observer) {{\n",
              "        var display = window.getComputedStyle(gd).display;\n",
              "        if (!display || display === 'none') {{\n",
              "            console.log([gd, 'removed!']);\n",
              "            Plotly.purge(gd);\n",
              "            observer.disconnect();\n",
              "        }}\n",
              "}});\n",
              "\n",
              "// Listen for the removal of the full notebook cells\n",
              "var notebookContainer = gd.closest('#notebook-container');\n",
              "if (notebookContainer) {{\n",
              "    x.observe(notebookContainer, {childList: true});\n",
              "}}\n",
              "\n",
              "// Listen for the clearing of the current output cell\n",
              "var outputEl = gd.closest('.output');\n",
              "if (outputEl) {{\n",
              "    x.observe(outputEl, {childList: true});\n",
              "}}\n",
              "\n",
              "                        })\n",
              "                };\n",
              "                });\n",
              "            </script>\n",
              "        </div>"
            ]
          },
          "metadata": {
            "tags": []
          }
        }
      ]
    },
    {
      "cell_type": "markdown",
      "metadata": {
        "id": "ap0J3QkCM9uv",
        "colab_type": "text"
      },
      "source": [
        "## (参考) 東証における33業種区分での企業数"
      ]
    },
    {
      "cell_type": "code",
      "metadata": {
        "id": "hXwpEhYPM9uv",
        "colab_type": "code",
        "colab": {},
        "outputId": "0d2eab3b-ea93-46db-c734-ed11bf607dbe"
      },
      "source": [
        "import pandas as pd\n",
        "companies = pd.read_csv(\"TSE_corp_list.csv\")\n",
        "\n",
        "# TSEコードと 33業種区分のみ取り出して，業種区分でグループ化\n",
        "companies = companies[['コード', '33業種区分']]\n",
        "kubun = companies.groupby('33業種区分').count()\n",
        "\n",
        "# 可視化\n",
        "import plotly_express as px\n",
        "fig = px.bar(kubun, orientation='h') # orientation='h' は horizontal を意味する\n",
        "fig.show()"
      ],
      "execution_count": null,
      "outputs": [
        {
          "output_type": "display_data",
          "data": {
            "application/vnd.plotly.v1+json": {
              "config": {
                "plotlyServerURL": "https://plot.ly"
              },
              "data": [
                {
                  "alignmentgroup": "True",
                  "hovertemplate": "variable=コード<br>value=%{x}<br>33業種区分=%{y}<extra></extra>",
                  "legendgroup": "コード",
                  "marker": {
                    "color": "#636efa"
                  },
                  "name": "コード",
                  "offsetgroup": "コード",
                  "orientation": "h",
                  "showlegend": true,
                  "textposition": "auto",
                  "type": "bar",
                  "x": [
                    52,
                    27,
                    33,
                    11,
                    212,
                    12,
                    69,
                    9,
                    24,
                    144,
                    38,
                    174,
                    199,
                    98,
                    213,
                    141,
                    7,
                    8,
                    9,
                    3,
                    33,
                    39,
                    23,
                    62,
                    40,
                    31,
                    6,
                    79,
                    43,
                    22,
                    157,
                    24,
                    83
                  ],
                  "xaxis": "x",
                  "y": [
                    "その他製品",
                    "その他金融業",
                    "ガラス・土石製品",
                    "ゴム製品",
                    "サービス業",
                    "パルプ・紙",
                    "不動産業",
                    "保険業",
                    "倉庫・運輸関連業",
                    "化学",
                    "医薬品",
                    "卸売業",
                    "小売業",
                    "建設業",
                    "情報・通信業",
                    "機械",
                    "水産・農林業",
                    "海運業",
                    "石油・石炭製品",
                    "空運業",
                    "精密機器",
                    "繊維製品",
                    "証券、商品先物取引業",
                    "輸送用機器",
                    "金属製品",
                    "鉄鋼",
                    "鉱業",
                    "銀行業",
                    "陸運業",
                    "電気・ガス業",
                    "電気機器",
                    "非鉄金属",
                    "食料品"
                  ],
                  "yaxis": "y"
                }
              ],
              "layout": {
                "barmode": "relative",
                "legend": {
                  "title": {
                    "text": "variable"
                  },
                  "tracegroupgap": 0
                },
                "margin": {
                  "t": 60
                },
                "template": {
                  "data": {
                    "bar": [
                      {
                        "error_x": {
                          "color": "#2a3f5f"
                        },
                        "error_y": {
                          "color": "#2a3f5f"
                        },
                        "marker": {
                          "line": {
                            "color": "#E5ECF6",
                            "width": 0.5
                          }
                        },
                        "type": "bar"
                      }
                    ],
                    "barpolar": [
                      {
                        "marker": {
                          "line": {
                            "color": "#E5ECF6",
                            "width": 0.5
                          }
                        },
                        "type": "barpolar"
                      }
                    ],
                    "carpet": [
                      {
                        "aaxis": {
                          "endlinecolor": "#2a3f5f",
                          "gridcolor": "white",
                          "linecolor": "white",
                          "minorgridcolor": "white",
                          "startlinecolor": "#2a3f5f"
                        },
                        "baxis": {
                          "endlinecolor": "#2a3f5f",
                          "gridcolor": "white",
                          "linecolor": "white",
                          "minorgridcolor": "white",
                          "startlinecolor": "#2a3f5f"
                        },
                        "type": "carpet"
                      }
                    ],
                    "choropleth": [
                      {
                        "colorbar": {
                          "outlinewidth": 0,
                          "ticks": ""
                        },
                        "type": "choropleth"
                      }
                    ],
                    "contour": [
                      {
                        "colorbar": {
                          "outlinewidth": 0,
                          "ticks": ""
                        },
                        "colorscale": [
                          [
                            0,
                            "#0d0887"
                          ],
                          [
                            0.1111111111111111,
                            "#46039f"
                          ],
                          [
                            0.2222222222222222,
                            "#7201a8"
                          ],
                          [
                            0.3333333333333333,
                            "#9c179e"
                          ],
                          [
                            0.4444444444444444,
                            "#bd3786"
                          ],
                          [
                            0.5555555555555556,
                            "#d8576b"
                          ],
                          [
                            0.6666666666666666,
                            "#ed7953"
                          ],
                          [
                            0.7777777777777778,
                            "#fb9f3a"
                          ],
                          [
                            0.8888888888888888,
                            "#fdca26"
                          ],
                          [
                            1,
                            "#f0f921"
                          ]
                        ],
                        "type": "contour"
                      }
                    ],
                    "contourcarpet": [
                      {
                        "colorbar": {
                          "outlinewidth": 0,
                          "ticks": ""
                        },
                        "type": "contourcarpet"
                      }
                    ],
                    "heatmap": [
                      {
                        "colorbar": {
                          "outlinewidth": 0,
                          "ticks": ""
                        },
                        "colorscale": [
                          [
                            0,
                            "#0d0887"
                          ],
                          [
                            0.1111111111111111,
                            "#46039f"
                          ],
                          [
                            0.2222222222222222,
                            "#7201a8"
                          ],
                          [
                            0.3333333333333333,
                            "#9c179e"
                          ],
                          [
                            0.4444444444444444,
                            "#bd3786"
                          ],
                          [
                            0.5555555555555556,
                            "#d8576b"
                          ],
                          [
                            0.6666666666666666,
                            "#ed7953"
                          ],
                          [
                            0.7777777777777778,
                            "#fb9f3a"
                          ],
                          [
                            0.8888888888888888,
                            "#fdca26"
                          ],
                          [
                            1,
                            "#f0f921"
                          ]
                        ],
                        "type": "heatmap"
                      }
                    ],
                    "heatmapgl": [
                      {
                        "colorbar": {
                          "outlinewidth": 0,
                          "ticks": ""
                        },
                        "colorscale": [
                          [
                            0,
                            "#0d0887"
                          ],
                          [
                            0.1111111111111111,
                            "#46039f"
                          ],
                          [
                            0.2222222222222222,
                            "#7201a8"
                          ],
                          [
                            0.3333333333333333,
                            "#9c179e"
                          ],
                          [
                            0.4444444444444444,
                            "#bd3786"
                          ],
                          [
                            0.5555555555555556,
                            "#d8576b"
                          ],
                          [
                            0.6666666666666666,
                            "#ed7953"
                          ],
                          [
                            0.7777777777777778,
                            "#fb9f3a"
                          ],
                          [
                            0.8888888888888888,
                            "#fdca26"
                          ],
                          [
                            1,
                            "#f0f921"
                          ]
                        ],
                        "type": "heatmapgl"
                      }
                    ],
                    "histogram": [
                      {
                        "marker": {
                          "colorbar": {
                            "outlinewidth": 0,
                            "ticks": ""
                          }
                        },
                        "type": "histogram"
                      }
                    ],
                    "histogram2d": [
                      {
                        "colorbar": {
                          "outlinewidth": 0,
                          "ticks": ""
                        },
                        "colorscale": [
                          [
                            0,
                            "#0d0887"
                          ],
                          [
                            0.1111111111111111,
                            "#46039f"
                          ],
                          [
                            0.2222222222222222,
                            "#7201a8"
                          ],
                          [
                            0.3333333333333333,
                            "#9c179e"
                          ],
                          [
                            0.4444444444444444,
                            "#bd3786"
                          ],
                          [
                            0.5555555555555556,
                            "#d8576b"
                          ],
                          [
                            0.6666666666666666,
                            "#ed7953"
                          ],
                          [
                            0.7777777777777778,
                            "#fb9f3a"
                          ],
                          [
                            0.8888888888888888,
                            "#fdca26"
                          ],
                          [
                            1,
                            "#f0f921"
                          ]
                        ],
                        "type": "histogram2d"
                      }
                    ],
                    "histogram2dcontour": [
                      {
                        "colorbar": {
                          "outlinewidth": 0,
                          "ticks": ""
                        },
                        "colorscale": [
                          [
                            0,
                            "#0d0887"
                          ],
                          [
                            0.1111111111111111,
                            "#46039f"
                          ],
                          [
                            0.2222222222222222,
                            "#7201a8"
                          ],
                          [
                            0.3333333333333333,
                            "#9c179e"
                          ],
                          [
                            0.4444444444444444,
                            "#bd3786"
                          ],
                          [
                            0.5555555555555556,
                            "#d8576b"
                          ],
                          [
                            0.6666666666666666,
                            "#ed7953"
                          ],
                          [
                            0.7777777777777778,
                            "#fb9f3a"
                          ],
                          [
                            0.8888888888888888,
                            "#fdca26"
                          ],
                          [
                            1,
                            "#f0f921"
                          ]
                        ],
                        "type": "histogram2dcontour"
                      }
                    ],
                    "mesh3d": [
                      {
                        "colorbar": {
                          "outlinewidth": 0,
                          "ticks": ""
                        },
                        "type": "mesh3d"
                      }
                    ],
                    "parcoords": [
                      {
                        "line": {
                          "colorbar": {
                            "outlinewidth": 0,
                            "ticks": ""
                          }
                        },
                        "type": "parcoords"
                      }
                    ],
                    "pie": [
                      {
                        "automargin": true,
                        "type": "pie"
                      }
                    ],
                    "scatter": [
                      {
                        "marker": {
                          "colorbar": {
                            "outlinewidth": 0,
                            "ticks": ""
                          }
                        },
                        "type": "scatter"
                      }
                    ],
                    "scatter3d": [
                      {
                        "line": {
                          "colorbar": {
                            "outlinewidth": 0,
                            "ticks": ""
                          }
                        },
                        "marker": {
                          "colorbar": {
                            "outlinewidth": 0,
                            "ticks": ""
                          }
                        },
                        "type": "scatter3d"
                      }
                    ],
                    "scattercarpet": [
                      {
                        "marker": {
                          "colorbar": {
                            "outlinewidth": 0,
                            "ticks": ""
                          }
                        },
                        "type": "scattercarpet"
                      }
                    ],
                    "scattergeo": [
                      {
                        "marker": {
                          "colorbar": {
                            "outlinewidth": 0,
                            "ticks": ""
                          }
                        },
                        "type": "scattergeo"
                      }
                    ],
                    "scattergl": [
                      {
                        "marker": {
                          "colorbar": {
                            "outlinewidth": 0,
                            "ticks": ""
                          }
                        },
                        "type": "scattergl"
                      }
                    ],
                    "scattermapbox": [
                      {
                        "marker": {
                          "colorbar": {
                            "outlinewidth": 0,
                            "ticks": ""
                          }
                        },
                        "type": "scattermapbox"
                      }
                    ],
                    "scatterpolar": [
                      {
                        "marker": {
                          "colorbar": {
                            "outlinewidth": 0,
                            "ticks": ""
                          }
                        },
                        "type": "scatterpolar"
                      }
                    ],
                    "scatterpolargl": [
                      {
                        "marker": {
                          "colorbar": {
                            "outlinewidth": 0,
                            "ticks": ""
                          }
                        },
                        "type": "scatterpolargl"
                      }
                    ],
                    "scatterternary": [
                      {
                        "marker": {
                          "colorbar": {
                            "outlinewidth": 0,
                            "ticks": ""
                          }
                        },
                        "type": "scatterternary"
                      }
                    ],
                    "surface": [
                      {
                        "colorbar": {
                          "outlinewidth": 0,
                          "ticks": ""
                        },
                        "colorscale": [
                          [
                            0,
                            "#0d0887"
                          ],
                          [
                            0.1111111111111111,
                            "#46039f"
                          ],
                          [
                            0.2222222222222222,
                            "#7201a8"
                          ],
                          [
                            0.3333333333333333,
                            "#9c179e"
                          ],
                          [
                            0.4444444444444444,
                            "#bd3786"
                          ],
                          [
                            0.5555555555555556,
                            "#d8576b"
                          ],
                          [
                            0.6666666666666666,
                            "#ed7953"
                          ],
                          [
                            0.7777777777777778,
                            "#fb9f3a"
                          ],
                          [
                            0.8888888888888888,
                            "#fdca26"
                          ],
                          [
                            1,
                            "#f0f921"
                          ]
                        ],
                        "type": "surface"
                      }
                    ],
                    "table": [
                      {
                        "cells": {
                          "fill": {
                            "color": "#EBF0F8"
                          },
                          "line": {
                            "color": "white"
                          }
                        },
                        "header": {
                          "fill": {
                            "color": "#C8D4E3"
                          },
                          "line": {
                            "color": "white"
                          }
                        },
                        "type": "table"
                      }
                    ]
                  },
                  "layout": {
                    "annotationdefaults": {
                      "arrowcolor": "#2a3f5f",
                      "arrowhead": 0,
                      "arrowwidth": 1
                    },
                    "coloraxis": {
                      "colorbar": {
                        "outlinewidth": 0,
                        "ticks": ""
                      }
                    },
                    "colorscale": {
                      "diverging": [
                        [
                          0,
                          "#8e0152"
                        ],
                        [
                          0.1,
                          "#c51b7d"
                        ],
                        [
                          0.2,
                          "#de77ae"
                        ],
                        [
                          0.3,
                          "#f1b6da"
                        ],
                        [
                          0.4,
                          "#fde0ef"
                        ],
                        [
                          0.5,
                          "#f7f7f7"
                        ],
                        [
                          0.6,
                          "#e6f5d0"
                        ],
                        [
                          0.7,
                          "#b8e186"
                        ],
                        [
                          0.8,
                          "#7fbc41"
                        ],
                        [
                          0.9,
                          "#4d9221"
                        ],
                        [
                          1,
                          "#276419"
                        ]
                      ],
                      "sequential": [
                        [
                          0,
                          "#0d0887"
                        ],
                        [
                          0.1111111111111111,
                          "#46039f"
                        ],
                        [
                          0.2222222222222222,
                          "#7201a8"
                        ],
                        [
                          0.3333333333333333,
                          "#9c179e"
                        ],
                        [
                          0.4444444444444444,
                          "#bd3786"
                        ],
                        [
                          0.5555555555555556,
                          "#d8576b"
                        ],
                        [
                          0.6666666666666666,
                          "#ed7953"
                        ],
                        [
                          0.7777777777777778,
                          "#fb9f3a"
                        ],
                        [
                          0.8888888888888888,
                          "#fdca26"
                        ],
                        [
                          1,
                          "#f0f921"
                        ]
                      ],
                      "sequentialminus": [
                        [
                          0,
                          "#0d0887"
                        ],
                        [
                          0.1111111111111111,
                          "#46039f"
                        ],
                        [
                          0.2222222222222222,
                          "#7201a8"
                        ],
                        [
                          0.3333333333333333,
                          "#9c179e"
                        ],
                        [
                          0.4444444444444444,
                          "#bd3786"
                        ],
                        [
                          0.5555555555555556,
                          "#d8576b"
                        ],
                        [
                          0.6666666666666666,
                          "#ed7953"
                        ],
                        [
                          0.7777777777777778,
                          "#fb9f3a"
                        ],
                        [
                          0.8888888888888888,
                          "#fdca26"
                        ],
                        [
                          1,
                          "#f0f921"
                        ]
                      ]
                    },
                    "colorway": [
                      "#636efa",
                      "#EF553B",
                      "#00cc96",
                      "#ab63fa",
                      "#FFA15A",
                      "#19d3f3",
                      "#FF6692",
                      "#B6E880",
                      "#FF97FF",
                      "#FECB52"
                    ],
                    "font": {
                      "color": "#2a3f5f"
                    },
                    "geo": {
                      "bgcolor": "white",
                      "lakecolor": "white",
                      "landcolor": "#E5ECF6",
                      "showlakes": true,
                      "showland": true,
                      "subunitcolor": "white"
                    },
                    "hoverlabel": {
                      "align": "left"
                    },
                    "hovermode": "closest",
                    "mapbox": {
                      "style": "light"
                    },
                    "paper_bgcolor": "white",
                    "plot_bgcolor": "#E5ECF6",
                    "polar": {
                      "angularaxis": {
                        "gridcolor": "white",
                        "linecolor": "white",
                        "ticks": ""
                      },
                      "bgcolor": "#E5ECF6",
                      "radialaxis": {
                        "gridcolor": "white",
                        "linecolor": "white",
                        "ticks": ""
                      }
                    },
                    "scene": {
                      "xaxis": {
                        "backgroundcolor": "#E5ECF6",
                        "gridcolor": "white",
                        "gridwidth": 2,
                        "linecolor": "white",
                        "showbackground": true,
                        "ticks": "",
                        "zerolinecolor": "white"
                      },
                      "yaxis": {
                        "backgroundcolor": "#E5ECF6",
                        "gridcolor": "white",
                        "gridwidth": 2,
                        "linecolor": "white",
                        "showbackground": true,
                        "ticks": "",
                        "zerolinecolor": "white"
                      },
                      "zaxis": {
                        "backgroundcolor": "#E5ECF6",
                        "gridcolor": "white",
                        "gridwidth": 2,
                        "linecolor": "white",
                        "showbackground": true,
                        "ticks": "",
                        "zerolinecolor": "white"
                      }
                    },
                    "shapedefaults": {
                      "line": {
                        "color": "#2a3f5f"
                      }
                    },
                    "ternary": {
                      "aaxis": {
                        "gridcolor": "white",
                        "linecolor": "white",
                        "ticks": ""
                      },
                      "baxis": {
                        "gridcolor": "white",
                        "linecolor": "white",
                        "ticks": ""
                      },
                      "bgcolor": "#E5ECF6",
                      "caxis": {
                        "gridcolor": "white",
                        "linecolor": "white",
                        "ticks": ""
                      }
                    },
                    "title": {
                      "x": 0.05
                    },
                    "xaxis": {
                      "automargin": true,
                      "gridcolor": "white",
                      "linecolor": "white",
                      "ticks": "",
                      "title": {
                        "standoff": 15
                      },
                      "zerolinecolor": "white",
                      "zerolinewidth": 2
                    },
                    "yaxis": {
                      "automargin": true,
                      "gridcolor": "white",
                      "linecolor": "white",
                      "ticks": "",
                      "title": {
                        "standoff": 15
                      },
                      "zerolinecolor": "white",
                      "zerolinewidth": 2
                    }
                  }
                },
                "xaxis": {
                  "anchor": "y",
                  "domain": [
                    0,
                    1
                  ],
                  "title": {
                    "text": "value"
                  }
                },
                "yaxis": {
                  "anchor": "x",
                  "domain": [
                    0,
                    1
                  ],
                  "title": {
                    "text": "33業種区分"
                  }
                }
              }
            },
            "text/html": [
              "<div>\n",
              "        \n",
              "        \n",
              "            <div id=\"d5d9f001-3459-4516-a80b-37d65af644c6\" class=\"plotly-graph-div\" style=\"height:525px; width:100%;\"></div>\n",
              "            <script type=\"text/javascript\">\n",
              "                require([\"plotly\"], function(Plotly) {\n",
              "                    window.PLOTLYENV=window.PLOTLYENV || {};\n",
              "                    \n",
              "                if (document.getElementById(\"d5d9f001-3459-4516-a80b-37d65af644c6\")) {\n",
              "                    Plotly.newPlot(\n",
              "                        'd5d9f001-3459-4516-a80b-37d65af644c6',\n",
              "                        [{\"alignmentgroup\": \"True\", \"hovertemplate\": \"variable=\\u30b3\\u30fc\\u30c9<br>value=%{x}<br>33\\u696d\\u7a2e\\u533a\\u5206=%{y}<extra></extra>\", \"legendgroup\": \"\\u30b3\\u30fc\\u30c9\", \"marker\": {\"color\": \"#636efa\"}, \"name\": \"\\u30b3\\u30fc\\u30c9\", \"offsetgroup\": \"\\u30b3\\u30fc\\u30c9\", \"orientation\": \"h\", \"showlegend\": true, \"textposition\": \"auto\", \"type\": \"bar\", \"x\": [52, 27, 33, 11, 212, 12, 69, 9, 24, 144, 38, 174, 199, 98, 213, 141, 7, 8, 9, 3, 33, 39, 23, 62, 40, 31, 6, 79, 43, 22, 157, 24, 83], \"xaxis\": \"x\", \"y\": [\"\\u305d\\u306e\\u4ed6\\u88fd\\u54c1\", \"\\u305d\\u306e\\u4ed6\\u91d1\\u878d\\u696d\", \"\\u30ac\\u30e9\\u30b9\\u30fb\\u571f\\u77f3\\u88fd\\u54c1\", \"\\u30b4\\u30e0\\u88fd\\u54c1\", \"\\u30b5\\u30fc\\u30d3\\u30b9\\u696d\", \"\\u30d1\\u30eb\\u30d7\\u30fb\\u7d19\", \"\\u4e0d\\u52d5\\u7523\\u696d\", \"\\u4fdd\\u967a\\u696d\", \"\\u5009\\u5eab\\u30fb\\u904b\\u8f38\\u95a2\\u9023\\u696d\", \"\\u5316\\u5b66\", \"\\u533b\\u85ac\\u54c1\", \"\\u5378\\u58f2\\u696d\", \"\\u5c0f\\u58f2\\u696d\", \"\\u5efa\\u8a2d\\u696d\", \"\\u60c5\\u5831\\u30fb\\u901a\\u4fe1\\u696d\", \"\\u6a5f\\u68b0\", \"\\u6c34\\u7523\\u30fb\\u8fb2\\u6797\\u696d\", \"\\u6d77\\u904b\\u696d\", \"\\u77f3\\u6cb9\\u30fb\\u77f3\\u70ad\\u88fd\\u54c1\", \"\\u7a7a\\u904b\\u696d\", \"\\u7cbe\\u5bc6\\u6a5f\\u5668\", \"\\u7e4a\\u7dad\\u88fd\\u54c1\", \"\\u8a3c\\u5238\\u3001\\u5546\\u54c1\\u5148\\u7269\\u53d6\\u5f15\\u696d\", \"\\u8f38\\u9001\\u7528\\u6a5f\\u5668\", \"\\u91d1\\u5c5e\\u88fd\\u54c1\", \"\\u9244\\u92fc\", \"\\u9271\\u696d\", \"\\u9280\\u884c\\u696d\", \"\\u9678\\u904b\\u696d\", \"\\u96fb\\u6c17\\u30fb\\u30ac\\u30b9\\u696d\", \"\\u96fb\\u6c17\\u6a5f\\u5668\", \"\\u975e\\u9244\\u91d1\\u5c5e\", \"\\u98df\\u6599\\u54c1\"], \"yaxis\": \"y\"}],\n",
              "                        {\"barmode\": \"relative\", \"legend\": {\"title\": {\"text\": \"variable\"}, \"tracegroupgap\": 0}, \"margin\": {\"t\": 60}, \"template\": {\"data\": {\"bar\": [{\"error_x\": {\"color\": \"#2a3f5f\"}, \"error_y\": {\"color\": \"#2a3f5f\"}, \"marker\": {\"line\": {\"color\": \"#E5ECF6\", \"width\": 0.5}}, \"type\": \"bar\"}], \"barpolar\": [{\"marker\": {\"line\": {\"color\": \"#E5ECF6\", \"width\": 0.5}}, \"type\": \"barpolar\"}], \"carpet\": [{\"aaxis\": {\"endlinecolor\": \"#2a3f5f\", \"gridcolor\": \"white\", \"linecolor\": \"white\", \"minorgridcolor\": \"white\", \"startlinecolor\": \"#2a3f5f\"}, \"baxis\": {\"endlinecolor\": \"#2a3f5f\", \"gridcolor\": \"white\", \"linecolor\": \"white\", \"minorgridcolor\": \"white\", \"startlinecolor\": \"#2a3f5f\"}, \"type\": \"carpet\"}], \"choropleth\": [{\"colorbar\": {\"outlinewidth\": 0, \"ticks\": \"\"}, \"type\": \"choropleth\"}], \"contour\": [{\"colorbar\": {\"outlinewidth\": 0, \"ticks\": \"\"}, \"colorscale\": [[0.0, \"#0d0887\"], [0.1111111111111111, \"#46039f\"], [0.2222222222222222, \"#7201a8\"], [0.3333333333333333, \"#9c179e\"], [0.4444444444444444, \"#bd3786\"], [0.5555555555555556, \"#d8576b\"], [0.6666666666666666, \"#ed7953\"], [0.7777777777777778, \"#fb9f3a\"], [0.8888888888888888, \"#fdca26\"], [1.0, \"#f0f921\"]], \"type\": \"contour\"}], \"contourcarpet\": [{\"colorbar\": {\"outlinewidth\": 0, \"ticks\": \"\"}, \"type\": \"contourcarpet\"}], \"heatmap\": [{\"colorbar\": {\"outlinewidth\": 0, \"ticks\": \"\"}, \"colorscale\": [[0.0, \"#0d0887\"], [0.1111111111111111, \"#46039f\"], [0.2222222222222222, \"#7201a8\"], [0.3333333333333333, \"#9c179e\"], [0.4444444444444444, \"#bd3786\"], [0.5555555555555556, \"#d8576b\"], [0.6666666666666666, \"#ed7953\"], [0.7777777777777778, \"#fb9f3a\"], [0.8888888888888888, \"#fdca26\"], [1.0, \"#f0f921\"]], \"type\": \"heatmap\"}], \"heatmapgl\": [{\"colorbar\": {\"outlinewidth\": 0, \"ticks\": \"\"}, \"colorscale\": [[0.0, \"#0d0887\"], [0.1111111111111111, \"#46039f\"], [0.2222222222222222, \"#7201a8\"], [0.3333333333333333, \"#9c179e\"], [0.4444444444444444, \"#bd3786\"], [0.5555555555555556, \"#d8576b\"], [0.6666666666666666, \"#ed7953\"], [0.7777777777777778, \"#fb9f3a\"], [0.8888888888888888, \"#fdca26\"], [1.0, \"#f0f921\"]], \"type\": \"heatmapgl\"}], \"histogram\": [{\"marker\": {\"colorbar\": {\"outlinewidth\": 0, \"ticks\": \"\"}}, \"type\": \"histogram\"}], \"histogram2d\": [{\"colorbar\": {\"outlinewidth\": 0, \"ticks\": \"\"}, \"colorscale\": [[0.0, \"#0d0887\"], [0.1111111111111111, \"#46039f\"], [0.2222222222222222, \"#7201a8\"], [0.3333333333333333, \"#9c179e\"], [0.4444444444444444, \"#bd3786\"], [0.5555555555555556, \"#d8576b\"], [0.6666666666666666, \"#ed7953\"], [0.7777777777777778, \"#fb9f3a\"], [0.8888888888888888, \"#fdca26\"], [1.0, \"#f0f921\"]], \"type\": \"histogram2d\"}], \"histogram2dcontour\": [{\"colorbar\": {\"outlinewidth\": 0, \"ticks\": \"\"}, \"colorscale\": [[0.0, \"#0d0887\"], [0.1111111111111111, \"#46039f\"], [0.2222222222222222, \"#7201a8\"], [0.3333333333333333, \"#9c179e\"], [0.4444444444444444, \"#bd3786\"], [0.5555555555555556, \"#d8576b\"], [0.6666666666666666, \"#ed7953\"], [0.7777777777777778, \"#fb9f3a\"], [0.8888888888888888, \"#fdca26\"], [1.0, \"#f0f921\"]], \"type\": \"histogram2dcontour\"}], \"mesh3d\": [{\"colorbar\": {\"outlinewidth\": 0, \"ticks\": \"\"}, \"type\": \"mesh3d\"}], \"parcoords\": [{\"line\": {\"colorbar\": {\"outlinewidth\": 0, \"ticks\": \"\"}}, \"type\": \"parcoords\"}], \"pie\": [{\"automargin\": true, \"type\": \"pie\"}], \"scatter\": [{\"marker\": {\"colorbar\": {\"outlinewidth\": 0, \"ticks\": \"\"}}, \"type\": \"scatter\"}], \"scatter3d\": [{\"line\": {\"colorbar\": {\"outlinewidth\": 0, \"ticks\": \"\"}}, \"marker\": {\"colorbar\": {\"outlinewidth\": 0, \"ticks\": \"\"}}, \"type\": \"scatter3d\"}], \"scattercarpet\": [{\"marker\": {\"colorbar\": {\"outlinewidth\": 0, \"ticks\": \"\"}}, \"type\": \"scattercarpet\"}], \"scattergeo\": [{\"marker\": {\"colorbar\": {\"outlinewidth\": 0, \"ticks\": \"\"}}, \"type\": \"scattergeo\"}], \"scattergl\": [{\"marker\": {\"colorbar\": {\"outlinewidth\": 0, \"ticks\": \"\"}}, \"type\": \"scattergl\"}], \"scattermapbox\": [{\"marker\": {\"colorbar\": {\"outlinewidth\": 0, \"ticks\": \"\"}}, \"type\": \"scattermapbox\"}], \"scatterpolar\": [{\"marker\": {\"colorbar\": {\"outlinewidth\": 0, \"ticks\": \"\"}}, \"type\": \"scatterpolar\"}], \"scatterpolargl\": [{\"marker\": {\"colorbar\": {\"outlinewidth\": 0, \"ticks\": \"\"}}, \"type\": \"scatterpolargl\"}], \"scatterternary\": [{\"marker\": {\"colorbar\": {\"outlinewidth\": 0, \"ticks\": \"\"}}, \"type\": \"scatterternary\"}], \"surface\": [{\"colorbar\": {\"outlinewidth\": 0, \"ticks\": \"\"}, \"colorscale\": [[0.0, \"#0d0887\"], [0.1111111111111111, \"#46039f\"], [0.2222222222222222, \"#7201a8\"], [0.3333333333333333, \"#9c179e\"], [0.4444444444444444, \"#bd3786\"], [0.5555555555555556, \"#d8576b\"], [0.6666666666666666, \"#ed7953\"], [0.7777777777777778, \"#fb9f3a\"], [0.8888888888888888, \"#fdca26\"], [1.0, \"#f0f921\"]], \"type\": \"surface\"}], \"table\": [{\"cells\": {\"fill\": {\"color\": \"#EBF0F8\"}, \"line\": {\"color\": \"white\"}}, \"header\": {\"fill\": {\"color\": \"#C8D4E3\"}, \"line\": {\"color\": \"white\"}}, \"type\": \"table\"}]}, \"layout\": {\"annotationdefaults\": {\"arrowcolor\": \"#2a3f5f\", \"arrowhead\": 0, \"arrowwidth\": 1}, \"coloraxis\": {\"colorbar\": {\"outlinewidth\": 0, \"ticks\": \"\"}}, \"colorscale\": {\"diverging\": [[0, \"#8e0152\"], [0.1, \"#c51b7d\"], [0.2, \"#de77ae\"], [0.3, \"#f1b6da\"], [0.4, \"#fde0ef\"], [0.5, \"#f7f7f7\"], [0.6, \"#e6f5d0\"], [0.7, \"#b8e186\"], [0.8, \"#7fbc41\"], [0.9, \"#4d9221\"], [1, \"#276419\"]], \"sequential\": [[0.0, \"#0d0887\"], [0.1111111111111111, \"#46039f\"], [0.2222222222222222, \"#7201a8\"], [0.3333333333333333, \"#9c179e\"], [0.4444444444444444, \"#bd3786\"], [0.5555555555555556, \"#d8576b\"], [0.6666666666666666, \"#ed7953\"], [0.7777777777777778, \"#fb9f3a\"], [0.8888888888888888, \"#fdca26\"], [1.0, \"#f0f921\"]], \"sequentialminus\": [[0.0, \"#0d0887\"], [0.1111111111111111, \"#46039f\"], [0.2222222222222222, \"#7201a8\"], [0.3333333333333333, \"#9c179e\"], [0.4444444444444444, \"#bd3786\"], [0.5555555555555556, \"#d8576b\"], [0.6666666666666666, \"#ed7953\"], [0.7777777777777778, \"#fb9f3a\"], [0.8888888888888888, \"#fdca26\"], [1.0, \"#f0f921\"]]}, \"colorway\": [\"#636efa\", \"#EF553B\", \"#00cc96\", \"#ab63fa\", \"#FFA15A\", \"#19d3f3\", \"#FF6692\", \"#B6E880\", \"#FF97FF\", \"#FECB52\"], \"font\": {\"color\": \"#2a3f5f\"}, \"geo\": {\"bgcolor\": \"white\", \"lakecolor\": \"white\", \"landcolor\": \"#E5ECF6\", \"showlakes\": true, \"showland\": true, \"subunitcolor\": \"white\"}, \"hoverlabel\": {\"align\": \"left\"}, \"hovermode\": \"closest\", \"mapbox\": {\"style\": \"light\"}, \"paper_bgcolor\": \"white\", \"plot_bgcolor\": \"#E5ECF6\", \"polar\": {\"angularaxis\": {\"gridcolor\": \"white\", \"linecolor\": \"white\", \"ticks\": \"\"}, \"bgcolor\": \"#E5ECF6\", \"radialaxis\": {\"gridcolor\": \"white\", \"linecolor\": \"white\", \"ticks\": \"\"}}, \"scene\": {\"xaxis\": {\"backgroundcolor\": \"#E5ECF6\", \"gridcolor\": \"white\", \"gridwidth\": 2, \"linecolor\": \"white\", \"showbackground\": true, \"ticks\": \"\", \"zerolinecolor\": \"white\"}, \"yaxis\": {\"backgroundcolor\": \"#E5ECF6\", \"gridcolor\": \"white\", \"gridwidth\": 2, \"linecolor\": \"white\", \"showbackground\": true, \"ticks\": \"\", \"zerolinecolor\": \"white\"}, \"zaxis\": {\"backgroundcolor\": \"#E5ECF6\", \"gridcolor\": \"white\", \"gridwidth\": 2, \"linecolor\": \"white\", \"showbackground\": true, \"ticks\": \"\", \"zerolinecolor\": \"white\"}}, \"shapedefaults\": {\"line\": {\"color\": \"#2a3f5f\"}}, \"ternary\": {\"aaxis\": {\"gridcolor\": \"white\", \"linecolor\": \"white\", \"ticks\": \"\"}, \"baxis\": {\"gridcolor\": \"white\", \"linecolor\": \"white\", \"ticks\": \"\"}, \"bgcolor\": \"#E5ECF6\", \"caxis\": {\"gridcolor\": \"white\", \"linecolor\": \"white\", \"ticks\": \"\"}}, \"title\": {\"x\": 0.05}, \"xaxis\": {\"automargin\": true, \"gridcolor\": \"white\", \"linecolor\": \"white\", \"ticks\": \"\", \"title\": {\"standoff\": 15}, \"zerolinecolor\": \"white\", \"zerolinewidth\": 2}, \"yaxis\": {\"automargin\": true, \"gridcolor\": \"white\", \"linecolor\": \"white\", \"ticks\": \"\", \"title\": {\"standoff\": 15}, \"zerolinecolor\": \"white\", \"zerolinewidth\": 2}}}, \"xaxis\": {\"anchor\": \"y\", \"domain\": [0.0, 1.0], \"title\": {\"text\": \"value\"}}, \"yaxis\": {\"anchor\": \"x\", \"domain\": [0.0, 1.0], \"title\": {\"text\": \"33\\u696d\\u7a2e\\u533a\\u5206\"}}},\n",
              "                        {\"responsive\": true}\n",
              "                    ).then(function(){\n",
              "                            \n",
              "var gd = document.getElementById('d5d9f001-3459-4516-a80b-37d65af644c6');\n",
              "var x = new MutationObserver(function (mutations, observer) {{\n",
              "        var display = window.getComputedStyle(gd).display;\n",
              "        if (!display || display === 'none') {{\n",
              "            console.log([gd, 'removed!']);\n",
              "            Plotly.purge(gd);\n",
              "            observer.disconnect();\n",
              "        }}\n",
              "}});\n",
              "\n",
              "// Listen for the removal of the full notebook cells\n",
              "var notebookContainer = gd.closest('#notebook-container');\n",
              "if (notebookContainer) {{\n",
              "    x.observe(notebookContainer, {childList: true});\n",
              "}}\n",
              "\n",
              "// Listen for the clearing of the current output cell\n",
              "var outputEl = gd.closest('.output');\n",
              "if (outputEl) {{\n",
              "    x.observe(outputEl, {childList: true});\n",
              "}}\n",
              "\n",
              "                        })\n",
              "                };\n",
              "                });\n",
              "            </script>\n",
              "        </div>"
            ]
          },
          "metadata": {
            "tags": []
          }
        }
      ]
    },
    {
      "cell_type": "markdown",
      "metadata": {
        "id": "xDiTf7nWM9u0",
        "colab_type": "text"
      },
      "source": [
        "## 複数の企業株価の推移を並べてみる\n",
        "以下では17業種区分にて「電機・精密」に分類されるソニーと日立製作所\n",
        "および「食品」に区分される伊藤園の株価の推移を調べる。\n",
        "\n",
        "下記のコードおよび実行結果に示すように，ソニーと日立製作所の株価の動きは類似するが，伊藤園は他の２社と異なる動きをしている。"
      ]
    },
    {
      "cell_type": "code",
      "metadata": {
        "id": "X6v4hwYfM9u0",
        "colab_type": "code",
        "colab": {},
        "outputId": "400e8095-ff6d-4dc6-af1a-c8c1483e0595"
      },
      "source": [
        "import quandl\n",
        "\n",
        "quandl.ApiConfig.api_key = \"swWCyaT7PznGyDJwoPys\"\n",
        "\n",
        "# 株価の取得\n",
        "# ソニー(TSE/6758)，日立製作所 (TSE/6501)，伊藤園(TSE/2593)\n",
        "sony = quandl.get('TSE/6758', start_date='2017-01-01', end_date='2017-12-31')\n",
        "hitachi = quandl.get('TSE/6501', start_date='2017-01-01', end_date='2017-12-31')\n",
        "itoen = quandl.get('TSE/2593', start_date='2017-01-01', end_date='2017-12-31')\n",
        "\n",
        "# 可視化 (本来，Figure を使う方が望ましいが，簡易版で勘弁して！)\n",
        "import matplotlib.pyplot as plt\n",
        "plt.subplot(3,1,1)\n",
        "plt.plot(sony['Close'], label='sony')\n",
        "plt.legend()\n",
        "plt.xlabel(\"date\")\n",
        "plt.ylabel(\"stock price\")\n",
        "\n",
        "plt.subplot(3,1,2)\n",
        "plt.plot(hitachi['Close'], label='hitachi')\n",
        "plt.legend()\n",
        "plt.xlabel(\"date\")\n",
        "plt.ylabel(\"stock price\")\n",
        "\n",
        "plt.subplot(3,1,3)\n",
        "plt.plot(itoen['Close'], label='hitachi')\n",
        "plt.legend()\n",
        "plt.xlabel(\"date\")\n",
        "plt.ylabel(\"stock price\")\n",
        "\n",
        "plt.show()"
      ],
      "execution_count": null,
      "outputs": [
        {
          "output_type": "display_data",
          "data": {
            "image/png": "[encoded data removed]",
            "text/plain": [
              "<Figure size 432x288 with 3 Axes>"
            ]
          },
          "metadata": {
            "tags": [],
            "needs_background": "light"
          }
        }
      ]
    },
    {
      "cell_type": "markdown",
      "metadata": {
        "id": "_HerOI0BM9u4",
        "colab_type": "text"
      },
      "source": [
        "## ２つの企業間の株価の(時系列)相関を調べる"
      ]
    },
    {
      "cell_type": "code",
      "metadata": {
        "id": "TpKQX6KKM9u5",
        "colab_type": "code",
        "colab": {},
        "outputId": "f34fcf4c-269c-4b3c-ced0-9cc147ffb8ab"
      },
      "source": [
        "# ソニーと日立製作所\n",
        "corr = sony['Close'].corr(hitachi['Close'])\n",
        "print(\"ソニーと日立製作所の相関係数: {}\".format(corr))\n",
        "\n",
        "# ソニーと伊藤園\n",
        "corr = sony['Close'].corr(itoen['Close'])\n",
        "print(\"ソニーと伊藤園の相関係数: {}\".format(corr))\n"
      ],
      "execution_count": null,
      "outputs": [
        {
          "output_type": "stream",
          "text": [
            "ソニーと日立製作所の相関係数: 0.8353219741872472\n",
            "ソニーと伊藤園の相関係数: 0.43117381623009904\n"
          ],
          "name": "stdout"
        }
      ]
    },
    {
      "cell_type": "code",
      "metadata": {
        "id": "eNg0VdprM9u9",
        "colab_type": "code",
        "colab": {}
      },
      "source": [
        ""
      ],
      "execution_count": null,
      "outputs": []
    },
    {
      "cell_type": "code",
      "metadata": {
        "id": "0Jn1GA-EM9vB",
        "colab_type": "code",
        "colab": {}
      },
      "source": [
        "import quandl"
      ],
      "execution_count": null,
      "outputs": []
    },
    {
      "cell_type": "code",
      "metadata": {
        "id": "lpYOaDmqM9vI",
        "colab_type": "code",
        "colab": {}
      },
      "source": [
        "quandl.ApiConfig.api_key = \"swWCyaT7PznGyDJwoPys\""
      ],
      "execution_count": null,
      "outputs": []
    },
    {
      "cell_type": "code",
      "metadata": {
        "id": "5H2TME3FM9vM",
        "colab_type": "code",
        "colab": {}
      },
      "source": [
        "# TSE : Tokyo Stock Exchange\n",
        "# 6758 : stock indicator\n",
        "# ソニー(株)/ (6758)\n",
        "# (株)日立製作所/ (6501)\n",
        "#\n",
        "# get() の使い方は以下に説明がある。\n",
        "# https://www.quandl.com/data/TSE-Tokyo-Stock-Exchange/usage/quickstart/python\n",
        "sony = quandl.get('TSE/6758', start_date='2017-01-01', end_date='2017-12-31')\n",
        "hitachi = quandl.get('TSE/6501', start_date='2017-01-01', end_date='2017-12-31')"
      ],
      "execution_count": null,
      "outputs": []
    },
    {
      "cell_type": "code",
      "metadata": {
        "id": "MVspaCdZM9vP",
        "colab_type": "code",
        "colab": {},
        "outputId": "e94c2cd7-79fe-4d3a-eb14-7e5280048b4e"
      },
      "source": [
        "sony[:5]"
      ],
      "execution_count": null,
      "outputs": [
        {
          "output_type": "execute_result",
          "data": {
            "text/html": [
              "<div>\n",
              "<style scoped>\n",
              "    .dataframe tbody tr th:only-of-type {\n",
              "        vertical-align: middle;\n",
              "    }\n",
              "\n",
              "    .dataframe tbody tr th {\n",
              "        vertical-align: top;\n",
              "    }\n",
              "\n",
              "    .dataframe thead th {\n",
              "        text-align: right;\n",
              "    }\n",
              "</style>\n",
              "<table border=\"1\" class=\"dataframe\">\n",
              "  <thead>\n",
              "    <tr style=\"text-align: right;\">\n",
              "      <th></th>\n",
              "      <th>Open</th>\n",
              "      <th>High</th>\n",
              "      <th>Low</th>\n",
              "      <th>Close</th>\n",
              "      <th>Volume</th>\n",
              "    </tr>\n",
              "    <tr>\n",
              "      <th>Date</th>\n",
              "      <th></th>\n",
              "      <th></th>\n",
              "      <th></th>\n",
              "      <th></th>\n",
              "      <th></th>\n",
              "    </tr>\n",
              "  </thead>\n",
              "  <tbody>\n",
              "    <tr>\n",
              "      <th>2017-01-04</th>\n",
              "      <td>3305.0</td>\n",
              "      <td>3333.0</td>\n",
              "      <td>3274.0</td>\n",
              "      <td>3333.0</td>\n",
              "      <td>5914000.0</td>\n",
              "    </tr>\n",
              "    <tr>\n",
              "      <th>2017-01-05</th>\n",
              "      <td>3335.0</td>\n",
              "      <td>3337.0</td>\n",
              "      <td>3269.0</td>\n",
              "      <td>3296.0</td>\n",
              "      <td>7201700.0</td>\n",
              "    </tr>\n",
              "    <tr>\n",
              "      <th>2017-01-06</th>\n",
              "      <td>3328.0</td>\n",
              "      <td>3374.0</td>\n",
              "      <td>3311.0</td>\n",
              "      <td>3316.0</td>\n",
              "      <td>8873600.0</td>\n",
              "    </tr>\n",
              "    <tr>\n",
              "      <th>2017-01-10</th>\n",
              "      <td>3345.0</td>\n",
              "      <td>3439.0</td>\n",
              "      <td>3344.0</td>\n",
              "      <td>3394.0</td>\n",
              "      <td>11461200.0</td>\n",
              "    </tr>\n",
              "    <tr>\n",
              "      <th>2017-01-11</th>\n",
              "      <td>3464.0</td>\n",
              "      <td>3550.0</td>\n",
              "      <td>3462.0</td>\n",
              "      <td>3510.0</td>\n",
              "      <td>13620000.0</td>\n",
              "    </tr>\n",
              "  </tbody>\n",
              "</table>\n",
              "</div>"
            ],
            "text/plain": [
              "              Open    High     Low   Close      Volume\n",
              "Date                                                  \n",
              "2017-01-04  3305.0  3333.0  3274.0  3333.0   5914000.0\n",
              "2017-01-05  3335.0  3337.0  3269.0  3296.0   7201700.0\n",
              "2017-01-06  3328.0  3374.0  3311.0  3316.0   8873600.0\n",
              "2017-01-10  3345.0  3439.0  3344.0  3394.0  11461200.0\n",
              "2017-01-11  3464.0  3550.0  3462.0  3510.0  13620000.0"
            ]
          },
          "metadata": {
            "tags": []
          },
          "execution_count": 4
        }
      ]
    },
    {
      "cell_type": "code",
      "metadata": {
        "scrolled": true,
        "id": "lGOOrgLGM9vS",
        "colab_type": "code",
        "colab": {},
        "outputId": "acf6a81d-2507-4269-d46e-f906a55eee77"
      },
      "source": [
        "# 移動相関\n",
        "import pandas as pd\n",
        "corr = sony['Close'].rolling(window=30, min_periods=0).corr(hitachi['Close'])\n",
        "corr.plot()\n",
        "\n",
        "'''\n",
        "https://www.quandl.com/data/TSE-Tokyo-Stock-Exchange\n",
        "\n",
        "Quandl における TSE の説明（ここには TSE コードの一覧はない）\n",
        "https://www.quandl.com/data/TSE-Tokyo-Stock-Exchange/documentation\n",
        "\n",
        "# TSEコードの一覧は以下から入手できる\n",
        "https://www.jpx.co.jp/markets/statistics-equities/misc/01.html\n",
        "\n",
        "商品区分から「市場第一部（内国株）」のみをとれば東証一部企業が得られる\n",
        "次の項目を CSV ファイルへ残す\n",
        "コード, 銘柄名, 33業種コード, 33業種区分, 17業種コード, 17業種区分\n",
        "\n",
        "(注意)東証一部状況企業は約2,160社，ある。全データ取得に相応の時間がかかる点に注意！\n",
        "'''"
      ],
      "execution_count": null,
      "outputs": [
        {
          "output_type": "execute_result",
          "data": {
            "text/plain": [
              "<matplotlib.axes._subplots.AxesSubplot at 0x1c2a2a21e88>"
            ]
          },
          "metadata": {
            "tags": []
          },
          "execution_count": 10
        },
        {
          "output_type": "display_data",
          "data": {
            "image/png": "[encoded data removed]",
            "text/plain": [
              "<Figure size 432x288 with 1 Axes>"
            ]
          },
          "metadata": {
            "tags": [],
            "needs_background": "light"
          }
        }
      ]
    },
    {
      "cell_type": "code",
      "metadata": {
        "scrolled": false,
        "id": "xlCTeFKBM9vV",
        "colab_type": "code",
        "colab": {}
      },
      "source": [
        "# 東証一部上場企業のみを取り出す\n",
        "import csv\n",
        "\n",
        "data = []\n",
        "with open(\"TSE/data_j.csv\", \"r\", encoding=\"utf-8\") as f:\n",
        "    reader = csv.DictReader(f) # ヘッダのついた CSV ファイルの読み込みに DictReader を利用\n",
        "    for row in reader:\n",
        "        if row['市場・商品区分']== '市場第一部（内国株）':\n",
        "                # print(row)\n",
        "                data.append([row['コード'], row['銘柄名'], row['33業種コード'], row['33業種区分'], row['17業種コード'], row['17業種区分']])\n",
        "\n",
        "header = ['コード', '銘柄名', '33業種コード', '33業種区分', '17業種コード', '17業種区分']\n",
        "with open(\"TSE/data_j_1.csv\", \"w\",  newline=\"\",  encoding=\"utf-8\") as f:\n",
        "    writer = csv.writer(f, delimiter=',', quoting=csv.QUOTE_NONE) #, quotechar='\"', quoting=csv.QUOTE_ALL)\n",
        "    writer.writerow(header)\n",
        "    writer.writerows(data)"
      ],
      "execution_count": null,
      "outputs": []
    },
    {
      "cell_type": "code",
      "metadata": {
        "scrolled": false,
        "id": "gN8GW1YSM9vZ",
        "colab_type": "code",
        "colab": {},
        "outputId": "00d959ad-d80d-4073-c891-83e92ef0006c"
      },
      "source": [
        "import quandl\n",
        "quandl.ApiConfig.api_key = \"swWCyaT7PznGyDJwoPys\"\n",
        "\n",
        "with open(\"TSE/data_j_1.csv\", \"r\", encoding=\"utf-8\") as f:\n",
        "    reader = csv.DictReader(f) # ヘッダのついた CSV ファイルの読み込みに DictReader を利用\n",
        "    \n",
        "    valid_meigara = 0\n",
        "    for row in reader:\n",
        "        indicator = \"TSE/{}\".format(row['コード'])\n",
        "        try:\n",
        "            data = quandl.get(indicator)\n",
        "            # print(row['銘柄名'])\n",
        "            # print(data[:3])\n",
        "            data.to_csv(indicator + \".csv\")\n",
        "            valid_meigara += 1\n",
        "        except quandl.NotFoundError as e:\n",
        "            print(row['銘柄名'])\n",
        "\n",
        "print(\"有効な銘柄数\", valid_meigara)"
      ],
      "execution_count": null,
      "outputs": [
        {
          "output_type": "stream",
          "text": [
            "キャンディル\n",
            "スペースバリューホールディングス\n",
            "日本国土開発\n",
            "スター・マイカ・ホールディングス\n",
            "ＡＤワークスグループ\n",
            "信和\n",
            "ワールド\n",
            "ＨＥＲＯＺ\n",
            "ラクスル\n",
            "ＦＩＧ\n",
            "システムサポート\n",
            "イーソル\n",
            "アルテリア・ネットワークス\n",
            "東海ソフト\n",
            "ヒト・コミュニケーションズ・ホールディングス\n",
            "トビラシステムズ\n",
            "ミダック\n",
            "日総工産\n",
            "キュービーネットホールディングス\n",
            "ＲＰＡホールディングス\n",
            "ダイヤモンドエレクトリックホールディングス\n",
            "スプリックス\n",
            "マネジメントソリューションズ\n",
            "プロレド・パートナーズ\n",
            "ａｎｄ　ｆａｃｔｏｒｙ\n",
            "ギークス\n",
            "カーブスホールディングス\n",
            "フォーラムエンジニアリング\n",
            "関西みらいフィナンシャルグループ\n",
            "三十三フィナンシャルグループ\n",
            "第四北越フィナンシャルグループ\n",
            "ダイコー通産\n",
            "薬王堂ホールディングス\n",
            "未来工業\n",
            "オリバー\n",
            "クワザワ\n",
            "ヤマエ久野\n",
            "コーア商事ホールディングス\n",
            "国際紙パルプ商事\n",
            "ナルミヤ・インターナショナル\n",
            "ブックオフグループホールディングス\n",
            "ソフトバンク\n",
            "ファイバーゲート\n",
            "有効な銘柄数 2126\n"
          ],
          "name": "stdout"
        }
      ]
    },
    {
      "cell_type": "code",
      "metadata": {
        "scrolled": true,
        "id": "lDNtxYBkM9vd",
        "colab_type": "code",
        "colab": {},
        "outputId": "f3e7062e-b7a8-44eb-bd58-ae820e5fcc86"
      },
      "source": [
        "import quandl\n",
        "quandl.ApiConfig.api_key = \"swWCyaT7PznGyDJwoPys\"\n",
        "\n",
        "import glob\n",
        "paths = glob.glob(\"TSE/*.csv\")\n",
        "# print(paths)\n",
        "getted = []\n",
        "for path in paths:\n",
        "    try:\n",
        "        getted.append(int(path.split('\\\\')[1].split('.')[0]))\n",
        "    except:\n",
        "        pass\n",
        "\n",
        "# import sys\n",
        "#sys.exit()\n",
        "\n",
        "valid_meigara = 0\n",
        "for x in range(1300, 10000):\n",
        "    if x in getted:\n",
        "        continue\n",
        "        \n",
        "    indicator = \"TSE/{}\".format(x)\n",
        "    try:\n",
        "        data = quandl.get(indicator)\n",
        "        # print(row['銘柄名'])\n",
        "        # print(data[:3])\n",
        "        print(\"fonud {}\".format(indicator))\n",
        "        data.to_csv(indicator + \".csv\")\n",
        "        valid_meigara += 1\n",
        "    except quandl.NotFoundError as e:\n",
        "        print(\"{} is not found\".format(indicator))\n",
        "\n",
        "print(\"有効な銘柄数\", valid_meigara)"
      ],
      "execution_count": null,
      "outputs": [
        {
          "output_type": "stream",
          "text": [
            "TSE/1300 is not found\n",
            "TSE/1302 is not found\n",
            "TSE/1303 is not found\n",
            "TSE/1304 is not found\n",
            "fonud TSE/1305\n",
            "fonud TSE/1306\n",
            "TSE/1307 is not found\n",
            "fonud TSE/1308\n",
            "fonud TSE/1309\n",
            "fonud TSE/1310\n",
            "fonud TSE/1311\n",
            "fonud TSE/1312\n",
            "fonud TSE/1313\n",
            "fonud TSE/1314\n",
            "TSE/1315 is not found\n",
            "fonud TSE/1316\n",
            "fonud TSE/1317\n",
            "fonud TSE/1318\n",
            "fonud TSE/1319\n",
            "fonud TSE/1320\n",
            "fonud TSE/1321\n",
            "fonud TSE/1322\n",
            "fonud TSE/1323\n",
            "fonud TSE/1324\n",
            "fonud TSE/1325\n",
            "fonud TSE/1326\n",
            "fonud TSE/1327\n",
            "fonud TSE/1328\n",
            "fonud TSE/1329\n",
            "fonud TSE/1330\n",
            "TSE/1331 is not found\n",
            "fonud TSE/1334\n",
            "TSE/1335 is not found\n",
            "TSE/1336 is not found\n",
            "TSE/1337 is not found\n",
            "TSE/1338 is not found\n",
            "TSE/1339 is not found\n",
            "TSE/1340 is not found\n",
            "TSE/1341 is not found\n",
            "TSE/1342 is not found\n",
            "fonud TSE/1343\n",
            "fonud TSE/1344\n",
            "fonud TSE/1345\n",
            "fonud TSE/1346\n",
            "fonud TSE/1347\n",
            "fonud TSE/1348\n",
            "fonud TSE/1349\n",
            "TSE/1350 is not found\n",
            "TSE/1351 is not found\n",
            "TSE/1353 is not found\n",
            "TSE/1354 is not found\n",
            "TSE/1355 is not found\n",
            "fonud TSE/1356\n",
            "fonud TSE/1357\n",
            "fonud TSE/1358\n",
            "TSE/1359 is not found\n",
            "fonud TSE/1360\n",
            "fonud TSE/1361\n",
            "fonud TSE/1362\n",
            "fonud TSE/1363\n",
            "fonud TSE/1364\n",
            "fonud TSE/1365\n",
            "fonud TSE/1366\n",
            "fonud TSE/1367\n",
            "fonud TSE/1368\n",
            "fonud TSE/1369\n",
            "TSE/1370 is not found\n",
            "TSE/1371 is not found\n",
            "TSE/1372 is not found\n",
            "TSE/1373 is not found\n",
            "TSE/1374 is not found\n",
            "TSE/1375 is not found\n",
            "fonud TSE/1378\n",
            "fonud TSE/1380\n",
            "fonud TSE/1381\n",
            "fonud TSE/1382\n",
            "fonud TSE/1383\n",
            "fonud TSE/1385\n",
            "fonud TSE/1386\n",
            "fonud TSE/1387\n",
            "fonud TSE/1388\n",
            "fonud TSE/1389\n",
            "fonud TSE/1390\n",
            "fonud TSE/1391\n",
            "fonud TSE/1392\n",
            "fonud TSE/1393\n",
            "fonud TSE/1394\n",
            "TSE/1395 is not found\n",
            "TSE/1396 is not found\n",
            "fonud TSE/1397\n",
            "fonud TSE/1398\n",
            "fonud TSE/1399\n",
            "fonud TSE/1400\n",
            "fonud TSE/1401\n",
            "TSE/1402 is not found\n",
            "TSE/1403 is not found\n",
            "TSE/1404 is not found\n",
            "fonud TSE/1405\n",
            "TSE/1406 is not found\n",
            "fonud TSE/1407\n",
            "fonud TSE/1408\n",
            "TSE/1409 is not found\n",
            "TSE/1410 is not found\n",
            "TSE/1411 is not found\n",
            "TSE/1412 is not found\n",
            "TSE/1415 is not found\n",
            "TSE/1416 is not found\n",
            "fonud TSE/1418\n",
            "TSE/1421 is not found\n",
            "TSE/1422 is not found\n",
            "TSE/1423 is not found\n",
            "TSE/1424 is not found\n",
            "TSE/1425 is not found\n",
            "TSE/1426 is not found\n",
            "fonud TSE/1427\n",
            "TSE/1428 is not found\n",
            "TSE/1431 is not found\n",
            "fonud TSE/1432\n",
            "fonud TSE/1434\n",
            "fonud TSE/1436\n",
            "fonud TSE/1437\n",
            "TSE/1438 is not found\n",
            "fonud TSE/1439\n",
            "fonud TSE/1440\n",
            "TSE/1441 is not found\n",
            "TSE/1442 is not found\n",
            "TSE/1443 is not found\n",
            "TSE/1444 is not found\n",
            "TSE/1445 is not found\n",
            "TSE/1446 is not found\n",
            "TSE/1447 is not found\n",
            "TSE/1448 is not found\n",
            "TSE/1449 is not found\n",
            "TSE/1450 is not found\n",
            "TSE/1451 is not found\n",
            "TSE/1452 is not found\n",
            "TSE/1453 is not found\n",
            "TSE/1454 is not found\n",
            "TSE/1455 is not found\n",
            "fonud TSE/1456\n",
            "fonud TSE/1457\n",
            "fonud TSE/1458\n",
            "fonud TSE/1459\n",
            "fonud TSE/1460\n",
            "TSE/1461 is not found\n",
            "TSE/1462 is not found\n",
            "TSE/1463 is not found\n",
            "fonud TSE/1464\n",
            "fonud TSE/1465\n",
            "fonud TSE/1466\n",
            "fonud TSE/1467\n",
            "fonud TSE/1468\n",
            "fonud TSE/1469\n",
            "fonud TSE/1470\n",
            "fonud TSE/1471\n",
            "fonud TSE/1472\n",
            "fonud TSE/1473\n",
            "fonud TSE/1474\n",
            "fonud TSE/1475\n",
            "fonud TSE/1476\n",
            "fonud TSE/1477\n",
            "fonud TSE/1478\n",
            "fonud TSE/1479\n",
            "fonud TSE/1480\n",
            "fonud TSE/1481\n",
            "fonud TSE/1482\n",
            "fonud TSE/1483\n",
            "fonud TSE/1484\n",
            "fonud TSE/1485\n",
            "fonud TSE/1486\n",
            "fonud TSE/1487\n",
            "fonud TSE/1488\n",
            "fonud TSE/1489\n",
            "fonud TSE/1490\n",
            "fonud TSE/1491\n",
            "fonud TSE/1492\n",
            "fonud TSE/1493\n",
            "fonud TSE/1494\n",
            "fonud TSE/1495\n",
            "fonud TSE/1496\n",
            "fonud TSE/1497\n",
            "fonud TSE/1498\n",
            "fonud TSE/1499\n",
            "TSE/1500 is not found\n",
            "TSE/1501 is not found\n",
            "TSE/1502 is not found\n",
            "TSE/1503 is not found\n",
            "TSE/1504 is not found\n",
            "TSE/1505 is not found\n",
            "TSE/1506 is not found\n",
            "TSE/1507 is not found\n",
            "TSE/1508 is not found\n",
            "TSE/1509 is not found\n",
            "TSE/1510 is not found\n",
            "TSE/1511 is not found\n",
            "TSE/1512 is not found\n",
            "TSE/1513 is not found\n",
            "TSE/1516 is not found\n",
            "TSE/1517 is not found\n",
            "TSE/1519 is not found\n",
            "TSE/1520 is not found\n",
            "TSE/1521 is not found\n",
            "TSE/1522 is not found\n",
            "TSE/1523 is not found\n",
            "TSE/1524 is not found\n",
            "TSE/1525 is not found\n",
            "TSE/1526 is not found\n",
            "TSE/1527 is not found\n",
            "TSE/1528 is not found\n",
            "TSE/1529 is not found\n",
            "TSE/1530 is not found\n",
            "TSE/1531 is not found\n",
            "TSE/1532 is not found\n",
            "TSE/1533 is not found\n",
            "TSE/1534 is not found\n",
            "TSE/1535 is not found\n",
            "TSE/1536 is not found\n",
            "TSE/1537 is not found\n",
            "TSE/1538 is not found\n",
            "TSE/1539 is not found\n",
            "fonud TSE/1540\n",
            "fonud TSE/1541\n",
            "fonud TSE/1542\n",
            "fonud TSE/1543\n",
            "fonud TSE/1544\n",
            "fonud TSE/1545\n",
            "fonud TSE/1546\n",
            "fonud TSE/1547\n",
            "fonud TSE/1548\n",
            "fonud TSE/1549\n",
            "fonud TSE/1550\n",
            "fonud TSE/1551\n",
            "fonud TSE/1552\n",
            "TSE/1553 is not found\n",
            "fonud TSE/1554\n",
            "fonud TSE/1555\n",
            "fonud TSE/1556\n",
            "fonud TSE/1557\n",
            "TSE/1558 is not found\n",
            "fonud TSE/1559\n",
            "fonud TSE/1560\n",
            "fonud TSE/1561\n",
            "fonud TSE/1562\n",
            "fonud TSE/1563\n",
            "TSE/1564 is not found\n",
            "fonud TSE/1565\n",
            "fonud TSE/1566\n",
            "fonud TSE/1567\n",
            "fonud TSE/1568\n",
            "fonud TSE/1569\n",
            "fonud TSE/1570\n",
            "fonud TSE/1571\n",
            "fonud TSE/1572\n",
            "fonud TSE/1573\n",
            "fonud TSE/1574\n",
            "fonud TSE/1575\n",
            "fonud TSE/1576\n",
            "fonud TSE/1577\n",
            "fonud TSE/1578\n",
            "fonud TSE/1579\n",
            "fonud TSE/1580\n",
            "fonud TSE/1581\n",
            "fonud TSE/1582\n",
            "fonud TSE/1583\n",
            "fonud TSE/1584\n",
            "fonud TSE/1585\n",
            "fonud TSE/1586\n",
            "fonud TSE/1587\n",
            "fonud TSE/1588\n",
            "fonud TSE/1589\n",
            "fonud TSE/1590\n",
            "fonud TSE/1591\n",
            "fonud TSE/1592\n",
            "fonud TSE/1593\n",
            "TSE/1594 is not found\n",
            "fonud TSE/1595\n",
            "fonud TSE/1596\n",
            "fonud TSE/1597\n",
            "fonud TSE/1598\n",
            "fonud TSE/1599\n",
            "TSE/1600 is not found\n",
            "TSE/1601 is not found\n",
            "TSE/1602 is not found\n",
            "TSE/1603 is not found\n",
            "TSE/1604 is not found\n",
            "fonud TSE/1606\n",
            "TSE/1607 is not found\n",
            "TSE/1608 is not found\n",
            "TSE/1609 is not found\n",
            "fonud TSE/1610\n",
            "TSE/1611 is not found\n",
            "fonud TSE/1612\n",
            "fonud TSE/1613\n",
            "TSE/1614 is not found\n",
            "fonud TSE/1615\n",
            "TSE/1616 is not found\n",
            "fonud TSE/1617\n",
            "fonud TSE/1618\n",
            "fonud TSE/1619\n",
            "fonud TSE/1620\n",
            "fonud TSE/1621\n",
            "fonud TSE/1622\n",
            "fonud TSE/1623\n",
            "fonud TSE/1624\n",
            "fonud TSE/1625\n",
            "fonud TSE/1626\n",
            "fonud TSE/1627\n",
            "fonud TSE/1628\n",
            "fonud TSE/1629\n",
            "fonud TSE/1630\n",
            "fonud TSE/1631\n",
            "fonud TSE/1632\n",
            "fonud TSE/1633\n",
            "fonud TSE/1634\n",
            "fonud TSE/1635\n",
            "fonud TSE/1636\n",
            "fonud TSE/1637\n",
            "fonud TSE/1638\n",
            "fonud TSE/1639\n",
            "fonud TSE/1640\n",
            "fonud TSE/1641\n",
            "fonud TSE/1642\n",
            "fonud TSE/1643\n",
            "fonud TSE/1644\n",
            "fonud TSE/1645\n",
            "fonud TSE/1646\n",
            "fonud TSE/1647\n",
            "fonud TSE/1648\n",
            "fonud TSE/1649\n",
            "fonud TSE/1650\n",
            "fonud TSE/1651\n",
            "fonud TSE/1652\n",
            "fonud TSE/1653\n",
            "fonud TSE/1654\n",
            "fonud TSE/1655\n",
            "fonud TSE/1656\n",
            "fonud TSE/1657\n",
            "fonud TSE/1658\n",
            "fonud TSE/1659\n",
            "fonud TSE/1660\n",
            "TSE/1661 is not found\n",
            "TSE/1664 is not found\n",
            "TSE/1665 is not found\n",
            "TSE/1666 is not found\n",
            "TSE/1667 is not found\n",
            "TSE/1668 is not found\n",
            "TSE/1669 is not found\n",
            "fonud TSE/1670\n",
            "fonud TSE/1671\n",
            "fonud TSE/1672\n",
            "fonud TSE/1673\n",
            "fonud TSE/1674\n",
            "fonud TSE/1675\n",
            "fonud TSE/1676\n",
            "fonud TSE/1677\n",
            "fonud TSE/1678\n",
            "fonud TSE/1679\n",
            "fonud TSE/1680\n",
            "fonud TSE/1681\n",
            "fonud TSE/1682\n",
            "fonud TSE/1683\n",
            "fonud TSE/1684\n",
            "fonud TSE/1685\n",
            "fonud TSE/1686\n",
            "fonud TSE/1687\n",
            "fonud TSE/1688\n",
            "fonud TSE/1689\n",
            "fonud TSE/1690\n",
            "fonud TSE/1691\n",
            "fonud TSE/1692\n",
            "fonud TSE/1693\n",
            "fonud TSE/1694\n",
            "fonud TSE/1695\n",
            "fonud TSE/1696\n",
            "fonud TSE/1697\n",
            "fonud TSE/1698\n",
            "fonud TSE/1699\n",
            "TSE/1700 is not found\n",
            "TSE/1701 is not found\n",
            "TSE/1702 is not found\n",
            "TSE/1703 is not found\n",
            "TSE/1704 is not found\n",
            "TSE/1705 is not found\n",
            "TSE/1706 is not found\n",
            "TSE/1707 is not found\n",
            "TSE/1708 is not found\n",
            "TSE/1709 is not found\n",
            "TSE/1710 is not found\n",
            "fonud TSE/1711\n",
            "TSE/1713 is not found\n",
            "TSE/1714 is not found\n",
            "TSE/1715 is not found\n",
            "fonud TSE/1718\n",
            "fonud TSE/1722\n",
            "fonud TSE/1723\n",
            "fonud TSE/1724\n",
            "TSE/1725 is not found\n",
            "TSE/1727 is not found\n",
            "fonud TSE/1728\n",
            "TSE/1729 is not found\n",
            "fonud TSE/1730\n",
            "TSE/1731 is not found\n",
            "TSE/1732 is not found\n",
            "TSE/1733 is not found\n",
            "TSE/1734 is not found\n",
            "TSE/1735 is not found\n",
            "fonud TSE/1736\n",
            "fonud TSE/1737\n",
            "TSE/1738 is not found\n",
            "fonud TSE/1739\n",
            "TSE/1740 is not found\n",
            "TSE/1741 is not found\n",
            "TSE/1742 is not found\n",
            "fonud TSE/1743\n",
            "TSE/1744 is not found\n",
            "TSE/1745 is not found\n",
            "TSE/1746 is not found\n",
            "TSE/1747 is not found\n",
            "TSE/1748 is not found\n",
            "TSE/1749 is not found\n",
            "TSE/1750 is not found\n",
            "TSE/1751 is not found\n",
            "TSE/1752 is not found\n",
            "TSE/1753 is not found\n",
            "TSE/1754 is not found\n",
            "TSE/1755 is not found\n",
            "TSE/1756 is not found\n",
            "fonud TSE/1757\n",
            "fonud TSE/1758\n",
            "TSE/1759 is not found\n",
            "TSE/1760 is not found\n",
            "TSE/1761 is not found\n",
            "TSE/1763 is not found\n",
            "fonud TSE/1764\n",
            "TSE/1765 is not found\n",
            "TSE/1767 is not found\n",
            "TSE/1769 is not found\n",
            "fonud TSE/1770\n",
            "TSE/1771 is not found\n",
            "TSE/1772 is not found\n",
            "fonud TSE/1773\n",
            "TSE/1774 is not found\n",
            "fonud TSE/1775\n",
            "fonud TSE/1776\n",
            "TSE/1777 is not found\n",
            "TSE/1778 is not found\n",
            "TSE/1779 is not found\n",
            "TSE/1781 is not found\n",
            "fonud TSE/1782\n",
            "fonud TSE/1783\n",
            "TSE/1784 is not found\n",
            "TSE/1785 is not found\n",
            "TSE/1786 is not found\n",
            "fonud TSE/1787\n",
            "fonud TSE/1788\n",
            "fonud TSE/1789\n",
            "TSE/1790 is not found\n",
            "TSE/1791 is not found\n",
            "TSE/1792 is not found\n",
            "fonud TSE/1793\n",
            "TSE/1794 is not found\n"
          ],
          "name": "stdout"
        },
        {
          "output_type": "stream",
          "text": [
            "fonud TSE/1795\n",
            "TSE/1796 is not found\n",
            "TSE/1797 is not found\n",
            "fonud TSE/1798\n",
            "fonud TSE/1799\n",
            "TSE/1800 is not found\n",
            "TSE/1804 is not found\n",
            "TSE/1806 is not found\n",
            "fonud TSE/1807\n",
            "TSE/1809 is not found\n",
            "TSE/1816 is not found\n",
            "TSE/1817 is not found\n",
            "TSE/1818 is not found\n",
            "fonud TSE/1819\n",
            "TSE/1823 is not found\n",
            "TSE/1825 is not found\n",
            "fonud TSE/1828\n",
            "TSE/1829 is not found\n",
            "TSE/1830 is not found\n",
            "TSE/1831 is not found\n",
            "TSE/1832 is not found\n",
            "fonud TSE/1834\n",
            "TSE/1836 is not found\n",
            "TSE/1837 is not found\n",
            "TSE/1838 is not found\n",
            "TSE/1839 is not found\n",
            "fonud TSE/1840\n",
            "fonud TSE/1841\n",
            "TSE/1842 is not found\n",
            "TSE/1843 is not found\n",
            "fonud TSE/1844\n",
            "TSE/1845 is not found\n",
            "fonud TSE/1846\n",
            "TSE/1849 is not found\n",
            "fonud TSE/1850\n",
            "TSE/1851 is not found\n",
            "fonud TSE/1853\n",
            "TSE/1854 is not found\n",
            "TSE/1855 is not found\n",
            "TSE/1856 is not found\n",
            "TSE/1857 is not found\n",
            "TSE/1858 is not found\n",
            "TSE/1859 is not found\n",
            "TSE/1862 is not found\n",
            "TSE/1863 is not found\n",
            "TSE/1864 is not found\n",
            "fonud TSE/1865\n",
            "fonud TSE/1868\n",
            "TSE/1869 is not found\n",
            "TSE/1872 is not found\n",
            "TSE/1874 is not found\n",
            "TSE/1875 is not found\n",
            "TSE/1876 is not found\n",
            "TSE/1877 is not found\n",
            "TSE/1880 is not found\n",
            "TSE/1886 is not found\n",
            "TSE/1887 is not found\n",
            "TSE/1889 is not found\n",
            "TSE/1891 is not found\n",
            "TSE/1892 is not found\n",
            "TSE/1894 is not found\n",
            "TSE/1895 is not found\n",
            "fonud TSE/1896\n",
            "fonud TSE/1897\n",
            "TSE/1900 is not found\n",
            "TSE/1901 is not found\n",
            "TSE/1902 is not found\n",
            "TSE/1903 is not found\n",
            "fonud TSE/1904\n",
            "fonud TSE/1905\n",
            "fonud TSE/1906\n",
            "TSE/1907 is not found\n",
            "TSE/1908 is not found\n",
            "TSE/1910 is not found\n",
            "TSE/1912 is not found\n",
            "TSE/1913 is not found\n",
            "TSE/1915 is not found\n",
            "fonud TSE/1916\n",
            "TSE/1917 is not found\n",
            "TSE/1918 is not found\n",
            "fonud TSE/1919\n",
            "TSE/1920 is not found\n",
            "TSE/1922 is not found\n",
            "TSE/1923 is not found\n",
            "fonud TSE/1924\n",
            "TSE/1927 is not found\n",
            "fonud TSE/1931\n",
            "TSE/1932 is not found\n",
            "fonud TSE/1933\n",
            "fonud TSE/1935\n",
            "TSE/1936 is not found\n",
            "fonud TSE/1937\n",
            "TSE/1940 is not found\n",
            "TSE/1943 is not found\n",
            "TSE/1947 is not found\n",
            "fonud TSE/1948\n",
            "TSE/1953 is not found\n",
            "TSE/1955 is not found\n",
            "fonud TSE/1956\n",
            "TSE/1957 is not found\n",
            "TSE/1958 is not found\n",
            "fonud TSE/1960\n",
            "TSE/1962 is not found\n",
            "fonud TSE/1965\n",
            "fonud TSE/1966\n",
            "TSE/1970 is not found\n",
            "fonud TSE/1971\n",
            "TSE/1974 is not found\n",
            "TSE/1977 is not found\n",
            "fonud TSE/1978\n",
            "fonud TSE/1981\n",
            "fonud TSE/1983\n",
            "fonud TSE/1984\n",
            "TSE/1985 is not found\n",
            "TSE/1986 is not found\n",
            "fonud TSE/1987\n",
            "TSE/1988 is not found\n",
            "fonud TSE/1989\n",
            "TSE/1990 is not found\n",
            "TSE/1991 is not found\n",
            "fonud TSE/1992\n",
            "TSE/1993 is not found\n",
            "fonud TSE/1994\n",
            "TSE/1995 is not found\n",
            "TSE/1996 is not found\n",
            "fonud TSE/1997\n",
            "TSE/1998 is not found\n",
            "TSE/1999 is not found\n",
            "TSE/2000 is not found\n",
            "TSE/2005 is not found\n",
            "fonud TSE/2006\n",
            "TSE/2007 is not found\n",
            "fonud TSE/2008\n",
            "TSE/2010 is not found\n",
            "TSE/2011 is not found\n",
            "TSE/2012 is not found\n",
            "TSE/2013 is not found\n",
            "TSE/2014 is not found\n",
            "TSE/2015 is not found\n",
            "TSE/2016 is not found\n",
            "TSE/2017 is not found\n",
            "TSE/2018 is not found\n",
            "TSE/2019 is not found\n",
            "TSE/2020 is not found\n",
            "fonud TSE/2021\n",
            "fonud TSE/2022\n",
            "fonud TSE/2023\n",
            "fonud TSE/2024\n",
            "fonud TSE/2025\n",
            "fonud TSE/2026\n",
            "fonud TSE/2027\n",
            "fonud TSE/2028\n",
            "fonud TSE/2029\n",
            "fonud TSE/2030\n",
            "fonud TSE/2031\n",
            "fonud TSE/2032\n",
            "fonud TSE/2033\n",
            "fonud TSE/2034\n",
            "fonud TSE/2035\n",
            "fonud TSE/2036\n",
            "fonud TSE/2037\n",
            "fonud TSE/2038\n",
            "fonud TSE/2039\n",
            "fonud TSE/2040\n",
            "fonud TSE/2041\n",
            "fonud TSE/2042\n",
            "fonud TSE/2043\n",
            "fonud TSE/2044\n",
            "fonud TSE/2045\n",
            "fonud TSE/2046\n",
            "fonud TSE/2047\n",
            "fonud TSE/2048\n",
            "fonud TSE/2049\n",
            "TSE/2050 is not found\n",
            "TSE/2051 is not found\n",
            "fonud TSE/2052\n",
            "TSE/2054 is not found\n",
            "fonud TSE/2055\n",
            "fonud TSE/2056\n",
            "TSE/2057 is not found\n",
            "TSE/2058 is not found\n",
            "TSE/2059 is not found\n",
            "TSE/2061 is not found\n",
            "TSE/2062 is not found\n",
            "TSE/2063 is not found\n",
            "TSE/2064 is not found\n",
            "fonud TSE/2065\n",
            "fonud TSE/2066\n",
            "fonud TSE/2067\n",
            "fonud TSE/2068\n",
            "fonud TSE/2069\n",
            "TSE/2070 is not found\n",
            "TSE/2071 is not found\n",
            "TSE/2072 is not found\n",
            "TSE/2073 is not found\n",
            "TSE/2074 is not found\n",
            "TSE/2075 is not found\n",
            "TSE/2076 is not found\n",
            "TSE/2077 is not found\n",
            "TSE/2078 is not found\n",
            "TSE/2079 is not found\n",
            "TSE/2080 is not found\n",
            "TSE/2081 is not found\n",
            "TSE/2082 is not found\n",
            "TSE/2083 is not found\n",
            "TSE/2084 is not found\n",
            "TSE/2085 is not found\n",
            "TSE/2086 is not found\n",
            "TSE/2087 is not found\n",
            "TSE/2088 is not found\n",
            "TSE/2089 is not found\n",
            "TSE/2090 is not found\n",
            "TSE/2091 is not found\n",
            "TSE/2092 is not found\n",
            "TSE/2093 is not found\n",
            "TSE/2094 is not found\n",
            "TSE/2095 is not found\n",
            "TSE/2096 is not found\n",
            "TSE/2097 is not found\n",
            "TSE/2098 is not found\n",
            "TSE/2099 is not found\n",
            "TSE/2100 is not found\n",
            "TSE/2101 is not found\n",
            "TSE/2102 is not found\n",
            "TSE/2103 is not found\n",
            "TSE/2104 is not found\n",
            "TSE/2105 is not found\n",
            "TSE/2106 is not found\n",
            "TSE/2110 is not found\n",
            "TSE/2111 is not found\n",
            "TSE/2113 is not found\n",
            "fonud TSE/2114\n",
            "TSE/2115 is not found\n",
            "TSE/2116 is not found\n",
            "TSE/2118 is not found\n",
            "TSE/2119 is not found\n",
            "fonud TSE/2122\n",
            "TSE/2123 is not found\n",
            "TSE/2125 is not found\n",
            "TSE/2126 is not found\n",
            "fonud TSE/2128\n",
            "TSE/2129 is not found\n",
            "fonud TSE/2131\n",
            "fonud TSE/2132\n",
            "TSE/2133 is not found\n",
            "fonud TSE/2134\n",
            "TSE/2135 is not found\n",
            "fonud TSE/2136\n",
            "TSE/2137 is not found\n",
            "fonud TSE/2138\n",
            "TSE/2140 is not found\n",
            "TSE/2141 is not found\n",
            "TSE/2142 is not found\n",
            "TSE/2143 is not found\n",
            "fonud TSE/2144\n",
            "fonud TSE/2145\n",
            "TSE/2147 is not found\n",
            "TSE/2149 is not found\n",
            "fonud TSE/2150\n",
            "fonud TSE/2152\n",
            "fonud TSE/2155\n",
            "fonud TSE/2156\n",
            "fonud TSE/2158\n",
            "fonud TSE/2159\n",
            "fonud TSE/2160\n",
            "TSE/2161 is not found\n",
            "fonud TSE/2162\n",
            "fonud TSE/2164\n",
            "fonud TSE/2165\n",
            "TSE/2166 is not found\n",
            "TSE/2167 is not found\n",
            "TSE/2171 is not found\n",
            "TSE/2172 is not found\n",
            "fonud TSE/2173\n",
            "fonud TSE/2176\n",
            "TSE/2177 is not found\n",
            "fonud TSE/2178\n",
            "fonud TSE/2179\n",
            "TSE/2182 is not found\n",
            "TSE/2184 is not found\n",
            "fonud TSE/2185\n",
            "fonud TSE/2186\n",
            "TSE/2187 is not found\n",
            "TSE/2188 is not found\n",
            "TSE/2189 is not found\n",
            "fonud TSE/2190\n",
            "fonud TSE/2191\n",
            "TSE/2192 is not found\n",
            "TSE/2194 is not found\n",
            "fonud TSE/2195\n",
            "TSE/2197 is not found\n",
            "TSE/2199 is not found\n",
            "TSE/2200 is not found\n",
            "TSE/2202 is not found\n",
            "TSE/2203 is not found\n",
            "TSE/2205 is not found\n",
            "fonud TSE/2208\n",
            "TSE/2210 is not found\n",
            "TSE/2213 is not found\n",
            "TSE/2214 is not found\n",
            "fonud TSE/2216\n",
            "TSE/2218 is not found\n",
            "TSE/2219 is not found\n",
            "fonud TSE/2221\n",
            "TSE/2223 is not found\n",
            "fonud TSE/2224\n",
            "TSE/2225 is not found\n",
            "fonud TSE/2226\n",
            "TSE/2227 is not found\n",
            "fonud TSE/2228\n",
            "fonud TSE/2230\n",
            "TSE/2231 is not found\n",
            "TSE/2232 is not found\n",
            "TSE/2233 is not found\n",
            "TSE/2234 is not found\n",
            "TSE/2235 is not found\n",
            "TSE/2236 is not found\n",
            "TSE/2237 is not found\n",
            "TSE/2238 is not found\n",
            "TSE/2239 is not found\n",
            "TSE/2240 is not found\n",
            "TSE/2241 is not found\n",
            "TSE/2242 is not found\n",
            "TSE/2243 is not found\n",
            "TSE/2244 is not found\n",
            "TSE/2245 is not found\n",
            "TSE/2246 is not found\n",
            "TSE/2247 is not found\n",
            "TSE/2248 is not found\n",
            "TSE/2249 is not found\n",
            "TSE/2250 is not found\n",
            "TSE/2251 is not found\n",
            "TSE/2252 is not found\n",
            "TSE/2253 is not found\n",
            "TSE/2254 is not found\n",
            "TSE/2255 is not found\n",
            "TSE/2256 is not found\n",
            "TSE/2257 is not found\n",
            "TSE/2258 is not found\n",
            "TSE/2259 is not found\n",
            "TSE/2260 is not found\n",
            "TSE/2261 is not found\n",
            "TSE/2262 is not found\n",
            "TSE/2263 is not found\n",
            "TSE/2265 is not found\n",
            "fonud TSE/2268\n",
            "TSE/2271 is not found\n",
            "TSE/2272 is not found\n",
            "TSE/2273 is not found\n",
            "TSE/2274 is not found\n",
            "TSE/2275 is not found\n",
            "TSE/2276 is not found\n",
            "TSE/2277 is not found\n",
            "TSE/2278 is not found\n",
            "TSE/2279 is not found\n",
            "TSE/2280 is not found\n",
            "TSE/2283 is not found\n",
            "fonud TSE/2284\n",
            "TSE/2285 is not found\n",
            "TSE/2287 is not found\n",
            "TSE/2289 is not found\n",
            "fonud TSE/2290\n",
            "fonud TSE/2291\n",
            "fonud TSE/2293\n",
            "TSE/2295 is not found\n",
            "TSE/2297 is not found\n",
            "TSE/2298 is not found\n",
            "TSE/2299 is not found\n",
            "fonud TSE/2300\n",
            "TSE/2302 is not found\n",
            "fonud TSE/2303\n",
            "fonud TSE/2304\n",
            "TSE/2306 is not found\n",
            "TSE/2308 is not found\n",
            "TSE/2310 is not found\n",
            "TSE/2312 is not found\n",
            "TSE/2313 is not found\n",
            "TSE/2314 is not found\n",
            "fonud TSE/2315\n",
            "TSE/2316 is not found\n",
            "TSE/2318 is not found\n",
            "TSE/2319 is not found\n",
            "TSE/2320 is not found\n",
            "fonud TSE/2321\n",
            "fonud TSE/2322\n",
            "fonud TSE/2323\n",
            "TSE/2324 is not found\n",
            "TSE/2328 is not found\n",
            "fonud TSE/2329\n",
            "fonud TSE/2330\n",
            "fonud TSE/2332\n",
            "TSE/2333 is not found\n",
            "fonud TSE/2334\n",
            "fonud TSE/2336\n",
            "fonud TSE/2338\n",
            "TSE/2339 is not found\n",
            "fonud TSE/2340\n",
            "fonud TSE/2341\n",
            "fonud TSE/2342\n",
            "TSE/2343 is not found\n",
            "fonud TSE/2344\n",
            "fonud TSE/2345\n",
            "TSE/2346 is not found\n",
            "TSE/2347 is not found\n",
            "TSE/2348 is not found\n",
            "fonud TSE/2349\n",
            "TSE/2350 is not found\n",
            "fonud TSE/2351\n",
            "fonud TSE/2354\n",
            "TSE/2355 is not found\n",
            "TSE/2356 is not found\n",
            "TSE/2357 is not found\n",
            "TSE/2358 is not found\n",
            "TSE/2360 is not found\n",
            "TSE/2361 is not found\n",
            "fonud TSE/2362\n",
            "TSE/2363 is not found\n",
            "TSE/2364 is not found\n",
            "TSE/2365 is not found\n"
          ],
          "name": "stdout"
        },
        {
          "output_type": "stream",
          "text": [
            "TSE/2366 is not found\n",
            "TSE/2367 is not found\n",
            "TSE/2368 is not found\n",
            "fonud TSE/2369\n",
            "fonud TSE/2370\n",
            "fonud TSE/2373\n",
            "fonud TSE/2375\n",
            "TSE/2377 is not found\n",
            "TSE/2380 is not found\n",
            "TSE/2381 is not found\n",
            "TSE/2382 is not found\n",
            "TSE/2383 is not found\n",
            "fonud TSE/2385\n",
            "TSE/2386 is not found\n",
            "TSE/2387 is not found\n",
            "fonud TSE/2388\n",
            "TSE/2390 is not found\n",
            "fonud TSE/2391\n",
            "TSE/2392 is not found\n",
            "fonud TSE/2393\n",
            "TSE/2394 is not found\n",
            "TSE/2396 is not found\n",
            "fonud TSE/2397\n",
            "fonud TSE/2399\n",
            "fonud TSE/2400\n",
            "TSE/2401 is not found\n",
            "fonud TSE/2402\n",
            "TSE/2403 is not found\n",
            "fonud TSE/2404\n",
            "fonud TSE/2405\n",
            "fonud TSE/2406\n",
            "TSE/2407 is not found\n",
            "fonud TSE/2408\n",
            "TSE/2409 is not found\n",
            "fonud TSE/2411\n",
            "TSE/2414 is not found\n",
            "fonud TSE/2415\n",
            "TSE/2416 is not found\n",
            "fonud TSE/2417\n",
            "TSE/2419 is not found\n",
            "TSE/2420 is not found\n",
            "TSE/2421 is not found\n",
            "TSE/2422 is not found\n",
            "TSE/2423 is not found\n",
            "fonud TSE/2425\n",
            "TSE/2426 is not found\n",
            "TSE/2430 is not found\n",
            "TSE/2431 is not found\n",
            "fonud TSE/2434\n",
            "fonud TSE/2435\n",
            "fonud TSE/2436\n",
            "fonud TSE/2437\n",
            "fonud TSE/2438\n",
            "TSE/2439 is not found\n",
            "TSE/2441 is not found\n",
            "TSE/2442 is not found\n",
            "TSE/2443 is not found\n",
            "TSE/2444 is not found\n",
            "TSE/2446 is not found\n",
            "TSE/2447 is not found\n",
            "TSE/2448 is not found\n",
            "fonud TSE/2449\n",
            "fonud TSE/2450\n",
            "TSE/2451 is not found\n",
            "fonud TSE/2452\n",
            "fonud TSE/2454\n",
            "TSE/2455 is not found\n",
            "TSE/2456 is not found\n",
            "TSE/2457 is not found\n",
            "fonud TSE/2458\n",
            "fonud TSE/2459\n",
            "TSE/2460 is not found\n",
            "TSE/2463 is not found\n",
            "TSE/2465 is not found\n",
            "fonud TSE/2466\n",
            "TSE/2467 is not found\n",
            "fonud TSE/2468\n",
            "fonud TSE/2469\n",
            "TSE/2470 is not found\n",
            "TSE/2472 is not found\n",
            "TSE/2473 is not found\n",
            "TSE/2474 is not found\n",
            "TSE/2476 is not found\n",
            "TSE/2478 is not found\n",
            "fonud TSE/2479\n",
            "fonud TSE/2480\n",
            "fonud TSE/2481\n",
            "TSE/2482 is not found\n",
            "fonud TSE/2483\n",
            "fonud TSE/2484\n",
            "TSE/2486 is not found\n",
            "fonud TSE/2488\n",
            "fonud TSE/2489\n",
            "TSE/2490 is not found\n",
            "fonud TSE/2493\n",
            "TSE/2494 is not found\n",
            "TSE/2495 is not found\n",
            "TSE/2496 is not found\n",
            "fonud TSE/2497\n",
            "fonud TSE/2498\n",
            "fonud TSE/2499\n",
            "TSE/2500 is not found\n",
            "TSE/2504 is not found\n",
            "TSE/2505 is not found\n",
            "TSE/2506 is not found\n",
            "TSE/2507 is not found\n",
            "TSE/2508 is not found\n",
            "TSE/2509 is not found\n",
            "fonud TSE/2510\n",
            "fonud TSE/2511\n",
            "fonud TSE/2512\n",
            "fonud TSE/2513\n",
            "fonud TSE/2514\n",
            "fonud TSE/2515\n",
            "TSE/2516 is not found\n",
            "TSE/2517 is not found\n",
            "TSE/2518 is not found\n",
            "TSE/2519 is not found\n",
            "TSE/2520 is not found\n",
            "TSE/2521 is not found\n",
            "TSE/2522 is not found\n",
            "TSE/2523 is not found\n",
            "TSE/2524 is not found\n",
            "TSE/2525 is not found\n",
            "TSE/2526 is not found\n",
            "TSE/2527 is not found\n",
            "TSE/2528 is not found\n",
            "TSE/2529 is not found\n",
            "TSE/2530 is not found\n",
            "TSE/2532 is not found\n",
            "TSE/2534 is not found\n",
            "TSE/2535 is not found\n",
            "TSE/2536 is not found\n",
            "TSE/2537 is not found\n",
            "fonud TSE/2538\n",
            "TSE/2539 is not found\n",
            "TSE/2541 is not found\n",
            "TSE/2542 is not found\n",
            "TSE/2543 is not found\n",
            "TSE/2544 is not found\n",
            "TSE/2545 is not found\n",
            "TSE/2546 is not found\n",
            "TSE/2547 is not found\n",
            "TSE/2548 is not found\n",
            "TSE/2549 is not found\n",
            "TSE/2550 is not found\n",
            "TSE/2551 is not found\n",
            "TSE/2552 is not found\n",
            "TSE/2553 is not found\n",
            "TSE/2554 is not found\n",
            "TSE/2555 is not found\n",
            "TSE/2556 is not found\n",
            "TSE/2557 is not found\n",
            "TSE/2558 is not found\n",
            "TSE/2559 is not found\n",
            "TSE/2560 is not found\n",
            "TSE/2561 is not found\n",
            "TSE/2562 is not found\n",
            "TSE/2563 is not found\n",
            "TSE/2564 is not found\n",
            "TSE/2565 is not found\n",
            "TSE/2566 is not found\n",
            "TSE/2567 is not found\n",
            "TSE/2568 is not found\n",
            "TSE/2569 is not found\n",
            "TSE/2570 is not found\n",
            "TSE/2571 is not found\n",
            "TSE/2572 is not found\n",
            "fonud TSE/2573\n",
            "TSE/2574 is not found\n",
            "TSE/2575 is not found\n",
            "TSE/2576 is not found\n",
            "TSE/2577 is not found\n",
            "TSE/2578 is not found\n",
            "fonud TSE/2580\n",
            "TSE/2581 is not found\n",
            "TSE/2582 is not found\n",
            "TSE/2583 is not found\n",
            "TSE/2584 is not found\n",
            "TSE/2585 is not found\n",
            "fonud TSE/2586\n",
            "fonud TSE/2588\n",
            "TSE/2589 is not found\n",
            "TSE/2591 is not found\n",
            "TSE/2592 is not found\n",
            "TSE/2595 is not found\n",
            "TSE/2596 is not found\n",
            "TSE/2598 is not found\n",
            "TSE/2600 is not found\n",
            "TSE/2601 is not found\n",
            "TSE/2603 is not found\n",
            "TSE/2604 is not found\n",
            "TSE/2605 is not found\n",
            "TSE/2606 is not found\n",
            "fonud TSE/2608\n",
            "TSE/2609 is not found\n",
            "TSE/2610 is not found\n",
            "fonud TSE/2611\n",
            "TSE/2614 is not found\n",
            "TSE/2615 is not found\n",
            "TSE/2616 is not found\n",
            "TSE/2617 is not found\n",
            "TSE/2618 is not found\n",
            "TSE/2619 is not found\n",
            "TSE/2620 is not found\n",
            "TSE/2621 is not found\n",
            "TSE/2622 is not found\n",
            "TSE/2623 is not found\n",
            "TSE/2624 is not found\n",
            "TSE/2625 is not found\n",
            "TSE/2626 is not found\n",
            "TSE/2627 is not found\n",
            "TSE/2628 is not found\n",
            "TSE/2629 is not found\n",
            "TSE/2630 is not found\n",
            "TSE/2631 is not found\n",
            "TSE/2632 is not found\n",
            "TSE/2633 is not found\n",
            "TSE/2634 is not found\n",
            "TSE/2635 is not found\n",
            "TSE/2636 is not found\n",
            "TSE/2637 is not found\n",
            "TSE/2638 is not found\n",
            "TSE/2639 is not found\n",
            "TSE/2640 is not found\n",
            "TSE/2641 is not found\n",
            "TSE/2642 is not found\n",
            "TSE/2643 is not found\n",
            "TSE/2644 is not found\n",
            "TSE/2645 is not found\n",
            "TSE/2646 is not found\n",
            "TSE/2647 is not found\n",
            "TSE/2648 is not found\n",
            "TSE/2649 is not found\n",
            "TSE/2650 is not found\n",
            "fonud TSE/2652\n",
            "fonud TSE/2653\n",
            "fonud TSE/2654\n",
            "fonud TSE/2655\n",
            "fonud TSE/2656\n",
            "TSE/2657 is not found\n",
            "fonud TSE/2658\n",
            "fonud TSE/2660\n",
            "TSE/2661 is not found\n",
            "fonud TSE/2662\n",
            "TSE/2663 is not found\n",
            "fonud TSE/2665\n",
            "fonud TSE/2666\n",
            "fonud TSE/2667\n",
            "fonud TSE/2668\n",
            "fonud TSE/2669\n",
            "TSE/2671 is not found\n",
            "TSE/2672 is not found\n",
            "fonud TSE/2673\n",
            "fonud TSE/2675\n",
            "TSE/2677 is not found\n",
            "TSE/2679 is not found\n",
            "TSE/2680 is not found\n",
            "TSE/2682 is not found\n",
            "fonud TSE/2683\n",
            "TSE/2684 is not found\n",
            "TSE/2688 is not found\n",
            "TSE/2690 is not found\n",
            "TSE/2691 is not found\n",
            "fonud TSE/2693\n",
            "fonud TSE/2694\n",
            "TSE/2696 is not found\n",
            "TSE/2697 is not found\n",
            "TSE/2699 is not found\n",
            "fonud TSE/2700\n",
            "TSE/2701 is not found\n",
            "fonud TSE/2702\n",
            "fonud TSE/2703\n",
            "TSE/2704 is not found\n",
            "fonud TSE/2705\n",
            "fonud TSE/2706\n",
            "TSE/2707 is not found\n",
            "fonud TSE/2708\n",
            "TSE/2709 is not found\n",
            "fonud TSE/2710\n",
            "TSE/2711 is not found\n",
            "fonud TSE/2712\n",
            "TSE/2713 is not found\n",
            "fonud TSE/2714\n",
            "TSE/2716 is not found\n",
            "TSE/2717 is not found\n",
            "TSE/2718 is not found\n",
            "fonud TSE/2719\n",
            "TSE/2720 is not found\n",
            "fonud TSE/2721\n",
            "fonud TSE/2722\n",
            "TSE/2723 is not found\n",
            "fonud TSE/2724\n",
            "TSE/2725 is not found\n",
            "TSE/2727 is not found\n",
            "TSE/2728 is not found\n",
            "TSE/2731 is not found\n",
            "TSE/2732 is not found\n",
            "fonud TSE/2736\n",
            "TSE/2738 is not found\n",
            "TSE/2739 is not found\n",
            "TSE/2740 is not found\n",
            "TSE/2741 is not found\n",
            "fonud TSE/2743\n",
            "TSE/2744 is not found\n",
            "TSE/2745 is not found\n",
            "TSE/2746 is not found\n",
            "fonud TSE/2747\n",
            "TSE/2748 is not found\n",
            "fonud TSE/2750\n",
            "fonud TSE/2751\n",
            "fonud TSE/2754\n",
            "TSE/2755 is not found\n",
            "TSE/2756 is not found\n",
            "TSE/2757 is not found\n",
            "TSE/2758 is not found\n",
            "fonud TSE/2759\n",
            "fonud TSE/2761\n",
            "fonud TSE/2762\n",
            "fonud TSE/2763\n",
            "TSE/2765 is not found\n",
            "fonud TSE/2766\n",
            "fonud TSE/2769\n",
            "TSE/2770 is not found\n",
            "TSE/2771 is not found\n",
            "fonud TSE/2772\n",
            "fonud TSE/2773\n",
            "TSE/2774 is not found\n",
            "TSE/2775 is not found\n",
            "fonud TSE/2776\n",
            "fonud TSE/2777\n",
            "fonud TSE/2778\n",
            "TSE/2779 is not found\n",
            "fonud TSE/2780\n",
            "TSE/2781 is not found\n",
            "fonud TSE/2782\n",
            "TSE/2783 is not found\n",
            "TSE/2785 is not found\n",
            "fonud TSE/2786\n",
            "TSE/2787 is not found\n",
            "fonud TSE/2788\n",
            "fonud TSE/2789\n",
            "fonud TSE/2790\n",
            "TSE/2793 is not found\n",
            "TSE/2794 is not found\n",
            "fonud TSE/2795\n",
            "TSE/2797 is not found\n",
            "fonud TSE/2798\n",
            "fonud TSE/2799\n",
            "TSE/2800 is not found\n",
            "TSE/2803 is not found\n",
            "fonud TSE/2804\n",
            "fonud TSE/2805\n",
            "fonud TSE/2806\n",
            "TSE/2807 is not found\n",
            "TSE/2808 is not found\n",
            "fonud TSE/2813\n",
            "fonud TSE/2814\n",
            "fonud TSE/2816\n",
            "fonud TSE/2817\n",
            "TSE/2821 is not found\n",
            "TSE/2822 is not found\n",
            "TSE/2823 is not found\n",
            "TSE/2824 is not found\n",
            "TSE/2825 is not found\n",
            "TSE/2826 is not found\n",
            "TSE/2827 is not found\n",
            "TSE/2828 is not found\n",
            "TSE/2829 is not found\n",
            "fonud TSE/2830\n",
            "fonud TSE/2831\n",
            "TSE/2832 is not found\n",
            "TSE/2833 is not found\n",
            "TSE/2834 is not found\n",
            "TSE/2835 is not found\n",
            "TSE/2836 is not found\n",
            "TSE/2837 is not found\n",
            "TSE/2838 is not found\n",
            "TSE/2839 is not found\n",
            "TSE/2840 is not found\n",
            "TSE/2841 is not found\n",
            "TSE/2842 is not found\n",
            "TSE/2843 is not found\n",
            "TSE/2844 is not found\n",
            "TSE/2845 is not found\n",
            "TSE/2846 is not found\n",
            "TSE/2847 is not found\n",
            "TSE/2848 is not found\n",
            "TSE/2849 is not found\n",
            "TSE/2850 is not found\n",
            "TSE/2851 is not found\n",
            "TSE/2852 is not found\n",
            "TSE/2853 is not found\n",
            "TSE/2854 is not found\n",
            "TSE/2855 is not found\n",
            "TSE/2856 is not found\n",
            "TSE/2857 is not found\n",
            "TSE/2858 is not found\n",
            "TSE/2859 is not found\n",
            "TSE/2860 is not found\n",
            "TSE/2861 is not found\n",
            "TSE/2862 is not found\n",
            "TSE/2863 is not found\n",
            "TSE/2864 is not found\n",
            "TSE/2865 is not found\n",
            "TSE/2866 is not found\n",
            "TSE/2867 is not found\n",
            "TSE/2868 is not found\n",
            "TSE/2869 is not found\n",
            "TSE/2870 is not found\n",
            "fonud TSE/2872\n",
            "TSE/2873 is not found\n",
            "fonud TSE/2876\n"
          ],
          "name": "stdout"
        },
        {
          "output_type": "stream",
          "text": [
            "fonud TSE/2877\n",
            "TSE/2878 is not found\n",
            "TSE/2879 is not found\n",
            "TSE/2880 is not found\n",
            "TSE/2881 is not found\n",
            "TSE/2885 is not found\n",
            "TSE/2886 is not found\n",
            "TSE/2887 is not found\n",
            "TSE/2888 is not found\n",
            "TSE/2889 is not found\n",
            "TSE/2890 is not found\n",
            "TSE/2891 is not found\n",
            "fonud TSE/2892\n",
            "TSE/2893 is not found\n",
            "fonud TSE/2894\n",
            "TSE/2895 is not found\n",
            "TSE/2896 is not found\n",
            "TSE/2898 is not found\n",
            "TSE/2900 is not found\n",
            "fonud TSE/2901\n",
            "TSE/2902 is not found\n",
            "fonud TSE/2903\n",
            "fonud TSE/2905\n",
            "TSE/2906 is not found\n",
            "fonud TSE/2907\n",
            "TSE/2909 is not found\n",
            "fonud TSE/2911\n",
            "TSE/2912 is not found\n",
            "TSE/2913 is not found\n",
            "fonud TSE/2916\n",
            "fonud TSE/2917\n",
            "TSE/2919 is not found\n",
            "TSE/2920 is not found\n",
            "TSE/2921 is not found\n",
            "fonud TSE/2923\n",
            "fonud TSE/2926\n",
            "fonud TSE/2927\n",
            "TSE/2928 is not found\n",
            "fonud TSE/2929\n",
            "TSE/2932 is not found\n",
            "TSE/2933 is not found\n",
            "TSE/2934 is not found\n",
            "TSE/2935 is not found\n",
            "TSE/2936 is not found\n",
            "TSE/2937 is not found\n",
            "TSE/2938 is not found\n",
            "TSE/2939 is not found\n",
            "TSE/2940 is not found\n",
            "TSE/2941 is not found\n",
            "TSE/2942 is not found\n",
            "TSE/2943 is not found\n",
            "TSE/2944 is not found\n",
            "TSE/2945 is not found\n",
            "TSE/2946 is not found\n",
            "TSE/2947 is not found\n",
            "TSE/2948 is not found\n",
            "TSE/2949 is not found\n",
            "TSE/2950 is not found\n",
            "TSE/2951 is not found\n",
            "TSE/2952 is not found\n",
            "TSE/2953 is not found\n",
            "TSE/2954 is not found\n",
            "TSE/2955 is not found\n",
            "TSE/2956 is not found\n",
            "TSE/2957 is not found\n",
            "TSE/2958 is not found\n",
            "TSE/2959 is not found\n",
            "TSE/2960 is not found\n",
            "TSE/2961 is not found\n",
            "TSE/2962 is not found\n",
            "TSE/2963 is not found\n",
            "TSE/2964 is not found\n",
            "TSE/2965 is not found\n",
            "TSE/2966 is not found\n",
            "TSE/2967 is not found\n",
            "TSE/2968 is not found\n",
            "TSE/2969 is not found\n",
            "TSE/2970 is not found\n",
            "TSE/2971 is not found\n",
            "TSE/2972 is not found\n",
            "TSE/2973 is not found\n",
            "TSE/2974 is not found\n",
            "TSE/2975 is not found\n",
            "TSE/2976 is not found\n",
            "TSE/2977 is not found\n",
            "TSE/2978 is not found\n",
            "TSE/2979 is not found\n",
            "TSE/2980 is not found\n",
            "TSE/2981 is not found\n",
            "TSE/2982 is not found\n",
            "TSE/2983 is not found\n",
            "TSE/2984 is not found\n",
            "TSE/2985 is not found\n",
            "TSE/2986 is not found\n",
            "TSE/2987 is not found\n",
            "TSE/2988 is not found\n",
            "TSE/2989 is not found\n",
            "TSE/2990 is not found\n",
            "TSE/2991 is not found\n",
            "TSE/2992 is not found\n",
            "TSE/2993 is not found\n",
            "TSE/2994 is not found\n",
            "TSE/2995 is not found\n",
            "TSE/2996 is not found\n",
            "TSE/2997 is not found\n",
            "TSE/2998 is not found\n",
            "TSE/2999 is not found\n",
            "TSE/3000 is not found\n",
            "TSE/3005 is not found\n",
            "TSE/3006 is not found\n",
            "TSE/3007 is not found\n",
            "TSE/3008 is not found\n",
            "TSE/3009 is not found\n",
            "fonud TSE/3010\n",
            "fonud TSE/3011\n",
            "TSE/3012 is not found\n",
            "TSE/3013 is not found\n",
            "TSE/3014 is not found\n",
            "TSE/3015 is not found\n",
            "TSE/3016 is not found\n",
            "TSE/3017 is not found\n",
            "TSE/3018 is not found\n",
            "TSE/3019 is not found\n",
            "fonud TSE/3020\n",
            "fonud TSE/3021\n",
            "fonud TSE/3022\n",
            "fonud TSE/3024\n",
            "TSE/3025 is not found\n",
            "TSE/3026 is not found\n",
            "fonud TSE/3027\n",
            "TSE/3029 is not found\n",
            "TSE/3032 is not found\n",
            "TSE/3033 is not found\n",
            "fonud TSE/3035\n",
            "TSE/3037 is not found\n",
            "fonud TSE/3039\n",
            "fonud TSE/3041\n",
            "fonud TSE/3042\n",
            "fonud TSE/3043\n",
            "TSE/3044 is not found\n",
            "fonud TSE/3045\n",
            "TSE/3047 is not found\n",
            "TSE/3049 is not found\n",
            "TSE/3051 is not found\n",
            "TSE/3052 is not found\n",
            "TSE/3055 is not found\n",
            "TSE/3056 is not found\n",
            "TSE/3057 is not found\n",
            "fonud TSE/3058\n",
            "fonud TSE/3059\n",
            "TSE/3060 is not found\n",
            "TSE/3061 is not found\n",
            "TSE/3062 is not found\n",
            "fonud TSE/3063\n",
            "fonud TSE/3065\n",
            "TSE/3066 is not found\n",
            "fonud TSE/3068\n",
            "fonud TSE/3069\n",
            "fonud TSE/3070\n",
            "fonud TSE/3071\n",
            "TSE/3072 is not found\n",
            "TSE/3074 is not found\n",
            "fonud TSE/3075\n",
            "fonud TSE/3077\n",
            "TSE/3078 is not found\n",
            "fonud TSE/3080\n",
            "TSE/3081 is not found\n",
            "fonud TSE/3083\n",
            "TSE/3084 is not found\n",
            "fonud TSE/3089\n",
            "fonud TSE/3090\n",
            "fonud TSE/3094\n",
            "TSE/3095 is not found\n",
            "fonud TSE/3096\n",
            "TSE/3100 is not found\n",
            "TSE/3102 is not found\n",
            "TSE/3108 is not found\n",
            "fonud TSE/3111\n",
            "TSE/3112 is not found\n",
            "fonud TSE/3113\n",
            "TSE/3114 is not found\n",
            "TSE/3115 is not found\n",
            "TSE/3117 is not found\n",
            "TSE/3118 is not found\n",
            "TSE/3119 is not found\n",
            "TSE/3120 is not found\n",
            "fonud TSE/3121\n",
            "TSE/3122 is not found\n",
            "fonud TSE/3123\n",
            "TSE/3124 is not found\n",
            "fonud TSE/3125\n",
            "TSE/3126 is not found\n",
            "TSE/3127 is not found\n",
            "TSE/3128 is not found\n",
            "TSE/3129 is not found\n",
            "TSE/3130 is not found\n",
            "fonud TSE/3131\n",
            "fonud TSE/3133\n",
            "fonud TSE/3135\n",
            "TSE/3136 is not found\n",
            "fonud TSE/3137\n",
            "fonud TSE/3138\n",
            "fonud TSE/3140\n",
            "TSE/3142 is not found\n",
            "fonud TSE/3143\n",
            "TSE/3144 is not found\n",
            "TSE/3145 is not found\n",
            "TSE/3146 is not found\n",
            "fonud TSE/3147\n",
            "TSE/3149 is not found\n",
            "fonud TSE/3150\n",
            "TSE/3152 is not found\n",
            "TSE/3155 is not found\n",
            "TSE/3158 is not found\n",
            "fonud TSE/3161\n",
            "TSE/3162 is not found\n",
            "fonud TSE/3163\n",
            "TSE/3164 is not found\n",
            "fonud TSE/3165\n",
            "fonud TSE/3170\n",
            "fonud TSE/3171\n",
            "fonud TSE/3174\n",
            "fonud TSE/3177\n",
            "fonud TSE/3181\n",
            "fonud TSE/3184\n",
            "fonud TSE/3185\n",
            "fonud TSE/3187\n",
            "fonud TSE/3188\n",
            "fonud TSE/3189\n",
            "fonud TSE/3190\n",
            "fonud TSE/3192\n",
            "fonud TSE/3195\n",
            "TSE/3200 is not found\n",
            "TSE/3203 is not found\n",
            "TSE/3206 is not found\n",
            "TSE/3207 is not found\n",
            "TSE/3208 is not found\n",
            "fonud TSE/3209\n",
            "TSE/3210 is not found\n",
            "TSE/3211 is not found\n",
            "TSE/3212 is not found\n",
            "TSE/3213 is not found\n",
            "TSE/3214 is not found\n",
            "TSE/3215 is not found\n",
            "TSE/3216 is not found\n",
            "TSE/3217 is not found\n",
            "TSE/3218 is not found\n",
            "TSE/3219 is not found\n",
            "TSE/3220 is not found\n",
            "fonud TSE/3223\n",
            "fonud TSE/3224\n",
            "fonud TSE/3225\n",
            "fonud TSE/3226\n",
            "fonud TSE/3227\n",
            "TSE/3229 is not found\n",
            "fonud TSE/3230\n",
            "TSE/3233 is not found\n",
            "fonud TSE/3234\n",
            "TSE/3235 is not found\n",
            "fonud TSE/3236\n",
            "fonud TSE/3237\n",
            "fonud TSE/3238\n",
            "TSE/3239 is not found\n",
            "fonud TSE/3240\n",
            "fonud TSE/3241\n",
            "fonud TSE/3242\n",
            "TSE/3243 is not found\n",
            "TSE/3247 is not found\n",
            "fonud TSE/3248\n",
            "fonud TSE/3249\n",
            "fonud TSE/3250\n",
            "fonud TSE/3251\n",
            "TSE/3253 is not found\n",
            "TSE/3255 is not found\n",
            "TSE/3256 is not found\n",
            "TSE/3257 is not found\n",
            "fonud TSE/3258\n",
            "TSE/3259 is not found\n",
            "TSE/3260 is not found\n",
            "fonud TSE/3261\n",
            "TSE/3262 is not found\n",
            "fonud TSE/3263\n",
            "fonud TSE/3264\n",
            "TSE/3265 is not found\n",
            "fonud TSE/3266\n",
            "TSE/3268 is not found\n",
            "fonud TSE/3269\n",
            "TSE/3270 is not found\n",
            "TSE/3272 is not found\n",
            "TSE/3273 is not found\n",
            "TSE/3274 is not found\n",
            "fonud TSE/3278\n",
            "fonud TSE/3279\n",
            "fonud TSE/3281\n",
            "fonud TSE/3282\n",
            "fonud TSE/3283\n",
            "fonud TSE/3285\n",
            "fonud TSE/3286\n",
            "fonud TSE/3287\n",
            "fonud TSE/3290\n",
            "fonud TSE/3292\n",
            "fonud TSE/3293\n",
            "fonud TSE/3295\n",
            "fonud TSE/3296\n",
            "fonud TSE/3297\n",
            "fonud TSE/3298\n",
            "fonud TSE/3300\n",
            "TSE/3301 is not found\n",
            "TSE/3303 is not found\n",
            "TSE/3304 is not found\n",
            "TSE/3305 is not found\n",
            "fonud TSE/3306\n",
            "TSE/3307 is not found\n",
            "fonud TSE/3308\n",
            "fonud TSE/3309\n",
            "TSE/3310 is not found\n",
            "TSE/3311 is not found\n",
            "TSE/3312 is not found\n",
            "fonud TSE/3313\n",
            "TSE/3314 is not found\n",
            "fonud TSE/3316\n",
            "fonud TSE/3317\n",
            "fonud TSE/3318\n",
            "fonud TSE/3320\n",
            "fonud TSE/3322\n",
            "fonud TSE/3323\n",
            "TSE/3324 is not found\n",
            "fonud TSE/3325\n",
            "fonud TSE/3326\n",
            "TSE/3327 is not found\n",
            "fonud TSE/3329\n",
            "TSE/3330 is not found\n",
            "fonud TSE/3331\n",
            "TSE/3332 is not found\n",
            "TSE/3334 is not found\n",
            "TSE/3335 is not found\n",
            "TSE/3336 is not found\n",
            "TSE/3337 is not found\n",
            "TSE/3338 is not found\n",
            "TSE/3339 is not found\n",
            "TSE/3340 is not found\n",
            "TSE/3342 is not found\n",
            "TSE/3343 is not found\n",
            "fonud TSE/3344\n",
            "TSE/3345 is not found\n",
            "TSE/3346 is not found\n",
            "fonud TSE/3347\n",
            "TSE/3348 is not found\n",
            "fonud TSE/3350\n",
            "TSE/3351 is not found\n",
            "fonud TSE/3352\n",
            "fonud TSE/3353\n",
            "TSE/3354 is not found\n",
            "fonud TSE/3355\n",
            "fonud TSE/3356\n",
            "TSE/3357 is not found\n",
            "fonud TSE/3358\n",
            "fonud TSE/3359\n",
            "TSE/3362 is not found\n",
            "TSE/3363 is not found\n",
            "TSE/3364 is not found\n",
            "TSE/3365 is not found\n",
            "fonud TSE/3366\n",
            "TSE/3367 is not found\n",
            "TSE/3368 is not found\n",
            "TSE/3369 is not found\n",
            "fonud TSE/3370\n",
            "fonud TSE/3372\n",
            "TSE/3373 is not found\n",
            "fonud TSE/3374\n",
            "fonud TSE/3375\n",
            "fonud TSE/3377\n",
            "TSE/3378 is not found\n",
            "TSE/3379 is not found\n",
            "TSE/3380 is not found\n",
            "TSE/3381 is not found\n",
            "TSE/3383 is not found\n",
            "TSE/3384 is not found\n",
            "fonud TSE/3385\n",
            "fonud TSE/3386\n",
            "TSE/3389 is not found\n",
            "fonud TSE/3390\n",
            "fonud TSE/3394\n",
            "fonud TSE/3398\n",
            "fonud TSE/3399\n",
            "TSE/3400 is not found\n",
            "TSE/3403 is not found\n",
            "TSE/3404 is not found\n",
            "TSE/3406 is not found\n",
            "fonud TSE/3409\n",
            "TSE/3410 is not found\n",
            "TSE/3411 is not found\n",
            "TSE/3412 is not found\n",
            "TSE/3413 is not found\n",
            "TSE/3414 is not found\n",
            "fonud TSE/3416\n",
            "fonud TSE/3417\n",
            "fonud TSE/3418\n",
            "TSE/3419 is not found\n",
            "fonud TSE/3420\n",
            "TSE/3422 is not found\n",
            "fonud TSE/3423\n",
            "fonud TSE/3424\n",
            "TSE/3425 is not found\n",
            "fonud TSE/3426\n",
            "TSE/3427 is not found\n",
            "TSE/3428 is not found\n",
            "TSE/3429 is not found\n",
            "TSE/3430 is not found\n",
            "TSE/3432 is not found\n",
            "fonud TSE/3435\n",
            "fonud TSE/3437\n",
            "TSE/3438 is not found\n",
            "fonud TSE/3439\n",
            "TSE/3440 is not found\n",
            "fonud TSE/3441\n",
            "TSE/3442 is not found\n",
            "fonud TSE/3444\n",
            "TSE/3446 is not found\n",
            "TSE/3447 is not found\n",
            "TSE/3448 is not found\n",
            "TSE/3449 is not found\n",
            "TSE/3450 is not found\n",
            "fonud TSE/3451\n"
          ],
          "name": "stdout"
        },
        {
          "output_type": "stream",
          "text": [
            "fonud TSE/3453\n",
            "fonud TSE/3455\n",
            "fonud TSE/3456\n",
            "fonud TSE/3459\n",
            "fonud TSE/3460\n",
            "fonud TSE/3461\n",
            "fonud TSE/3462\n",
            "fonud TSE/3463\n",
            "fonud TSE/3466\n",
            "fonud TSE/3468\n",
            "fonud TSE/3469\n",
            "fonud TSE/3470\n",
            "fonud TSE/3471\n",
            "fonud TSE/3472\n",
            "fonud TSE/3473\n",
            "fonud TSE/3474\n",
            "fonud TSE/3476\n",
            "fonud TSE/3477\n",
            "fonud TSE/3478\n",
            "fonud TSE/3479\n",
            "fonud TSE/3481\n",
            "fonud TSE/3482\n",
            "fonud TSE/3483\n",
            "TSE/3485 is not found\n",
            "TSE/3487 is not found\n",
            "TSE/3488 is not found\n",
            "TSE/3489 is not found\n",
            "TSE/3490 is not found\n",
            "TSE/3491 is not found\n",
            "TSE/3492 is not found\n",
            "TSE/3493 is not found\n",
            "TSE/3494 is not found\n",
            "TSE/3495 is not found\n",
            "TSE/3496 is not found\n",
            "TSE/3497 is not found\n",
            "TSE/3498 is not found\n",
            "TSE/3499 is not found\n",
            "TSE/3500 is not found\n",
            "TSE/3502 is not found\n",
            "TSE/3503 is not found\n",
            "TSE/3504 is not found\n",
            "TSE/3505 is not found\n",
            "TSE/3506 is not found\n",
            "TSE/3507 is not found\n",
            "TSE/3508 is not found\n",
            "TSE/3509 is not found\n",
            "TSE/3510 is not found\n",
            "TSE/3511 is not found\n",
            "fonud TSE/3514\n",
            "fonud TSE/3515\n",
            "TSE/3516 is not found\n",
            "TSE/3517 is not found\n",
            "TSE/3518 is not found\n",
            "TSE/3519 is not found\n",
            "TSE/3520 is not found\n",
            "TSE/3522 is not found\n",
            "TSE/3523 is not found\n",
            "TSE/3525 is not found\n",
            "TSE/3527 is not found\n",
            "fonud TSE/3528\n",
            "TSE/3530 is not found\n",
            "TSE/3531 is not found\n",
            "TSE/3532 is not found\n",
            "TSE/3533 is not found\n",
            "TSE/3534 is not found\n",
            "TSE/3535 is not found\n",
            "fonud TSE/3536\n",
            "fonud TSE/3537\n",
            "fonud TSE/3540\n",
            "fonud TSE/3541\n",
            "fonud TSE/3542\n",
            "fonud TSE/3545\n",
            "fonud TSE/3550\n",
            "TSE/3552 is not found\n",
            "TSE/3554 is not found\n",
            "TSE/3555 is not found\n",
            "fonud TSE/3556\n",
            "fonud TSE/3557\n",
            "fonud TSE/3558\n",
            "fonud TSE/3560\n",
            "fonud TSE/3562\n",
            "fonud TSE/3566\n",
            "TSE/3567 is not found\n",
            "TSE/3568 is not found\n",
            "TSE/3570 is not found\n",
            "TSE/3572 is not found\n",
            "TSE/3573 is not found\n",
            "TSE/3574 is not found\n",
            "TSE/3575 is not found\n",
            "TSE/3576 is not found\n",
            "fonud TSE/3578\n",
            "TSE/3579 is not found\n",
            "TSE/3581 is not found\n",
            "TSE/3582 is not found\n",
            "fonud TSE/3583\n",
            "TSE/3584 is not found\n",
            "TSE/3585 is not found\n",
            "TSE/3586 is not found\n",
            "fonud TSE/3587\n",
            "TSE/3588 is not found\n",
            "TSE/3589 is not found\n",
            "TSE/3590 is not found\n",
            "TSE/3592 is not found\n",
            "TSE/3594 is not found\n",
            "TSE/3595 is not found\n",
            "TSE/3596 is not found\n",
            "fonud TSE/3597\n",
            "fonud TSE/3598\n",
            "fonud TSE/3599\n",
            "fonud TSE/3600\n",
            "TSE/3601 is not found\n",
            "TSE/3602 is not found\n",
            "TSE/3603 is not found\n",
            "fonud TSE/3604\n",
            "TSE/3605 is not found\n",
            "fonud TSE/3606\n",
            "TSE/3609 is not found\n",
            "fonud TSE/3610\n",
            "TSE/3612 is not found\n",
            "TSE/3613 is not found\n",
            "TSE/3614 is not found\n",
            "TSE/3615 is not found\n",
            "TSE/3616 is not found\n",
            "TSE/3617 is not found\n",
            "TSE/3618 is not found\n",
            "TSE/3619 is not found\n",
            "TSE/3620 is not found\n",
            "TSE/3621 is not found\n",
            "fonud TSE/3622\n",
            "fonud TSE/3623\n",
            "fonud TSE/3624\n",
            "fonud TSE/3625\n",
            "fonud TSE/3628\n",
            "TSE/3629 is not found\n",
            "TSE/3631 is not found\n",
            "fonud TSE/3633\n",
            "fonud TSE/3634\n",
            "TSE/3637 is not found\n",
            "TSE/3638 is not found\n",
            "fonud TSE/3641\n",
            "TSE/3642 is not found\n",
            "TSE/3643 is not found\n",
            "TSE/3644 is not found\n",
            "fonud TSE/3645\n",
            "fonud TSE/3646\n",
            "fonud TSE/3647\n",
            "TSE/3650 is not found\n",
            "fonud TSE/3651\n",
            "fonud TSE/3652\n",
            "fonud TSE/3653\n",
            "fonud TSE/3654\n",
            "fonud TSE/3663\n",
            "fonud TSE/3664\n",
            "fonud TSE/3669\n",
            "fonud TSE/3670\n",
            "fonud TSE/3671\n",
            "fonud TSE/3674\n",
            "fonud TSE/3680\n",
            "TSE/3684 is not found\n",
            "fonud TSE/3685\n",
            "fonud TSE/3689\n",
            "fonud TSE/3690\n",
            "fonud TSE/3691\n",
            "fonud TSE/3692\n",
            "fonud TSE/3693\n",
            "fonud TSE/3695\n",
            "fonud TSE/3698\n",
            "TSE/3699 is not found\n",
            "TSE/3700 is not found\n",
            "TSE/3701 is not found\n",
            "TSE/3702 is not found\n",
            "TSE/3703 is not found\n",
            "TSE/3704 is not found\n",
            "TSE/3705 is not found\n",
            "TSE/3706 is not found\n",
            "TSE/3707 is not found\n",
            "TSE/3709 is not found\n",
            "fonud TSE/3710\n",
            "fonud TSE/3711\n",
            "fonud TSE/3712\n",
            "TSE/3713 is not found\n",
            "TSE/3714 is not found\n",
            "fonud TSE/3715\n",
            "TSE/3716 is not found\n",
            "TSE/3717 is not found\n",
            "TSE/3718 is not found\n",
            "fonud TSE/3719\n",
            "TSE/3720 is not found\n",
            "TSE/3721 is not found\n",
            "TSE/3722 is not found\n",
            "fonud TSE/3723\n",
            "fonud TSE/3724\n",
            "TSE/3725 is not found\n",
            "fonud TSE/3726\n",
            "fonud TSE/3727\n",
            "TSE/3728 is not found\n",
            "TSE/3729 is not found\n",
            "fonud TSE/3730\n",
            "fonud TSE/3731\n",
            "TSE/3732 is not found\n",
            "fonud TSE/3733\n",
            "fonud TSE/3734\n",
            "TSE/3735 is not found\n",
            "TSE/3736 is not found\n",
            "TSE/3737 is not found\n",
            "TSE/3739 is not found\n",
            "TSE/3740 is not found\n",
            "fonud TSE/3742\n",
            "TSE/3743 is not found\n",
            "fonud TSE/3744\n",
            "TSE/3745 is not found\n",
            "TSE/3746 is not found\n",
            "fonud TSE/3747\n",
            "TSE/3748 is not found\n",
            "TSE/3749 is not found\n",
            "fonud TSE/3750\n",
            "TSE/3752 is not found\n",
            "fonud TSE/3753\n",
            "fonud TSE/3754\n",
            "TSE/3755 is not found\n",
            "fonud TSE/3756\n",
            "TSE/3757 is not found\n",
            "fonud TSE/3758\n",
            "TSE/3759 is not found\n",
            "fonud TSE/3760\n",
            "TSE/3761 is not found\n",
            "TSE/3764 is not found\n",
            "fonud TSE/3766\n",
            "TSE/3767 is not found\n",
            "fonud TSE/3768\n",
            "fonud TSE/3772\n",
            "fonud TSE/3773\n",
            "TSE/3775 is not found\n",
            "fonud TSE/3776\n",
            "fonud TSE/3777\n",
            "fonud TSE/3779\n",
            "TSE/3780 is not found\n",
            "TSE/3781 is not found\n",
            "fonud TSE/3782\n",
            "TSE/3783 is not found\n",
            "fonud TSE/3785\n",
            "TSE/3786 is not found\n",
            "fonud TSE/3787\n",
            "TSE/3789 is not found\n",
            "fonud TSE/3790\n",
            "fonud TSE/3791\n",
            "TSE/3792 is not found\n"
          ],
          "name": "stdout"
        },
        {
          "output_type": "error",
          "ename": "KeyboardInterrupt",
          "evalue": "",
          "traceback": [
            "\u001b[1;31m---------------------------------------------------------------------------\u001b[0m",
            "\u001b[1;31mKeyboardInterrupt\u001b[0m                         Traceback (most recent call last)",
            "\u001b[1;32m<ipython-input-37-d4a104a9e8a5>\u001b[0m in \u001b[0;36m<module>\u001b[1;34m\u001b[0m\n\u001b[0;32m     22\u001b[0m     \u001b[0mindicator\u001b[0m \u001b[1;33m=\u001b[0m \u001b[1;34m\"TSE/{}\"\u001b[0m\u001b[1;33m.\u001b[0m\u001b[0mformat\u001b[0m\u001b[1;33m(\u001b[0m\u001b[0mx\u001b[0m\u001b[1;33m)\u001b[0m\u001b[1;33m\u001b[0m\u001b[1;33m\u001b[0m\u001b[0m\n\u001b[0;32m     23\u001b[0m     \u001b[1;32mtry\u001b[0m\u001b[1;33m:\u001b[0m\u001b[1;33m\u001b[0m\u001b[1;33m\u001b[0m\u001b[0m\n\u001b[1;32m---> 24\u001b[1;33m         \u001b[0mdata\u001b[0m \u001b[1;33m=\u001b[0m \u001b[0mquandl\u001b[0m\u001b[1;33m.\u001b[0m\u001b[0mget\u001b[0m\u001b[1;33m(\u001b[0m\u001b[0mindicator\u001b[0m\u001b[1;33m)\u001b[0m\u001b[1;33m\u001b[0m\u001b[1;33m\u001b[0m\u001b[0m\n\u001b[0m\u001b[0;32m     25\u001b[0m         \u001b[1;31m# print(row['銘柄名'])\u001b[0m\u001b[1;33m\u001b[0m\u001b[1;33m\u001b[0m\u001b[1;33m\u001b[0m\u001b[0m\n\u001b[0;32m     26\u001b[0m         \u001b[1;31m# print(data[:3])\u001b[0m\u001b[1;33m\u001b[0m\u001b[1;33m\u001b[0m\u001b[1;33m\u001b[0m\u001b[0m\n",
            "\u001b[1;32m~\\anaconda3\\lib\\site-packages\\quandl\\get.py\u001b[0m in \u001b[0;36mget\u001b[1;34m(dataset, **kwargs)\u001b[0m\n\u001b[0;32m     46\u001b[0m         \u001b[1;32mif\u001b[0m \u001b[0mdataset_args\u001b[0m\u001b[1;33m[\u001b[0m\u001b[1;34m'column_index'\u001b[0m\u001b[1;33m]\u001b[0m \u001b[1;32mis\u001b[0m \u001b[1;32mnot\u001b[0m \u001b[1;32mNone\u001b[0m\u001b[1;33m:\u001b[0m\u001b[1;33m\u001b[0m\u001b[1;33m\u001b[0m\u001b[0m\n\u001b[0;32m     47\u001b[0m             \u001b[0mkwargs\u001b[0m\u001b[1;33m.\u001b[0m\u001b[0mupdate\u001b[0m\u001b[1;33m(\u001b[0m\u001b[1;33m{\u001b[0m\u001b[1;34m'column_index'\u001b[0m\u001b[1;33m:\u001b[0m \u001b[0mdataset_args\u001b[0m\u001b[1;33m[\u001b[0m\u001b[1;34m'column_index'\u001b[0m\u001b[1;33m]\u001b[0m\u001b[1;33m}\u001b[0m\u001b[1;33m)\u001b[0m\u001b[1;33m\u001b[0m\u001b[1;33m\u001b[0m\u001b[0m\n\u001b[1;32m---> 48\u001b[1;33m         \u001b[0mdata\u001b[0m \u001b[1;33m=\u001b[0m \u001b[0mDataset\u001b[0m\u001b[1;33m(\u001b[0m\u001b[0mdataset_args\u001b[0m\u001b[1;33m[\u001b[0m\u001b[1;34m'code'\u001b[0m\u001b[1;33m]\u001b[0m\u001b[1;33m)\u001b[0m\u001b[1;33m.\u001b[0m\u001b[0mdata\u001b[0m\u001b[1;33m(\u001b[0m\u001b[0mparams\u001b[0m\u001b[1;33m=\u001b[0m\u001b[0mkwargs\u001b[0m\u001b[1;33m,\u001b[0m \u001b[0mhandle_column_not_found\u001b[0m\u001b[1;33m=\u001b[0m\u001b[1;32mTrue\u001b[0m\u001b[1;33m)\u001b[0m\u001b[1;33m\u001b[0m\u001b[1;33m\u001b[0m\u001b[0m\n\u001b[0m\u001b[0;32m     49\u001b[0m     \u001b[1;31m# Array\u001b[0m\u001b[1;33m\u001b[0m\u001b[1;33m\u001b[0m\u001b[1;33m\u001b[0m\u001b[0m\n\u001b[0;32m     50\u001b[0m     \u001b[1;32melif\u001b[0m \u001b[0misinstance\u001b[0m\u001b[1;33m(\u001b[0m\u001b[0mdataset\u001b[0m\u001b[1;33m,\u001b[0m \u001b[0mlist\u001b[0m\u001b[1;33m)\u001b[0m\u001b[1;33m:\u001b[0m\u001b[1;33m\u001b[0m\u001b[1;33m\u001b[0m\u001b[0m\n",
            "\u001b[1;32m~\\anaconda3\\lib\\site-packages\\quandl\\model\\dataset.py\u001b[0m in \u001b[0;36mdata\u001b[1;34m(self, **options)\u001b[0m\n\u001b[0;32m     45\u001b[0m         \u001b[0mupdated_options\u001b[0m \u001b[1;33m=\u001b[0m \u001b[0mUtil\u001b[0m\u001b[1;33m.\u001b[0m\u001b[0mmerge_options\u001b[0m\u001b[1;33m(\u001b[0m\u001b[1;34m'params'\u001b[0m\u001b[1;33m,\u001b[0m \u001b[0mparams\u001b[0m\u001b[1;33m,\u001b[0m \u001b[1;33m**\u001b[0m\u001b[0moptions\u001b[0m\u001b[1;33m)\u001b[0m\u001b[1;33m\u001b[0m\u001b[1;33m\u001b[0m\u001b[0m\n\u001b[0;32m     46\u001b[0m         \u001b[1;32mtry\u001b[0m\u001b[1;33m:\u001b[0m\u001b[1;33m\u001b[0m\u001b[1;33m\u001b[0m\u001b[0m\n\u001b[1;32m---> 47\u001b[1;33m             \u001b[1;32mreturn\u001b[0m \u001b[0mData\u001b[0m\u001b[1;33m.\u001b[0m\u001b[0mall\u001b[0m\u001b[1;33m(\u001b[0m\u001b[1;33m**\u001b[0m\u001b[0mupdated_options\u001b[0m\u001b[1;33m)\u001b[0m\u001b[1;33m\u001b[0m\u001b[1;33m\u001b[0m\u001b[0m\n\u001b[0m\u001b[0;32m     48\u001b[0m         \u001b[1;32mexcept\u001b[0m \u001b[0mNotFoundError\u001b[0m\u001b[1;33m:\u001b[0m\u001b[1;33m\u001b[0m\u001b[1;33m\u001b[0m\u001b[0m\n\u001b[0;32m     49\u001b[0m             \u001b[1;32mif\u001b[0m \u001b[0mhandle_not_found_error\u001b[0m\u001b[1;33m:\u001b[0m\u001b[1;33m\u001b[0m\u001b[1;33m\u001b[0m\u001b[0m\n",
            "\u001b[1;32m~\\anaconda3\\lib\\site-packages\\quandl\\operations\\list.py\u001b[0m in \u001b[0;36mall\u001b[1;34m(cls, **options)\u001b[0m\n\u001b[0;32m     13\u001b[0m             \u001b[0moptions\u001b[0m\u001b[1;33m[\u001b[0m\u001b[1;34m'params'\u001b[0m\u001b[1;33m]\u001b[0m \u001b[1;33m=\u001b[0m \u001b[1;33m{\u001b[0m\u001b[1;33m}\u001b[0m\u001b[1;33m\u001b[0m\u001b[1;33m\u001b[0m\u001b[0m\n\u001b[0;32m     14\u001b[0m         \u001b[0mpath\u001b[0m \u001b[1;33m=\u001b[0m \u001b[0mUtil\u001b[0m\u001b[1;33m.\u001b[0m\u001b[0mconstructed_path\u001b[0m\u001b[1;33m(\u001b[0m\u001b[0mcls\u001b[0m\u001b[1;33m.\u001b[0m\u001b[0mlist_path\u001b[0m\u001b[1;33m(\u001b[0m\u001b[1;33m)\u001b[0m\u001b[1;33m,\u001b[0m \u001b[0moptions\u001b[0m\u001b[1;33m[\u001b[0m\u001b[1;34m'params'\u001b[0m\u001b[1;33m]\u001b[0m\u001b[1;33m)\u001b[0m\u001b[1;33m\u001b[0m\u001b[1;33m\u001b[0m\u001b[0m\n\u001b[1;32m---> 15\u001b[1;33m         \u001b[0mr\u001b[0m \u001b[1;33m=\u001b[0m \u001b[0mConnection\u001b[0m\u001b[1;33m.\u001b[0m\u001b[0mrequest\u001b[0m\u001b[1;33m(\u001b[0m\u001b[1;34m'get'\u001b[0m\u001b[1;33m,\u001b[0m \u001b[0mpath\u001b[0m\u001b[1;33m,\u001b[0m \u001b[1;33m**\u001b[0m\u001b[0moptions\u001b[0m\u001b[1;33m)\u001b[0m\u001b[1;33m\u001b[0m\u001b[1;33m\u001b[0m\u001b[0m\n\u001b[0m\u001b[0;32m     16\u001b[0m         \u001b[0mresponse_data\u001b[0m \u001b[1;33m=\u001b[0m \u001b[0mr\u001b[0m\u001b[1;33m.\u001b[0m\u001b[0mjson\u001b[0m\u001b[1;33m(\u001b[0m\u001b[1;33m)\u001b[0m\u001b[1;33m\u001b[0m\u001b[1;33m\u001b[0m\u001b[0m\n\u001b[0;32m     17\u001b[0m         \u001b[0mUtil\u001b[0m\u001b[1;33m.\u001b[0m\u001b[0mconvert_to_dates\u001b[0m\u001b[1;33m(\u001b[0m\u001b[0mresponse_data\u001b[0m\u001b[1;33m)\u001b[0m\u001b[1;33m\u001b[0m\u001b[1;33m\u001b[0m\u001b[0m\n",
            "\u001b[1;32m~\\anaconda3\\lib\\site-packages\\quandl\\connection.py\u001b[0m in \u001b[0;36mrequest\u001b[1;34m(cls, http_verb, url, **options)\u001b[0m\n\u001b[0;32m     36\u001b[0m         \u001b[0mabs_url\u001b[0m \u001b[1;33m=\u001b[0m \u001b[1;34m'%s/%s'\u001b[0m \u001b[1;33m%\u001b[0m \u001b[1;33m(\u001b[0m\u001b[0mApiConfig\u001b[0m\u001b[1;33m.\u001b[0m\u001b[0mapi_base\u001b[0m\u001b[1;33m,\u001b[0m \u001b[0murl\u001b[0m\u001b[1;33m)\u001b[0m\u001b[1;33m\u001b[0m\u001b[1;33m\u001b[0m\u001b[0m\n\u001b[0;32m     37\u001b[0m \u001b[1;33m\u001b[0m\u001b[0m\n\u001b[1;32m---> 38\u001b[1;33m         \u001b[1;32mreturn\u001b[0m \u001b[0mcls\u001b[0m\u001b[1;33m.\u001b[0m\u001b[0mexecute_request\u001b[0m\u001b[1;33m(\u001b[0m\u001b[0mhttp_verb\u001b[0m\u001b[1;33m,\u001b[0m \u001b[0mabs_url\u001b[0m\u001b[1;33m,\u001b[0m \u001b[1;33m**\u001b[0m\u001b[0moptions\u001b[0m\u001b[1;33m)\u001b[0m\u001b[1;33m\u001b[0m\u001b[1;33m\u001b[0m\u001b[0m\n\u001b[0m\u001b[0;32m     39\u001b[0m \u001b[1;33m\u001b[0m\u001b[0m\n\u001b[0;32m     40\u001b[0m     \u001b[1;33m@\u001b[0m\u001b[0mclassmethod\u001b[0m\u001b[1;33m\u001b[0m\u001b[1;33m\u001b[0m\u001b[0m\n",
            "\u001b[1;32m~\\anaconda3\\lib\\site-packages\\quandl\\connection.py\u001b[0m in \u001b[0;36mexecute_request\u001b[1;34m(cls, http_verb, url, **options)\u001b[0m\n\u001b[0;32m     46\u001b[0m                                        \u001b[0murl\u001b[0m\u001b[1;33m=\u001b[0m\u001b[0murl\u001b[0m\u001b[1;33m,\u001b[0m\u001b[1;33m\u001b[0m\u001b[1;33m\u001b[0m\u001b[0m\n\u001b[0;32m     47\u001b[0m                                        \u001b[0mverify\u001b[0m\u001b[1;33m=\u001b[0m\u001b[0mApiConfig\u001b[0m\u001b[1;33m.\u001b[0m\u001b[0mverify_ssl\u001b[0m\u001b[1;33m,\u001b[0m\u001b[1;33m\u001b[0m\u001b[1;33m\u001b[0m\u001b[0m\n\u001b[1;32m---> 48\u001b[1;33m                                        **options)\n\u001b[0m\u001b[0;32m     49\u001b[0m             \u001b[1;32mif\u001b[0m \u001b[0mresponse\u001b[0m\u001b[1;33m.\u001b[0m\u001b[0mstatus_code\u001b[0m \u001b[1;33m<\u001b[0m \u001b[1;36m200\u001b[0m \u001b[1;32mor\u001b[0m \u001b[0mresponse\u001b[0m\u001b[1;33m.\u001b[0m\u001b[0mstatus_code\u001b[0m \u001b[1;33m>=\u001b[0m \u001b[1;36m300\u001b[0m\u001b[1;33m:\u001b[0m\u001b[1;33m\u001b[0m\u001b[1;33m\u001b[0m\u001b[0m\n\u001b[0;32m     50\u001b[0m                 \u001b[0mcls\u001b[0m\u001b[1;33m.\u001b[0m\u001b[0mhandle_api_error\u001b[0m\u001b[1;33m(\u001b[0m\u001b[0mresponse\u001b[0m\u001b[1;33m)\u001b[0m\u001b[1;33m\u001b[0m\u001b[1;33m\u001b[0m\u001b[0m\n",
            "\u001b[1;32m~\\anaconda3\\lib\\site-packages\\requests\\sessions.py\u001b[0m in \u001b[0;36mrequest\u001b[1;34m(self, method, url, params, data, headers, cookies, files, auth, timeout, allow_redirects, proxies, hooks, stream, verify, cert, json)\u001b[0m\n\u001b[0;32m    531\u001b[0m         }\n\u001b[0;32m    532\u001b[0m         \u001b[0msend_kwargs\u001b[0m\u001b[1;33m.\u001b[0m\u001b[0mupdate\u001b[0m\u001b[1;33m(\u001b[0m\u001b[0msettings\u001b[0m\u001b[1;33m)\u001b[0m\u001b[1;33m\u001b[0m\u001b[1;33m\u001b[0m\u001b[0m\n\u001b[1;32m--> 533\u001b[1;33m         \u001b[0mresp\u001b[0m \u001b[1;33m=\u001b[0m \u001b[0mself\u001b[0m\u001b[1;33m.\u001b[0m\u001b[0msend\u001b[0m\u001b[1;33m(\u001b[0m\u001b[0mprep\u001b[0m\u001b[1;33m,\u001b[0m \u001b[1;33m**\u001b[0m\u001b[0msend_kwargs\u001b[0m\u001b[1;33m)\u001b[0m\u001b[1;33m\u001b[0m\u001b[1;33m\u001b[0m\u001b[0m\n\u001b[0m\u001b[0;32m    534\u001b[0m \u001b[1;33m\u001b[0m\u001b[0m\n\u001b[0;32m    535\u001b[0m         \u001b[1;32mreturn\u001b[0m \u001b[0mresp\u001b[0m\u001b[1;33m\u001b[0m\u001b[1;33m\u001b[0m\u001b[0m\n",
            "\u001b[1;32m~\\anaconda3\\lib\\site-packages\\requests\\sessions.py\u001b[0m in \u001b[0;36msend\u001b[1;34m(self, request, **kwargs)\u001b[0m\n\u001b[0;32m    644\u001b[0m \u001b[1;33m\u001b[0m\u001b[0m\n\u001b[0;32m    645\u001b[0m         \u001b[1;31m# Send the request\u001b[0m\u001b[1;33m\u001b[0m\u001b[1;33m\u001b[0m\u001b[1;33m\u001b[0m\u001b[0m\n\u001b[1;32m--> 646\u001b[1;33m         \u001b[0mr\u001b[0m \u001b[1;33m=\u001b[0m \u001b[0madapter\u001b[0m\u001b[1;33m.\u001b[0m\u001b[0msend\u001b[0m\u001b[1;33m(\u001b[0m\u001b[0mrequest\u001b[0m\u001b[1;33m,\u001b[0m \u001b[1;33m**\u001b[0m\u001b[0mkwargs\u001b[0m\u001b[1;33m)\u001b[0m\u001b[1;33m\u001b[0m\u001b[1;33m\u001b[0m\u001b[0m\n\u001b[0m\u001b[0;32m    647\u001b[0m \u001b[1;33m\u001b[0m\u001b[0m\n\u001b[0;32m    648\u001b[0m         \u001b[1;31m# Total elapsed time of the request (approximately)\u001b[0m\u001b[1;33m\u001b[0m\u001b[1;33m\u001b[0m\u001b[1;33m\u001b[0m\u001b[0m\n",
            "\u001b[1;32m~\\anaconda3\\lib\\site-packages\\requests\\adapters.py\u001b[0m in \u001b[0;36msend\u001b[1;34m(self, request, stream, timeout, verify, cert, proxies)\u001b[0m\n\u001b[0;32m    447\u001b[0m                     \u001b[0mdecode_content\u001b[0m\u001b[1;33m=\u001b[0m\u001b[1;32mFalse\u001b[0m\u001b[1;33m,\u001b[0m\u001b[1;33m\u001b[0m\u001b[1;33m\u001b[0m\u001b[0m\n\u001b[0;32m    448\u001b[0m                     \u001b[0mretries\u001b[0m\u001b[1;33m=\u001b[0m\u001b[0mself\u001b[0m\u001b[1;33m.\u001b[0m\u001b[0mmax_retries\u001b[0m\u001b[1;33m,\u001b[0m\u001b[1;33m\u001b[0m\u001b[1;33m\u001b[0m\u001b[0m\n\u001b[1;32m--> 449\u001b[1;33m                     \u001b[0mtimeout\u001b[0m\u001b[1;33m=\u001b[0m\u001b[0mtimeout\u001b[0m\u001b[1;33m\u001b[0m\u001b[1;33m\u001b[0m\u001b[0m\n\u001b[0m\u001b[0;32m    450\u001b[0m                 )\n\u001b[0;32m    451\u001b[0m \u001b[1;33m\u001b[0m\u001b[0m\n",
            "\u001b[1;32m~\\anaconda3\\lib\\site-packages\\urllib3\\connectionpool.py\u001b[0m in \u001b[0;36murlopen\u001b[1;34m(self, method, url, body, headers, retries, redirect, assert_same_host, timeout, pool_timeout, release_conn, chunked, body_pos, **response_kw)\u001b[0m\n\u001b[0;32m    670\u001b[0m                 \u001b[0mbody\u001b[0m\u001b[1;33m=\u001b[0m\u001b[0mbody\u001b[0m\u001b[1;33m,\u001b[0m\u001b[1;33m\u001b[0m\u001b[1;33m\u001b[0m\u001b[0m\n\u001b[0;32m    671\u001b[0m                 \u001b[0mheaders\u001b[0m\u001b[1;33m=\u001b[0m\u001b[0mheaders\u001b[0m\u001b[1;33m,\u001b[0m\u001b[1;33m\u001b[0m\u001b[1;33m\u001b[0m\u001b[0m\n\u001b[1;32m--> 672\u001b[1;33m                 \u001b[0mchunked\u001b[0m\u001b[1;33m=\u001b[0m\u001b[0mchunked\u001b[0m\u001b[1;33m,\u001b[0m\u001b[1;33m\u001b[0m\u001b[1;33m\u001b[0m\u001b[0m\n\u001b[0m\u001b[0;32m    673\u001b[0m             )\n\u001b[0;32m    674\u001b[0m \u001b[1;33m\u001b[0m\u001b[0m\n",
            "\u001b[1;32m~\\anaconda3\\lib\\site-packages\\urllib3\\connectionpool.py\u001b[0m in \u001b[0;36m_make_request\u001b[1;34m(self, conn, method, url, timeout, chunked, **httplib_request_kw)\u001b[0m\n\u001b[0;32m    419\u001b[0m                     \u001b[1;31m# Python 3 (including for exceptions like SystemExit).\u001b[0m\u001b[1;33m\u001b[0m\u001b[1;33m\u001b[0m\u001b[1;33m\u001b[0m\u001b[0m\n\u001b[0;32m    420\u001b[0m                     \u001b[1;31m# Otherwise it looks like a bug in the code.\u001b[0m\u001b[1;33m\u001b[0m\u001b[1;33m\u001b[0m\u001b[1;33m\u001b[0m\u001b[0m\n\u001b[1;32m--> 421\u001b[1;33m                     \u001b[0msix\u001b[0m\u001b[1;33m.\u001b[0m\u001b[0mraise_from\u001b[0m\u001b[1;33m(\u001b[0m\u001b[0me\u001b[0m\u001b[1;33m,\u001b[0m \u001b[1;32mNone\u001b[0m\u001b[1;33m)\u001b[0m\u001b[1;33m\u001b[0m\u001b[1;33m\u001b[0m\u001b[0m\n\u001b[0m\u001b[0;32m    422\u001b[0m         \u001b[1;32mexcept\u001b[0m \u001b[1;33m(\u001b[0m\u001b[0mSocketTimeout\u001b[0m\u001b[1;33m,\u001b[0m \u001b[0mBaseSSLError\u001b[0m\u001b[1;33m,\u001b[0m \u001b[0mSocketError\u001b[0m\u001b[1;33m)\u001b[0m \u001b[1;32mas\u001b[0m \u001b[0me\u001b[0m\u001b[1;33m:\u001b[0m\u001b[1;33m\u001b[0m\u001b[1;33m\u001b[0m\u001b[0m\n\u001b[0;32m    423\u001b[0m             \u001b[0mself\u001b[0m\u001b[1;33m.\u001b[0m\u001b[0m_raise_timeout\u001b[0m\u001b[1;33m(\u001b[0m\u001b[0merr\u001b[0m\u001b[1;33m=\u001b[0m\u001b[0me\u001b[0m\u001b[1;33m,\u001b[0m \u001b[0murl\u001b[0m\u001b[1;33m=\u001b[0m\u001b[0murl\u001b[0m\u001b[1;33m,\u001b[0m \u001b[0mtimeout_value\u001b[0m\u001b[1;33m=\u001b[0m\u001b[0mread_timeout\u001b[0m\u001b[1;33m)\u001b[0m\u001b[1;33m\u001b[0m\u001b[1;33m\u001b[0m\u001b[0m\n",
            "\u001b[1;32m~\\anaconda3\\lib\\site-packages\\urllib3\\packages\\six.py\u001b[0m in \u001b[0;36mraise_from\u001b[1;34m(value, from_value)\u001b[0m\n",
            "\u001b[1;32m~\\anaconda3\\lib\\site-packages\\urllib3\\connectionpool.py\u001b[0m in \u001b[0;36m_make_request\u001b[1;34m(self, conn, method, url, timeout, chunked, **httplib_request_kw)\u001b[0m\n\u001b[0;32m    414\u001b[0m                 \u001b[1;31m# Python 3\u001b[0m\u001b[1;33m\u001b[0m\u001b[1;33m\u001b[0m\u001b[1;33m\u001b[0m\u001b[0m\n\u001b[0;32m    415\u001b[0m                 \u001b[1;32mtry\u001b[0m\u001b[1;33m:\u001b[0m\u001b[1;33m\u001b[0m\u001b[1;33m\u001b[0m\u001b[0m\n\u001b[1;32m--> 416\u001b[1;33m                     \u001b[0mhttplib_response\u001b[0m \u001b[1;33m=\u001b[0m \u001b[0mconn\u001b[0m\u001b[1;33m.\u001b[0m\u001b[0mgetresponse\u001b[0m\u001b[1;33m(\u001b[0m\u001b[1;33m)\u001b[0m\u001b[1;33m\u001b[0m\u001b[1;33m\u001b[0m\u001b[0m\n\u001b[0m\u001b[0;32m    417\u001b[0m                 \u001b[1;32mexcept\u001b[0m \u001b[0mBaseException\u001b[0m \u001b[1;32mas\u001b[0m \u001b[0me\u001b[0m\u001b[1;33m:\u001b[0m\u001b[1;33m\u001b[0m\u001b[1;33m\u001b[0m\u001b[0m\n\u001b[0;32m    418\u001b[0m                     \u001b[1;31m# Remove the TypeError from the exception chain in\u001b[0m\u001b[1;33m\u001b[0m\u001b[1;33m\u001b[0m\u001b[1;33m\u001b[0m\u001b[0m\n",
            "\u001b[1;32m~\\anaconda3\\lib\\http\\client.py\u001b[0m in \u001b[0;36mgetresponse\u001b[1;34m(self)\u001b[0m\n\u001b[0;32m   1342\u001b[0m         \u001b[1;32mtry\u001b[0m\u001b[1;33m:\u001b[0m\u001b[1;33m\u001b[0m\u001b[1;33m\u001b[0m\u001b[0m\n\u001b[0;32m   1343\u001b[0m             \u001b[1;32mtry\u001b[0m\u001b[1;33m:\u001b[0m\u001b[1;33m\u001b[0m\u001b[1;33m\u001b[0m\u001b[0m\n\u001b[1;32m-> 1344\u001b[1;33m                 \u001b[0mresponse\u001b[0m\u001b[1;33m.\u001b[0m\u001b[0mbegin\u001b[0m\u001b[1;33m(\u001b[0m\u001b[1;33m)\u001b[0m\u001b[1;33m\u001b[0m\u001b[1;33m\u001b[0m\u001b[0m\n\u001b[0m\u001b[0;32m   1345\u001b[0m             \u001b[1;32mexcept\u001b[0m \u001b[0mConnectionError\u001b[0m\u001b[1;33m:\u001b[0m\u001b[1;33m\u001b[0m\u001b[1;33m\u001b[0m\u001b[0m\n\u001b[0;32m   1346\u001b[0m                 \u001b[0mself\u001b[0m\u001b[1;33m.\u001b[0m\u001b[0mclose\u001b[0m\u001b[1;33m(\u001b[0m\u001b[1;33m)\u001b[0m\u001b[1;33m\u001b[0m\u001b[1;33m\u001b[0m\u001b[0m\n",
            "\u001b[1;32m~\\anaconda3\\lib\\http\\client.py\u001b[0m in \u001b[0;36mbegin\u001b[1;34m(self)\u001b[0m\n\u001b[0;32m    304\u001b[0m         \u001b[1;31m# read until we get a non-100 response\u001b[0m\u001b[1;33m\u001b[0m\u001b[1;33m\u001b[0m\u001b[1;33m\u001b[0m\u001b[0m\n\u001b[0;32m    305\u001b[0m         \u001b[1;32mwhile\u001b[0m \u001b[1;32mTrue\u001b[0m\u001b[1;33m:\u001b[0m\u001b[1;33m\u001b[0m\u001b[1;33m\u001b[0m\u001b[0m\n\u001b[1;32m--> 306\u001b[1;33m             \u001b[0mversion\u001b[0m\u001b[1;33m,\u001b[0m \u001b[0mstatus\u001b[0m\u001b[1;33m,\u001b[0m \u001b[0mreason\u001b[0m \u001b[1;33m=\u001b[0m \u001b[0mself\u001b[0m\u001b[1;33m.\u001b[0m\u001b[0m_read_status\u001b[0m\u001b[1;33m(\u001b[0m\u001b[1;33m)\u001b[0m\u001b[1;33m\u001b[0m\u001b[1;33m\u001b[0m\u001b[0m\n\u001b[0m\u001b[0;32m    307\u001b[0m             \u001b[1;32mif\u001b[0m \u001b[0mstatus\u001b[0m \u001b[1;33m!=\u001b[0m \u001b[0mCONTINUE\u001b[0m\u001b[1;33m:\u001b[0m\u001b[1;33m\u001b[0m\u001b[1;33m\u001b[0m\u001b[0m\n\u001b[0;32m    308\u001b[0m                 \u001b[1;32mbreak\u001b[0m\u001b[1;33m\u001b[0m\u001b[1;33m\u001b[0m\u001b[0m\n",
            "\u001b[1;32m~\\anaconda3\\lib\\http\\client.py\u001b[0m in \u001b[0;36m_read_status\u001b[1;34m(self)\u001b[0m\n\u001b[0;32m    265\u001b[0m \u001b[1;33m\u001b[0m\u001b[0m\n\u001b[0;32m    266\u001b[0m     \u001b[1;32mdef\u001b[0m \u001b[0m_read_status\u001b[0m\u001b[1;33m(\u001b[0m\u001b[0mself\u001b[0m\u001b[1;33m)\u001b[0m\u001b[1;33m:\u001b[0m\u001b[1;33m\u001b[0m\u001b[1;33m\u001b[0m\u001b[0m\n\u001b[1;32m--> 267\u001b[1;33m         \u001b[0mline\u001b[0m \u001b[1;33m=\u001b[0m \u001b[0mstr\u001b[0m\u001b[1;33m(\u001b[0m\u001b[0mself\u001b[0m\u001b[1;33m.\u001b[0m\u001b[0mfp\u001b[0m\u001b[1;33m.\u001b[0m\u001b[0mreadline\u001b[0m\u001b[1;33m(\u001b[0m\u001b[0m_MAXLINE\u001b[0m \u001b[1;33m+\u001b[0m \u001b[1;36m1\u001b[0m\u001b[1;33m)\u001b[0m\u001b[1;33m,\u001b[0m \u001b[1;34m\"iso-8859-1\"\u001b[0m\u001b[1;33m)\u001b[0m\u001b[1;33m\u001b[0m\u001b[1;33m\u001b[0m\u001b[0m\n\u001b[0m\u001b[0;32m    268\u001b[0m         \u001b[1;32mif\u001b[0m \u001b[0mlen\u001b[0m\u001b[1;33m(\u001b[0m\u001b[0mline\u001b[0m\u001b[1;33m)\u001b[0m \u001b[1;33m>\u001b[0m \u001b[0m_MAXLINE\u001b[0m\u001b[1;33m:\u001b[0m\u001b[1;33m\u001b[0m\u001b[1;33m\u001b[0m\u001b[0m\n\u001b[0;32m    269\u001b[0m             \u001b[1;32mraise\u001b[0m \u001b[0mLineTooLong\u001b[0m\u001b[1;33m(\u001b[0m\u001b[1;34m\"status line\"\u001b[0m\u001b[1;33m)\u001b[0m\u001b[1;33m\u001b[0m\u001b[1;33m\u001b[0m\u001b[0m\n",
            "\u001b[1;32m~\\anaconda3\\lib\\socket.py\u001b[0m in \u001b[0;36mreadinto\u001b[1;34m(self, b)\u001b[0m\n\u001b[0;32m    587\u001b[0m         \u001b[1;32mwhile\u001b[0m \u001b[1;32mTrue\u001b[0m\u001b[1;33m:\u001b[0m\u001b[1;33m\u001b[0m\u001b[1;33m\u001b[0m\u001b[0m\n\u001b[0;32m    588\u001b[0m             \u001b[1;32mtry\u001b[0m\u001b[1;33m:\u001b[0m\u001b[1;33m\u001b[0m\u001b[1;33m\u001b[0m\u001b[0m\n\u001b[1;32m--> 589\u001b[1;33m                 \u001b[1;32mreturn\u001b[0m \u001b[0mself\u001b[0m\u001b[1;33m.\u001b[0m\u001b[0m_sock\u001b[0m\u001b[1;33m.\u001b[0m\u001b[0mrecv_into\u001b[0m\u001b[1;33m(\u001b[0m\u001b[0mb\u001b[0m\u001b[1;33m)\u001b[0m\u001b[1;33m\u001b[0m\u001b[1;33m\u001b[0m\u001b[0m\n\u001b[0m\u001b[0;32m    590\u001b[0m             \u001b[1;32mexcept\u001b[0m \u001b[0mtimeout\u001b[0m\u001b[1;33m:\u001b[0m\u001b[1;33m\u001b[0m\u001b[1;33m\u001b[0m\u001b[0m\n\u001b[0;32m    591\u001b[0m                 \u001b[0mself\u001b[0m\u001b[1;33m.\u001b[0m\u001b[0m_timeout_occurred\u001b[0m \u001b[1;33m=\u001b[0m \u001b[1;32mTrue\u001b[0m\u001b[1;33m\u001b[0m\u001b[1;33m\u001b[0m\u001b[0m\n",
            "\u001b[1;32m~\\anaconda3\\lib\\site-packages\\urllib3\\contrib\\pyopenssl.py\u001b[0m in \u001b[0;36mrecv_into\u001b[1;34m(self, *args, **kwargs)\u001b[0m\n\u001b[0;32m    311\u001b[0m     \u001b[1;32mdef\u001b[0m \u001b[0mrecv_into\u001b[0m\u001b[1;33m(\u001b[0m\u001b[0mself\u001b[0m\u001b[1;33m,\u001b[0m \u001b[1;33m*\u001b[0m\u001b[0margs\u001b[0m\u001b[1;33m,\u001b[0m \u001b[1;33m**\u001b[0m\u001b[0mkwargs\u001b[0m\u001b[1;33m)\u001b[0m\u001b[1;33m:\u001b[0m\u001b[1;33m\u001b[0m\u001b[1;33m\u001b[0m\u001b[0m\n\u001b[0;32m    312\u001b[0m         \u001b[1;32mtry\u001b[0m\u001b[1;33m:\u001b[0m\u001b[1;33m\u001b[0m\u001b[1;33m\u001b[0m\u001b[0m\n\u001b[1;32m--> 313\u001b[1;33m             \u001b[1;32mreturn\u001b[0m \u001b[0mself\u001b[0m\u001b[1;33m.\u001b[0m\u001b[0mconnection\u001b[0m\u001b[1;33m.\u001b[0m\u001b[0mrecv_into\u001b[0m\u001b[1;33m(\u001b[0m\u001b[1;33m*\u001b[0m\u001b[0margs\u001b[0m\u001b[1;33m,\u001b[0m \u001b[1;33m**\u001b[0m\u001b[0mkwargs\u001b[0m\u001b[1;33m)\u001b[0m\u001b[1;33m\u001b[0m\u001b[1;33m\u001b[0m\u001b[0m\n\u001b[0m\u001b[0;32m    314\u001b[0m         \u001b[1;32mexcept\u001b[0m \u001b[0mOpenSSL\u001b[0m\u001b[1;33m.\u001b[0m\u001b[0mSSL\u001b[0m\u001b[1;33m.\u001b[0m\u001b[0mSysCallError\u001b[0m \u001b[1;32mas\u001b[0m \u001b[0me\u001b[0m\u001b[1;33m:\u001b[0m\u001b[1;33m\u001b[0m\u001b[1;33m\u001b[0m\u001b[0m\n\u001b[0;32m    315\u001b[0m             \u001b[1;32mif\u001b[0m \u001b[0mself\u001b[0m\u001b[1;33m.\u001b[0m\u001b[0msuppress_ragged_eofs\u001b[0m \u001b[1;32mand\u001b[0m \u001b[0me\u001b[0m\u001b[1;33m.\u001b[0m\u001b[0margs\u001b[0m \u001b[1;33m==\u001b[0m \u001b[1;33m(\u001b[0m\u001b[1;33m-\u001b[0m\u001b[1;36m1\u001b[0m\u001b[1;33m,\u001b[0m \u001b[1;34m\"Unexpected EOF\"\u001b[0m\u001b[1;33m)\u001b[0m\u001b[1;33m:\u001b[0m\u001b[1;33m\u001b[0m\u001b[1;33m\u001b[0m\u001b[0m\n",
            "\u001b[1;32m~\\anaconda3\\lib\\site-packages\\OpenSSL\\SSL.py\u001b[0m in \u001b[0;36mrecv_into\u001b[1;34m(self, buffer, nbytes, flags)\u001b[0m\n\u001b[0;32m   1837\u001b[0m             \u001b[0mresult\u001b[0m \u001b[1;33m=\u001b[0m \u001b[0m_lib\u001b[0m\u001b[1;33m.\u001b[0m\u001b[0mSSL_peek\u001b[0m\u001b[1;33m(\u001b[0m\u001b[0mself\u001b[0m\u001b[1;33m.\u001b[0m\u001b[0m_ssl\u001b[0m\u001b[1;33m,\u001b[0m \u001b[0mbuf\u001b[0m\u001b[1;33m,\u001b[0m \u001b[0mnbytes\u001b[0m\u001b[1;33m)\u001b[0m\u001b[1;33m\u001b[0m\u001b[1;33m\u001b[0m\u001b[0m\n\u001b[0;32m   1838\u001b[0m         \u001b[1;32melse\u001b[0m\u001b[1;33m:\u001b[0m\u001b[1;33m\u001b[0m\u001b[1;33m\u001b[0m\u001b[0m\n\u001b[1;32m-> 1839\u001b[1;33m             \u001b[0mresult\u001b[0m \u001b[1;33m=\u001b[0m \u001b[0m_lib\u001b[0m\u001b[1;33m.\u001b[0m\u001b[0mSSL_read\u001b[0m\u001b[1;33m(\u001b[0m\u001b[0mself\u001b[0m\u001b[1;33m.\u001b[0m\u001b[0m_ssl\u001b[0m\u001b[1;33m,\u001b[0m \u001b[0mbuf\u001b[0m\u001b[1;33m,\u001b[0m \u001b[0mnbytes\u001b[0m\u001b[1;33m)\u001b[0m\u001b[1;33m\u001b[0m\u001b[1;33m\u001b[0m\u001b[0m\n\u001b[0m\u001b[0;32m   1840\u001b[0m         \u001b[0mself\u001b[0m\u001b[1;33m.\u001b[0m\u001b[0m_raise_ssl_error\u001b[0m\u001b[1;33m(\u001b[0m\u001b[0mself\u001b[0m\u001b[1;33m.\u001b[0m\u001b[0m_ssl\u001b[0m\u001b[1;33m,\u001b[0m \u001b[0mresult\u001b[0m\u001b[1;33m)\u001b[0m\u001b[1;33m\u001b[0m\u001b[1;33m\u001b[0m\u001b[0m\n\u001b[0;32m   1841\u001b[0m \u001b[1;33m\u001b[0m\u001b[0m\n",
            "\u001b[1;31mKeyboardInterrupt\u001b[0m: "
          ]
        }
      ]
    },
    {
      "cell_type": "code",
      "metadata": {
        "id": "mym4pCoEM9vh",
        "colab_type": "code",
        "colab": {}
      },
      "source": [
        "import csv\n",
        "\n",
        "import os\n",
        "\n",
        "data = []\n",
        "with open(\"TSE/data_j_1.csv\", \"r\", encoding=\"utf-8\") as f:\n",
        "    reader = csv.DictReader(f) # ヘッダのついた CSV ファイルの読み込みに DictReader を利用\n",
        "\n",
        "    for row in reader:\n",
        "        path = \"TSE/{}.csv\".format(row['コード'])\n",
        "        if os.path.exists(path):\n",
        "            data.append([row['コード'], row['銘柄名'], row['33業種コード'], row['33業種区分'], row['17業種コード'], row['17業種区分']])\n",
        "\n",
        "header = ['コード', '銘柄名', '33業種コード', '33業種区分', '17業種コード', '17業種区分']\n",
        "with open(\"TSE/data_j_1_next.csv\", \"w\",  newline=\"\",  encoding=\"utf-8\") as f:\n",
        "    writer = csv.writer(f, delimiter=',', quoting=csv.QUOTE_NONE) #, quotechar='\"', quoting=csv.QUOTE_ALL)\n",
        "    writer.writerow(header)\n",
        "    writer.writerows(data)"
      ],
      "execution_count": null,
      "outputs": []
    },
    {
      "cell_type": "code",
      "metadata": {
        "id": "bH3ieoJjM9vk",
        "colab_type": "code",
        "colab": {}
      },
      "source": [
        ""
      ],
      "execution_count": null,
      "outputs": []
    },
    {
      "cell_type": "code",
      "metadata": {
        "id": "w_h_I6KXM9vo",
        "colab_type": "code",
        "colab": {},
        "outputId": "866cafd4-4b20-42a2-b8b0-fc4f7d51eb38"
      },
      "source": [
        "import matplotlib.pyplot as plt\n",
        "plt.plot(sony['Close'], label='sony')\n",
        "plt.plot(hitachi['Close'], label='hitachi')\n",
        "plt.legend()\n",
        "plt.xlabel(\"date\")\n",
        "plt.ylabel(\"stock price\")\n",
        "plt.show()"
      ],
      "execution_count": null,
      "outputs": [
        {
          "output_type": "display_data",
          "data": {
            "image/png": "[encoded data removed]",
            "text/plain": [
              "<Figure size 432x288 with 1 Axes>"
            ]
          },
          "metadata": {
            "tags": [],
            "needs_background": "light"
          }
        }
      ]
    },
    {
      "cell_type": "code",
      "metadata": {
        "id": "FOkf5P7PM9vs",
        "colab_type": "code",
        "colab": {},
        "outputId": "138ef67e-1910-435e-9858-20157849db8f"
      },
      "source": [
        "type(sony)"
      ],
      "execution_count": null,
      "outputs": [
        {
          "output_type": "execute_result",
          "data": {
            "text/plain": [
              "pandas.core.frame.DataFrame"
            ]
          },
          "metadata": {
            "tags": []
          },
          "execution_count": 17
        }
      ]
    },
    {
      "cell_type": "code",
      "metadata": {
        "id": "XduZE_KBM9vw",
        "colab_type": "code",
        "colab": {},
        "outputId": "06f2f139-b4b6-47fe-ba6a-f5d9be7c6498"
      },
      "source": [
        "# 移動平均 (MA: moving aberage)\n",
        "#\n",
        "# ソニー(株)/ (6758)\n",
        "import quandl\n",
        "import matplotlib.pyplot as plt\n",
        "\n",
        "quandl.ApiConfig.api_key = \"swWCyaT7PznGyDJwoPys\"\n",
        "sony = quandl.get('TSE/6758', start_date='2017-01-01', end_date='2017-12-31')\n",
        "\n",
        "# 移動平均 (MA: moving aberage) ここでは 30日移動平均を求めている\n",
        "sony['30MA'] = sony['Close'].rolling(window=30, min_periods=0).mean()\n",
        "\n",
        "plt.plot(sony['Close'])\n",
        "plt.plot(sony['30MA'])\n",
        "plt.show()"
      ],
      "execution_count": null,
      "outputs": [
        {
          "output_type": "display_data",
          "data": {
            "image/png": "[encoded data removed]",
            "text/plain": [
              "<Figure size 432x288 with 1 Axes>"
            ]
          },
          "metadata": {
            "tags": [],
            "needs_background": "light"
          }
        }
      ]
    },
    {
      "cell_type": "code",
      "metadata": {
        "id": "aoXgGRN8M9vy",
        "colab_type": "code",
        "colab": {},
        "outputId": "4fbdcf46-b9c9-4313-c1f6-03ebc66613da"
      },
      "source": [
        "sony"
      ],
      "execution_count": null,
      "outputs": [
        {
          "output_type": "execute_result",
          "data": {
            "text/html": [
              "<div>\n",
              "<style scoped>\n",
              "    .dataframe tbody tr th:only-of-type {\n",
              "        vertical-align: middle;\n",
              "    }\n",
              "\n",
              "    .dataframe tbody tr th {\n",
              "        vertical-align: top;\n",
              "    }\n",
              "\n",
              "    .dataframe thead th {\n",
              "        text-align: right;\n",
              "    }\n",
              "</style>\n",
              "<table border=\"1\" class=\"dataframe\">\n",
              "  <thead>\n",
              "    <tr style=\"text-align: right;\">\n",
              "      <th></th>\n",
              "      <th>Open</th>\n",
              "      <th>High</th>\n",
              "      <th>Low</th>\n",
              "      <th>Close</th>\n",
              "      <th>Volume</th>\n",
              "      <th>30MA</th>\n",
              "    </tr>\n",
              "    <tr>\n",
              "      <th>Date</th>\n",
              "      <th></th>\n",
              "      <th></th>\n",
              "      <th></th>\n",
              "      <th></th>\n",
              "      <th></th>\n",
              "      <th></th>\n",
              "    </tr>\n",
              "  </thead>\n",
              "  <tbody>\n",
              "    <tr>\n",
              "      <th>2017-01-04</th>\n",
              "      <td>3305.0</td>\n",
              "      <td>3333.0</td>\n",
              "      <td>3274.0</td>\n",
              "      <td>3333.0</td>\n",
              "      <td>5914000.0</td>\n",
              "      <td>3333.000000</td>\n",
              "    </tr>\n",
              "    <tr>\n",
              "      <th>2017-01-05</th>\n",
              "      <td>3335.0</td>\n",
              "      <td>3337.0</td>\n",
              "      <td>3269.0</td>\n",
              "      <td>3296.0</td>\n",
              "      <td>7201700.0</td>\n",
              "      <td>3314.500000</td>\n",
              "    </tr>\n",
              "    <tr>\n",
              "      <th>2017-01-06</th>\n",
              "      <td>3328.0</td>\n",
              "      <td>3374.0</td>\n",
              "      <td>3311.0</td>\n",
              "      <td>3316.0</td>\n",
              "      <td>8873600.0</td>\n",
              "      <td>3315.000000</td>\n",
              "    </tr>\n",
              "    <tr>\n",
              "      <th>2017-01-10</th>\n",
              "      <td>3345.0</td>\n",
              "      <td>3439.0</td>\n",
              "      <td>3344.0</td>\n",
              "      <td>3394.0</td>\n",
              "      <td>11461200.0</td>\n",
              "      <td>3334.750000</td>\n",
              "    </tr>\n",
              "    <tr>\n",
              "      <th>2017-01-11</th>\n",
              "      <td>3464.0</td>\n",
              "      <td>3550.0</td>\n",
              "      <td>3462.0</td>\n",
              "      <td>3510.0</td>\n",
              "      <td>13620000.0</td>\n",
              "      <td>3369.800000</td>\n",
              "    </tr>\n",
              "    <tr>\n",
              "      <th>...</th>\n",
              "      <td>...</td>\n",
              "      <td>...</td>\n",
              "      <td>...</td>\n",
              "      <td>...</td>\n",
              "      <td>...</td>\n",
              "      <td>...</td>\n",
              "    </tr>\n",
              "    <tr>\n",
              "      <th>2017-12-18</th>\n",
              "      <td>5068.0</td>\n",
              "      <td>5163.0</td>\n",
              "      <td>5067.0</td>\n",
              "      <td>5161.0</td>\n",
              "      <td>7103000.0</td>\n",
              "      <td>5192.133333</td>\n",
              "    </tr>\n",
              "    <tr>\n",
              "      <th>2017-12-19</th>\n",
              "      <td>5150.0</td>\n",
              "      <td>5156.0</td>\n",
              "      <td>5110.0</td>\n",
              "      <td>5116.0</td>\n",
              "      <td>4931600.0</td>\n",
              "      <td>5188.600000</td>\n",
              "    </tr>\n",
              "    <tr>\n",
              "      <th>2017-12-20</th>\n",
              "      <td>5135.0</td>\n",
              "      <td>5138.0</td>\n",
              "      <td>5089.0</td>\n",
              "      <td>5125.0</td>\n",
              "      <td>3576900.0</td>\n",
              "      <td>5184.066667</td>\n",
              "    </tr>\n",
              "    <tr>\n",
              "      <th>2017-12-21</th>\n",
              "      <td>5097.0</td>\n",
              "      <td>5166.0</td>\n",
              "      <td>5084.0</td>\n",
              "      <td>5156.0</td>\n",
              "      <td>4437700.0</td>\n",
              "      <td>5175.600000</td>\n",
              "    </tr>\n",
              "    <tr>\n",
              "      <th>2017-12-22</th>\n",
              "      <td>5129.0</td>\n",
              "      <td>5192.0</td>\n",
              "      <td>5129.0</td>\n",
              "      <td>5192.0</td>\n",
              "      <td>4419000.0</td>\n",
              "      <td>5174.466667</td>\n",
              "    </tr>\n",
              "  </tbody>\n",
              "</table>\n",
              "<p>242 rows × 6 columns</p>\n",
              "</div>"
            ],
            "text/plain": [
              "              Open    High     Low   Close      Volume         30MA\n",
              "Date                                                               \n",
              "2017-01-04  3305.0  3333.0  3274.0  3333.0   5914000.0  3333.000000\n",
              "2017-01-05  3335.0  3337.0  3269.0  3296.0   7201700.0  3314.500000\n",
              "2017-01-06  3328.0  3374.0  3311.0  3316.0   8873600.0  3315.000000\n",
              "2017-01-10  3345.0  3439.0  3344.0  3394.0  11461200.0  3334.750000\n",
              "2017-01-11  3464.0  3550.0  3462.0  3510.0  13620000.0  3369.800000\n",
              "...            ...     ...     ...     ...         ...          ...\n",
              "2017-12-18  5068.0  5163.0  5067.0  5161.0   7103000.0  5192.133333\n",
              "2017-12-19  5150.0  5156.0  5110.0  5116.0   4931600.0  5188.600000\n",
              "2017-12-20  5135.0  5138.0  5089.0  5125.0   3576900.0  5184.066667\n",
              "2017-12-21  5097.0  5166.0  5084.0  5156.0   4437700.0  5175.600000\n",
              "2017-12-22  5129.0  5192.0  5129.0  5192.0   4419000.0  5174.466667\n",
              "\n",
              "[242 rows x 6 columns]"
            ]
          },
          "metadata": {
            "tags": []
          },
          "execution_count": 15
        }
      ]
    },
    {
      "cell_type": "code",
      "metadata": {
        "id": "FA3bEiBmM9v2",
        "colab_type": "code",
        "colab": {},
        "outputId": "9a3eea08-8496-43e7-ad49-ae5158b0eea8"
      },
      "source": [
        "# どの範囲のデータが入手可能か，試してみる → 2007年～2017年\n",
        "data = quandl.get(\"TSE/6902\") # DENSO\n",
        "# data.to_csv('TSE_6902.csv')\n",
        "data"
      ],
      "execution_count": null,
      "outputs": [
        {
          "output_type": "execute_result",
          "data": {
            "text/html": [
              "<div>\n",
              "<style scoped>\n",
              "    .dataframe tbody tr th:only-of-type {\n",
              "        vertical-align: middle;\n",
              "    }\n",
              "\n",
              "    .dataframe tbody tr th {\n",
              "        vertical-align: top;\n",
              "    }\n",
              "\n",
              "    .dataframe thead th {\n",
              "        text-align: right;\n",
              "    }\n",
              "</style>\n",
              "<table border=\"1\" class=\"dataframe\">\n",
              "  <thead>\n",
              "    <tr style=\"text-align: right;\">\n",
              "      <th></th>\n",
              "      <th>Open</th>\n",
              "      <th>High</th>\n",
              "      <th>Low</th>\n",
              "      <th>Close</th>\n",
              "      <th>Volume</th>\n",
              "    </tr>\n",
              "    <tr>\n",
              "      <th>Date</th>\n",
              "      <th></th>\n",
              "      <th></th>\n",
              "      <th></th>\n",
              "      <th></th>\n",
              "      <th></th>\n",
              "    </tr>\n",
              "  </thead>\n",
              "  <tbody>\n",
              "    <tr>\n",
              "      <th>2007-01-04</th>\n",
              "      <td>4790.0</td>\n",
              "      <td>4800.0</td>\n",
              "      <td>4750.0</td>\n",
              "      <td>4790.0</td>\n",
              "      <td>878200.0</td>\n",
              "    </tr>\n",
              "    <tr>\n",
              "      <th>2007-01-05</th>\n",
              "      <td>4760.0</td>\n",
              "      <td>4770.0</td>\n",
              "      <td>4600.0</td>\n",
              "      <td>4640.0</td>\n",
              "      <td>1928200.0</td>\n",
              "    </tr>\n",
              "    <tr>\n",
              "      <th>2007-01-09</th>\n",
              "      <td>4660.0</td>\n",
              "      <td>4670.0</td>\n",
              "      <td>4600.0</td>\n",
              "      <td>4640.0</td>\n",
              "      <td>2526000.0</td>\n",
              "    </tr>\n",
              "    <tr>\n",
              "      <th>2007-01-10</th>\n",
              "      <td>4620.0</td>\n",
              "      <td>4640.0</td>\n",
              "      <td>4530.0</td>\n",
              "      <td>4550.0</td>\n",
              "      <td>2761100.0</td>\n",
              "    </tr>\n",
              "    <tr>\n",
              "      <th>2007-01-11</th>\n",
              "      <td>4620.0</td>\n",
              "      <td>4680.0</td>\n",
              "      <td>4580.0</td>\n",
              "      <td>4640.0</td>\n",
              "      <td>3108600.0</td>\n",
              "    </tr>\n",
              "    <tr>\n",
              "      <th>...</th>\n",
              "      <td>...</td>\n",
              "      <td>...</td>\n",
              "      <td>...</td>\n",
              "      <td>...</td>\n",
              "      <td>...</td>\n",
              "    </tr>\n",
              "    <tr>\n",
              "      <th>2017-12-18</th>\n",
              "      <td>6400.0</td>\n",
              "      <td>6496.0</td>\n",
              "      <td>6393.0</td>\n",
              "      <td>6479.0</td>\n",
              "      <td>1814900.0</td>\n",
              "    </tr>\n",
              "    <tr>\n",
              "      <th>2017-12-19</th>\n",
              "      <td>6504.0</td>\n",
              "      <td>6582.0</td>\n",
              "      <td>6504.0</td>\n",
              "      <td>6553.0</td>\n",
              "      <td>2118900.0</td>\n",
              "    </tr>\n",
              "    <tr>\n",
              "      <th>2017-12-20</th>\n",
              "      <td>6550.0</td>\n",
              "      <td>6588.0</td>\n",
              "      <td>6543.0</td>\n",
              "      <td>6579.0</td>\n",
              "      <td>1401200.0</td>\n",
              "    </tr>\n",
              "    <tr>\n",
              "      <th>2017-12-21</th>\n",
              "      <td>6604.0</td>\n",
              "      <td>6749.0</td>\n",
              "      <td>6601.0</td>\n",
              "      <td>6734.0</td>\n",
              "      <td>2319400.0</td>\n",
              "    </tr>\n",
              "    <tr>\n",
              "      <th>2017-12-22</th>\n",
              "      <td>6750.0</td>\n",
              "      <td>6830.0</td>\n",
              "      <td>6744.0</td>\n",
              "      <td>6830.0</td>\n",
              "      <td>2099200.0</td>\n",
              "    </tr>\n",
              "  </tbody>\n",
              "</table>\n",
              "<p>2690 rows × 5 columns</p>\n",
              "</div>"
            ],
            "text/plain": [
              "              Open    High     Low   Close     Volume\n",
              "Date                                                 \n",
              "2007-01-04  4790.0  4800.0  4750.0  4790.0   878200.0\n",
              "2007-01-05  4760.0  4770.0  4600.0  4640.0  1928200.0\n",
              "2007-01-09  4660.0  4670.0  4600.0  4640.0  2526000.0\n",
              "2007-01-10  4620.0  4640.0  4530.0  4550.0  2761100.0\n",
              "2007-01-11  4620.0  4680.0  4580.0  4640.0  3108600.0\n",
              "...            ...     ...     ...     ...        ...\n",
              "2017-12-18  6400.0  6496.0  6393.0  6479.0  1814900.0\n",
              "2017-12-19  6504.0  6582.0  6504.0  6553.0  2118900.0\n",
              "2017-12-20  6550.0  6588.0  6543.0  6579.0  1401200.0\n",
              "2017-12-21  6604.0  6749.0  6601.0  6734.0  2319400.0\n",
              "2017-12-22  6750.0  6830.0  6744.0  6830.0  2099200.0\n",
              "\n",
              "[2690 rows x 5 columns]"
            ]
          },
          "metadata": {
            "tags": []
          },
          "execution_count": 16
        }
      ]
    },
    {
      "cell_type": "code",
      "metadata": {
        "id": "x_i5uJ0MM9v6",
        "colab_type": "code",
        "colab": {},
        "outputId": "37798f89-ec0e-4969-ee1b-616d9d400c28"
      },
      "source": [
        "# Internet users (per 100 people)\n",
        "df = quandl.get([\"WWDI/JPN_IT_NET_USER_P2\",\n",
        "                 \"WWDI/KOR_IT_NET_USER_P2\",\n",
        "                 \"WWDI/CHN_IT_NET_USER_P2\"])\n",
        "df.columns = [\"Japan\", \"Korea\", \"China\"]\n",
        "df"
      ],
      "execution_count": null,
      "outputs": [
        {
          "output_type": "execute_result",
          "data": {
            "text/html": [
              "<div>\n",
              "<style scoped>\n",
              "    .dataframe tbody tr th:only-of-type {\n",
              "        vertical-align: middle;\n",
              "    }\n",
              "\n",
              "    .dataframe tbody tr th {\n",
              "        vertical-align: top;\n",
              "    }\n",
              "\n",
              "    .dataframe thead th {\n",
              "        text-align: right;\n",
              "    }\n",
              "</style>\n",
              "<table border=\"1\" class=\"dataframe\">\n",
              "  <thead>\n",
              "    <tr style=\"text-align: right;\">\n",
              "      <th></th>\n",
              "      <th>Japan</th>\n",
              "      <th>Korea</th>\n",
              "      <th>China</th>\n",
              "    </tr>\n",
              "    <tr>\n",
              "      <th>Date</th>\n",
              "      <th></th>\n",
              "      <th></th>\n",
              "      <th></th>\n",
              "    </tr>\n",
              "  </thead>\n",
              "  <tbody>\n",
              "    <tr>\n",
              "      <th>1990-12-31</th>\n",
              "      <td>0.020294</td>\n",
              "      <td>0.023265</td>\n",
              "      <td>0.000000</td>\n",
              "    </tr>\n",
              "    <tr>\n",
              "      <th>1991-12-31</th>\n",
              "      <td>0.040438</td>\n",
              "      <td>0.046124</td>\n",
              "      <td>NaN</td>\n",
              "    </tr>\n",
              "    <tr>\n",
              "      <th>1992-12-31</th>\n",
              "      <td>0.096678</td>\n",
              "      <td>0.098404</td>\n",
              "      <td>NaN</td>\n",
              "    </tr>\n",
              "    <tr>\n",
              "      <th>1993-12-31</th>\n",
              "      <td>0.401278</td>\n",
              "      <td>0.249947</td>\n",
              "      <td>0.000169</td>\n",
              "    </tr>\n",
              "    <tr>\n",
              "      <th>1994-12-31</th>\n",
              "      <td>0.799684</td>\n",
              "      <td>0.311359</td>\n",
              "      <td>0.001168</td>\n",
              "    </tr>\n",
              "    <tr>\n",
              "      <th>1995-12-31</th>\n",
              "      <td>1.594363</td>\n",
              "      <td>0.819687</td>\n",
              "      <td>0.004955</td>\n",
              "    </tr>\n",
              "    <tr>\n",
              "      <th>1996-12-31</th>\n",
              "      <td>4.372982</td>\n",
              "      <td>1.624237</td>\n",
              "      <td>0.013082</td>\n",
              "    </tr>\n",
              "    <tr>\n",
              "      <th>1997-12-31</th>\n",
              "      <td>9.163077</td>\n",
              "      <td>3.600802</td>\n",
              "      <td>0.032395</td>\n",
              "    </tr>\n",
              "    <tr>\n",
              "      <th>1998-12-31</th>\n",
              "      <td>13.414041</td>\n",
              "      <td>6.781815</td>\n",
              "      <td>0.168540</td>\n",
              "    </tr>\n",
              "    <tr>\n",
              "      <th>1999-12-31</th>\n",
              "      <td>21.391290</td>\n",
              "      <td>23.552194</td>\n",
              "      <td>0.708188</td>\n",
              "    </tr>\n",
              "    <tr>\n",
              "      <th>2000-12-31</th>\n",
              "      <td>29.990740</td>\n",
              "      <td>44.700000</td>\n",
              "      <td>1.775913</td>\n",
              "    </tr>\n",
              "    <tr>\n",
              "      <th>2001-12-31</th>\n",
              "      <td>38.532061</td>\n",
              "      <td>56.600000</td>\n",
              "      <td>2.639650</td>\n",
              "    </tr>\n",
              "    <tr>\n",
              "      <th>2002-12-31</th>\n",
              "      <td>46.594201</td>\n",
              "      <td>59.400000</td>\n",
              "      <td>4.595704</td>\n",
              "    </tr>\n",
              "    <tr>\n",
              "      <th>2003-12-31</th>\n",
              "      <td>48.435266</td>\n",
              "      <td>65.500000</td>\n",
              "      <td>6.200000</td>\n",
              "    </tr>\n",
              "    <tr>\n",
              "      <th>2004-12-31</th>\n",
              "      <td>62.393930</td>\n",
              "      <td>72.700000</td>\n",
              "      <td>7.300000</td>\n",
              "    </tr>\n",
              "    <tr>\n",
              "      <th>2005-12-31</th>\n",
              "      <td>66.921066</td>\n",
              "      <td>73.500000</td>\n",
              "      <td>8.523257</td>\n",
              "    </tr>\n",
              "    <tr>\n",
              "      <th>2006-12-31</th>\n",
              "      <td>68.685270</td>\n",
              "      <td>78.100000</td>\n",
              "      <td>10.523153</td>\n",
              "    </tr>\n",
              "    <tr>\n",
              "      <th>2007-12-31</th>\n",
              "      <td>74.300000</td>\n",
              "      <td>78.800000</td>\n",
              "      <td>16.000000</td>\n",
              "    </tr>\n",
              "    <tr>\n",
              "      <th>2008-12-31</th>\n",
              "      <td>75.400000</td>\n",
              "      <td>81.000000</td>\n",
              "      <td>22.600000</td>\n",
              "    </tr>\n",
              "    <tr>\n",
              "      <th>2009-12-31</th>\n",
              "      <td>78.000000</td>\n",
              "      <td>81.600000</td>\n",
              "      <td>28.900000</td>\n",
              "    </tr>\n",
              "    <tr>\n",
              "      <th>2010-12-31</th>\n",
              "      <td>78.210000</td>\n",
              "      <td>83.700000</td>\n",
              "      <td>34.300000</td>\n",
              "    </tr>\n",
              "    <tr>\n",
              "      <th>2011-12-31</th>\n",
              "      <td>79.054114</td>\n",
              "      <td>83.759120</td>\n",
              "      <td>38.300000</td>\n",
              "    </tr>\n",
              "    <tr>\n",
              "      <th>2012-12-31</th>\n",
              "      <td>79.496400</td>\n",
              "      <td>84.070000</td>\n",
              "      <td>42.300117</td>\n",
              "    </tr>\n",
              "    <tr>\n",
              "      <th>2013-12-31</th>\n",
              "      <td>88.219429</td>\n",
              "      <td>84.770000</td>\n",
              "      <td>45.800000</td>\n",
              "    </tr>\n",
              "    <tr>\n",
              "      <th>2014-12-31</th>\n",
              "      <td>89.106833</td>\n",
              "      <td>87.870000</td>\n",
              "      <td>47.900000</td>\n",
              "    </tr>\n",
              "    <tr>\n",
              "      <th>2015-12-31</th>\n",
              "      <td>93.329411</td>\n",
              "      <td>89.896256</td>\n",
              "      <td>50.300000</td>\n",
              "    </tr>\n",
              "  </tbody>\n",
              "</table>\n",
              "</div>"
            ],
            "text/plain": [
              "                Japan      Korea      China\n",
              "Date                                       \n",
              "1990-12-31   0.020294   0.023265   0.000000\n",
              "1991-12-31   0.040438   0.046124        NaN\n",
              "1992-12-31   0.096678   0.098404        NaN\n",
              "1993-12-31   0.401278   0.249947   0.000169\n",
              "1994-12-31   0.799684   0.311359   0.001168\n",
              "1995-12-31   1.594363   0.819687   0.004955\n",
              "1996-12-31   4.372982   1.624237   0.013082\n",
              "1997-12-31   9.163077   3.600802   0.032395\n",
              "1998-12-31  13.414041   6.781815   0.168540\n",
              "1999-12-31  21.391290  23.552194   0.708188\n",
              "2000-12-31  29.990740  44.700000   1.775913\n",
              "2001-12-31  38.532061  56.600000   2.639650\n",
              "2002-12-31  46.594201  59.400000   4.595704\n",
              "2003-12-31  48.435266  65.500000   6.200000\n",
              "2004-12-31  62.393930  72.700000   7.300000\n",
              "2005-12-31  66.921066  73.500000   8.523257\n",
              "2006-12-31  68.685270  78.100000  10.523153\n",
              "2007-12-31  74.300000  78.800000  16.000000\n",
              "2008-12-31  75.400000  81.000000  22.600000\n",
              "2009-12-31  78.000000  81.600000  28.900000\n",
              "2010-12-31  78.210000  83.700000  34.300000\n",
              "2011-12-31  79.054114  83.759120  38.300000\n",
              "2012-12-31  79.496400  84.070000  42.300117\n",
              "2013-12-31  88.219429  84.770000  45.800000\n",
              "2014-12-31  89.106833  87.870000  47.900000\n",
              "2015-12-31  93.329411  89.896256  50.300000"
            ]
          },
          "metadata": {
            "tags": []
          },
          "execution_count": 19
        }
      ]
    },
    {
      "cell_type": "code",
      "metadata": {
        "id": "ZDeE4LWUM9v9",
        "colab_type": "code",
        "colab": {},
        "outputId": "63253a7f-51c9-4fa7-ba66-d4a09f496b2a"
      },
      "source": [
        "import pandas as pd\n",
        "import quandl\n",
        "import os\n",
        "import sys\n",
        "\n",
        "quandl.ApiConfig.api_key = \"swWCyaT7PznGyDJwoPys\"\n",
        "\n",
        "def get_stock_data(code):\n",
        "    indicator = \"TSE/{}\".format(code)\n",
        "    if os.path.exists(\"{}.csv\".format(indicator)):\n",
        "        data = pd.read_csv(\"{}.csv\".format(indicator))\n",
        "    else:\n",
        "        data = quandl.get(indicator)\n",
        "\n",
        "    return data\n",
        "\n",
        "companies = pd.read_csv(\"TSE/data_j_1_next.csv\")\n",
        "# print(type(companies['コード'][0]))\n",
        "\n",
        "foods = companies[companies['17業種区分']=='情報通信・サービスその他']\n",
        "# foods = companies[companies['17業種コード']==1]\n",
        "#print(foods)\n",
        "#print(len(foods))\n",
        "\n",
        "# sys.exit(1)\n",
        "food_companies = dict()\n",
        "for idx in range(len(foods)):\n",
        "    # print(foods.iloc[idx,:])\n",
        "    # print(foods.iloc[idx, 0])\n",
        "    # data = get_stock_data(foods['コード'][0])\n",
        "    food_companies[foods.iloc[idx,0]] = get_stock_data(foods.iloc[idx,0])\n",
        "\n",
        "# food_companies.keys()\n",
        "\n",
        "px = []\n",
        "import itertools\n",
        "list(food_companies.keys())\n",
        "c = itertools.combinations(list(food_companies.keys()), 2)\n",
        "for cc in c:\n",
        "    # print(cc)\n",
        "    # corr = food_companies[cc[0]]['Close'].rolling(window=30, min_periods=0).corr(food_companies[cc[1]]['Close'])\n",
        "    # corr.plot()\n",
        "    corr = food_companies[cc[0]]['Close'].corr(food_companies[cc[1]]['Close'])\n",
        "    # print(\"{}-{}: {}\".format(cc[0], cc[1], corr))\n",
        "    px.append(corr)\n",
        "    \n",
        "import matplotlib.pyplot as plt\n",
        "plt.hist(px, bins=30)\n",
        "plt.show()"
      ],
      "execution_count": null,
      "outputs": [
        {
          "output_type": "display_data",
          "data": {
            "image/png": "[encoded data removed]",
            "text/plain": [
              "<Figure size 432x288 with 1 Axes>"
            ]
          },
          "metadata": {
            "tags": [],
            "needs_background": "light"
          }
        }
      ]
    },
    {
      "cell_type": "code",
      "metadata": {
        "id": "FrgaXJjvM9wA",
        "colab_type": "code",
        "colab": {},
        "outputId": "16e153d9-6109-43e3-cc42-72868be1c7e5"
      },
      "source": [
        "# 2つの業種の相関\n",
        "import pandas as pd\n",
        "import quandl\n",
        "import os\n",
        "import sys\n",
        "\n",
        "quandl.ApiConfig.api_key = \"swWCyaT7PznGyDJwoPys\"\n",
        "\n",
        "def get_stock_data(code):\n",
        "    indicator = \"TSE/{}\".format(code)\n",
        "    if os.path.exists(\"{}.csv\".format(indicator)):\n",
        "        data = pd.read_csv(\"{}.csv\".format(indicator))\n",
        "    else:\n",
        "        data = quandl.get(indicator)\n",
        "\n",
        "    return data\n",
        "\n",
        "def make_industry(companies, kind):\n",
        "    industry = companies[companies['17業種区分']==kind]\n",
        "    ret = dict()\n",
        "    for idx in range(len(industry)):\n",
        "        # print(foods.iloc[idx,:])\n",
        "        # print(foods.iloc[idx, 0])\n",
        "        # data = get_stock_data(foods['コード'][0])\n",
        "        ret[industry.iloc[idx,0]] = get_stock_data(industry.iloc[idx,0])\n",
        "\n",
        "    return industry, ret\n",
        "\n",
        "companies = pd.read_csv(\"TSE/data_j_1_next.csv\")\n",
        "# print(type(companies['コード'][0]))\n",
        "\n",
        "industry_1, companies_1 = make_industry(companies, '食品')\n",
        "industry_2, companies_2 = make_industry(companies, '情報通信・サービスその他')\n",
        "# foods = companies[companies['17業種コード']==1]\n",
        "#print(foods)\n",
        "#print(len(foods))companies = pd.read_csv(\"TSE/data_j_1_next.csv\")\n",
        "\n",
        "# sys.exit(1)\n",
        "\n",
        "# food_companies.keys()\n",
        "\n",
        "px = []\n",
        "\n",
        "'''\n",
        "import itertools\n",
        "list(food_companies.keys())\n",
        "c = itertools.combinations(list(food_companies.keys()), 2)\n",
        "for cc in c:\n",
        "    # print(cc)\n",
        "    # corr = food_companies[cc[0]]['Close'].rolling(window=30, min_periods=0).corr(food_companies[cc[1]]['Close'])\n",
        "    # corr.plot()\n",
        "    corr = food_companies[cc[0]]['Close'].corr(food_companies[cc[1]]['Close'])\n",
        "    # print(\"{}-{}: {}\".format(cc[0], cc[1], corr))\n",
        "    px.append(corr)\n",
        "'''\n",
        "c = []\n",
        "for ind_1 in industry_1['コード']:\n",
        "    for ind_2 in industry_2['コード']:\n",
        "      c.append((ind_1, ind_2))\n",
        "for cc in c:\n",
        "    # print(cc)\n",
        "    # corr = food_companies[cc[0]]['Close'].rolling(window=30, min_periods=0).corr(food_companies[cc[1]]['Close'])\n",
        "    # corr.plot()\n",
        "    # print(cc)\n",
        "    corr = companies_1[cc[0]]['Close'].corr(companies_2[cc[1]]['Close'])\n",
        "    # print(\"{}-{}: {}\".format(cc[0], cc[1], corr))\n",
        "    px.append(corr)\n",
        "        \n",
        "import matplotlib.pyplot as plt\n",
        "plt.hist(px, bins=30)\n",
        "plt.show()"
      ],
      "execution_count": null,
      "outputs": [
        {
          "output_type": "display_data",
          "data": {
            "image/png": "[encoded data removed]",
            "text/plain": [
              "<Figure size 432x288 with 1 Axes>"
            ]
          },
          "metadata": {
            "tags": [],
            "needs_background": "light"
          }
        }
      ]
    },
    {
      "cell_type": "code",
      "metadata": {
        "id": "yOXNAJenM9wD",
        "colab_type": "code",
        "colab": {}
      },
      "source": [
        ""
      ],
      "execution_count": null,
      "outputs": []
    },
    {
      "cell_type": "code",
      "metadata": {
        "id": "9X-siBdtM9wG",
        "colab_type": "code",
        "colab": {},
        "outputId": "29788400-7689-4a18-94f4-d930a68ca16c"
      },
      "source": [
        "data"
      ],
      "execution_count": null,
      "outputs": [
        {
          "output_type": "execute_result",
          "data": {
            "text/html": [
              "<div>\n",
              "<style scoped>\n",
              "    .dataframe tbody tr th:only-of-type {\n",
              "        vertical-align: middle;\n",
              "    }\n",
              "\n",
              "    .dataframe tbody tr th {\n",
              "        vertical-align: top;\n",
              "    }\n",
              "\n",
              "    .dataframe thead th {\n",
              "        text-align: right;\n",
              "    }\n",
              "</style>\n",
              "<table border=\"1\" class=\"dataframe\">\n",
              "  <thead>\n",
              "    <tr style=\"text-align: right;\">\n",
              "      <th></th>\n",
              "      <th>Date</th>\n",
              "      <th>Open</th>\n",
              "      <th>High</th>\n",
              "      <th>Low</th>\n",
              "      <th>Close</th>\n",
              "      <th>Volume</th>\n",
              "    </tr>\n",
              "  </thead>\n",
              "  <tbody>\n",
              "    <tr>\n",
              "      <th>0</th>\n",
              "      <td>2007-01-04</td>\n",
              "      <td>255.0</td>\n",
              "      <td>256.0</td>\n",
              "      <td>253.0</td>\n",
              "      <td>255.0</td>\n",
              "      <td>165000.0</td>\n",
              "    </tr>\n",
              "    <tr>\n",
              "      <th>1</th>\n",
              "      <td>2007-01-05</td>\n",
              "      <td>255.0</td>\n",
              "      <td>256.0</td>\n",
              "      <td>250.0</td>\n",
              "      <td>250.0</td>\n",
              "      <td>454000.0</td>\n",
              "    </tr>\n",
              "    <tr>\n",
              "      <th>2</th>\n",
              "      <td>2007-01-09</td>\n",
              "      <td>252.0</td>\n",
              "      <td>254.0</td>\n",
              "      <td>251.0</td>\n",
              "      <td>252.0</td>\n",
              "      <td>288000.0</td>\n",
              "    </tr>\n",
              "    <tr>\n",
              "      <th>3</th>\n",
              "      <td>2007-01-10</td>\n",
              "      <td>253.0</td>\n",
              "      <td>253.0</td>\n",
              "      <td>250.0</td>\n",
              "      <td>250.0</td>\n",
              "      <td>278000.0</td>\n",
              "    </tr>\n",
              "    <tr>\n",
              "      <th>4</th>\n",
              "      <td>2007-01-11</td>\n",
              "      <td>251.0</td>\n",
              "      <td>253.0</td>\n",
              "      <td>250.0</td>\n",
              "      <td>250.0</td>\n",
              "      <td>255000.0</td>\n",
              "    </tr>\n",
              "    <tr>\n",
              "      <th>...</th>\n",
              "      <td>...</td>\n",
              "      <td>...</td>\n",
              "      <td>...</td>\n",
              "      <td>...</td>\n",
              "      <td>...</td>\n",
              "      <td>...</td>\n",
              "    </tr>\n",
              "    <tr>\n",
              "      <th>2685</th>\n",
              "      <td>2017-12-18</td>\n",
              "      <td>3990.0</td>\n",
              "      <td>4035.0</td>\n",
              "      <td>3975.0</td>\n",
              "      <td>4025.0</td>\n",
              "      <td>24700.0</td>\n",
              "    </tr>\n",
              "    <tr>\n",
              "      <th>2686</th>\n",
              "      <td>2017-12-19</td>\n",
              "      <td>4040.0</td>\n",
              "      <td>4070.0</td>\n",
              "      <td>3995.0</td>\n",
              "      <td>4065.0</td>\n",
              "      <td>36100.0</td>\n",
              "    </tr>\n",
              "    <tr>\n",
              "      <th>2687</th>\n",
              "      <td>2017-12-20</td>\n",
              "      <td>4040.0</td>\n",
              "      <td>4165.0</td>\n",
              "      <td>4010.0</td>\n",
              "      <td>4130.0</td>\n",
              "      <td>59400.0</td>\n",
              "    </tr>\n",
              "    <tr>\n",
              "      <th>2688</th>\n",
              "      <td>2017-12-21</td>\n",
              "      <td>4100.0</td>\n",
              "      <td>4185.0</td>\n",
              "      <td>4090.0</td>\n",
              "      <td>4175.0</td>\n",
              "      <td>44200.0</td>\n",
              "    </tr>\n",
              "    <tr>\n",
              "      <th>2689</th>\n",
              "      <td>2017-12-22</td>\n",
              "      <td>4190.0</td>\n",
              "      <td>4220.0</td>\n",
              "      <td>4165.0</td>\n",
              "      <td>4175.0</td>\n",
              "      <td>30000.0</td>\n",
              "    </tr>\n",
              "  </tbody>\n",
              "</table>\n",
              "<p>2690 rows × 6 columns</p>\n",
              "</div>"
            ],
            "text/plain": [
              "            Date    Open    High     Low   Close    Volume\n",
              "0     2007-01-04   255.0   256.0   253.0   255.0  165000.0\n",
              "1     2007-01-05   255.0   256.0   250.0   250.0  454000.0\n",
              "2     2007-01-09   252.0   254.0   251.0   252.0  288000.0\n",
              "3     2007-01-10   253.0   253.0   250.0   250.0  278000.0\n",
              "4     2007-01-11   251.0   253.0   250.0   250.0  255000.0\n",
              "...          ...     ...     ...     ...     ...       ...\n",
              "2685  2017-12-18  3990.0  4035.0  3975.0  4025.0   24700.0\n",
              "2686  2017-12-19  4040.0  4070.0  3995.0  4065.0   36100.0\n",
              "2687  2017-12-20  4040.0  4165.0  4010.0  4130.0   59400.0\n",
              "2688  2017-12-21  4100.0  4185.0  4090.0  4175.0   44200.0\n",
              "2689  2017-12-22  4190.0  4220.0  4165.0  4175.0   30000.0\n",
              "\n",
              "[2690 rows x 6 columns]"
            ]
          },
          "metadata": {
            "tags": []
          },
          "execution_count": 20
        }
      ]
    },
    {
      "cell_type": "code",
      "metadata": {
        "id": "bh5eo-z2M9wK",
        "colab_type": "code",
        "colab": {},
        "outputId": "bcccd011-70ab-4f52-87d1-558dc9b46bb2"
      },
      "source": [
        "companies"
      ],
      "execution_count": null,
      "outputs": [
        {
          "output_type": "execute_result",
          "data": {
            "text/html": [
              "<div>\n",
              "<style scoped>\n",
              "    .dataframe tbody tr th:only-of-type {\n",
              "        vertical-align: middle;\n",
              "    }\n",
              "\n",
              "    .dataframe tbody tr th {\n",
              "        vertical-align: top;\n",
              "    }\n",
              "\n",
              "    .dataframe thead th {\n",
              "        text-align: right;\n",
              "    }\n",
              "</style>\n",
              "<table border=\"1\" class=\"dataframe\">\n",
              "  <thead>\n",
              "    <tr style=\"text-align: right;\">\n",
              "      <th></th>\n",
              "      <th>コード</th>\n",
              "      <th>銘柄名</th>\n",
              "      <th>33業種コード</th>\n",
              "      <th>33業種区分</th>\n",
              "      <th>17業種コード</th>\n",
              "      <th>17業種区分</th>\n",
              "    </tr>\n",
              "  </thead>\n",
              "  <tbody>\n",
              "    <tr>\n",
              "      <th>0</th>\n",
              "      <td>1301</td>\n",
              "      <td>極洋</td>\n",
              "      <td>50</td>\n",
              "      <td>水産・農林業</td>\n",
              "      <td>1</td>\n",
              "      <td>食品</td>\n",
              "    </tr>\n",
              "    <tr>\n",
              "      <th>1</th>\n",
              "      <td>1332</td>\n",
              "      <td>日本水産</td>\n",
              "      <td>50</td>\n",
              "      <td>水産・農林業</td>\n",
              "      <td>1</td>\n",
              "      <td>食品</td>\n",
              "    </tr>\n",
              "    <tr>\n",
              "      <th>2</th>\n",
              "      <td>1333</td>\n",
              "      <td>マルハニチロ</td>\n",
              "      <td>50</td>\n",
              "      <td>水産・農林業</td>\n",
              "      <td>1</td>\n",
              "      <td>食品</td>\n",
              "    </tr>\n",
              "    <tr>\n",
              "      <th>3</th>\n",
              "      <td>1352</td>\n",
              "      <td>ホウスイ</td>\n",
              "      <td>6050</td>\n",
              "      <td>卸売業</td>\n",
              "      <td>13</td>\n",
              "      <td>商社・卸売</td>\n",
              "    </tr>\n",
              "    <tr>\n",
              "      <th>4</th>\n",
              "      <td>1376</td>\n",
              "      <td>カネコ種苗</td>\n",
              "      <td>50</td>\n",
              "      <td>水産・農林業</td>\n",
              "      <td>1</td>\n",
              "      <td>食品</td>\n",
              "    </tr>\n",
              "    <tr>\n",
              "      <th>...</th>\n",
              "      <td>...</td>\n",
              "      <td>...</td>\n",
              "      <td>...</td>\n",
              "      <td>...</td>\n",
              "      <td>...</td>\n",
              "      <td>...</td>\n",
              "    </tr>\n",
              "    <tr>\n",
              "      <th>2121</th>\n",
              "      <td>9991</td>\n",
              "      <td>ジェコス</td>\n",
              "      <td>6050</td>\n",
              "      <td>卸売業</td>\n",
              "      <td>13</td>\n",
              "      <td>商社・卸売</td>\n",
              "    </tr>\n",
              "    <tr>\n",
              "      <th>2122</th>\n",
              "      <td>9993</td>\n",
              "      <td>ヤマザワ</td>\n",
              "      <td>6100</td>\n",
              "      <td>小売業</td>\n",
              "      <td>14</td>\n",
              "      <td>小売</td>\n",
              "    </tr>\n",
              "    <tr>\n",
              "      <th>2123</th>\n",
              "      <td>9994</td>\n",
              "      <td>やまや</td>\n",
              "      <td>6100</td>\n",
              "      <td>小売業</td>\n",
              "      <td>14</td>\n",
              "      <td>小売</td>\n",
              "    </tr>\n",
              "    <tr>\n",
              "      <th>2124</th>\n",
              "      <td>9995</td>\n",
              "      <td>グローセル</td>\n",
              "      <td>6050</td>\n",
              "      <td>卸売業</td>\n",
              "      <td>13</td>\n",
              "      <td>商社・卸売</td>\n",
              "    </tr>\n",
              "    <tr>\n",
              "      <th>2125</th>\n",
              "      <td>9997</td>\n",
              "      <td>ベルーナ</td>\n",
              "      <td>6100</td>\n",
              "      <td>小売業</td>\n",
              "      <td>14</td>\n",
              "      <td>小売</td>\n",
              "    </tr>\n",
              "  </tbody>\n",
              "</table>\n",
              "<p>2126 rows × 6 columns</p>\n",
              "</div>"
            ],
            "text/plain": [
              "       コード     銘柄名  33業種コード  33業種区分  17業種コード  17業種区分\n",
              "0     1301      極洋       50  水産・農林業        1     食品 \n",
              "1     1332    日本水産       50  水産・農林業        1     食品 \n",
              "2     1333  マルハニチロ       50  水産・農林業        1     食品 \n",
              "3     1352    ホウスイ     6050     卸売業       13  商社・卸売 \n",
              "4     1376   カネコ種苗       50  水産・農林業        1     食品 \n",
              "...    ...     ...      ...     ...      ...     ...\n",
              "2121  9991    ジェコス     6050     卸売業       13  商社・卸売 \n",
              "2122  9993    ヤマザワ     6100     小売業       14     小売 \n",
              "2123  9994     やまや     6100     小売業       14     小売 \n",
              "2124  9995   グローセル     6050     卸売業       13  商社・卸売 \n",
              "2125  9997    ベルーナ     6100     小売業       14     小売 \n",
              "\n",
              "[2126 rows x 6 columns]"
            ]
          },
          "metadata": {
            "tags": []
          },
          "execution_count": 13
        }
      ]
    },
    {
      "cell_type": "code",
      "metadata": {
        "id": "-esv3vLLM9wO",
        "colab_type": "code",
        "colab": {}
      },
      "source": [
        ""
      ],
      "execution_count": null,
      "outputs": []
    }
  ]
}