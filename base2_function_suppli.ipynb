{
  "nbformat": 4,
  "nbformat_minor": 0,
  "metadata": {
    "colab": {
      "name": "base2_function_suppli.ipynb",
      "provenance": [],
      "authorship_tag": "ABX9TyNIVbEWqE/qfy4te8s2EMVl",
      "include_colab_link": true
    },
    "kernelspec": {
      "name": "python3",
      "display_name": "Python 3"
    }
  },
  "cells": [
    {
      "cell_type": "markdown",
      "metadata": {
        "id": "view-in-github",
        "colab_type": "text"
      },
      "source": [
        "<a href=\"https://colab.research.google.com/github/ymuto0302/base2_2020/blob/master/base2_function_suppli.ipynb\" target=\"_parent\"><img src=\"https://colab.research.google.com/assets/colab-badge.svg\" alt=\"Open In Colab\"/></a>"
      ]
    },
    {
      "cell_type": "markdown",
      "metadata": {
        "id": "mBqwDB-3X9SD",
        "colab_type": "text"
      },
      "source": [
        "\n",
        "## 関数の実装例\n",
        "動画では「関数の組み立て方」「引数・返し値の扱い方」といった形式的な内容に留まっています。\n",
        "\n",
        "以下では，さらにバージョンアップした関数の実装例を示します。こんな形で関数を書けるのね，という点に注目ください。\n",
        "\n"
      ]
    },
    {
      "cell_type": "code",
      "metadata": {
        "id": "F01HP1VgX4so",
        "colab_type": "code",
        "colab": {
          "base_uri": "https://localhost:8080/",
          "height": 71
        },
        "outputId": "1913bebb-5529-4c80-a804-1f42add903aa"
      },
      "source": [
        "'''\n",
        "関数は何度でも呼び出せる\n",
        "'''\n",
        "def add_three(x):\n",
        "    return x + 3\n",
        "\n",
        "print(add_three(2))\n",
        "print(add_three(5))\n",
        "print(add_three(8))"
      ],
      "execution_count": 1,
      "outputs": [
        {
          "output_type": "stream",
          "text": [
            "5\n",
            "8\n",
            "11\n"
          ],
          "name": "stdout"
        }
      ]
    },
    {
      "cell_type": "code",
      "metadata": {
        "id": "5ZME1zrvYX79",
        "colab_type": "code",
        "colab": {
          "base_uri": "https://localhost:8080/",
          "height": 53
        },
        "outputId": "9d0185b8-158e-4e20-a8fa-dee003ade40d"
      },
      "source": [
        "'''\n",
        "複数個の関数を定義できる\n",
        "'''\n",
        "# リストから最小値を見つける\n",
        "def find_minimum(nums):\n",
        "    min = nums[0]\n",
        "    for n in nums[1:]:\n",
        "        if n < min:\n",
        "            min = n\n",
        "    return min\n",
        "\n",
        "# リストから最大値を見つける\n",
        "def find_maximum(nums):\n",
        "    max = nums[0]\n",
        "    for n in nums[1:]:\n",
        "        if n > max:\n",
        "            max = n\n",
        "    return max\n",
        "\n",
        "x = [9, 6, 13, 5, 7, 24, 15]\n",
        "print(\"最小値：{}\".format(find_minimum(x)))\n",
        "print(\"最大値：{}\".format(find_maximum(x)))\n"
      ],
      "execution_count": 2,
      "outputs": [
        {
          "output_type": "stream",
          "text": [
            "最小値：5\n",
            "最大値：24\n"
          ],
          "name": "stdout"
        }
      ]
    },
    {
      "cell_type": "code",
      "metadata": {
        "id": "VrP8fXXjYYNt",
        "colab_type": "code",
        "colab": {
          "base_uri": "https://localhost:8080/",
          "height": 71
        },
        "outputId": "544977fa-c243-4282-c84b-935c52596b23"
      },
      "source": [
        "'''\n",
        "関数からさらに別の関数を呼び出せる\n",
        "'''\n",
        "def greeting(name):\n",
        "    return 'hello! ' + name\n",
        "\n",
        "def message(persons):\n",
        "    for person in persons:\n",
        "        print(greeting(person))\n",
        "\n",
        "persons = ['Sato', 'Tanaka', 'Abe']\n",
        "message(persons)"
      ],
      "execution_count": 3,
      "outputs": [
        {
          "output_type": "stream",
          "text": [
            "hello! Sato\n",
            "hello! Tanaka\n",
            "hello! Abe\n"
          ],
          "name": "stdout"
        }
      ]
    }
  ]
}