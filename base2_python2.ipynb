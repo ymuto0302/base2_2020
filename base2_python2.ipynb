{
  "nbformat": 4,
  "nbformat_minor": 0,
  "metadata": {
    "celltoolbar": "Slideshow",
    "kernelspec": {
      "display_name": "Python 3",
      "language": "python",
      "name": "python3"
    },
    "language_info": {
      "codemirror_mode": {
        "name": "ipython",
        "version": 3
      },
      "file_extension": ".py",
      "mimetype": "text/x-python",
      "name": "python",
      "nbconvert_exporter": "python",
      "pygments_lexer": "ipython3",
      "version": "3.6.5"
    },
    "colab": {
      "name": "base2_python2.ipynb",
      "provenance": [],
      "collapsed_sections": [],
      "include_colab_link": true
    }
  },
  "cells": [
    {
      "cell_type": "markdown",
      "metadata": {
        "id": "view-in-github",
        "colab_type": "text"
      },
      "source": [
        "<a href=\"https://colab.research.google.com/github/ymuto0302/base2_2020/blob/master/base2_python2.ipynb\" target=\"_parent\"><img src=\"https://colab.research.google.com/assets/colab-badge.svg\" alt=\"Open In Colab\"/></a>"
      ]
    },
    {
      "cell_type": "markdown",
      "metadata": {
        "colab_type": "text",
        "id": "IOTzxXKIWtz4"
      },
      "source": [
        "# 2. 条件分岐と繰り返し\n",
        "条件分岐を実現する if 文，繰り返し（ループ）を実現する for文や while文を取り上げる。"
      ]
    },
    {
      "cell_type": "markdown",
      "metadata": {
        "id": "RULLGR5wIRu3",
        "colab_type": "text"
      },
      "source": [
        "## 2.1. 条件分岐\n",
        "例えば「変数 a の値は７に等しいか？」を検証したい場合，a == 7 と記述する。\n",
        "この演算の結果は**真偽値 (True か False)**のいずれかである。\n",
        "\n",
        "このように True または False を値としてもつデータ型を bool 型と呼ぶ。\n",
        "\n",
        "下記の例により真偽値（bool 型）のイメージを掴もう。"
      ]
    },
    {
      "cell_type": "code",
      "metadata": {
        "id": "WagNzJM6IRu3",
        "colab_type": "code",
        "outputId": "89945d3a-f494-4867-9bd6-f54fe25a8f65",
        "colab": {}
      },
      "source": [
        "print(10 > 2) # 「10は 2より大きい」は真である\n",
        "print(5 > 10) # 「5は 10より大きい」は偽である\n",
        "\n",
        "a = 7\n",
        "print(a == 7) # 「aの値は 7に等しい」は真である"
      ],
      "execution_count": 0,
      "outputs": [
        {
          "output_type": "stream",
          "text": [
            "True\n",
            "False\n",
            "True\n"
          ],
          "name": "stdout"
        }
      ]
    },
    {
      "cell_type": "markdown",
      "metadata": {
        "id": "GkVpQDHuIRu6",
        "colab_type": "text"
      },
      "source": [
        "#### if 文による処理の切り分け\n",
        "if 文の書式を以下に示す。\n",
        "\n",
        "    if 条件式:\n",
        "        処理1\n",
        "        処理2\n",
        "        ・・・\n",
        "        処理n\n",
        "\n",
        "処理1から処理nまでの固まりを(if)ブロックと呼ぶ。\n",
        "条件式が真の場合，ブロックの中身が実行される。"
      ]
    },
    {
      "cell_type": "markdown",
      "metadata": {
        "id": "PU0tw6zhIRu7",
        "colab_type": "text"
      },
      "source": [
        "「条件式が真の場合はこれ」，「偽の場合はあれ」と２択にしたい場合，if-else 文を用いる\n",
        "\n",
        "```\n",
        "  if 条件式:\n",
        "      処理1-1\n",
        "      ・・・\n",
        "      処理1-n\n",
        "  else:\n",
        "      処理2-1\n",
        "      ・・・\n",
        "      処理2-n\n",
        "```"
      ]
    },
    {
      "cell_type": "markdown",
      "metadata": {
        "id": "LeqWOkW8IRu7",
        "colab_type": "text"
      },
      "source": [
        "３択以上にしたい場合，if-elif-else 文を用いる。ここで elif は \"else if\" の略である。\n",
        "\n",
        "```\n",
        "if 条件式1:\n",
        "    処理1-1\n",
        "    ・・・\n",
        "    処理1-n\n",
        "elif 条件式2:\n",
        "    処理2-1\n",
        "    ・・・\n",
        "    処理2-n\n",
        "else:\n",
        "    処理3-1\n",
        "    ・・・\n",
        "    処理3-n\n",
        "```"
      ]
    },
    {
      "cell_type": "markdown",
      "metadata": {
        "id": "FwaXX649IRu8",
        "colab_type": "text"
      },
      "source": [
        "#### 条件式の組み合わせ：論理演算子 and / or / not \n",
        "- ２つの条件が同時に成り立つ場合を検証したければ and 演算子\n",
        "- ２つの条件の少なくとも一方が成り立つ場合を検証したければ or 演算子\n",
        "- 条件を否定したい場合，not 演算子"
      ]
    },
    {
      "cell_type": "code",
      "metadata": {
        "id": "Ck45VIbbIRu8",
        "colab_type": "code",
        "outputId": "c0ed8681-35a6-4986-8366-d9bc51cc61d7",
        "colab": {}
      },
      "source": [
        "# if-else の利用例\n",
        "score = 70\n",
        "\n",
        "if score >= 60:\n",
        "    print(\"合格です\")\n",
        "else:\n",
        "    print(\"不合格です\")"
      ],
      "execution_count": 0,
      "outputs": [
        {
          "output_type": "stream",
          "text": [
            "合格です\n"
          ],
          "name": "stdout"
        }
      ]
    },
    {
      "cell_type": "code",
      "metadata": {
        "id": "cHYTWJS9IRvA",
        "colab_type": "code",
        "outputId": "03c7934c-ac78-4dc7-c7eb-727a85f8fb53",
        "colab": {}
      },
      "source": [
        "# if-elif-else の利用例：年齢に応じたバス料金表示\n",
        "# 幼児は無料，小学生は半額，老人は無料\n",
        "age = 28\n",
        "\n",
        "if age < 6:\n",
        "    print(\"無料です\")\n",
        "elif 6 <= age and age < 13:\n",
        "    print(\"200円です\")\n",
        "elif 13 <= age and age < 65:\n",
        "    print(\"400円です\")\n",
        "else:\n",
        "    print(\"無料です\")"
      ],
      "execution_count": 0,
      "outputs": [
        {
          "output_type": "stream",
          "text": [
            "400円です\n"
          ],
          "name": "stdout"
        }
      ]
    },
    {
      "cell_type": "code",
      "metadata": {
        "id": "KBlJNHb7IRvD",
        "colab_type": "code",
        "outputId": "3feafadf-228b-47bf-e3b5-36e5ae993e14",
        "colab": {}
      },
      "source": [
        "# 論理演算子の利用例：閏年の判定\n",
        "# ある年が閏年であるためには４で割り切れる。\n",
        "# ただし，100で割り切れる年は閏年でない\n",
        "# ただし，400で割り切れる年は閏年である\n",
        "\n",
        "year = 2014\n",
        "if (year % 4 == 0 and year % 100 != 0) or year % 400 == 0:\n",
        "    print(\"{}年は閏年である\".format(year))\n",
        "else:\n",
        "    print(\"{}年は閏年でない\".format(year))"
      ],
      "execution_count": 0,
      "outputs": [
        {
          "output_type": "stream",
          "text": [
            "2014年は閏年でない\n"
          ],
          "name": "stdout"
        }
      ]
    },
    {
      "cell_type": "code",
      "metadata": {
        "id": "tpZbpWJAIRvG",
        "colab_type": "code",
        "outputId": "efe7f5e8-5c3b-42b0-dbe7-b35bbff1eaa3",
        "colab": {}
      },
      "source": [
        "# 論理演算子の利用例：月から季節への変換\n",
        "month = 3\n",
        "\n",
        "if month == 12 or month == 1 or month == 2:\n",
        "    print(\"冬\")\n",
        "elif 3 <= month and month <= 5:\n",
        "    print(\"春\")\n",
        "elif 6 <= month and month <= 8:\n",
        "    print(\"夏\")\n",
        "elif 9 <= month and month <= 11:\n",
        "    print(\"秋\")\n",
        "else:\n",
        "    print(\"月の値が不正です\")"
      ],
      "execution_count": 0,
      "outputs": [
        {
          "output_type": "stream",
          "text": [
            "春\n"
          ],
          "name": "stdout"
        }
      ]
    },
    {
      "cell_type": "markdown",
      "metadata": {
        "id": "GzkqTkiQIRvJ",
        "colab_type": "text"
      },
      "source": [
        "#### if 文のネスト\n",
        "if文のブロック内にif文を設定できる"
      ]
    },
    {
      "cell_type": "code",
      "metadata": {
        "id": "88bWQwzHIRvK",
        "colab_type": "code",
        "outputId": "a87c1e83-fcf7-4c56-8796-2524895298e3",
        "colab": {
          "base_uri": "https://localhost:8080/",
          "height": 53
        }
      },
      "source": [
        "# if文のネストの例\n",
        "age = int(input(\"年齢を入力：\"))\n",
        "\n",
        "if age >= 0:\n",
        "    if age < 6:\n",
        "        print(\"無料です\")\n",
        "    elif 6 <= age and age < 13:\n",
        "        print(\"200円です\")\n",
        "    elif 13 <= age and age < 65:\n",
        "        print(\"400円です\")\n",
        "    else:\n",
        "        print(\"無料です\")\n",
        "else:\n",
        "    print(\"入力できる値はゼロ以上です\")"
      ],
      "execution_count": 0,
      "outputs": [
        {
          "output_type": "stream",
          "text": [
            "年齢を入力：-3\n",
            "入力できる値はゼロ以上です\n"
          ],
          "name": "stdout"
        }
      ]
    },
    {
      "cell_type": "markdown",
      "metadata": {
        "id": "m7g1rHoyIRvN",
        "colab_type": "text"
      },
      "source": [
        "#### リスト内に特定の要素が含まれるか，検証する\n",
        "リスト内に特定の要素が含まれるか否かを判定する場合，if文と in演算子を組み合わせる。"
      ]
    },
    {
      "cell_type": "code",
      "metadata": {
        "id": "TwFYIXIpIRvN",
        "colab_type": "code",
        "outputId": "3067bb7a-8924-4901-8402-e5841fa547e8",
        "colab": {}
      },
      "source": [
        "seasons = [\"春\", \"夏\", \"秋\", \"冬\"]\n",
        "\n",
        "season = \"春\"\n",
        "if season in seasons:\n",
        "    print(\"{}:リストに含まれる\".format(season))\n",
        "else:\n",
        "    print(\"{}:リストに含まれない\".format(season))\n",
        "    \n",
        "season = \"山\"\n",
        "if season in seasons:\n",
        "    print(\"{}:リストに含まれる\".format(season))\n",
        "else:\n",
        "    print(\"{}:リストに含まれない\".format(season))"
      ],
      "execution_count": 0,
      "outputs": [
        {
          "output_type": "stream",
          "text": [
            "春:リストに含まれる\n",
            "山:リストに含まれない\n"
          ],
          "name": "stdout"
        }
      ]
    },
    {
      "cell_type": "markdown",
      "metadata": {
        "id": "c_jbwBHIIRvS",
        "colab_type": "text"
      },
      "source": [
        "## 2.2. 処理の繰り返し\n",
        "処理の繰り返し（ループ）を実現する方法は for文と while文の２種類がある。"
      ]
    },
    {
      "cell_type": "markdown",
      "metadata": {
        "id": "bI8BOLuBIRvT",
        "colab_type": "text"
      },
      "source": [
        "#### for文を用いた繰り返し\n",
        "形式は以下のとおり：\n",
        "```\n",
        "for 変数 in イテレート可能なオブジェクト:\n",
        "    処理1\n",
        "    処理2\n",
        "    ・・・\n",
        "```\n",
        "ここで「イテレート可能なオブジェクト」としてリストや range() 関数などがある。"
      ]
    },
    {
      "cell_type": "code",
      "metadata": {
        "id": "rCJgC6wWIRvU",
        "colab_type": "code",
        "outputId": "07adeba0-7554-46b4-8485-3b5f400e2a5b",
        "colab": {}
      },
      "source": [
        "# for 文はリストから順番に要素を取り出す役割を果たす\n",
        "days = [\"日曜日\", \"月曜日\", \"火曜日\", \"水曜日\", \"木曜日\", \"金曜日\", \"土曜日\"]\n",
        "for day in days:\n",
        "    print(day)"
      ],
      "execution_count": 0,
      "outputs": [
        {
          "output_type": "stream",
          "text": [
            "日曜日\n",
            "月曜日\n",
            "火曜日\n",
            "水曜日\n",
            "木曜日\n",
            "金曜日\n",
            "土曜日\n"
          ],
          "name": "stdout"
        }
      ]
    },
    {
      "cell_type": "code",
      "metadata": {
        "id": "IhwqT75nIRvX",
        "colab_type": "code",
        "outputId": "73bcf23d-332c-4347-da7a-1b1a2a1d5a7c",
        "colab": {}
      },
      "source": [
        "# range()関数を用いた for 文 (1)\n",
        "for counter in range(5):\n",
        "    print(counter)"
      ],
      "execution_count": 0,
      "outputs": [
        {
          "output_type": "stream",
          "text": [
            "0\n",
            "1\n",
            "2\n",
            "3\n",
            "4\n"
          ],
          "name": "stdout"
        }
      ]
    },
    {
      "cell_type": "code",
      "metadata": {
        "id": "Bf8Z6QsAIRvZ",
        "colab_type": "code",
        "outputId": "1630c456-54b8-4a4e-ebea-36c03e967bb4",
        "colab": {
          "base_uri": "https://localhost:8080/",
          "height": 71
        }
      },
      "source": [
        "# range()関数を用いた for 文 (その2)\n",
        "# 増分(ステップ数)を設定する\n",
        "for counter in range(0, 5, 2):\n",
        "    print(counter)"
      ],
      "execution_count": 0,
      "outputs": [
        {
          "output_type": "stream",
          "text": [
            "0\n",
            "2\n",
            "4\n"
          ],
          "name": "stdout"
        }
      ]
    },
    {
      "cell_type": "code",
      "metadata": {
        "id": "vW6aBjqcIRvd",
        "colab_type": "code",
        "outputId": "05877bf4-4201-4be2-90fb-671e976d7134",
        "colab": {}
      },
      "source": [
        "# for文を用いた整数の総和\n",
        "# 1 から 10 までの和\n",
        "sum = 0\n",
        "for num in range(1, 11, 1):\n",
        "    sum += num\n",
        "print(sum)"
      ],
      "execution_count": 0,
      "outputs": [
        {
          "output_type": "stream",
          "text": [
            "55\n"
          ],
          "name": "stdout"
        }
      ]
    },
    {
      "cell_type": "code",
      "metadata": {
        "id": "YanpDcGQIRvf",
        "colab_type": "code",
        "outputId": "4f635c03-3ed0-4fa7-e389-9b15d59369a6",
        "colab": {}
      },
      "source": [
        "# range()関数を利用して自動的にリストを作る。\n",
        "# リスト[0, 10, 20, ・・・, 100] を作る\n",
        "nums = list(range(10, 101, 10))\n",
        "print(nums)"
      ],
      "execution_count": 0,
      "outputs": [
        {
          "output_type": "stream",
          "text": [
            "[10, 20, 30, 40, 50, 60, 70, 80, 90, 100]\n"
          ],
          "name": "stdout"
        }
      ]
    },
    {
      "cell_type": "markdown",
      "metadata": {
        "id": "K_L6FANnIRvi",
        "colab_type": "text"
      },
      "source": [
        "#### while文を用いたループ\n",
        "形式は以下のとおり：\n",
        "```\n",
        "while 条件:\n",
        "    処理1\n",
        "    処理2\n",
        "    ・・・\n",
        "```"
      ]
    },
    {
      "cell_type": "code",
      "metadata": {
        "id": "0_ZrdIImIRvj",
        "colab_type": "code",
        "outputId": "1da6a89b-93dd-4d26-fa8c-06977c8858a5",
        "colab": {}
      },
      "source": [
        "# 1 から 10 までの和を while 文を用いて実現する\n",
        "end = 10\n",
        "\n",
        "sum = 0\n",
        "counter = 1\n",
        "while counter <= end:\n",
        "    sum += counter\n",
        "    counter += 1\n",
        "print(sum)"
      ],
      "execution_count": 0,
      "outputs": [
        {
          "output_type": "stream",
          "text": [
            "55\n"
          ],
          "name": "stdout"
        }
      ]
    },
    {
      "cell_type": "markdown",
      "metadata": {
        "id": "CyWY3vQIIRvm",
        "colab_type": "text"
      },
      "source": [
        "## 2.3. ループの活用\n",
        "#### break文を用いたループの中断\n",
        "一定の条件を満たした際にループを途中で中断したい場合，break文を用いる。\n",
        "\n",
        "形式は以下のとおり：\n",
        "```\n",
        "for 変数 in イテレート可能なオブジェクト:\n",
        "  処理1\n",
        "  処理2\n",
        "  ・・・\n",
        "  if 条件式:\n",
        "      break\n",
        "  ・・・\n",
        "  ```"
      ]
    },
    {
      "cell_type": "code",
      "metadata": {
        "id": "Mma55_pPIRvm",
        "colab_type": "code",
        "outputId": "3cafc6a2-ed52-4f7c-bd17-086a635f9f47",
        "colab": {
          "base_uri": "https://localhost:8080/",
          "height": 71
        }
      },
      "source": [
        "# for文中での break 文の利用\n",
        "words = [\"プログラミング\", \"会計\", \"データベース\", \"終了\", \"システム設計\", \"数学\"]\n",
        "\n",
        "for word in words:\n",
        "    if word == \"終了\":\n",
        "        break\n",
        "    print(word)"
      ],
      "execution_count": 0,
      "outputs": [
        {
          "output_type": "stream",
          "text": [
            "プログラミング\n",
            "会計\n",
            "データベース\n"
          ],
          "name": "stdout"
        }
      ]
    },
    {
      "cell_type": "code",
      "metadata": {
        "id": "iTHUDUWzIRvp",
        "colab_type": "code",
        "outputId": "1158235f-e5eb-4833-aaca-50d2c8f0a496",
        "colab": {
          "base_uri": "https://localhost:8080/",
          "height": 71
        }
      },
      "source": [
        "# while文中での break 文の利用\n",
        "words = [\"プログラミング\", \"会計\", \"データベース\", \"終了\", \"システム設計\", \"数学\"]\n",
        "\n",
        "counter = 0\n",
        "while True: # 無限ループ\n",
        "    if words[counter] == \"終了\":\n",
        "        break\n",
        "    print(words[counter])\n",
        "    counter += 1"
      ],
      "execution_count": 0,
      "outputs": [
        {
          "output_type": "stream",
          "text": [
            "プログラミング\n",
            "会計\n",
            "データベース\n"
          ],
          "name": "stdout"
        }
      ]
    },
    {
      "cell_type": "markdown",
      "metadata": {
        "id": "n5JU1xtKIRvs",
        "colab_type": "text"
      },
      "source": [
        "#### continue文を用いてループの先頭へ戻る\n",
        "一定の条件を満たした際にループを中断し，ブロックの先頭へ戻りたい場合，coninue文を用いる。\n",
        "\n",
        "形式は以下のとおり：\n",
        "```\n",
        "for 変数 in イテレート可能なオブジェクト:\n",
        "    処理1\n",
        "    処理2\n",
        "    ・・・\n",
        "    if 条件式:\n",
        "        continue\n",
        "    ・・・\n",
        "```"
      ]
    },
    {
      "cell_type": "code",
      "metadata": {
        "id": "Yzi9KoEjIRvt",
        "colab_type": "code",
        "outputId": "d90b314c-47e2-4a96-d2f8-ceda628cc330",
        "colab": {
          "base_uri": "https://localhost:8080/",
          "height": 107
        }
      },
      "source": [
        "# for文中での continue 文の利用\n",
        "words = [\"プログラミング\", \"会計\", \"データベース\", \"NG\", \"システム設計\", \"数学\"]\n",
        "\n",
        "for word in words:\n",
        "    if word == \"NG\":\n",
        "        continue\n",
        "    print(word)"
      ],
      "execution_count": 0,
      "outputs": [
        {
          "output_type": "stream",
          "text": [
            "プログラミング\n",
            "会計\n",
            "データベース\n",
            "システム設計\n",
            "数学\n"
          ],
          "name": "stdout"
        }
      ]
    }
  ]
}