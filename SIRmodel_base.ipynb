{
  "nbformat": 4,
  "nbformat_minor": 0,
  "metadata": {
    "kernelspec": {
      "display_name": "Python 3",
      "language": "python",
      "name": "python3"
    },
    "language_info": {
      "codemirror_mode": {
        "name": "ipython",
        "version": 3
      },
      "file_extension": ".py",
      "mimetype": "text/x-python",
      "name": "python",
      "nbconvert_exporter": "python",
      "pygments_lexer": "ipython3",
      "version": "3.8.5"
    },
    "colab": {
      "name": "SIRmodel_base.ipynb",
      "provenance": [],
      "include_colab_link": true
    }
  },
  "cells": [
    {
      "cell_type": "markdown",
      "metadata": {
        "id": "view-in-github",
        "colab_type": "text"
      },
      "source": [
        "<a href=\"https://colab.research.google.com/github/ymuto0302/base2_2020/blob/master/SIRmodel_base.ipynb\" target=\"_parent\"><img src=\"https://colab.research.google.com/assets/colab-badge.svg\" alt=\"Open In Colab\"/></a>"
      ]
    },
    {
      "cell_type": "markdown",
      "metadata": {
        "id": "lRz4S-568oc8"
      },
      "source": [
        "# SIRモデル (ベースとなるコード)\n",
        "SIR(Susceptible, Infectious, or Recovered)モデル: 感染症の拡大を予測する（伝統的な）モデル"
      ]
    },
    {
      "cell_type": "markdown",
      "metadata": {
        "id": "E8mClU3l8odI"
      },
      "source": [
        "### MAS の仕様\n",
        "- 最初に，一定数のエージェントを「感染」状態とする\n",
        "- エージェントは空間内をランダムに移動し，接触した（＝同じセルに属した）場合に感染するものとする\n",
        "- 感染後，一定時間が経過すると回復するものとする"
      ]
    },
    {
      "cell_type": "markdown",
      "metadata": {
        "id": "Zxgcbt9i8w4U"
      },
      "source": [
        "### 準備：mesa のインストール"
      ]
    },
    {
      "cell_type": "code",
      "metadata": {
        "colab": {
          "base_uri": "https://localhost:8080/"
        },
        "id": "cckz3pyA81Hd",
        "outputId": "d46a67f2-c4ca-4274-c0fd-dcd4695df158"
      },
      "source": [
        "!pip install mesa"
      ],
      "execution_count": 2,
      "outputs": [
        {
          "output_type": "stream",
          "text": [
            "Collecting mesa\n",
            "\u001b[?25l  Downloading https://files.pythonhosted.org/packages/2d/71/b5a5f8dd3f3924ef50889bfad90aa5b13f87198fe4ed5a297b27ed04c238/Mesa-0.8.8.1-py3-none-any.whl (667kB)\n",
            "\u001b[K     |████████████████████████████████| 675kB 4.0MB/s \n",
            "\u001b[?25hCollecting cookiecutter\n",
            "  Downloading https://files.pythonhosted.org/packages/95/83/83ebf950ec99b02c61719ccb116462844ba2e873df7c4d40afc962494312/cookiecutter-1.7.2-py2.py3-none-any.whl\n",
            "Requirement already satisfied: pandas in /usr/local/lib/python3.6/dist-packages (from mesa) (1.1.5)\n",
            "Requirement already satisfied: click in /usr/local/lib/python3.6/dist-packages (from mesa) (7.1.2)\n",
            "Requirement already satisfied: numpy in /usr/local/lib/python3.6/dist-packages (from mesa) (1.19.4)\n",
            "Requirement already satisfied: tqdm in /usr/local/lib/python3.6/dist-packages (from mesa) (4.41.1)\n",
            "Requirement already satisfied: networkx in /usr/local/lib/python3.6/dist-packages (from mesa) (2.5)\n",
            "Requirement already satisfied: tornado in /usr/local/lib/python3.6/dist-packages (from mesa) (5.1.1)\n",
            "Requirement already satisfied: Jinja2<3.0.0 in /usr/local/lib/python3.6/dist-packages (from cookiecutter->mesa) (2.11.2)\n",
            "Collecting jinja2-time>=0.2.0\n",
            "  Downloading https://files.pythonhosted.org/packages/6a/a1/d44fa38306ffa34a7e1af09632b158e13ec89670ce491f8a15af3ebcb4e4/jinja2_time-0.2.0-py2.py3-none-any.whl\n",
            "Requirement already satisfied: python-slugify>=4.0.0 in /usr/local/lib/python3.6/dist-packages (from cookiecutter->mesa) (4.0.1)\n",
            "Requirement already satisfied: six>=1.10 in /usr/local/lib/python3.6/dist-packages (from cookiecutter->mesa) (1.15.0)\n",
            "Collecting poyo>=0.5.0\n",
            "  Downloading https://files.pythonhosted.org/packages/42/50/0b0820601bde2eda403f47b9a4a1f270098ed0dd4c00c443d883164bdccc/poyo-0.5.0-py2.py3-none-any.whl\n",
            "Requirement already satisfied: MarkupSafe<2.0.0 in /usr/local/lib/python3.6/dist-packages (from cookiecutter->mesa) (1.1.1)\n",
            "Collecting binaryornot>=0.4.4\n",
            "  Downloading https://files.pythonhosted.org/packages/24/7e/f7b6f453e6481d1e233540262ccbfcf89adcd43606f44a028d7f5fae5eb2/binaryornot-0.4.4-py2.py3-none-any.whl\n",
            "Requirement already satisfied: requests>=2.23.0 in /usr/local/lib/python3.6/dist-packages (from cookiecutter->mesa) (2.23.0)\n",
            "Requirement already satisfied: pytz>=2017.2 in /usr/local/lib/python3.6/dist-packages (from pandas->mesa) (2018.9)\n",
            "Requirement already satisfied: python-dateutil>=2.7.3 in /usr/local/lib/python3.6/dist-packages (from pandas->mesa) (2.8.1)\n",
            "Requirement already satisfied: decorator>=4.3.0 in /usr/local/lib/python3.6/dist-packages (from networkx->mesa) (4.4.2)\n",
            "Collecting arrow\n",
            "\u001b[?25l  Downloading https://files.pythonhosted.org/packages/ca/bc/ebc1afb3c54377e128a01024c006f983d03ee124bc52392b78ba98c421b8/arrow-0.17.0-py2.py3-none-any.whl (50kB)\n",
            "\u001b[K     |████████████████████████████████| 51kB 4.8MB/s \n",
            "\u001b[?25hRequirement already satisfied: text-unidecode>=1.3 in /usr/local/lib/python3.6/dist-packages (from python-slugify>=4.0.0->cookiecutter->mesa) (1.3)\n",
            "Requirement already satisfied: chardet>=3.0.2 in /usr/local/lib/python3.6/dist-packages (from binaryornot>=0.4.4->cookiecutter->mesa) (3.0.4)\n",
            "Requirement already satisfied: certifi>=2017.4.17 in /usr/local/lib/python3.6/dist-packages (from requests>=2.23.0->cookiecutter->mesa) (2020.12.5)\n",
            "Requirement already satisfied: urllib3!=1.25.0,!=1.25.1,<1.26,>=1.21.1 in /usr/local/lib/python3.6/dist-packages (from requests>=2.23.0->cookiecutter->mesa) (1.24.3)\n",
            "Requirement already satisfied: idna<3,>=2.5 in /usr/local/lib/python3.6/dist-packages (from requests>=2.23.0->cookiecutter->mesa) (2.10)\n",
            "Installing collected packages: arrow, jinja2-time, poyo, binaryornot, cookiecutter, mesa\n",
            "Successfully installed arrow-0.17.0 binaryornot-0.4.4 cookiecutter-1.7.2 jinja2-time-0.2.0 mesa-0.8.8.1 poyo-0.5.0\n"
          ],
          "name": "stdout"
        }
      ]
    },
    {
      "cell_type": "markdown",
      "metadata": {
        "id": "48AqRzhP8odJ"
      },
      "source": [
        "### コード"
      ]
    },
    {
      "cell_type": "code",
      "metadata": {
        "id": "CFtSt1iv8odK"
      },
      "source": [
        "# 必要なクラスのインポート\n",
        "from mesa import Agent, Model\n",
        "from mesa.time import RandomActivation\n",
        "from mesa.space import MultiGrid\n",
        "from mesa.datacollection import DataCollector\n",
        "from enum import IntEnum\n",
        "\n",
        "# 状態の定義\n",
        "class State(IntEnum):\n",
        "    SUSCEPTIBLE = 0 # 健康(影響を受けやすい)\n",
        "    INFECTED = 1 # 感染した\n",
        "    RECOVERED = 2 # 回復(耐性を有する)\n",
        "\n",
        "class HumanAgent(Agent):\n",
        "    # エージェントの初期化\n",
        "    # unique_id : 個々のエージェントを区別するための ID（名前みたいなもの）\n",
        "    # initial_state : 初期状態\n",
        "    def __init__(self, unique_id, model, initial_state):\n",
        "        super().__init__(unique_id, model)\n",
        "        self.state = initial_state\n",
        "        self.infection_time = -1 # 感染したタイミング\n",
        "\n",
        "    def move(self):\n",
        "        # Moore 近傍にて，移動可能な場所 (possible_steps)を探す\n",
        "        possible_steps = self.model.grid.get_neighborhood(\n",
        "            self.pos,\n",
        "            moore = True, # Moore 近傍\n",
        "            include_center = False) # 中心を含まない\n",
        "        \n",
        "        # 移動先をランダムに決める\n",
        "        new_position = self.random.choice(possible_steps)\n",
        "        \n",
        "        # 自分自身を new_position へ動かす\n",
        "        self.model.grid.move_agent(self, new_position)\n",
        "        \n",
        "    def try_infection(self):\n",
        "        # 自分の位置 (self.pos) と同じセルにいる他のエージェントを探す\n",
        "        cellmates = self.model.grid.get_cell_list_contents([self.pos])\n",
        "        if len(cellmates) > 1: # 自分を含めてカウントするため，２以上のケースを考える\n",
        "            for other in cellmates:\n",
        "                # 自分自身が選ばれた場合，何もしない\n",
        "                if other.unique_id == self.unique_id: continue\n",
        "            \n",
        "                # 相手が健常の場合，情け容赦なく感染させる\n",
        "                if other.state == State.SUSCEPTIBLE:\n",
        "                    other.state = State.INFECTED\n",
        "                    other.infection_time = self.model.schedule.time # 感染したタイミングを記録\n",
        "\n",
        "    def step(self):\n",
        "        self.move()\n",
        "        if self.state == State.INFECTED:\n",
        "            # 感染後の経過時間\n",
        "            t = self.model.schedule.time - self.infection_time\n",
        "            \n",
        "            # 感染後，一定時間(以下では 20ステップ)が経過すれば回復（免疫あり）の状態になる\n",
        "            if t >= 20:\n",
        "                self.state = State.RECOVERED\n",
        "            else:\n",
        "                self.try_infection()\n",
        "            \n",
        "class SRI_Model(Model):\n",
        "    def __init__(self, N=100, width=30, height=30):\n",
        "        self.num_human = N\n",
        "        # ひとつのセルに複数のエージェントが存在してよいように MultiGrid とする\n",
        "        self.grid = MultiGrid(width, height, torus=True)\n",
        "\n",
        "        # スケジューラの設定\n",
        "        self.schedule = RandomActivation(self)\n",
        "        \n",
        "        # エージェントの生成\n",
        "        for i in range(self.num_human):\n",
        "            a = HumanAgent(i, self, State.SUSCEPTIBLE) # 第２引数はモデル自身\n",
        "            self.schedule.add(a) # エージェントのスケジュールへの追加\n",
        "            \n",
        "            # エージェントをランダムな位置に配置する\n",
        "            x = self.random.randrange(self.grid.width)\n",
        "            y = self.random.randrange(self.grid.height)\n",
        "            self.grid.place_agent(a, (x, y))\n",
        "        \n",
        "            # 空間の初期状態として，10% を「感染」状態とする\n",
        "            r = self.random.random()\n",
        "            if r < 0.1:\n",
        "                a.state = State.INFECTED\n",
        "                a.infection_time = 0\n",
        "                \n",
        "        # DataCollector の定義\n",
        "        self.data_collector = DataCollector(\n",
        "            agent_reporters={\"State\": \"state\"}\n",
        "        )\n",
        "        \n",
        "    def step(self):\n",
        "        self.data_collector.collect(self) # データ収集\n",
        "        self.schedule.step()\n",
        "        \n",
        "model = SRI_Model(N=200, width=30, height=30)\n",
        "for i in range(150): # 150ステップ\n",
        "    model.step()"
      ],
      "execution_count": 3,
      "outputs": []
    },
    {
      "cell_type": "markdown",
      "metadata": {
        "id": "VokKpZC78odM"
      },
      "source": [
        "### 各ステップにおける健常者数・感染者数・回復者数をチェック"
      ]
    },
    {
      "cell_type": "code",
      "metadata": {
        "id": "NpKdDdeZ8odN"
      },
      "source": [
        "import pandas as pd\n",
        "import numpy as np\n",
        "import matplotlib.pyplot as plt\n",
        "result = model.data_collector.get_agent_vars_dataframe()\n",
        "X = pd.pivot_table(result.reset_index(),index='Step',columns='State',aggfunc=np.size,fill_value=0)\n",
        "labels = ['Susceptible','Infected','Recovered']\n",
        "X.columns = labels[:len(X.columns)]"
      ],
      "execution_count": 4,
      "outputs": []
    },
    {
      "cell_type": "code",
      "metadata": {
        "scrolled": true,
        "colab": {
          "base_uri": "https://localhost:8080/",
          "height": 446
        },
        "id": "C_mdwKHk8odN",
        "outputId": "8d674089-3b16-4690-ff7a-7a3398d856a8"
      },
      "source": [
        "X"
      ],
      "execution_count": 5,
      "outputs": [
        {
          "output_type": "execute_result",
          "data": {
            "text/html": [
              "<div>\n",
              "<style scoped>\n",
              "    .dataframe tbody tr th:only-of-type {\n",
              "        vertical-align: middle;\n",
              "    }\n",
              "\n",
              "    .dataframe tbody tr th {\n",
              "        vertical-align: top;\n",
              "    }\n",
              "\n",
              "    .dataframe thead th {\n",
              "        text-align: right;\n",
              "    }\n",
              "</style>\n",
              "<table border=\"1\" class=\"dataframe\">\n",
              "  <thead>\n",
              "    <tr style=\"text-align: right;\">\n",
              "      <th></th>\n",
              "      <th>Susceptible</th>\n",
              "      <th>Infected</th>\n",
              "      <th>Recovered</th>\n",
              "    </tr>\n",
              "    <tr>\n",
              "      <th>Step</th>\n",
              "      <th></th>\n",
              "      <th></th>\n",
              "      <th></th>\n",
              "    </tr>\n",
              "  </thead>\n",
              "  <tbody>\n",
              "    <tr>\n",
              "      <th>0</th>\n",
              "      <td>186</td>\n",
              "      <td>14</td>\n",
              "      <td>0</td>\n",
              "    </tr>\n",
              "    <tr>\n",
              "      <th>1</th>\n",
              "      <td>184</td>\n",
              "      <td>16</td>\n",
              "      <td>0</td>\n",
              "    </tr>\n",
              "    <tr>\n",
              "      <th>2</th>\n",
              "      <td>182</td>\n",
              "      <td>18</td>\n",
              "      <td>0</td>\n",
              "    </tr>\n",
              "    <tr>\n",
              "      <th>3</th>\n",
              "      <td>176</td>\n",
              "      <td>24</td>\n",
              "      <td>0</td>\n",
              "    </tr>\n",
              "    <tr>\n",
              "      <th>4</th>\n",
              "      <td>175</td>\n",
              "      <td>25</td>\n",
              "      <td>0</td>\n",
              "    </tr>\n",
              "    <tr>\n",
              "      <th>...</th>\n",
              "      <td>...</td>\n",
              "      <td>...</td>\n",
              "      <td>...</td>\n",
              "    </tr>\n",
              "    <tr>\n",
              "      <th>145</th>\n",
              "      <td>10</td>\n",
              "      <td>0</td>\n",
              "      <td>190</td>\n",
              "    </tr>\n",
              "    <tr>\n",
              "      <th>146</th>\n",
              "      <td>10</td>\n",
              "      <td>0</td>\n",
              "      <td>190</td>\n",
              "    </tr>\n",
              "    <tr>\n",
              "      <th>147</th>\n",
              "      <td>10</td>\n",
              "      <td>0</td>\n",
              "      <td>190</td>\n",
              "    </tr>\n",
              "    <tr>\n",
              "      <th>148</th>\n",
              "      <td>10</td>\n",
              "      <td>0</td>\n",
              "      <td>190</td>\n",
              "    </tr>\n",
              "    <tr>\n",
              "      <th>149</th>\n",
              "      <td>10</td>\n",
              "      <td>0</td>\n",
              "      <td>190</td>\n",
              "    </tr>\n",
              "  </tbody>\n",
              "</table>\n",
              "<p>150 rows × 3 columns</p>\n",
              "</div>"
            ],
            "text/plain": [
              "      Susceptible  Infected  Recovered\n",
              "Step                                  \n",
              "0             186        14          0\n",
              "1             184        16          0\n",
              "2             182        18          0\n",
              "3             176        24          0\n",
              "4             175        25          0\n",
              "...           ...       ...        ...\n",
              "145            10         0        190\n",
              "146            10         0        190\n",
              "147            10         0        190\n",
              "148            10         0        190\n",
              "149            10         0        190\n",
              "\n",
              "[150 rows x 3 columns]"
            ]
          },
          "metadata": {
            "tags": []
          },
          "execution_count": 5
        }
      ]
    },
    {
      "cell_type": "markdown",
      "metadata": {
        "id": "hApSWXy18odQ"
      },
      "source": [
        "### 感染状況の推移を可視化"
      ]
    },
    {
      "cell_type": "code",
      "metadata": {
        "colab": {
          "base_uri": "https://localhost:8080/",
          "height": 297
        },
        "id": "tEkOqB5z8odQ",
        "outputId": "ae82948c-8e1a-4cd1-ef54-43bd728cf454"
      },
      "source": [
        "X.plot()"
      ],
      "execution_count": 6,
      "outputs": [
        {
          "output_type": "execute_result",
          "data": {
            "text/plain": [
              "<matplotlib.axes._subplots.AxesSubplot at 0x7f64a83c1160>"
            ]
          },
          "metadata": {
            "tags": []
          },
          "execution_count": 6
        },
        {
          "output_type": "display_data",
          "data": {
            "image/png": "[encoded data removed]",
            "text/plain": [
              "<Figure size 432x288 with 1 Axes>"
            ]
          },
          "metadata": {
            "tags": [],
            "needs_background": "light"
          }
        }
      ]
    }
  ]
}