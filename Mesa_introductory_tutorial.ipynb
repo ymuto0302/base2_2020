{
  "nbformat": 4,
  "nbformat_minor": 0,
  "metadata": {
    "kernelspec": {
      "display_name": "Python 3",
      "language": "python",
      "name": "python3"
    },
    "language_info": {
      "codemirror_mode": {
        "name": "ipython",
        "version": 3
      },
      "file_extension": ".py",
      "mimetype": "text/x-python",
      "name": "python",
      "nbconvert_exporter": "python",
      "pygments_lexer": "ipython3",
      "version": "3.8.5"
    },
    "colab": {
      "name": "Mesa_introductory_tutorial.ipynb",
      "provenance": [],
      "include_colab_link": true
    }
  },
  "cells": [
    {
      "cell_type": "markdown",
      "metadata": {
        "id": "view-in-github",
        "colab_type": "text"
      },
      "source": [
        "<a href=\"https://colab.research.google.com/github/ymuto0302/base2_2020/blob/master/Mesa_introductory_tutorial.ipynb\" target=\"_parent\"><img src=\"https://colab.research.google.com/assets/colab-badge.svg\" alt=\"Open In Colab\"/></a>"
      ]
    },
    {
      "cell_type": "markdown",
      "metadata": {
        "id": "1wTWVDYgVlsX"
      },
      "source": [
        "# Mesa のチュートリアルを追いかける\n",
        "https://mesa.readthedocs.io/en/master/tutorials/intro_tutorial.html\n",
        "\n",
        "Mesa とは，エージェントベースのモデリング・フレームワークである。\n",
        "・・・って，これじゃ意味が伝わらない。「**マルチエージェントシミュレーションを実現するための仕組み／関数の集まり**」と捉えればよい。\n",
        "\n",
        "本チュートリアルで扱うテーマは \"Boltzmann Wealth Model\" である（これは econophysics＝経済物理学の世界を MAS で表現したものである）。\n",
        "\n",
        "極めて単純なモデルであり，\n",
        "\n",
        "1. 複数のエージェントが存在する\n",
        "1. 全てのエージェントは１単位のお金を有する状態から始める\n",
        "1. モデルの各ステップにおいて，あるエージェントは他のエージェントへ１単位のお金を与える\n",
        "\n",
        "というものである。\n",
        "\n",
        "チュートリアルの流れは，\n",
        "- 最初に，お金を交換するエージェントをモデル化する。\n",
        "- 次に，エージェントが行動する空間(space)を加える。\n",
        "- その後，data collector と batch runner を用いる。\n",
        "- 最後に iterative visualization を付け加える。\n",
        "\n",
        "という形である。"
      ]
    },
    {
      "cell_type": "markdown",
      "metadata": {
        "id": "UYPeXpaiVlsa"
      },
      "source": [
        "## (準備) Mesa のインストール"
      ]
    },
    {
      "cell_type": "code",
      "metadata": {
        "scrolled": true,
        "id": "195Nb2WlVlsa",
        "outputId": "4642e943-9a3e-4ddc-9727-bf34aca5dd65"
      },
      "source": [
        "!pip install mesa"
      ],
      "execution_count": null,
      "outputs": [
        {
          "output_type": "stream",
          "text": [
            "Requirement already satisfied: mesa in c:\\users\\yoshi\\anaconda3\\lib\\site-packages (0.8.7)\n",
            "Requirement already satisfied: networkx in c:\\users\\yoshi\\anaconda3\\lib\\site-packages (from mesa) (2.5)\n",
            "Requirement already satisfied: tqdm in c:\\users\\yoshi\\anaconda3\\lib\\site-packages (from mesa) (4.50.2)\n",
            "Requirement already satisfied: pandas in c:\\users\\yoshi\\anaconda3\\lib\\site-packages (from mesa) (1.1.3)\n",
            "Requirement already satisfied: tornado in c:\\users\\yoshi\\anaconda3\\lib\\site-packages (from mesa) (6.0.4)\n",
            "Requirement already satisfied: cookiecutter in c:\\users\\yoshi\\anaconda3\\lib\\site-packages (from mesa) (1.7.2)\n",
            "Requirement already satisfied: click in c:\\users\\yoshi\\anaconda3\\lib\\site-packages (from mesa) (7.1.2)\n",
            "Requirement already satisfied: numpy in c:\\users\\yoshi\\anaconda3\\lib\\site-packages (from mesa) (1.19.1)\n",
            "Requirement already satisfied: decorator>=4.3.0 in c:\\users\\yoshi\\anaconda3\\lib\\site-packages (from networkx->mesa) (4.4.2)\n",
            "Requirement already satisfied: pytz>=2017.2 in c:\\users\\yoshi\\anaconda3\\lib\\site-packages (from pandas->mesa) (2020.1)\n",
            "Requirement already satisfied: python-dateutil>=2.7.3 in c:\\users\\yoshi\\anaconda3\\lib\\site-packages (from pandas->mesa) (2.8.1)\n",
            "Requirement already satisfied: MarkupSafe<2.0.0 in c:\\users\\yoshi\\anaconda3\\lib\\site-packages (from cookiecutter->mesa) (1.1.1)\n",
            "Requirement already satisfied: python-slugify>=4.0.0 in c:\\users\\yoshi\\anaconda3\\lib\\site-packages (from cookiecutter->mesa) (4.0.1)\n",
            "Requirement already satisfied: requests>=2.23.0 in c:\\users\\yoshi\\anaconda3\\lib\\site-packages (from cookiecutter->mesa) (2.24.0)\n",
            "Requirement already satisfied: poyo>=0.5.0 in c:\\users\\yoshi\\anaconda3\\lib\\site-packages (from cookiecutter->mesa) (0.5.0)\n",
            "Requirement already satisfied: jinja2-time>=0.2.0 in c:\\users\\yoshi\\anaconda3\\lib\\site-packages (from cookiecutter->mesa) (0.2.0)\n",
            "Requirement already satisfied: binaryornot>=0.4.4 in c:\\users\\yoshi\\anaconda3\\lib\\site-packages (from cookiecutter->mesa) (0.4.4)\n",
            "Requirement already satisfied: six>=1.10 in c:\\users\\yoshi\\anaconda3\\lib\\site-packages (from cookiecutter->mesa) (1.15.0)\n",
            "Requirement already satisfied: Jinja2<3.0.0 in c:\\users\\yoshi\\anaconda3\\lib\\site-packages (from cookiecutter->mesa) (2.11.2)\n",
            "Requirement already satisfied: text-unidecode>=1.3 in c:\\users\\yoshi\\anaconda3\\lib\\site-packages (from python-slugify>=4.0.0->cookiecutter->mesa) (1.3)\n",
            "Requirement already satisfied: idna<3,>=2.5 in c:\\users\\yoshi\\anaconda3\\lib\\site-packages (from requests>=2.23.0->cookiecutter->mesa) (2.10)\n",
            "Requirement already satisfied: certifi>=2017.4.17 in c:\\users\\yoshi\\anaconda3\\lib\\site-packages (from requests>=2.23.0->cookiecutter->mesa) (2020.11.8)\n",
            "Requirement already satisfied: chardet<4,>=3.0.2 in c:\\users\\yoshi\\anaconda3\\lib\\site-packages (from requests>=2.23.0->cookiecutter->mesa) (3.0.4)\n",
            "Requirement already satisfied: urllib3!=1.25.0,!=1.25.1,<1.26,>=1.21.1 in c:\\users\\yoshi\\anaconda3\\lib\\site-packages (from requests>=2.23.0->cookiecutter->mesa) (1.25.10)\n",
            "Requirement already satisfied: arrow in c:\\users\\yoshi\\anaconda3\\lib\\site-packages (from jinja2-time>=0.2.0->cookiecutter->mesa) (0.17.0)\n"
          ],
          "name": "stdout"
        }
      ]
    },
    {
      "cell_type": "markdown",
      "metadata": {
        "id": "wJzIc5siVlsc"
      },
      "source": [
        "# ここから本論"
      ]
    },
    {
      "cell_type": "markdown",
      "metadata": {
        "id": "dP3W8f1MVlsc"
      },
      "source": [
        "### Setting up the model\n",
        "MAS (multi-agent simulation)を Mesa 上で実現するためには，エージェント(Agent)とモデル(Model)をクラスとして実装する必要がある。\n",
        "\n",
        "- エージェント・クラスには，個々のエージェントを区別するための unique_id が必要となる（区別できればよいから，固有名詞でも，連番の数値でもよい）。\n",
        "- シミュレーション全体を統括するモデルでは，エージェントの生成／スケジューラーの設定／空間の設定／データ・コレクタの設定などが含まれる。\n",
        "\n",
        "以下のコードでは，num_agents の数だけ MoneyAgent オブジェクトを生成している。"
      ]
    },
    {
      "cell_type": "code",
      "metadata": {
        "id": "x4G88aWXVlsd"
      },
      "source": [
        "from mesa import Agent, Model\n",
        "\n",
        "class MoneyAgent(Agent):\n",
        "    # An agent with fixes initial wealth\n",
        "    # unique_id : 個々のエージェントを区別するための ID\n",
        "    def __init__(self, unique_id, model):\n",
        "        super.__init__(unique_id, model)\n",
        "        self.wealth = 1 # エージェントの有する富\n",
        "        \n",
        "class MoneyModel(Model):\n",
        "    def __init__(self, N):\n",
        "        self.num_agents = N\n",
        "        # Create agents\n",
        "        for i in range(self.num_agents):\n",
        "            a = MoneyAgent(i, self)"
      ],
      "execution_count": null,
      "outputs": []
    },
    {
      "cell_type": "markdown",
      "metadata": {
        "id": "P9xVYiSFVlsd"
      },
      "source": [
        "### Adding the scheduler\n",
        "スケジューラ (scheduler)とは，活性化させるエージェントの順番で制御する仕組みである。\n",
        "\n",
        "以下では，ランダムな順番で，全てのエージェントを活性化させる RandomActivation を用いる。\n",
        "\n",
        "プログラムの流れは以下のとおり：\n",
        "1. モデル内でスケジューラを定義する\n",
        "1. そのスケジューラに生成されたエージェントを追加する。これによってエージェントにスケジュールが付与される。\n",
        "1. モデル MoneyModel の step() メソッドが呼ばれると，スケジューラの step メソッド (schedule.step()) が実行される。すると，エージェントの順番をシャッフルした上で，個々のエージェントの step メソッドが実行される。\n",
        "\n",
        "実行結果を見ると，エージェントの unique_id がランダムに並び，個々のエージェントの情報が表示されているのが分かるだろう。"
      ]
    },
    {
      "cell_type": "code",
      "metadata": {
        "id": "mbgn031rVlse",
        "outputId": "c347f2e8-d3c1-4a83-bf9c-ba75b7757210"
      },
      "source": [
        "from mesa import Agent, Model\n",
        "from mesa.time import RandomActivation\n",
        "\n",
        "class MoneyAgent(Agent):\n",
        "    # An agent with fixes initial wealth\n",
        "    # unique_id : 個々のエージェントを区別するための ID（名前みたいなもの）\n",
        "    def __init__(self, unique_id, model):\n",
        "        super().__init__(unique_id, model)\n",
        "        self.wealth = 1 # エージェントの有する富\n",
        "\n",
        "    def step(self):\n",
        "        # For demonstration purposes we will print the agent's unique_id\n",
        "        print(\"Hi, I am agent {}. I have {} money.\".format(self.unique_id, self.wealth))\n",
        "              \n",
        "class MoneyModel(Model):\n",
        "    def __init__(self, N):\n",
        "        self.num_agents = N\n",
        "        self.schedule = RandomActivation(self) # スケジューラ\n",
        "        \n",
        "        # Create agents\n",
        "        for i in range(self.num_agents):\n",
        "            a = MoneyAgent(i, self)\n",
        "            self.schedule.add(a)\n",
        "            \n",
        "    def step(self):\n",
        "        # Advance the model by one step\n",
        "        self.schedule.step()\n",
        "        \n",
        "empty_model = MoneyModel(10)\n",
        "empty_model.step()"
      ],
      "execution_count": null,
      "outputs": [
        {
          "output_type": "stream",
          "text": [
            "Hi, I am agent 5. I have 1 money.\n",
            "Hi, I am agent 4. I have 1 money.\n",
            "Hi, I am agent 8. I have 1 money.\n",
            "Hi, I am agent 3. I have 1 money.\n",
            "Hi, I am agent 1. I have 1 money.\n",
            "Hi, I am agent 0. I have 1 money.\n",
            "Hi, I am agent 9. I have 1 money.\n",
            "Hi, I am agent 7. I have 1 money.\n",
            "Hi, I am agent 6. I have 1 money.\n",
            "Hi, I am agent 2. I have 1 money.\n"
          ],
          "name": "stdout"
        }
      ]
    },
    {
      "cell_type": "markdown",
      "metadata": {
        "id": "Eje2bWASVlse"
      },
      "source": [
        "### Agent Step\n",
        "エージェントの step() メソッドを拡張し，財産(wealth)をランダムに選択された他のエージェントに渡す仕組みを実装した。\n",
        "\n",
        "ここで model.random は乱数生成器である。また，model.choice() はランダムにひとつの値を選ぶ関数である。"
      ]
    },
    {
      "cell_type": "code",
      "metadata": {
        "id": "_NPnnIu-Vlse"
      },
      "source": [
        "from mesa import Agent, Model\n",
        "from mesa.time import RandomActivation\n",
        "\n",
        "class MoneyAgent(Agent):\n",
        "    # An agent with fixes initial eralth\n",
        "    # unique_id : 個々のエージェントを区別するための ID（名前みたいなもの）\n",
        "    def __init__(self, unique_id, model):\n",
        "        super().__init__(unique_id, model)\n",
        "        self.wealth = 1 # エージェントの有する富\n",
        "\n",
        "    def step(self):\n",
        "        # 財産がゼロになったら何もしない\n",
        "        if self.wealth == 0:\n",
        "            return\n",
        "        \n",
        "        # エージェント群からランダムにひとつのエージェントを選び\n",
        "        # 財産を１単位，渡す（自分の財産は１単位，減少）\n",
        "        other_agent = self.random.choice(self.model.schedule.agents)\n",
        "        other_agent.wealth += 1\n",
        "        self.wealth -= 1\n",
        "        \n",
        "class MoneyModel(Model):\n",
        "    # A model with some number of agents\n",
        "    def __init__(self, N):\n",
        "        self.num_agents = N\n",
        "        self.schedule = RandomActivation(self) # スケジューラ\n",
        "        \n",
        "        # Create agents\n",
        "        for i in range(self.num_agents):\n",
        "            a = MoneyAgent(i, self)\n",
        "            self.schedule.add(a)\n",
        "            \n",
        "    def step(self):\n",
        "        # Advance the model by one step\n",
        "        self.schedule.step()\n",
        "        \n",
        "model = MoneyModel(10)\n",
        "for i in range(10): # 10 steps\n",
        "    model.step()"
      ],
      "execution_count": null,
      "outputs": []
    },
    {
      "cell_type": "markdown",
      "metadata": {
        "id": "ci8WcK-dVlsf"
      },
      "source": [
        "### Distribution of the agent's wealth\n",
        "上記のコードを実行した結果，10ステップを実行し，各ステップにおいてエージェント間で財産がやりとりされた。\n",
        "\n",
        "以下では，10ステップ経過後の「個々のエージェントが有する財産の量」をヒストグラムで眺めてみる。結果として，10体のエージェントのうち，6体が財産ゼロとなっていることが分かる。"
      ]
    },
    {
      "cell_type": "code",
      "metadata": {
        "id": "cZ4zpA1UVlsf",
        "outputId": "97d45dd7-7a3f-4848-ad19-b30e362317e6"
      },
      "source": [
        "import matplotlib.pyplot as plt\n",
        "\n",
        "agent_wealth = [a.wealth for a in model.schedule.agents]\n",
        "plt.hist(agent_wealth)"
      ],
      "execution_count": null,
      "outputs": [
        {
          "output_type": "execute_result",
          "data": {
            "text/plain": [
              "(array([3., 0., 0., 5., 0., 0., 1., 0., 0., 1.]),\n",
              " array([0. , 0.3, 0.6, 0.9, 1.2, 1.5, 1.8, 2.1, 2.4, 2.7, 3. ]),\n",
              " <BarContainer object of 10 artists>)"
            ]
          },
          "metadata": {
            "tags": []
          },
          "execution_count": 4
        },
        {
          "output_type": "display_data",
          "data": {
            "image/png": "[encoded data removed]",
            "text/plain": [
              "<Figure size 432x288 with 1 Axes>"
            ]
          },
          "metadata": {
            "tags": [],
            "needs_background": "light"
          }
        }
      ]
    },
    {
      "cell_type": "markdown",
      "metadata": {
        "id": "vhySNRgzVlsg"
      },
      "source": [
        "### Create multiple model runs\n",
        "MAS では乱数を利用するため，実行する度に異なる結果が得られる。この問題を解消するため，多くの試行が必要となる。\n",
        "\n",
        "以下のコードは，10ステップのシミュレーションを 100回試行するものである。\n",
        "ヒストグラムから分かるように，財産ゼロが最多数，次に財産が１単位・２単位・・。という形で頻度が減少する。\n",
        "\n",
        "**(注) この実装は，今後，出てこない**"
      ]
    },
    {
      "cell_type": "code",
      "metadata": {
        "id": "Q0KPqdidVlsg",
        "outputId": "adc54108-1490-47f6-9a07-1c20fc319e9f"
      },
      "source": [
        "all_wealth = []\n",
        "\n",
        "# this runs the model 100 times, each model excuting 1- steps.\n",
        "for j in range(100): # 100 instantiations of the model\n",
        "    # Run the model\n",
        "    model = MoneyModel(10) # 10 agents\n",
        "    for i in range(10): # 10 steps\n",
        "        model.step()\n",
        "        \n",
        "    # Store the results\n",
        "    for agent in model.schedule.agents:\n",
        "        all_wealth.append(agent.wealth)\n",
        "        \n",
        "plt.hist(all_wealth, bins=range(max(all_wealth)+1))"
      ],
      "execution_count": null,
      "outputs": [
        {
          "output_type": "execute_result",
          "data": {
            "text/plain": [
              "(array([433., 291., 168.,  71.,  26.,  11.]),\n",
              " array([0, 1, 2, 3, 4, 5, 6]),\n",
              " <BarContainer object of 6 artists>)"
            ]
          },
          "metadata": {
            "tags": []
          },
          "execution_count": 5
        },
        {
          "output_type": "display_data",
          "data": {
            "image/png": "[encoded data removed]",
            "text/plain": [
              "<Figure size 432x288 with 1 Axes>"
            ]
          },
          "metadata": {
            "tags": [],
            "needs_background": "light"
          }
        }
      ]
    },
    {
      "cell_type": "markdown",
      "metadata": {
        "id": "-bCSzLc3Vlsg"
      },
      "source": [
        "(メモ) 何故，大部分のエージェントはすっからかんになり，僅かなエージェントのみ富が増えているのだろうか。"
      ]
    },
    {
      "cell_type": "markdown",
      "metadata": {
        "id": "8C3LDCG4Vlsh"
      },
      "source": [
        "### Adding space\n",
        "エージェントが行動する空間はグリッド(grid)により表現される。\n",
        "\n",
        "Mesa は SingleGrid と MultiGrid の２タイプのグリッドを有する。\n",
        "- SingleGrid : ひとつのセルに単一のエージェントのみが存在できる\n",
        "- MultiGrid  : ひとつのセルに複数のエージェントが同時に存在できる\n",
        "\n",
        "以下は MultiGrid を利用したコードである。\n",
        "1. モデル MoneyModel 内で「幅，高さ，トーラス状であること」を指定し，MultiGrid を定義する。\n",
        "1. その後，グリッド内の座標をランダムに選び，grid.place_agent() を用いてエージェントを配置する。\n"
      ]
    },
    {
      "cell_type": "code",
      "metadata": {
        "id": "gyxWfeT-Vlsh"
      },
      "source": [
        "from mesa import Agent, Model\n",
        "from mesa.time import RandomActivation\n",
        "from mesa.space import MultiGrid\n",
        "\n",
        "class MoneyAgent(Agent):\n",
        "    # An agent with fixes initial eralth\n",
        "    # unique_id : 個々のエージェントを区別するための ID（名前みたいなもの）\n",
        "    def __init__(self, unique_id, model):\n",
        "        super().__init__(unique_id, model)\n",
        "        self.wealth = 1 # エージェントの有する富\n",
        "\n",
        "    def step(self):\n",
        "        # 財産がゼロになったら何もしない\n",
        "        if self.wealth == 0:\n",
        "            return\n",
        "        \n",
        "        # エージェント群からランダムにひとつのエージェントを選び\n",
        "        # 財産を１単位，渡す（自分の財産は１単位，減少）\n",
        "        other_agent = self.random.choice(self.model.schedule.agents)\n",
        "        other_agent.wealth += 1\n",
        "        self.wealth -= 1\n",
        "        \n",
        "class MoneyModel(Model):\n",
        "    # A model with some number of agents\n",
        "    def __init__(self, N, width, height):\n",
        "        self.num_agents = N\n",
        "        self.grid = MultiGrid(width, height, torus=True)\n",
        "        self.schedule = RandomActivation(self) # スケジューラ\n",
        "        \n",
        "        # Create agents\n",
        "        for i in range(self.num_agents):\n",
        "            a = MoneyAgent(i, self)\n",
        "            self.schedule.add(a)\n",
        "            \n",
        "            # Add the agent to a random grid cell\n",
        "            x = self.random.randrange(self.grid.width)\n",
        "            y = self.random.randrange(self.grid.height)\n",
        "            \n",
        "            # 名称どおり，エージェント a を (x, y) に設置\n",
        "            # (メモ) place_agent メソッドにより，エージェントに位置 (x,y) が紐づく\n",
        "            self.grid.place_agent(a, (x, y))\n",
        "            \n",
        "    def step(self):\n",
        "        self.schedule.step()\n",
        "        \n",
        "model = MoneyModel(50, 10, 10)\n",
        "for i in range(10): # 10 steps\n",
        "    model.step()"
      ],
      "execution_count": null,
      "outputs": []
    },
    {
      "cell_type": "markdown",
      "metadata": {
        "id": "ePL4oi7yVlsh"
      },
      "source": [
        "### 近傍の導入\n",
        "近傍の表現として，ノイマン近傍 (Nuemann neighborhood) とムーア近傍 (Moore neighborhood) が知られている。\n",
        "\n",
        "近傍の設定は model.grid.get_neighborhood() を用いて行う（**自分で明示的に座標を指定しない**）。本関数の引数は以下のとおり：\n",
        "- self.pos : エージェントの現在位置\n",
        "- moore = True : ムーア近傍を利用する指定\n",
        "- include_center = False : 近傍として中心セルを含まない指定\n",
        "\n",
        "以下のコードでは，得られた近傍情報を possible_steps（移動可能な場所）として取得し，そこからランダムにセルを選択（これが変数 new_position)したのち，model.grid.move_agent(self, new_position) を用いてエージェントを移動させている。\n",
        "\n",
        "さらに，移動後，（自身の財産があるならば）自身と同じセルに存在する他エージェントへ財産を渡す実装となっている。\n",
        "- `cellmates = self.model.grid.get_cell_list_contents([self.pos])` : model.grid.get_cell_list_contents() を用いて，現在位置 self.pos に存在するエージェントの一覧を得る\n",
        "- `other = self.random.choice(cellmates) ` : cellmates からランダムに１体のエージェントを選び，財産の贈与先とする。\n",
        "            "
      ]
    },
    {
      "cell_type": "code",
      "metadata": {
        "id": "xJLAfntWVlsi",
        "outputId": "e276177f-9e76-4a29-a7cd-5999289ebf3c"
      },
      "source": [
        "from mesa import Agent, Model\n",
        "from mesa.time import RandomActivation\n",
        "from mesa.space import MultiGrid\n",
        "\n",
        "class MoneyAgent(Agent):\n",
        "    # An agent with fixes initial eralth\n",
        "    # unique_id : 個々のエージェントを区別するための ID（名前みたいなもの）\n",
        "    def __init__(self, unique_id, model):\n",
        "        super().__init__(unique_id, model)\n",
        "        self.wealth = 1 # エージェントの有する富\n",
        "\n",
        "    def step(self):\n",
        "        # 動作確認用のコード\n",
        "        if self.unique_id == 3:\n",
        "            print(\"id:{}, pos:{}, money:{}\".format(self.unique_id, self.pos, self.wealth))\n",
        "\n",
        "        # 移動\n",
        "        self.move()\n",
        "        # 財産があれば，近傍の他エージェントへ与える\n",
        "        if self.wealth > 0:\n",
        "            self.give_money()\n",
        "            \n",
        "    def move(self):\n",
        "        possible_steps = self.model.grid.get_neighborhood(\n",
        "            self.pos,\n",
        "            moore = True, # Moore 近傍\n",
        "            include_center = False)\n",
        "        \n",
        "        # 自分自身を new_position へ動かす\n",
        "        new_position = self.random.choice(possible_steps)\n",
        "        self.model.grid.move_agent(self, new_position)\n",
        "        \n",
        "    def give_money(self):\n",
        "        # 自分の位置 (self.pos) と同じセルにいる他のエージェントを探す\n",
        "        cellmates = self.model.grid.get_cell_list_contents([self.pos])\n",
        "        if len(cellmates) > 1:\n",
        "            other = self.random.choice(cellmates) # (メモ) self == other の場合もあり得る\n",
        "            other.wealth += 1\n",
        "            self.wealth -= 1\n",
        "            \n",
        "class MoneyModel(Model):\n",
        "    # A model with some number of agents\n",
        "    def __init__(self, N, width, height):\n",
        "        self.num_agents = N\n",
        "        self.grid = MultiGrid(width, height, True)\n",
        "        self.schedule = RandomActivation(self) # スケジューラ\n",
        "        \n",
        "        # Create agents\n",
        "        for i in range(self.num_agents):\n",
        "            a = MoneyAgent(i, self)\n",
        "            self.schedule.add(a)\n",
        "            \n",
        "            # Add the agent to a random grid cell\n",
        "            x = self.random.randrange(self.grid.width)\n",
        "            y = self.random.randrange(self.grid.height)\n",
        "            \n",
        "            # 名称どおり，エージェント a を (x, y) に設置\n",
        "            # (メモ) place_agent メソッドにより，エージェントに位置 (x,y) が紐づく\n",
        "            self.grid.place_agent(a, (x, y))\n",
        "            \n",
        "    def step(self):\n",
        "        # Advance the model by one step\n",
        "        self.schedule.step()\n",
        "        \n",
        "model = MoneyModel(50, 10, 10)\n",
        "for i in range(20): # 20 steps\n",
        "    print(\"step {}: \".format(i), end=\"\") # 動作確認用のコード\n",
        "    model.step()"
      ],
      "execution_count": null,
      "outputs": [
        {
          "output_type": "stream",
          "text": [
            "step 0: id:3, pos:(9, 3), money:1\n",
            "step 1: id:3, pos:(0, 2), money:1\n",
            "step 2: id:3, pos:(9, 2), money:2\n",
            "step 3: id:3, pos:(0, 3), money:3\n",
            "step 4: id:3, pos:(9, 4), money:4\n",
            "step 5: id:3, pos:(8, 3), money:4\n",
            "step 6: id:3, pos:(8, 2), money:4\n",
            "step 7: id:3, pos:(8, 1), money:4\n",
            "step 8: id:3, pos:(8, 2), money:4\n",
            "step 9: id:3, pos:(7, 2), money:4\n",
            "step 10: id:3, pos:(6, 3), money:5\n",
            "step 11: id:3, pos:(5, 3), money:5\n",
            "step 12: id:3, pos:(4, 2), money:6\n",
            "step 13: id:3, pos:(5, 2), money:6\n",
            "step 14: id:3, pos:(6, 3), money:6\n",
            "step 15: id:3, pos:(6, 4), money:6\n",
            "step 16: id:3, pos:(6, 3), money:6\n",
            "step 17: id:3, pos:(5, 4), money:6\n",
            "step 18: id:3, pos:(4, 5), money:5\n",
            "step 19: id:3, pos:(3, 4), money:5\n"
          ],
          "name": "stdout"
        }
      ]
    },
    {
      "cell_type": "markdown",
      "metadata": {
        "id": "rtb9djkcVlsj"
      },
      "source": [
        "### おまけ\n",
        "10×10 のグリッドの各セルに何体のエージェントがいるかを可視化した結果である。"
      ]
    },
    {
      "cell_type": "code",
      "metadata": {
        "id": "fhIr3IAxVlsj",
        "outputId": "54061f7d-55a9-4e37-f890-fc373f0e99b1"
      },
      "source": [
        "# 各々のセルにいるエージェント数を数える\n",
        "import numpy as np\n",
        "import matplotlib.pyplot as plt\n",
        "\n",
        "agent_counts = np.zeros((model.grid.width, model.grid.height))\n",
        "for cell in model.grid.coord_iter(): # 座標を全て舐めていく\n",
        "    cell_content, x, y = cell\n",
        "    agent_count = len(cell_content) # 座標 (x,y) に存在するエージェント数\n",
        "    agent_counts[x][y] = agent_count\n",
        "    \n",
        "plt.imshow(agent_counts, interpolation='nearest')\n",
        "plt.colorbar()"
      ],
      "execution_count": null,
      "outputs": [
        {
          "output_type": "execute_result",
          "data": {
            "text/plain": [
              "<matplotlib.colorbar.Colorbar at 0x1e7a3b7c1f0>"
            ]
          },
          "metadata": {
            "tags": []
          },
          "execution_count": 8
        },
        {
          "output_type": "display_data",
          "data": {
            "image/png": "[encoded data removed]",
            "text/plain": [
              "<Figure size 432x288 with 2 Axes>"
            ]
          },
          "metadata": {
            "tags": [],
            "needs_background": "light"
          }
        }
      ]
    },
    {
      "cell_type": "markdown",
      "metadata": {
        "id": "KTLIVkr8Vlsj"
      },
      "source": [
        "### Collecting Data\n",
        "シミュレーションが進行（＝ステップを重ねる）際の途中のデータを収集したい場合がある。\n",
        "そのような要望に応えるのが DataCollector である。\n",
        "\n",
        "DataCollector はモデル内で定義され，「モデルが報告するデータ」と「個々のエージェントが報告するデータ」を指定可能である。以下のコードでは，モデルが報告するデータとしてジニ係数，個々のエージェントが報告するデータとして財産の量を指定している。\n",
        "\n",
        "```\n",
        "self.datacollector = DataCollector(\n",
        "    model_reporters = {\"Gini\": compute_gini},\n",
        "    agent_reporters = {\"Wealth\": \"wealth\"}\n",
        ")\n",
        "```        "
      ]
    },
    {
      "cell_type": "code",
      "metadata": {
        "id": "8-E16aMlVlsk"
      },
      "source": [
        "from mesa import Agent, Model\n",
        "from mesa.time import RandomActivation\n",
        "from mesa.space import MultiGrid\n",
        "from mesa.datacollection import DataCollector\n",
        "\n",
        "def compute_gini(model):\n",
        "    agent_wealths = [agent.wealth for agent in model.schedule.agents]\n",
        "    x = sorted(agent_wealths)\n",
        "    N = model.num_agents\n",
        "    B = sum(xi * (N-i) for i, xi in enumerate(x)) / (N * sum(x))\n",
        "    return (1 + (1/N) - 2 * B)\n",
        "\n",
        "class MoneyAgent(Agent):\n",
        "    # An agent with fixes initial wealth\n",
        "    # unique_id : 個々のエージェントを区別するための ID（名前みたいなもの）\n",
        "    def __init__(self, unique_id, model):\n",
        "        super().__init__(unique_id, model)\n",
        "        self.wealth = 1 # エージェントの有する富\n",
        "\n",
        "    def step(self):\n",
        "        self.move()\n",
        "        if self.wealth > 0:\n",
        "            self.give_money()\n",
        "            \n",
        "    def move(self):\n",
        "        possible_steps = self.model.grid.get_neighborhood(\n",
        "            self.pos,\n",
        "            moore = True, # Moore 近傍\n",
        "            include_center = False)\n",
        "        new_position = self.random.choice(possible_steps)\n",
        "        self.model.grid.move_agent(self, new_position) # 自分自身を new_position へ動かす\n",
        "        \n",
        "    def give_money(self):\n",
        "        # 自分の位置 (self.pos) と同じセルにいる他のエージェントを探す\n",
        "        cellmates = self.model.grid.get_cell_list_contents([self.pos])\n",
        "        if len(cellmates) > 1:\n",
        "            other = self.random.choice(cellmates) # (メモ) self == other の場合もあり得る\n",
        "            other.wealth += 1\n",
        "            self.wealth -= 1\n",
        "            \n",
        "class MoneyModel(Model):\n",
        "    def __init__(self, N, width, height):\n",
        "        self.num_agents = N\n",
        "        self.grid = MultiGrid(width, height, True)\n",
        "        self.schedule = RandomActivation(self) # スケジューラ\n",
        "        self.running = True\n",
        "        \n",
        "        # Create agents\n",
        "        for i in range(self.num_agents):\n",
        "            a = MoneyAgent(i, self)\n",
        "            self.schedule.add(a)\n",
        "            \n",
        "            # エージェント a を (x, y) に設置\n",
        "            x = self.random.randrange(self.grid.width)\n",
        "            y = self.random.randrange(self.grid.height)\n",
        "            self.grid.place_agent(a, (x, y))\n",
        "            \n",
        "        # DataCollector の定義\n",
        "        self.datacollector = DataCollector(\n",
        "            model_reporters = {\"Gini\": compute_gini},\n",
        "            agent_reporters = {\"Wealth\": \"wealth\"}\n",
        "        )\n",
        "            \n",
        "    def step(self):\n",
        "        # Advance the model by one step\n",
        "        # 各ステップにおいてデータを集める。\n",
        "        # model-level では GINI 係数；agent-level では wealth を集積\n",
        "        self.datacollector.collect(self)\n",
        "        \n",
        "        self.schedule.step()\n",
        "\n",
        "model = MoneyModel(50, 10, 10)\n",
        "for i in range(100): # 100 steps\n",
        "    model.step()"
      ],
      "execution_count": null,
      "outputs": []
    },
    {
      "cell_type": "markdown",
      "metadata": {
        "id": "3iHrpnhFVlsk"
      },
      "source": [
        "#### モデルが報告したデータの利用\n",
        "`model.datacollector.get_model_vars_dataframe()` を用いて「モデルが報告したデータ」を取得できる。\n",
        "ここで得られるデータ形式は Pandas データフレームである。\n",
        "\n",
        "データフレームの値をプロットした結果，ジニ係数はステップの進行に合わせて増加している，すなわち不平等さが増していることが分かる。"
      ]
    },
    {
      "cell_type": "code",
      "metadata": {
        "scrolled": true,
        "id": "_ObIuIpSVlsl",
        "outputId": "3473bc78-4063-4e8e-b462-19f7a3561432"
      },
      "source": [
        "# GINI係数の列を取り出す\n",
        "gini = model.datacollector.get_model_vars_dataframe() # Pandas dataframe の形式\n",
        "gini.plot()"
      ],
      "execution_count": null,
      "outputs": [
        {
          "output_type": "execute_result",
          "data": {
            "text/plain": [
              "<AxesSubplot:>"
            ]
          },
          "metadata": {
            "tags": []
          },
          "execution_count": 7
        },
        {
          "output_type": "display_data",
          "data": {
            "image/png": "[encoded data removed]",
            "text/plain": [
              "<Figure size 432x288 with 1 Axes>"
            ]
          },
          "metadata": {
            "tags": [],
            "needs_background": "light"
          }
        }
      ]
    },
    {
      "cell_type": "markdown",
      "metadata": {
        "id": "2FnBiT90Vlsl"
      },
      "source": [
        "#### エージェントが報告したデータの利用\n",
        "`model.datacollector.get_agent_vars_dataframe()` を用いて「エージェントが報告したデータ」を取得できる。\n",
        "ここで得られるデータ形式は Pandas データフレームである。\n",
        "\n",
        "下記の実行例から明らかなように，ステップごとに個々のエージェントの有する財産(wealth)の量が格納されている。"
      ]
    },
    {
      "cell_type": "code",
      "metadata": {
        "id": "hqGF2ehpVlsl",
        "outputId": "406b4699-68f4-4814-db67-ef591ca3c8f9"
      },
      "source": [
        "# agent-wealth dataを取り出す\n",
        "agent_wealth = model.datacollector.get_agent_vars_dataframe()\n",
        "agent_wealth"
      ],
      "execution_count": null,
      "outputs": [
        {
          "output_type": "execute_result",
          "data": {
            "text/html": [
              "<div>\n",
              "<style scoped>\n",
              "    .dataframe tbody tr th:only-of-type {\n",
              "        vertical-align: middle;\n",
              "    }\n",
              "\n",
              "    .dataframe tbody tr th {\n",
              "        vertical-align: top;\n",
              "    }\n",
              "\n",
              "    .dataframe thead th {\n",
              "        text-align: right;\n",
              "    }\n",
              "</style>\n",
              "<table border=\"1\" class=\"dataframe\">\n",
              "  <thead>\n",
              "    <tr style=\"text-align: right;\">\n",
              "      <th></th>\n",
              "      <th></th>\n",
              "      <th>Wealth</th>\n",
              "    </tr>\n",
              "    <tr>\n",
              "      <th>Step</th>\n",
              "      <th>AgentID</th>\n",
              "      <th></th>\n",
              "    </tr>\n",
              "  </thead>\n",
              "  <tbody>\n",
              "    <tr>\n",
              "      <th rowspan=\"5\" valign=\"top\">0</th>\n",
              "      <th>0</th>\n",
              "      <td>1</td>\n",
              "    </tr>\n",
              "    <tr>\n",
              "      <th>1</th>\n",
              "      <td>1</td>\n",
              "    </tr>\n",
              "    <tr>\n",
              "      <th>2</th>\n",
              "      <td>1</td>\n",
              "    </tr>\n",
              "    <tr>\n",
              "      <th>3</th>\n",
              "      <td>1</td>\n",
              "    </tr>\n",
              "    <tr>\n",
              "      <th>4</th>\n",
              "      <td>1</td>\n",
              "    </tr>\n",
              "    <tr>\n",
              "      <th>...</th>\n",
              "      <th>...</th>\n",
              "      <td>...</td>\n",
              "    </tr>\n",
              "    <tr>\n",
              "      <th rowspan=\"5\" valign=\"top\">99</th>\n",
              "      <th>45</th>\n",
              "      <td>0</td>\n",
              "    </tr>\n",
              "    <tr>\n",
              "      <th>46</th>\n",
              "      <td>1</td>\n",
              "    </tr>\n",
              "    <tr>\n",
              "      <th>47</th>\n",
              "      <td>3</td>\n",
              "    </tr>\n",
              "    <tr>\n",
              "      <th>48</th>\n",
              "      <td>0</td>\n",
              "    </tr>\n",
              "    <tr>\n",
              "      <th>49</th>\n",
              "      <td>0</td>\n",
              "    </tr>\n",
              "  </tbody>\n",
              "</table>\n",
              "<p>5000 rows × 1 columns</p>\n",
              "</div>"
            ],
            "text/plain": [
              "              Wealth\n",
              "Step AgentID        \n",
              "0    0             1\n",
              "     1             1\n",
              "     2             1\n",
              "     3             1\n",
              "     4             1\n",
              "...              ...\n",
              "99   45            0\n",
              "     46            1\n",
              "     47            3\n",
              "     48            0\n",
              "     49            0\n",
              "\n",
              "[5000 rows x 1 columns]"
            ]
          },
          "metadata": {
            "tags": []
          },
          "execution_count": 8
        }
      ]
    },
    {
      "cell_type": "code",
      "metadata": {
        "id": "PgjzzX7mVlsl",
        "outputId": "673aa76e-28ef-4bd1-b6f5-c0760a0155fd"
      },
      "source": [
        "# 最終段階での agent wealth のヒストグラムを生成\n",
        "end_wealth = agent_wealth.xs(99, level=\"Step\")[\"Wealth\"]\n",
        "end_wealth.hist(bins=range(agent_wealth.Wealth.max() + 1))"
      ],
      "execution_count": null,
      "outputs": [
        {
          "output_type": "execute_result",
          "data": {
            "text/plain": [
              "<AxesSubplot:>"
            ]
          },
          "metadata": {
            "tags": []
          },
          "execution_count": 9
        },
        {
          "output_type": "display_data",
          "data": {
            "image/png": "[encoded data removed]",
            "text/plain": [
              "<Figure size 432x288 with 1 Axes>"
            ]
          },
          "metadata": {
            "tags": [],
            "needs_background": "light"
          }
        }
      ]
    },
    {
      "cell_type": "code",
      "metadata": {
        "scrolled": true,
        "id": "aYO4Pti2Vlsm",
        "outputId": "e9eb2969-9f02-4e24-fc80-3cb5412a1762"
      },
      "source": [
        "# 特定のエージェントの wealth の変化を見る\n",
        "one_agent_wealth = agent_wealth.xs(14, level=\"AgentID\")\n",
        "one_agent_wealth.Wealth.plot()"
      ],
      "execution_count": null,
      "outputs": [
        {
          "output_type": "execute_result",
          "data": {
            "text/plain": [
              "<AxesSubplot:xlabel='Step'>"
            ]
          },
          "metadata": {
            "tags": []
          },
          "execution_count": 10
        },
        {
          "output_type": "display_data",
          "data": {
            "image/png": "[encoded data removed]",
            "text/plain": [
              "<Figure size 432x288 with 1 Axes>"
            ]
          },
          "metadata": {
            "tags": [],
            "needs_background": "light"
          }
        }
      ]
    },
    {
      "cell_type": "markdown",
      "metadata": {
        "id": "QOE31tDtVlsm"
      },
      "source": [
        "## シミュレーションの可視化\n",
        "Anaconda では動作するが，Google Colaboratory では動作しない。"
      ]
    },
    {
      "cell_type": "code",
      "metadata": {
        "id": "mqI1uN_IVlsm",
        "outputId": "262c195b-5d55-4856-c765-fd1edf6094bb"
      },
      "source": [
        "from mesa.visualization.modules import CanvasGrid\n",
        "from mesa.visualization.ModularVisualization import ModularServer\n",
        "\n",
        "def agent_portrayal(agent):\n",
        "    portrayal = {\"Shape\": \"circle\",\n",
        "                 \"Filled\": \"true\",\n",
        "                 \"r\": 0.5}\n",
        "\n",
        "    # 財産が残っている場合は大きめの赤い円，\n",
        "    # 財産がゼロの場合，グレーの小さめの円を表示\n",
        "    if agent.wealth > 0:\n",
        "        portrayal[\"Color\"] = \"red\"\n",
        "        portrayal[\"Layer\"] = 0\n",
        "    else:\n",
        "        portrayal[\"Color\"] = \"grey\"\n",
        "        portrayal[\"Layer\"] = 1\n",
        "        portrayal[\"r\"] = 0.2\n",
        "    return portrayal\n",
        "\n",
        "grid = CanvasGrid(agent_portrayal, 10, 10, 500, 500)\n",
        "server = ModularServer(MoneyModel,\n",
        "                       [grid],\n",
        "                       \"Money Model\",\n",
        "                       {\"N\":100, \"width\":10, \"height\":10})\n",
        "server.port = 8523 # The default\n",
        "server.launch()"
      ],
      "execution_count": null,
      "outputs": [
        {
          "output_type": "stream",
          "text": [
            "Interface starting at http://127.0.0.1:8523\n"
          ],
          "name": "stdout"
        },
        {
          "output_type": "error",
          "ename": "RuntimeError",
          "evalue": "This event loop is already running",
          "traceback": [
            "\u001b[1;31m---------------------------------------------------------------------------\u001b[0m",
            "\u001b[1;31mRuntimeError\u001b[0m                              Traceback (most recent call last)",
            "\u001b[1;32m<ipython-input-12-818857e77380>\u001b[0m in \u001b[0;36m<module>\u001b[1;34m\u001b[0m\n\u001b[0;32m     24\u001b[0m                        {\"N\":100, \"width\":10, \"height\":10})\n\u001b[0;32m     25\u001b[0m \u001b[0mserver\u001b[0m\u001b[1;33m.\u001b[0m\u001b[0mport\u001b[0m \u001b[1;33m=\u001b[0m \u001b[1;36m8523\u001b[0m \u001b[1;31m# The default\u001b[0m\u001b[1;33m\u001b[0m\u001b[1;33m\u001b[0m\u001b[0m\n\u001b[1;32m---> 26\u001b[1;33m \u001b[0mserver\u001b[0m\u001b[1;33m.\u001b[0m\u001b[0mlaunch\u001b[0m\u001b[1;33m(\u001b[0m\u001b[1;33m)\u001b[0m\u001b[1;33m\u001b[0m\u001b[1;33m\u001b[0m\u001b[0m\n\u001b[0m",
            "\u001b[1;32m~\\Anaconda3\\lib\\site-packages\\mesa\\visualization\\ModularVisualization.py\u001b[0m in \u001b[0;36mlaunch\u001b[1;34m(self, port, open_browser)\u001b[0m\n\u001b[0;32m    335\u001b[0m             \u001b[0mwebbrowser\u001b[0m\u001b[1;33m.\u001b[0m\u001b[0mopen\u001b[0m\u001b[1;33m(\u001b[0m\u001b[0murl\u001b[0m\u001b[1;33m)\u001b[0m\u001b[1;33m\u001b[0m\u001b[1;33m\u001b[0m\u001b[0m\n\u001b[0;32m    336\u001b[0m         \u001b[0mtornado\u001b[0m\u001b[1;33m.\u001b[0m\u001b[0mautoreload\u001b[0m\u001b[1;33m.\u001b[0m\u001b[0mstart\u001b[0m\u001b[1;33m(\u001b[0m\u001b[1;33m)\u001b[0m\u001b[1;33m\u001b[0m\u001b[1;33m\u001b[0m\u001b[0m\n\u001b[1;32m--> 337\u001b[1;33m         \u001b[0mtornado\u001b[0m\u001b[1;33m.\u001b[0m\u001b[0mioloop\u001b[0m\u001b[1;33m.\u001b[0m\u001b[0mIOLoop\u001b[0m\u001b[1;33m.\u001b[0m\u001b[0mcurrent\u001b[0m\u001b[1;33m(\u001b[0m\u001b[1;33m)\u001b[0m\u001b[1;33m.\u001b[0m\u001b[0mstart\u001b[0m\u001b[1;33m(\u001b[0m\u001b[1;33m)\u001b[0m\u001b[1;33m\u001b[0m\u001b[1;33m\u001b[0m\u001b[0m\n\u001b[0m",
            "\u001b[1;32m~\\Anaconda3\\lib\\site-packages\\tornado\\platform\\asyncio.py\u001b[0m in \u001b[0;36mstart\u001b[1;34m(self)\u001b[0m\n\u001b[0;32m    147\u001b[0m             \u001b[0mself\u001b[0m\u001b[1;33m.\u001b[0m\u001b[0m_setup_logging\u001b[0m\u001b[1;33m(\u001b[0m\u001b[1;33m)\u001b[0m\u001b[1;33m\u001b[0m\u001b[1;33m\u001b[0m\u001b[0m\n\u001b[0;32m    148\u001b[0m             \u001b[0masyncio\u001b[0m\u001b[1;33m.\u001b[0m\u001b[0mset_event_loop\u001b[0m\u001b[1;33m(\u001b[0m\u001b[0mself\u001b[0m\u001b[1;33m.\u001b[0m\u001b[0masyncio_loop\u001b[0m\u001b[1;33m)\u001b[0m\u001b[1;33m\u001b[0m\u001b[1;33m\u001b[0m\u001b[0m\n\u001b[1;32m--> 149\u001b[1;33m             \u001b[0mself\u001b[0m\u001b[1;33m.\u001b[0m\u001b[0masyncio_loop\u001b[0m\u001b[1;33m.\u001b[0m\u001b[0mrun_forever\u001b[0m\u001b[1;33m(\u001b[0m\u001b[1;33m)\u001b[0m\u001b[1;33m\u001b[0m\u001b[1;33m\u001b[0m\u001b[0m\n\u001b[0m\u001b[0;32m    150\u001b[0m         \u001b[1;32mfinally\u001b[0m\u001b[1;33m:\u001b[0m\u001b[1;33m\u001b[0m\u001b[1;33m\u001b[0m\u001b[0m\n\u001b[0;32m    151\u001b[0m             \u001b[0masyncio\u001b[0m\u001b[1;33m.\u001b[0m\u001b[0mset_event_loop\u001b[0m\u001b[1;33m(\u001b[0m\u001b[0mold_loop\u001b[0m\u001b[1;33m)\u001b[0m\u001b[1;33m\u001b[0m\u001b[1;33m\u001b[0m\u001b[0m\n",
            "\u001b[1;32m~\\Anaconda3\\lib\\asyncio\\base_events.py\u001b[0m in \u001b[0;36mrun_forever\u001b[1;34m(self)\u001b[0m\n\u001b[0;32m    558\u001b[0m         \u001b[1;34m\"\"\"Run until stop() is called.\"\"\"\u001b[0m\u001b[1;33m\u001b[0m\u001b[1;33m\u001b[0m\u001b[0m\n\u001b[0;32m    559\u001b[0m         \u001b[0mself\u001b[0m\u001b[1;33m.\u001b[0m\u001b[0m_check_closed\u001b[0m\u001b[1;33m(\u001b[0m\u001b[1;33m)\u001b[0m\u001b[1;33m\u001b[0m\u001b[1;33m\u001b[0m\u001b[0m\n\u001b[1;32m--> 560\u001b[1;33m         \u001b[0mself\u001b[0m\u001b[1;33m.\u001b[0m\u001b[0m_check_running\u001b[0m\u001b[1;33m(\u001b[0m\u001b[1;33m)\u001b[0m\u001b[1;33m\u001b[0m\u001b[1;33m\u001b[0m\u001b[0m\n\u001b[0m\u001b[0;32m    561\u001b[0m         \u001b[0mself\u001b[0m\u001b[1;33m.\u001b[0m\u001b[0m_set_coroutine_origin_tracking\u001b[0m\u001b[1;33m(\u001b[0m\u001b[0mself\u001b[0m\u001b[1;33m.\u001b[0m\u001b[0m_debug\u001b[0m\u001b[1;33m)\u001b[0m\u001b[1;33m\u001b[0m\u001b[1;33m\u001b[0m\u001b[0m\n\u001b[0;32m    562\u001b[0m         \u001b[0mself\u001b[0m\u001b[1;33m.\u001b[0m\u001b[0m_thread_id\u001b[0m \u001b[1;33m=\u001b[0m \u001b[0mthreading\u001b[0m\u001b[1;33m.\u001b[0m\u001b[0mget_ident\u001b[0m\u001b[1;33m(\u001b[0m\u001b[1;33m)\u001b[0m\u001b[1;33m\u001b[0m\u001b[1;33m\u001b[0m\u001b[0m\n",
            "\u001b[1;32m~\\Anaconda3\\lib\\asyncio\\base_events.py\u001b[0m in \u001b[0;36m_check_running\u001b[1;34m(self)\u001b[0m\n\u001b[0;32m    550\u001b[0m     \u001b[1;32mdef\u001b[0m \u001b[0m_check_running\u001b[0m\u001b[1;33m(\u001b[0m\u001b[0mself\u001b[0m\u001b[1;33m)\u001b[0m\u001b[1;33m:\u001b[0m\u001b[1;33m\u001b[0m\u001b[1;33m\u001b[0m\u001b[0m\n\u001b[0;32m    551\u001b[0m         \u001b[1;32mif\u001b[0m \u001b[0mself\u001b[0m\u001b[1;33m.\u001b[0m\u001b[0mis_running\u001b[0m\u001b[1;33m(\u001b[0m\u001b[1;33m)\u001b[0m\u001b[1;33m:\u001b[0m\u001b[1;33m\u001b[0m\u001b[1;33m\u001b[0m\u001b[0m\n\u001b[1;32m--> 552\u001b[1;33m             \u001b[1;32mraise\u001b[0m \u001b[0mRuntimeError\u001b[0m\u001b[1;33m(\u001b[0m\u001b[1;34m'This event loop is already running'\u001b[0m\u001b[1;33m)\u001b[0m\u001b[1;33m\u001b[0m\u001b[1;33m\u001b[0m\u001b[0m\n\u001b[0m\u001b[0;32m    553\u001b[0m         \u001b[1;32mif\u001b[0m \u001b[0mevents\u001b[0m\u001b[1;33m.\u001b[0m\u001b[0m_get_running_loop\u001b[0m\u001b[1;33m(\u001b[0m\u001b[1;33m)\u001b[0m \u001b[1;32mis\u001b[0m \u001b[1;32mnot\u001b[0m \u001b[1;32mNone\u001b[0m\u001b[1;33m:\u001b[0m\u001b[1;33m\u001b[0m\u001b[1;33m\u001b[0m\u001b[0m\n\u001b[0;32m    554\u001b[0m             raise RuntimeError(\n",
            "\u001b[1;31mRuntimeError\u001b[0m: This event loop is already running"
          ]
        },
        {
          "output_type": "stream",
          "text": [
            "Socket opened!\n",
            "{\"type\":\"reset\"}\n",
            "{\"type\":\"get_step\",\"step\":1}\n",
            "{\"type\":\"get_step\",\"step\":2}\n",
            "{\"type\":\"get_step\",\"step\":3}\n",
            "{\"type\":\"get_step\",\"step\":4}\n",
            "{\"type\":\"get_step\",\"step\":5}\n",
            "{\"type\":\"get_step\",\"step\":6}\n",
            "{\"type\":\"get_step\",\"step\":7}\n",
            "{\"type\":\"get_step\",\"step\":8}\n",
            "{\"type\":\"get_step\",\"step\":9}\n",
            "{\"type\":\"get_step\",\"step\":10}\n",
            "{\"type\":\"get_step\",\"step\":11}\n",
            "{\"type\":\"get_step\",\"step\":12}\n",
            "{\"type\":\"get_step\",\"step\":13}\n",
            "{\"type\":\"reset\"}\n",
            "{\"type\":\"get_step\",\"step\":1}\n",
            "{\"type\":\"get_step\",\"step\":2}\n",
            "{\"type\":\"get_step\",\"step\":3}\n",
            "{\"type\":\"get_step\",\"step\":4}\n",
            "{\"type\":\"get_step\",\"step\":5}\n",
            "{\"type\":\"get_step\",\"step\":6}\n",
            "{\"type\":\"get_step\",\"step\":7}\n",
            "{\"type\":\"get_step\",\"step\":8}\n",
            "{\"type\":\"get_step\",\"step\":9}\n",
            "{\"type\":\"get_step\",\"step\":10}\n",
            "{\"type\":\"get_step\",\"step\":11}\n",
            "{\"type\":\"reset\"}\n",
            "{\"type\":\"get_step\",\"step\":1}\n",
            "{\"type\":\"get_step\",\"step\":2}\n",
            "{\"type\":\"get_step\",\"step\":3}\n",
            "{\"type\":\"get_step\",\"step\":4}\n",
            "{\"type\":\"get_step\",\"step\":5}\n",
            "{\"type\":\"get_step\",\"step\":6}\n",
            "{\"type\":\"get_step\",\"step\":7}\n",
            "{\"type\":\"get_step\",\"step\":8}\n",
            "{\"type\":\"get_step\",\"step\":9}\n",
            "{\"type\":\"get_step\",\"step\":10}\n",
            "{\"type\":\"get_step\",\"step\":11}\n",
            "{\"type\":\"get_step\",\"step\":12}\n",
            "{\"type\":\"get_step\",\"step\":13}\n",
            "{\"type\":\"get_step\",\"step\":14}\n",
            "{\"type\":\"get_step\",\"step\":15}\n",
            "{\"type\":\"get_step\",\"step\":16}\n",
            "{\"type\":\"get_step\",\"step\":17}\n",
            "{\"type\":\"get_step\",\"step\":18}\n",
            "{\"type\":\"get_step\",\"step\":19}\n",
            "{\"type\":\"get_step\",\"step\":20}\n",
            "{\"type\":\"get_step\",\"step\":21}\n",
            "{\"type\":\"get_step\",\"step\":22}\n",
            "{\"type\":\"get_step\",\"step\":23}\n",
            "{\"type\":\"get_step\",\"step\":24}\n",
            "{\"type\":\"get_step\",\"step\":25}\n",
            "{\"type\":\"get_step\",\"step\":26}\n",
            "{\"type\":\"get_step\",\"step\":27}\n",
            "{\"type\":\"get_step\",\"step\":28}\n",
            "{\"type\":\"get_step\",\"step\":29}\n",
            "{\"type\":\"get_step\",\"step\":30}\n",
            "{\"type\":\"get_step\",\"step\":31}\n",
            "{\"type\":\"get_step\",\"step\":32}\n",
            "{\"type\":\"get_step\",\"step\":33}\n",
            "{\"type\":\"get_step\",\"step\":34}\n",
            "{\"type\":\"get_step\",\"step\":35}\n",
            "{\"type\":\"get_step\",\"step\":36}\n",
            "{\"type\":\"get_step\",\"step\":37}\n",
            "{\"type\":\"get_step\",\"step\":38}\n",
            "{\"type\":\"get_step\",\"step\":39}\n",
            "{\"type\":\"get_step\",\"step\":40}\n",
            "{\"type\":\"get_step\",\"step\":41}\n",
            "{\"type\":\"get_step\",\"step\":42}\n",
            "{\"type\":\"get_step\",\"step\":43}\n",
            "{\"type\":\"get_step\",\"step\":44}\n",
            "{\"type\":\"get_step\",\"step\":45}\n",
            "{\"type\":\"get_step\",\"step\":46}\n",
            "{\"type\":\"get_step\",\"step\":47}\n",
            "{\"type\":\"get_step\",\"step\":48}\n",
            "{\"type\":\"get_step\",\"step\":49}\n",
            "{\"type\":\"get_step\",\"step\":50}\n",
            "{\"type\":\"get_step\",\"step\":51}\n",
            "{\"type\":\"get_step\",\"step\":52}\n",
            "{\"type\":\"get_step\",\"step\":53}\n",
            "{\"type\":\"get_step\",\"step\":54}\n",
            "{\"type\":\"get_step\",\"step\":55}\n",
            "{\"type\":\"get_step\",\"step\":56}\n",
            "{\"type\":\"get_step\",\"step\":57}\n",
            "{\"type\":\"get_step\",\"step\":58}\n",
            "{\"type\":\"get_step\",\"step\":59}\n",
            "{\"type\":\"get_step\",\"step\":60}\n",
            "{\"type\":\"get_step\",\"step\":61}\n",
            "{\"type\":\"get_step\",\"step\":62}\n",
            "{\"type\":\"get_step\",\"step\":63}\n",
            "{\"type\":\"get_step\",\"step\":64}\n",
            "{\"type\":\"get_step\",\"step\":65}\n",
            "{\"type\":\"get_step\",\"step\":66}\n",
            "{\"type\":\"get_step\",\"step\":67}\n",
            "{\"type\":\"get_step\",\"step\":68}\n",
            "{\"type\":\"get_step\",\"step\":69}\n",
            "{\"type\":\"get_step\",\"step\":70}\n",
            "{\"type\":\"get_step\",\"step\":71}\n",
            "{\"type\":\"get_step\",\"step\":72}\n",
            "{\"type\":\"get_step\",\"step\":73}\n",
            "{\"type\":\"get_step\",\"step\":74}\n",
            "{\"type\":\"get_step\",\"step\":75}\n",
            "{\"type\":\"get_step\",\"step\":76}\n",
            "{\"type\":\"get_step\",\"step\":77}\n",
            "{\"type\":\"get_step\",\"step\":78}\n",
            "{\"type\":\"get_step\",\"step\":79}\n",
            "{\"type\":\"get_step\",\"step\":80}\n",
            "{\"type\":\"get_step\",\"step\":81}\n",
            "{\"type\":\"get_step\",\"step\":82}\n",
            "{\"type\":\"get_step\",\"step\":83}\n",
            "{\"type\":\"get_step\",\"step\":84}\n",
            "{\"type\":\"get_step\",\"step\":85}\n",
            "{\"type\":\"get_step\",\"step\":86}\n",
            "{\"type\":\"get_step\",\"step\":87}\n",
            "{\"type\":\"get_step\",\"step\":88}\n",
            "{\"type\":\"get_step\",\"step\":89}\n",
            "{\"type\":\"get_step\",\"step\":90}\n",
            "{\"type\":\"get_step\",\"step\":91}\n",
            "{\"type\":\"get_step\",\"step\":92}\n",
            "{\"type\":\"get_step\",\"step\":93}\n",
            "{\"type\":\"get_step\",\"step\":94}\n",
            "{\"type\":\"get_step\",\"step\":95}\n",
            "{\"type\":\"get_step\",\"step\":96}\n",
            "{\"type\":\"get_step\",\"step\":97}\n",
            "{\"type\":\"get_step\",\"step\":98}\n",
            "{\"type\":\"get_step\",\"step\":99}\n",
            "{\"type\":\"get_step\",\"step\":100}\n",
            "{\"type\":\"get_step\",\"step\":101}\n",
            "{\"type\":\"get_step\",\"step\":102}\n",
            "{\"type\":\"get_step\",\"step\":103}\n",
            "{\"type\":\"get_step\",\"step\":104}\n",
            "{\"type\":\"get_step\",\"step\":105}\n",
            "{\"type\":\"get_step\",\"step\":106}\n",
            "{\"type\":\"get_step\",\"step\":107}\n",
            "{\"type\":\"get_step\",\"step\":108}\n",
            "{\"type\":\"get_step\",\"step\":109}\n",
            "{\"type\":\"get_step\",\"step\":110}\n",
            "{\"type\":\"get_step\",\"step\":111}\n",
            "{\"type\":\"get_step\",\"step\":112}\n",
            "{\"type\":\"get_step\",\"step\":113}\n",
            "{\"type\":\"get_step\",\"step\":114}\n",
            "{\"type\":\"get_step\",\"step\":115}\n",
            "{\"type\":\"get_step\",\"step\":116}\n",
            "{\"type\":\"get_step\",\"step\":117}\n",
            "{\"type\":\"get_step\",\"step\":118}\n",
            "{\"type\":\"get_step\",\"step\":119}\n",
            "{\"type\":\"get_step\",\"step\":120}\n",
            "{\"type\":\"get_step\",\"step\":121}\n",
            "{\"type\":\"get_step\",\"step\":122}\n",
            "{\"type\":\"get_step\",\"step\":123}\n",
            "{\"type\":\"get_step\",\"step\":124}\n",
            "{\"type\":\"get_step\",\"step\":125}\n",
            "{\"type\":\"get_step\",\"step\":126}\n",
            "{\"type\":\"get_step\",\"step\":127}\n",
            "{\"type\":\"get_step\",\"step\":128}\n",
            "{\"type\":\"get_step\",\"step\":129}\n",
            "{\"type\":\"get_step\",\"step\":130}\n",
            "{\"type\":\"get_step\",\"step\":131}\n",
            "{\"type\":\"get_step\",\"step\":132}\n",
            "{\"type\":\"get_step\",\"step\":133}\n",
            "{\"type\":\"get_step\",\"step\":134}\n",
            "{\"type\":\"get_step\",\"step\":135}\n",
            "{\"type\":\"get_step\",\"step\":136}\n",
            "{\"type\":\"get_step\",\"step\":137}\n",
            "{\"type\":\"get_step\",\"step\":138}\n",
            "{\"type\":\"get_step\",\"step\":139}\n",
            "{\"type\":\"get_step\",\"step\":140}\n",
            "{\"type\":\"get_step\",\"step\":141}\n",
            "{\"type\":\"get_step\",\"step\":142}\n",
            "{\"type\":\"get_step\",\"step\":143}\n",
            "{\"type\":\"get_step\",\"step\":144}\n",
            "{\"type\":\"get_step\",\"step\":145}\n",
            "{\"type\":\"get_step\",\"step\":146}\n",
            "{\"type\":\"get_step\",\"step\":147}\n",
            "{\"type\":\"get_step\",\"step\":148}\n",
            "{\"type\":\"get_step\",\"step\":149}\n",
            "{\"type\":\"get_step\",\"step\":150}\n",
            "{\"type\":\"get_step\",\"step\":151}\n",
            "{\"type\":\"get_step\",\"step\":152}\n",
            "{\"type\":\"get_step\",\"step\":153}\n",
            "{\"type\":\"get_step\",\"step\":154}\n",
            "{\"type\":\"get_step\",\"step\":155}\n",
            "{\"type\":\"get_step\",\"step\":156}\n",
            "{\"type\":\"get_step\",\"step\":157}\n",
            "{\"type\":\"get_step\",\"step\":158}\n",
            "{\"type\":\"get_step\",\"step\":159}\n",
            "{\"type\":\"get_step\",\"step\":160}\n",
            "{\"type\":\"get_step\",\"step\":161}\n",
            "{\"type\":\"get_step\",\"step\":162}\n",
            "{\"type\":\"get_step\",\"step\":163}\n",
            "{\"type\":\"get_step\",\"step\":164}\n",
            "{\"type\":\"get_step\",\"step\":165}\n",
            "{\"type\":\"get_step\",\"step\":166}\n",
            "{\"type\":\"get_step\",\"step\":167}\n",
            "{\"type\":\"get_step\",\"step\":168}\n",
            "{\"type\":\"get_step\",\"step\":169}\n",
            "{\"type\":\"get_step\",\"step\":170}\n",
            "{\"type\":\"get_step\",\"step\":171}\n",
            "{\"type\":\"get_step\",\"step\":172}\n",
            "{\"type\":\"get_step\",\"step\":173}\n",
            "{\"type\":\"get_step\",\"step\":174}\n",
            "{\"type\":\"get_step\",\"step\":175}\n",
            "{\"type\":\"get_step\",\"step\":176}\n",
            "{\"type\":\"get_step\",\"step\":177}\n",
            "{\"type\":\"get_step\",\"step\":178}\n",
            "{\"type\":\"get_step\",\"step\":179}\n",
            "{\"type\":\"get_step\",\"step\":180}\n",
            "{\"type\":\"get_step\",\"step\":181}\n",
            "{\"type\":\"get_step\",\"step\":182}\n",
            "{\"type\":\"get_step\",\"step\":183}\n",
            "{\"type\":\"get_step\",\"step\":184}\n",
            "{\"type\":\"get_step\",\"step\":185}\n",
            "{\"type\":\"get_step\",\"step\":186}\n",
            "{\"type\":\"get_step\",\"step\":187}\n",
            "{\"type\":\"get_step\",\"step\":188}\n",
            "{\"type\":\"get_step\",\"step\":189}\n",
            "{\"type\":\"get_step\",\"step\":190}\n",
            "{\"type\":\"get_step\",\"step\":191}\n",
            "{\"type\":\"get_step\",\"step\":192}\n",
            "{\"type\":\"get_step\",\"step\":193}\n",
            "{\"type\":\"get_step\",\"step\":194}\n",
            "{\"type\":\"get_step\",\"step\":195}\n",
            "{\"type\":\"get_step\",\"step\":196}\n",
            "{\"type\":\"get_step\",\"step\":197}\n",
            "{\"type\":\"get_step\",\"step\":198}\n",
            "{\"type\":\"get_step\",\"step\":199}\n",
            "{\"type\":\"get_step\",\"step\":200}\n",
            "{\"type\":\"get_step\",\"step\":201}\n",
            "{\"type\":\"get_step\",\"step\":202}\n",
            "{\"type\":\"get_step\",\"step\":203}\n",
            "{\"type\":\"get_step\",\"step\":204}\n",
            "{\"type\":\"get_step\",\"step\":205}\n",
            "{\"type\":\"get_step\",\"step\":206}\n",
            "{\"type\":\"get_step\",\"step\":207}\n",
            "{\"type\":\"get_step\",\"step\":208}\n",
            "{\"type\":\"get_step\",\"step\":209}\n",
            "{\"type\":\"get_step\",\"step\":210}\n",
            "{\"type\":\"get_step\",\"step\":211}\n",
            "{\"type\":\"get_step\",\"step\":212}\n",
            "{\"type\":\"get_step\",\"step\":213}\n",
            "{\"type\":\"get_step\",\"step\":214}\n",
            "{\"type\":\"get_step\",\"step\":215}\n",
            "{\"type\":\"get_step\",\"step\":216}\n",
            "{\"type\":\"get_step\",\"step\":217}\n",
            "{\"type\":\"get_step\",\"step\":218}\n",
            "{\"type\":\"get_step\",\"step\":219}\n",
            "{\"type\":\"get_step\",\"step\":220}\n",
            "{\"type\":\"get_step\",\"step\":221}\n",
            "{\"type\":\"get_step\",\"step\":222}\n",
            "{\"type\":\"get_step\",\"step\":223}\n",
            "{\"type\":\"get_step\",\"step\":224}\n",
            "{\"type\":\"get_step\",\"step\":225}\n",
            "{\"type\":\"get_step\",\"step\":226}\n",
            "{\"type\":\"get_step\",\"step\":227}\n",
            "{\"type\":\"get_step\",\"step\":228}\n",
            "{\"type\":\"get_step\",\"step\":229}\n",
            "{\"type\":\"get_step\",\"step\":230}\n",
            "{\"type\":\"get_step\",\"step\":231}\n",
            "{\"type\":\"get_step\",\"step\":232}\n",
            "{\"type\":\"get_step\",\"step\":233}\n",
            "{\"type\":\"get_step\",\"step\":234}\n",
            "{\"type\":\"get_step\",\"step\":235}\n",
            "{\"type\":\"get_step\",\"step\":236}\n",
            "{\"type\":\"get_step\",\"step\":237}\n",
            "{\"type\":\"get_step\",\"step\":238}\n",
            "{\"type\":\"get_step\",\"step\":239}\n",
            "{\"type\":\"get_step\",\"step\":240}\n",
            "{\"type\":\"get_step\",\"step\":241}\n",
            "{\"type\":\"get_step\",\"step\":242}\n",
            "{\"type\":\"get_step\",\"step\":243}\n"
          ],
          "name": "stdout"
        },
        {
          "output_type": "stream",
          "text": [
            "{\"type\":\"get_step\",\"step\":244}\n",
            "{\"type\":\"get_step\",\"step\":245}\n",
            "{\"type\":\"get_step\",\"step\":246}\n",
            "{\"type\":\"get_step\",\"step\":247}\n",
            "{\"type\":\"get_step\",\"step\":248}\n",
            "{\"type\":\"get_step\",\"step\":249}\n",
            "{\"type\":\"get_step\",\"step\":250}\n",
            "{\"type\":\"get_step\",\"step\":251}\n",
            "{\"type\":\"get_step\",\"step\":252}\n",
            "{\"type\":\"get_step\",\"step\":253}\n",
            "{\"type\":\"get_step\",\"step\":254}\n",
            "{\"type\":\"get_step\",\"step\":255}\n",
            "{\"type\":\"get_step\",\"step\":256}\n",
            "{\"type\":\"get_step\",\"step\":257}\n",
            "{\"type\":\"get_step\",\"step\":258}\n",
            "{\"type\":\"get_step\",\"step\":259}\n",
            "{\"type\":\"get_step\",\"step\":260}\n",
            "{\"type\":\"get_step\",\"step\":261}\n",
            "{\"type\":\"get_step\",\"step\":262}\n",
            "{\"type\":\"get_step\",\"step\":263}\n",
            "{\"type\":\"get_step\",\"step\":264}\n",
            "{\"type\":\"get_step\",\"step\":265}\n",
            "{\"type\":\"get_step\",\"step\":266}\n",
            "{\"type\":\"get_step\",\"step\":267}\n",
            "{\"type\":\"get_step\",\"step\":268}\n",
            "{\"type\":\"get_step\",\"step\":269}\n",
            "{\"type\":\"get_step\",\"step\":270}\n",
            "{\"type\":\"get_step\",\"step\":271}\n",
            "{\"type\":\"get_step\",\"step\":272}\n",
            "{\"type\":\"get_step\",\"step\":273}\n",
            "{\"type\":\"get_step\",\"step\":274}\n",
            "{\"type\":\"get_step\",\"step\":275}\n",
            "{\"type\":\"get_step\",\"step\":276}\n",
            "{\"type\":\"get_step\",\"step\":277}\n",
            "{\"type\":\"get_step\",\"step\":278}\n",
            "{\"type\":\"get_step\",\"step\":279}\n",
            "{\"type\":\"get_step\",\"step\":280}\n",
            "{\"type\":\"get_step\",\"step\":281}\n",
            "{\"type\":\"get_step\",\"step\":282}\n",
            "{\"type\":\"get_step\",\"step\":283}\n",
            "{\"type\":\"get_step\",\"step\":284}\n",
            "{\"type\":\"get_step\",\"step\":285}\n",
            "{\"type\":\"get_step\",\"step\":286}\n",
            "{\"type\":\"get_step\",\"step\":287}\n",
            "{\"type\":\"get_step\",\"step\":288}\n",
            "{\"type\":\"get_step\",\"step\":289}\n",
            "{\"type\":\"get_step\",\"step\":290}\n",
            "{\"type\":\"get_step\",\"step\":291}\n",
            "{\"type\":\"get_step\",\"step\":292}\n",
            "{\"type\":\"get_step\",\"step\":293}\n",
            "{\"type\":\"get_step\",\"step\":294}\n",
            "{\"type\":\"get_step\",\"step\":295}\n",
            "{\"type\":\"get_step\",\"step\":296}\n",
            "{\"type\":\"get_step\",\"step\":297}\n",
            "{\"type\":\"get_step\",\"step\":298}\n",
            "{\"type\":\"get_step\",\"step\":299}\n",
            "{\"type\":\"get_step\",\"step\":300}\n",
            "{\"type\":\"get_step\",\"step\":301}\n",
            "{\"type\":\"get_step\",\"step\":302}\n",
            "{\"type\":\"get_step\",\"step\":303}\n",
            "{\"type\":\"get_step\",\"step\":304}\n",
            "{\"type\":\"get_step\",\"step\":305}\n",
            "{\"type\":\"get_step\",\"step\":306}\n",
            "{\"type\":\"get_step\",\"step\":307}\n",
            "{\"type\":\"get_step\",\"step\":308}\n",
            "{\"type\":\"get_step\",\"step\":309}\n",
            "{\"type\":\"get_step\",\"step\":310}\n",
            "{\"type\":\"get_step\",\"step\":311}\n",
            "{\"type\":\"get_step\",\"step\":312}\n",
            "{\"type\":\"get_step\",\"step\":313}\n",
            "{\"type\":\"get_step\",\"step\":314}\n",
            "{\"type\":\"get_step\",\"step\":315}\n",
            "{\"type\":\"get_step\",\"step\":316}\n",
            "{\"type\":\"get_step\",\"step\":317}\n",
            "{\"type\":\"get_step\",\"step\":318}\n",
            "{\"type\":\"get_step\",\"step\":319}\n",
            "{\"type\":\"get_step\",\"step\":320}\n",
            "{\"type\":\"get_step\",\"step\":321}\n",
            "{\"type\":\"get_step\",\"step\":322}\n",
            "{\"type\":\"get_step\",\"step\":323}\n",
            "{\"type\":\"get_step\",\"step\":324}\n",
            "{\"type\":\"get_step\",\"step\":325}\n",
            "{\"type\":\"get_step\",\"step\":326}\n",
            "{\"type\":\"get_step\",\"step\":327}\n",
            "{\"type\":\"get_step\",\"step\":328}\n",
            "{\"type\":\"get_step\",\"step\":329}\n",
            "{\"type\":\"get_step\",\"step\":330}\n",
            "{\"type\":\"get_step\",\"step\":331}\n",
            "{\"type\":\"get_step\",\"step\":332}\n",
            "{\"type\":\"get_step\",\"step\":333}\n",
            "{\"type\":\"get_step\",\"step\":334}\n",
            "{\"type\":\"get_step\",\"step\":335}\n",
            "{\"type\":\"get_step\",\"step\":336}\n",
            "{\"type\":\"get_step\",\"step\":337}\n",
            "{\"type\":\"get_step\",\"step\":338}\n",
            "{\"type\":\"get_step\",\"step\":339}\n",
            "{\"type\":\"get_step\",\"step\":340}\n",
            "{\"type\":\"get_step\",\"step\":341}\n",
            "{\"type\":\"get_step\",\"step\":342}\n",
            "{\"type\":\"get_step\",\"step\":343}\n",
            "{\"type\":\"get_step\",\"step\":344}\n",
            "{\"type\":\"get_step\",\"step\":345}\n",
            "{\"type\":\"get_step\",\"step\":346}\n",
            "{\"type\":\"get_step\",\"step\":347}\n",
            "{\"type\":\"get_step\",\"step\":348}\n",
            "{\"type\":\"get_step\",\"step\":349}\n",
            "{\"type\":\"get_step\",\"step\":350}\n",
            "{\"type\":\"get_step\",\"step\":351}\n",
            "{\"type\":\"get_step\",\"step\":352}\n",
            "{\"type\":\"get_step\",\"step\":353}\n",
            "{\"type\":\"get_step\",\"step\":354}\n",
            "{\"type\":\"get_step\",\"step\":355}\n",
            "{\"type\":\"get_step\",\"step\":356}\n",
            "{\"type\":\"get_step\",\"step\":357}\n",
            "{\"type\":\"get_step\",\"step\":358}\n",
            "{\"type\":\"get_step\",\"step\":359}\n",
            "{\"type\":\"get_step\",\"step\":360}\n",
            "{\"type\":\"get_step\",\"step\":361}\n",
            "{\"type\":\"get_step\",\"step\":362}\n",
            "{\"type\":\"get_step\",\"step\":363}\n",
            "{\"type\":\"get_step\",\"step\":364}\n",
            "{\"type\":\"get_step\",\"step\":365}\n",
            "{\"type\":\"get_step\",\"step\":366}\n",
            "{\"type\":\"get_step\",\"step\":367}\n",
            "{\"type\":\"get_step\",\"step\":368}\n",
            "{\"type\":\"get_step\",\"step\":369}\n",
            "{\"type\":\"get_step\",\"step\":370}\n",
            "{\"type\":\"get_step\",\"step\":371}\n",
            "{\"type\":\"get_step\",\"step\":372}\n",
            "{\"type\":\"get_step\",\"step\":373}\n",
            "{\"type\":\"get_step\",\"step\":374}\n",
            "{\"type\":\"get_step\",\"step\":375}\n",
            "{\"type\":\"get_step\",\"step\":376}\n",
            "{\"type\":\"get_step\",\"step\":377}\n",
            "{\"type\":\"get_step\",\"step\":378}\n",
            "{\"type\":\"get_step\",\"step\":379}\n",
            "{\"type\":\"get_step\",\"step\":380}\n",
            "{\"type\":\"get_step\",\"step\":381}\n",
            "{\"type\":\"get_step\",\"step\":382}\n",
            "{\"type\":\"get_step\",\"step\":383}\n",
            "{\"type\":\"get_step\",\"step\":384}\n",
            "{\"type\":\"get_step\",\"step\":385}\n",
            "{\"type\":\"get_step\",\"step\":386}\n",
            "{\"type\":\"get_step\",\"step\":387}\n",
            "{\"type\":\"get_step\",\"step\":388}\n",
            "{\"type\":\"get_step\",\"step\":389}\n",
            "{\"type\":\"get_step\",\"step\":390}\n",
            "{\"type\":\"get_step\",\"step\":391}\n",
            "{\"type\":\"get_step\",\"step\":392}\n",
            "{\"type\":\"get_step\",\"step\":393}\n",
            "{\"type\":\"get_step\",\"step\":394}\n",
            "{\"type\":\"get_step\",\"step\":395}\n",
            "{\"type\":\"get_step\",\"step\":396}\n",
            "{\"type\":\"get_step\",\"step\":397}\n",
            "{\"type\":\"get_step\",\"step\":398}\n",
            "{\"type\":\"get_step\",\"step\":399}\n",
            "{\"type\":\"get_step\",\"step\":400}\n",
            "{\"type\":\"get_step\",\"step\":401}\n",
            "{\"type\":\"get_step\",\"step\":402}\n",
            "{\"type\":\"get_step\",\"step\":403}\n",
            "{\"type\":\"get_step\",\"step\":404}\n",
            "{\"type\":\"get_step\",\"step\":405}\n",
            "{\"type\":\"get_step\",\"step\":406}\n",
            "{\"type\":\"get_step\",\"step\":407}\n",
            "{\"type\":\"get_step\",\"step\":408}\n",
            "{\"type\":\"get_step\",\"step\":409}\n",
            "{\"type\":\"get_step\",\"step\":410}\n",
            "{\"type\":\"get_step\",\"step\":411}\n",
            "{\"type\":\"get_step\",\"step\":412}\n",
            "{\"type\":\"get_step\",\"step\":413}\n",
            "{\"type\":\"get_step\",\"step\":414}\n",
            "{\"type\":\"get_step\",\"step\":415}\n",
            "{\"type\":\"get_step\",\"step\":416}\n",
            "{\"type\":\"get_step\",\"step\":417}\n",
            "{\"type\":\"get_step\",\"step\":418}\n",
            "{\"type\":\"get_step\",\"step\":419}\n",
            "{\"type\":\"get_step\",\"step\":420}\n",
            "{\"type\":\"get_step\",\"step\":421}\n",
            "{\"type\":\"get_step\",\"step\":422}\n",
            "{\"type\":\"get_step\",\"step\":423}\n",
            "{\"type\":\"get_step\",\"step\":424}\n",
            "{\"type\":\"get_step\",\"step\":425}\n",
            "{\"type\":\"get_step\",\"step\":426}\n",
            "{\"type\":\"get_step\",\"step\":427}\n",
            "{\"type\":\"get_step\",\"step\":428}\n",
            "{\"type\":\"get_step\",\"step\":429}\n",
            "{\"type\":\"get_step\",\"step\":430}\n",
            "{\"type\":\"get_step\",\"step\":431}\n",
            "{\"type\":\"get_step\",\"step\":432}\n",
            "{\"type\":\"get_step\",\"step\":433}\n",
            "{\"type\":\"get_step\",\"step\":434}\n",
            "{\"type\":\"get_step\",\"step\":435}\n",
            "{\"type\":\"get_step\",\"step\":436}\n",
            "{\"type\":\"get_step\",\"step\":437}\n",
            "{\"type\":\"get_step\",\"step\":438}\n",
            "{\"type\":\"get_step\",\"step\":439}\n",
            "{\"type\":\"get_step\",\"step\":440}\n",
            "{\"type\":\"get_step\",\"step\":441}\n",
            "{\"type\":\"get_step\",\"step\":442}\n",
            "{\"type\":\"get_step\",\"step\":443}\n",
            "{\"type\":\"get_step\",\"step\":444}\n",
            "{\"type\":\"get_step\",\"step\":445}\n",
            "{\"type\":\"get_step\",\"step\":446}\n",
            "{\"type\":\"get_step\",\"step\":447}\n",
            "{\"type\":\"get_step\",\"step\":448}\n",
            "{\"type\":\"get_step\",\"step\":449}\n",
            "{\"type\":\"get_step\",\"step\":450}\n",
            "{\"type\":\"get_step\",\"step\":451}\n",
            "{\"type\":\"get_step\",\"step\":452}\n",
            "{\"type\":\"get_step\",\"step\":453}\n",
            "{\"type\":\"get_step\",\"step\":454}\n",
            "{\"type\":\"get_step\",\"step\":455}\n",
            "{\"type\":\"get_step\",\"step\":456}\n",
            "{\"type\":\"get_step\",\"step\":457}\n",
            "{\"type\":\"get_step\",\"step\":458}\n",
            "{\"type\":\"get_step\",\"step\":459}\n",
            "{\"type\":\"get_step\",\"step\":460}\n",
            "{\"type\":\"get_step\",\"step\":461}\n",
            "{\"type\":\"get_step\",\"step\":462}\n",
            "{\"type\":\"get_step\",\"step\":463}\n",
            "{\"type\":\"get_step\",\"step\":464}\n",
            "{\"type\":\"get_step\",\"step\":465}\n",
            "{\"type\":\"get_step\",\"step\":466}\n",
            "{\"type\":\"get_step\",\"step\":467}\n",
            "{\"type\":\"get_step\",\"step\":468}\n",
            "{\"type\":\"get_step\",\"step\":469}\n",
            "{\"type\":\"get_step\",\"step\":470}\n",
            "{\"type\":\"get_step\",\"step\":471}\n",
            "{\"type\":\"get_step\",\"step\":472}\n",
            "{\"type\":\"get_step\",\"step\":473}\n",
            "{\"type\":\"get_step\",\"step\":474}\n",
            "{\"type\":\"get_step\",\"step\":475}\n",
            "{\"type\":\"get_step\",\"step\":476}\n",
            "{\"type\":\"get_step\",\"step\":477}\n",
            "{\"type\":\"get_step\",\"step\":478}\n",
            "{\"type\":\"get_step\",\"step\":479}\n",
            "{\"type\":\"get_step\",\"step\":480}\n",
            "{\"type\":\"get_step\",\"step\":481}\n",
            "{\"type\":\"get_step\",\"step\":482}\n",
            "{\"type\":\"get_step\",\"step\":483}\n",
            "{\"type\":\"get_step\",\"step\":484}\n",
            "{\"type\":\"get_step\",\"step\":485}\n",
            "{\"type\":\"get_step\",\"step\":486}\n",
            "{\"type\":\"get_step\",\"step\":487}\n",
            "{\"type\":\"get_step\",\"step\":488}\n",
            "{\"type\":\"get_step\",\"step\":489}\n",
            "{\"type\":\"get_step\",\"step\":490}\n",
            "{\"type\":\"get_step\",\"step\":491}\n",
            "{\"type\":\"get_step\",\"step\":492}\n",
            "{\"type\":\"get_step\",\"step\":493}\n",
            "{\"type\":\"get_step\",\"step\":494}\n",
            "{\"type\":\"get_step\",\"step\":495}\n",
            "{\"type\":\"get_step\",\"step\":496}\n",
            "{\"type\":\"get_step\",\"step\":497}\n",
            "{\"type\":\"get_step\",\"step\":498}\n",
            "{\"type\":\"get_step\",\"step\":499}\n",
            "{\"type\":\"get_step\",\"step\":500}\n",
            "{\"type\":\"get_step\",\"step\":501}\n",
            "{\"type\":\"get_step\",\"step\":502}\n",
            "{\"type\":\"get_step\",\"step\":503}\n",
            "{\"type\":\"get_step\",\"step\":504}\n",
            "{\"type\":\"get_step\",\"step\":505}\n",
            "{\"type\":\"get_step\",\"step\":506}\n",
            "{\"type\":\"get_step\",\"step\":507}\n",
            "{\"type\":\"get_step\",\"step\":508}\n"
          ],
          "name": "stdout"
        },
        {
          "output_type": "stream",
          "text": [
            "{\"type\":\"get_step\",\"step\":509}\n",
            "{\"type\":\"get_step\",\"step\":510}\n",
            "{\"type\":\"get_step\",\"step\":511}\n",
            "{\"type\":\"get_step\",\"step\":512}\n",
            "{\"type\":\"get_step\",\"step\":513}\n",
            "{\"type\":\"get_step\",\"step\":514}\n",
            "{\"type\":\"get_step\",\"step\":515}\n",
            "{\"type\":\"get_step\",\"step\":516}\n",
            "{\"type\":\"get_step\",\"step\":517}\n",
            "{\"type\":\"get_step\",\"step\":518}\n",
            "{\"type\":\"get_step\",\"step\":519}\n",
            "{\"type\":\"get_step\",\"step\":520}\n",
            "{\"type\":\"get_step\",\"step\":521}\n",
            "{\"type\":\"get_step\",\"step\":522}\n",
            "{\"type\":\"get_step\",\"step\":523}\n",
            "{\"type\":\"get_step\",\"step\":524}\n",
            "{\"type\":\"get_step\",\"step\":525}\n",
            "{\"type\":\"get_step\",\"step\":526}\n",
            "{\"type\":\"get_step\",\"step\":527}\n",
            "{\"type\":\"get_step\",\"step\":528}\n",
            "{\"type\":\"get_step\",\"step\":529}\n",
            "{\"type\":\"get_step\",\"step\":530}\n",
            "{\"type\":\"get_step\",\"step\":531}\n",
            "{\"type\":\"get_step\",\"step\":532}\n",
            "{\"type\":\"get_step\",\"step\":533}\n",
            "{\"type\":\"get_step\",\"step\":534}\n",
            "{\"type\":\"get_step\",\"step\":535}\n",
            "{\"type\":\"get_step\",\"step\":536}\n",
            "{\"type\":\"get_step\",\"step\":537}\n",
            "{\"type\":\"get_step\",\"step\":538}\n",
            "{\"type\":\"get_step\",\"step\":539}\n",
            "{\"type\":\"get_step\",\"step\":540}\n",
            "{\"type\":\"get_step\",\"step\":541}\n",
            "{\"type\":\"get_step\",\"step\":542}\n",
            "{\"type\":\"get_step\",\"step\":543}\n",
            "{\"type\":\"get_step\",\"step\":544}\n",
            "{\"type\":\"get_step\",\"step\":545}\n",
            "{\"type\":\"get_step\",\"step\":546}\n",
            "{\"type\":\"get_step\",\"step\":547}\n",
            "{\"type\":\"get_step\",\"step\":548}\n",
            "{\"type\":\"get_step\",\"step\":549}\n",
            "{\"type\":\"get_step\",\"step\":550}\n",
            "{\"type\":\"get_step\",\"step\":551}\n",
            "{\"type\":\"get_step\",\"step\":552}\n",
            "{\"type\":\"get_step\",\"step\":553}\n",
            "{\"type\":\"get_step\",\"step\":554}\n",
            "{\"type\":\"get_step\",\"step\":555}\n",
            "{\"type\":\"get_step\",\"step\":556}\n",
            "{\"type\":\"get_step\",\"step\":557}\n",
            "{\"type\":\"get_step\",\"step\":558}\n",
            "{\"type\":\"get_step\",\"step\":559}\n",
            "{\"type\":\"get_step\",\"step\":560}\n",
            "{\"type\":\"get_step\",\"step\":561}\n",
            "{\"type\":\"get_step\",\"step\":562}\n",
            "{\"type\":\"get_step\",\"step\":563}\n",
            "{\"type\":\"get_step\",\"step\":564}\n",
            "{\"type\":\"get_step\",\"step\":565}\n",
            "{\"type\":\"get_step\",\"step\":566}\n",
            "{\"type\":\"get_step\",\"step\":567}\n",
            "{\"type\":\"get_step\",\"step\":568}\n",
            "{\"type\":\"get_step\",\"step\":569}\n",
            "{\"type\":\"get_step\",\"step\":570}\n",
            "{\"type\":\"get_step\",\"step\":571}\n",
            "{\"type\":\"get_step\",\"step\":572}\n",
            "{\"type\":\"get_step\",\"step\":573}\n",
            "{\"type\":\"get_step\",\"step\":574}\n",
            "{\"type\":\"get_step\",\"step\":575}\n",
            "{\"type\":\"get_step\",\"step\":576}\n",
            "{\"type\":\"get_step\",\"step\":577}\n",
            "{\"type\":\"get_step\",\"step\":578}\n",
            "{\"type\":\"get_step\",\"step\":579}\n",
            "{\"type\":\"get_step\",\"step\":580}\n",
            "{\"type\":\"get_step\",\"step\":581}\n",
            "{\"type\":\"get_step\",\"step\":582}\n",
            "{\"type\":\"get_step\",\"step\":583}\n",
            "{\"type\":\"get_step\",\"step\":584}\n",
            "{\"type\":\"get_step\",\"step\":585}\n",
            "{\"type\":\"get_step\",\"step\":586}\n",
            "{\"type\":\"get_step\",\"step\":587}\n",
            "{\"type\":\"get_step\",\"step\":588}\n",
            "{\"type\":\"get_step\",\"step\":589}\n",
            "{\"type\":\"get_step\",\"step\":590}\n",
            "{\"type\":\"get_step\",\"step\":591}\n",
            "{\"type\":\"get_step\",\"step\":592}\n",
            "{\"type\":\"get_step\",\"step\":593}\n",
            "{\"type\":\"get_step\",\"step\":594}\n",
            "{\"type\":\"get_step\",\"step\":595}\n",
            "{\"type\":\"get_step\",\"step\":596}\n",
            "{\"type\":\"get_step\",\"step\":597}\n",
            "{\"type\":\"get_step\",\"step\":598}\n",
            "{\"type\":\"get_step\",\"step\":599}\n",
            "{\"type\":\"get_step\",\"step\":600}\n",
            "{\"type\":\"get_step\",\"step\":601}\n",
            "{\"type\":\"get_step\",\"step\":602}\n",
            "{\"type\":\"get_step\",\"step\":603}\n",
            "{\"type\":\"get_step\",\"step\":604}\n",
            "{\"type\":\"get_step\",\"step\":605}\n",
            "{\"type\":\"get_step\",\"step\":606}\n",
            "{\"type\":\"get_step\",\"step\":607}\n",
            "{\"type\":\"get_step\",\"step\":608}\n",
            "{\"type\":\"get_step\",\"step\":609}\n",
            "{\"type\":\"get_step\",\"step\":610}\n",
            "{\"type\":\"get_step\",\"step\":611}\n",
            "{\"type\":\"get_step\",\"step\":612}\n",
            "{\"type\":\"get_step\",\"step\":613}\n",
            "{\"type\":\"get_step\",\"step\":614}\n",
            "{\"type\":\"get_step\",\"step\":615}\n",
            "{\"type\":\"get_step\",\"step\":616}\n",
            "{\"type\":\"get_step\",\"step\":617}\n",
            "{\"type\":\"get_step\",\"step\":618}\n",
            "{\"type\":\"get_step\",\"step\":619}\n",
            "{\"type\":\"get_step\",\"step\":620}\n",
            "{\"type\":\"get_step\",\"step\":621}\n",
            "{\"type\":\"get_step\",\"step\":622}\n"
          ],
          "name": "stdout"
        }
      ]
    },
    {
      "cell_type": "code",
      "metadata": {
        "id": "dyCFn1qzVlsm"
      },
      "source": [
        ""
      ],
      "execution_count": null,
      "outputs": []
    }
  ]
}